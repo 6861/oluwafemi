{
 "cells": [
  {
   "cell_type": "code",
   "execution_count": null,
   "metadata": {},
   "outputs": [],
   "source": []
  },
  {
   "cell_type": "markdown",
   "metadata": {},
   "source": [
    "# Section 2 : Building RecSys Models with Alternating Least Square"
   ]
  },
  {
   "cell_type": "code",
   "execution_count": null,
   "metadata": {},
   "outputs": [],
   "source": []
  },
  {
   "cell_type": "markdown",
   "metadata": {},
   "source": [
    "### Starting Point:\n",
    "  \n",
    "  - Creating a lookup table to track of each item and its description   \n",
    "  \n",
    "  \n",
    "  - Getting RecSys dataset containg \"user_info\", \"item_info\" and \"item_Quantity\"\n",
    " "
   ]
  },
  {
   "cell_type": "code",
   "execution_count": null,
   "metadata": {},
   "outputs": [],
   "source": []
  },
  {
   "cell_type": "code",
   "execution_count": 936,
   "metadata": {},
   "outputs": [],
   "source": [
    "#!pip freeze"
   ]
  },
  {
   "cell_type": "code",
   "execution_count": 4,
   "metadata": {},
   "outputs": [
    {
     "name": "stderr",
     "output_type": "stream",
     "text": [
      "/home/admin1/anaconda3/lib/python3.7/site-packages/statsmodels/tools/_testing.py:19: FutureWarning: pandas.util.testing is deprecated. Use the functions in the public API at pandas.testing instead.\n",
      "  import pandas.util.testing as tm\n"
     ]
    }
   ],
   "source": [
    "import pandas as pd\n",
    "import numpy as np\n",
    "import matplotlib.pyplot as plt\n",
    "import seaborn as sns\n",
    "plt.style.use('fivethirtyeight')\n",
    "from pandas.api.types import CategoricalDtype\n",
    "import warnings\n",
    "warnings.filterwarnings('ignore')\n",
    "#pd.options.plotting.backend = 'plotly'\n",
    "\n",
    "###################################################\n",
    "import scipy.sparse as sparse\n",
    "import random\n",
    "import implicit\n",
    "from scipy.sparse import coo_matrix\n",
    "from scipy.sparse.linalg import spsolve\n",
    "from pandas.api.types import CategoricalDtype\n",
    "from sklearn.preprocessing import MinMaxScaler\n",
    "from sklearn import metrics\n",
    "from sklearn.model_selection import train_test_split\n",
    "\n",
    "########################################################\n",
    "from lightfm import LightFM\n",
    "from lightfm.data import Dataset\n",
    "from lightfm.evaluation import precision_at_k\n",
    "from lightfm.evaluation import auc_score\n",
    "from itertools import islice\n",
    "import pickle\n"
   ]
  },
  {
   "cell_type": "code",
   "execution_count": null,
   "metadata": {},
   "outputs": [],
   "source": []
  },
  {
   "cell_type": "code",
   "execution_count": 3,
   "metadata": {},
   "outputs": [
    {
     "data": {
      "text/html": [
       "<div>\n",
       "<style scoped>\n",
       "    .dataframe tbody tr th:only-of-type {\n",
       "        vertical-align: middle;\n",
       "    }\n",
       "\n",
       "    .dataframe tbody tr th {\n",
       "        vertical-align: top;\n",
       "    }\n",
       "\n",
       "    .dataframe thead th {\n",
       "        text-align: right;\n",
       "    }\n",
       "</style>\n",
       "<table border=\"1\" class=\"dataframe\">\n",
       "  <thead>\n",
       "    <tr style=\"text-align: right;\">\n",
       "      <th></th>\n",
       "      <th>CardHolder</th>\n",
       "      <th>Material</th>\n",
       "      <th>SalesCount</th>\n",
       "      <th>ItemPrice</th>\n",
       "      <th>net_weight</th>\n",
       "      <th>SubCategorycode</th>\n",
       "      <th>ItemDescription</th>\n",
       "      <th>Class</th>\n",
       "      <th>rpa_wgh2</th>\n",
       "      <th>rpa_wgh2_SubClass</th>\n",
       "      <th>rpa_wgh3</th>\n",
       "      <th>rpa_wgh3_SubClass</th>\n",
       "      <th>vendor</th>\n",
       "    </tr>\n",
       "  </thead>\n",
       "  <tbody>\n",
       "    <tr>\n",
       "      <th>0</th>\n",
       "      <td>10008254</td>\n",
       "      <td>109900</td>\n",
       "      <td>3.0</td>\n",
       "      <td>20.97</td>\n",
       "      <td>23.0</td>\n",
       "      <td>401201</td>\n",
       "      <td>Lenta bags</td>\n",
       "      <td>NON FOOD</td>\n",
       "      <td>40.0</td>\n",
       "      <td>\"Household cleaning products \"</td>\n",
       "      <td>4012.0</td>\n",
       "      <td>Packaging and containers</td>\n",
       "      <td>100260.0</td>\n",
       "    </tr>\n",
       "    <tr>\n",
       "      <th>1</th>\n",
       "      <td>10011935</td>\n",
       "      <td>109900</td>\n",
       "      <td>1.0</td>\n",
       "      <td>6.49</td>\n",
       "      <td>23.0</td>\n",
       "      <td>401201</td>\n",
       "      <td>Lenta bags</td>\n",
       "      <td>NON FOOD</td>\n",
       "      <td>40.0</td>\n",
       "      <td>\"Household cleaning products \"</td>\n",
       "      <td>4012.0</td>\n",
       "      <td>Packaging and containers</td>\n",
       "      <td>100260.0</td>\n",
       "    </tr>\n",
       "    <tr>\n",
       "      <th>2</th>\n",
       "      <td>10036221</td>\n",
       "      <td>109900</td>\n",
       "      <td>3.0</td>\n",
       "      <td>19.47</td>\n",
       "      <td>23.0</td>\n",
       "      <td>401201</td>\n",
       "      <td>Lenta bags</td>\n",
       "      <td>NON FOOD</td>\n",
       "      <td>40.0</td>\n",
       "      <td>\"Household cleaning products \"</td>\n",
       "      <td>4012.0</td>\n",
       "      <td>Packaging and containers</td>\n",
       "      <td>100260.0</td>\n",
       "    </tr>\n",
       "    <tr>\n",
       "      <th>3</th>\n",
       "      <td>10036221</td>\n",
       "      <td>109900</td>\n",
       "      <td>2.0</td>\n",
       "      <td>12.98</td>\n",
       "      <td>23.0</td>\n",
       "      <td>401201</td>\n",
       "      <td>Lenta bags</td>\n",
       "      <td>NON FOOD</td>\n",
       "      <td>40.0</td>\n",
       "      <td>\"Household cleaning products \"</td>\n",
       "      <td>4012.0</td>\n",
       "      <td>Packaging and containers</td>\n",
       "      <td>100260.0</td>\n",
       "    </tr>\n",
       "    <tr>\n",
       "      <th>4</th>\n",
       "      <td>10036221</td>\n",
       "      <td>109900</td>\n",
       "      <td>4.0</td>\n",
       "      <td>25.96</td>\n",
       "      <td>23.0</td>\n",
       "      <td>401201</td>\n",
       "      <td>Lenta bags</td>\n",
       "      <td>NON FOOD</td>\n",
       "      <td>40.0</td>\n",
       "      <td>\"Household cleaning products \"</td>\n",
       "      <td>4012.0</td>\n",
       "      <td>Packaging and containers</td>\n",
       "      <td>100260.0</td>\n",
       "    </tr>\n",
       "  </tbody>\n",
       "</table>\n",
       "</div>"
      ],
      "text/plain": [
       "   CardHolder  Material  SalesCount  ItemPrice  net_weight  SubCategorycode  \\\n",
       "0    10008254    109900         3.0      20.97        23.0           401201   \n",
       "1    10011935    109900         1.0       6.49        23.0           401201   \n",
       "2    10036221    109900         3.0      19.47        23.0           401201   \n",
       "3    10036221    109900         2.0      12.98        23.0           401201   \n",
       "4    10036221    109900         4.0      25.96        23.0           401201   \n",
       "\n",
       "  ItemDescription     Class  rpa_wgh2               rpa_wgh2_SubClass  \\\n",
       "0      Lenta bags  NON FOOD      40.0  \"Household cleaning products \"   \n",
       "1      Lenta bags  NON FOOD      40.0  \"Household cleaning products \"   \n",
       "2      Lenta bags  NON FOOD      40.0  \"Household cleaning products \"   \n",
       "3      Lenta bags  NON FOOD      40.0  \"Household cleaning products \"   \n",
       "4      Lenta bags  NON FOOD      40.0  \"Household cleaning products \"   \n",
       "\n",
       "   rpa_wgh3         rpa_wgh3_SubClass    vendor  \n",
       "0    4012.0  Packaging and containers  100260.0  \n",
       "1    4012.0  Packaging and containers  100260.0  \n",
       "2    4012.0  Packaging and containers  100260.0  \n",
       "3    4012.0  Packaging and containers  100260.0  \n",
       "4    4012.0  Packaging and containers  100260.0  "
      ]
     },
     "execution_count": 3,
     "metadata": {},
     "output_type": "execute_result"
    }
   ],
   "source": [
    "recsys_df = pd.read_csv('Olaleke_Tasks/RecSys_df.csv')\n",
    "recsys_df.head()"
   ]
  },
  {
   "cell_type": "code",
   "execution_count": 5,
   "metadata": {},
   "outputs": [
    {
     "data": {
      "text/plain": [
       "(1412285, 13)"
      ]
     },
     "execution_count": 5,
     "metadata": {},
     "output_type": "execute_result"
    }
   ],
   "source": [
    "lenta_bag_df = recsys_df[recsys_df['ItemDescription']== 'Lenta bags']\n",
    "lenta_bag_df.shape"
   ]
  },
  {
   "cell_type": "code",
   "execution_count": 9,
   "metadata": {},
   "outputs": [
    {
     "data": {
      "text/html": [
       "<div>\n",
       "<style scoped>\n",
       "    .dataframe tbody tr th:only-of-type {\n",
       "        vertical-align: middle;\n",
       "    }\n",
       "\n",
       "    .dataframe tbody tr th {\n",
       "        vertical-align: top;\n",
       "    }\n",
       "\n",
       "    .dataframe thead th {\n",
       "        text-align: right;\n",
       "    }\n",
       "</style>\n",
       "<table border=\"1\" class=\"dataframe\">\n",
       "  <thead>\n",
       "    <tr style=\"text-align: right;\">\n",
       "      <th></th>\n",
       "      <th>CardHolder</th>\n",
       "      <th>Material</th>\n",
       "      <th>SalesCount</th>\n",
       "      <th>ItemPrice</th>\n",
       "      <th>net_weight</th>\n",
       "      <th>SubCategorycode</th>\n",
       "      <th>ItemDescription</th>\n",
       "      <th>Class</th>\n",
       "      <th>rpa_wgh2</th>\n",
       "      <th>rpa_wgh2_SubClass</th>\n",
       "      <th>rpa_wgh3</th>\n",
       "      <th>rpa_wgh3_SubClass</th>\n",
       "      <th>vendor</th>\n",
       "    </tr>\n",
       "  </thead>\n",
       "  <tbody>\n",
       "    <tr>\n",
       "      <th>1412285</th>\n",
       "      <td>10008254</td>\n",
       "      <td>439630</td>\n",
       "      <td>1.0</td>\n",
       "      <td>169.99</td>\n",
       "      <td>500.0</td>\n",
       "      <td>420103</td>\n",
       "      <td>Dry dog food up to 800 gr</td>\n",
       "      <td>FOOD</td>\n",
       "      <td>42.0</td>\n",
       "      <td>Pet goods</td>\n",
       "      <td>4201.0</td>\n",
       "      <td>Goods for dogs</td>\n",
       "      <td>100410.0</td>\n",
       "    </tr>\n",
       "    <tr>\n",
       "      <th>1412286</th>\n",
       "      <td>14919617</td>\n",
       "      <td>439630</td>\n",
       "      <td>1.0</td>\n",
       "      <td>109.89</td>\n",
       "      <td>500.0</td>\n",
       "      <td>420103</td>\n",
       "      <td>Dry dog food up to 800 gr</td>\n",
       "      <td>FOOD</td>\n",
       "      <td>42.0</td>\n",
       "      <td>Pet goods</td>\n",
       "      <td>4201.0</td>\n",
       "      <td>Goods for dogs</td>\n",
       "      <td>100410.0</td>\n",
       "    </tr>\n",
       "    <tr>\n",
       "      <th>1412287</th>\n",
       "      <td>15041309</td>\n",
       "      <td>439630</td>\n",
       "      <td>1.0</td>\n",
       "      <td>169.99</td>\n",
       "      <td>500.0</td>\n",
       "      <td>420103</td>\n",
       "      <td>Dry dog food up to 800 gr</td>\n",
       "      <td>FOOD</td>\n",
       "      <td>42.0</td>\n",
       "      <td>Pet goods</td>\n",
       "      <td>4201.0</td>\n",
       "      <td>Goods for dogs</td>\n",
       "      <td>100410.0</td>\n",
       "    </tr>\n",
       "    <tr>\n",
       "      <th>1412288</th>\n",
       "      <td>15041309</td>\n",
       "      <td>439630</td>\n",
       "      <td>1.0</td>\n",
       "      <td>116.99</td>\n",
       "      <td>500.0</td>\n",
       "      <td>420103</td>\n",
       "      <td>Dry dog food up to 800 gr</td>\n",
       "      <td>FOOD</td>\n",
       "      <td>42.0</td>\n",
       "      <td>Pet goods</td>\n",
       "      <td>4201.0</td>\n",
       "      <td>Goods for dogs</td>\n",
       "      <td>100410.0</td>\n",
       "    </tr>\n",
       "    <tr>\n",
       "      <th>1412289</th>\n",
       "      <td>15041309</td>\n",
       "      <td>439630</td>\n",
       "      <td>1.0</td>\n",
       "      <td>152.14</td>\n",
       "      <td>500.0</td>\n",
       "      <td>420103</td>\n",
       "      <td>Dry dog food up to 800 gr</td>\n",
       "      <td>FOOD</td>\n",
       "      <td>42.0</td>\n",
       "      <td>Pet goods</td>\n",
       "      <td>4201.0</td>\n",
       "      <td>Goods for dogs</td>\n",
       "      <td>100410.0</td>\n",
       "    </tr>\n",
       "  </tbody>\n",
       "</table>\n",
       "</div>"
      ],
      "text/plain": [
       "         CardHolder  Material  SalesCount  ItemPrice  net_weight  \\\n",
       "1412285    10008254    439630         1.0     169.99       500.0   \n",
       "1412286    14919617    439630         1.0     109.89       500.0   \n",
       "1412287    15041309    439630         1.0     169.99       500.0   \n",
       "1412288    15041309    439630         1.0     116.99       500.0   \n",
       "1412289    15041309    439630         1.0     152.14       500.0   \n",
       "\n",
       "         SubCategorycode            ItemDescription Class  rpa_wgh2  \\\n",
       "1412285           420103  Dry dog food up to 800 gr  FOOD      42.0   \n",
       "1412286           420103  Dry dog food up to 800 gr  FOOD      42.0   \n",
       "1412287           420103  Dry dog food up to 800 gr  FOOD      42.0   \n",
       "1412288           420103  Dry dog food up to 800 gr  FOOD      42.0   \n",
       "1412289           420103  Dry dog food up to 800 gr  FOOD      42.0   \n",
       "\n",
       "        rpa_wgh2_SubClass  rpa_wgh3 rpa_wgh3_SubClass    vendor  \n",
       "1412285         Pet goods    4201.0    Goods for dogs  100410.0  \n",
       "1412286         Pet goods    4201.0    Goods for dogs  100410.0  \n",
       "1412287         Pet goods    4201.0    Goods for dogs  100410.0  \n",
       "1412288         Pet goods    4201.0    Goods for dogs  100410.0  \n",
       "1412289         Pet goods    4201.0    Goods for dogs  100410.0  "
      ]
     },
     "execution_count": 9,
     "metadata": {},
     "output_type": "execute_result"
    }
   ],
   "source": [
    "No_lentabag_df = recsys_df.loc[~recsys_df['ItemDescription'].isin(['Lenta bags'])]\n",
    "No_lentabag_df.head()"
   ]
  },
  {
   "cell_type": "code",
   "execution_count": 10,
   "metadata": {},
   "outputs": [
    {
     "data": {
      "text/plain": [
       "(25581761, 13)"
      ]
     },
     "execution_count": 10,
     "metadata": {},
     "output_type": "execute_result"
    }
   ],
   "source": [
    "No_lentabag_df.shape"
   ]
  },
  {
   "cell_type": "code",
   "execution_count": 21,
   "metadata": {},
   "outputs": [],
   "source": [
    "#No_lentabag_df.to_csv('No_lentabag.csv',index=False)"
   ]
  },
  {
   "cell_type": "code",
   "execution_count": 4,
   "metadata": {},
   "outputs": [],
   "source": [
    "No_lentabag_df = pd.read_csv('Olaleke_Tasks/No_lentabag.csv')"
   ]
  },
  {
   "cell_type": "code",
   "execution_count": 3,
   "metadata": {
    "scrolled": true
   },
   "outputs": [
    {
     "data": {
      "text/plain": [
       "array(['Dry dog food up to 800 gr',\n",
       "       'Dry food for cats from 450 gr to 1500 gr',\n",
       "       '\"Special liquid washing detergent \"', ..., 'Hammer drill',\n",
       "       'Frozen turkey in branded package',\n",
       "       'Dry food for small breeds (PRO)'], dtype=object)"
      ]
     },
     "execution_count": 3,
     "metadata": {},
     "output_type": "execute_result"
    }
   ],
   "source": [
    "No_lentabag_df['ItemDescription'].unique()"
   ]
  },
  {
   "cell_type": "code",
   "execution_count": null,
   "metadata": {},
   "outputs": [],
   "source": []
  },
  {
   "cell_type": "code",
   "execution_count": 9,
   "metadata": {},
   "outputs": [],
   "source": [
    "                                                  #creating a lookup table to track of each item and its description  \n",
    "                                                  #its a simple pandas dataframe of the unique product ID/product \n",
    "                                                  #descriptions available....\n",
    "#item_lookup = recsys_df[['Material', 'ItemDescription']].drop_duplicates()      #Only get unique item/description pairs\n",
    "#item_lookup['Material'] = item_lookup['Material'].astype(str)                   #Encode as strings for future lookup ease\n",
    "#item_lookup = pd.read_csv('Olaleke_Tasks/Item_lookup.csv')\n",
    "#item_lookup.head()"
   ]
  },
  {
   "cell_type": "code",
   "execution_count": null,
   "metadata": {},
   "outputs": [],
   "source": []
  },
  {
   "cell_type": "code",
   "execution_count": 5,
   "metadata": {},
   "outputs": [
    {
     "data": {
      "text/html": [
       "<div>\n",
       "<style scoped>\n",
       "    .dataframe tbody tr th:only-of-type {\n",
       "        vertical-align: middle;\n",
       "    }\n",
       "\n",
       "    .dataframe tbody tr th {\n",
       "        vertical-align: top;\n",
       "    }\n",
       "\n",
       "    .dataframe thead th {\n",
       "        text-align: right;\n",
       "    }\n",
       "</style>\n",
       "<table border=\"1\" class=\"dataframe\">\n",
       "  <thead>\n",
       "    <tr style=\"text-align: right;\">\n",
       "      <th></th>\n",
       "      <th>Material</th>\n",
       "      <th>ItemDescription</th>\n",
       "    </tr>\n",
       "  </thead>\n",
       "  <tbody>\n",
       "    <tr>\n",
       "      <th>0</th>\n",
       "      <td>439630</td>\n",
       "      <td>Dry dog food up to 800 gr</td>\n",
       "    </tr>\n",
       "    <tr>\n",
       "      <th>1</th>\n",
       "      <td>338329</td>\n",
       "      <td>Dry dog food up to 800 gr</td>\n",
       "    </tr>\n",
       "    <tr>\n",
       "      <th>2</th>\n",
       "      <td>338283</td>\n",
       "      <td>Dry dog food up to 800 gr</td>\n",
       "    </tr>\n",
       "    <tr>\n",
       "      <th>3</th>\n",
       "      <td>338287</td>\n",
       "      <td>Dry dog food up to 800 gr</td>\n",
       "    </tr>\n",
       "    <tr>\n",
       "      <th>4</th>\n",
       "      <td>513215</td>\n",
       "      <td>Dry dog food up to 800 gr</td>\n",
       "    </tr>\n",
       "  </tbody>\n",
       "</table>\n",
       "</div>"
      ],
      "text/plain": [
       "   Material            ItemDescription\n",
       "0    439630  Dry dog food up to 800 gr\n",
       "1    338329  Dry dog food up to 800 gr\n",
       "2    338283  Dry dog food up to 800 gr\n",
       "3    338287  Dry dog food up to 800 gr\n",
       "4    513215  Dry dog food up to 800 gr"
      ]
     },
     "execution_count": 5,
     "metadata": {},
     "output_type": "execute_result"
    }
   ],
   "source": [
    "                                                  #creating a lookup table to track of each item and its description  \n",
    "                                                  #its a simple pandas dataframe of the unique product ID/product \n",
    "                                                  #descriptions available....\n",
    "#item_lookup_nonbag = No_lentabag_df[['Material', 'ItemDescription']].drop_duplicates()      #Only get unique item/description pairs\n",
    "#item_lookup_nonbag['Material'] = item_lookup_nonbag['Material'].astype(str)                   #Encode as strings for future lookup ease\n",
    "item_lookup_nonbag"
   ]
  },
  {
   "cell_type": "code",
   "execution_count": 6,
   "metadata": {},
   "outputs": [
    {
     "data": {
      "text/plain": [
       "(58320, 2)"
      ]
     },
     "execution_count": 6,
     "metadata": {},
     "output_type": "execute_result"
    }
   ],
   "source": [
    "item_lookup_nonbag.shape"
   ]
  },
  {
   "cell_type": "code",
   "execution_count": 7,
   "metadata": {},
   "outputs": [
    {
     "data": {
      "text/plain": [
       "Material            int64\n",
       "ItemDescription    object\n",
       "dtype: object"
      ]
     },
     "execution_count": 7,
     "metadata": {},
     "output_type": "execute_result"
    }
   ],
   "source": [
    "item_lookup_nonbag['Material'] = item_lookup_nonbag['Material'].astype(int)\n",
    "item_lookup_nonbag.dtypes"
   ]
  },
  {
   "cell_type": "code",
   "execution_count": 28,
   "metadata": {},
   "outputs": [],
   "source": [
    "#item_lookup_nonbag.to_csv('item_lookup_nonbag.csv',index=False)"
   ]
  },
  {
   "cell_type": "code",
   "execution_count": 30,
   "metadata": {},
   "outputs": [],
   "source": [
    "#                                   ##groupby CustomerID && Item, then summing quantity values                   \n",
    "# used_dff = recsys_df[['CardHolder','Material','SalesCount']]\n",
    "# used_df = used_dff.groupby(['CardHolder','Material']).sum().reset_index()  \n",
    "\n",
    "#                                   #replacing a sum of 0 with a sum of 1                               \n",
    "# used_df.SalesCount.loc[used_df.SalesCount==0] = 1\n",
    "#                                  #get only customers with positive num of quantities\n",
    "# user_item_info = used_df.query('SalesCount > 0')  \n",
    "# print(user_item_info.shape)\n",
    "# user_item_info.head()"
   ]
  },
  {
   "cell_type": "code",
   "execution_count": 14,
   "metadata": {},
   "outputs": [
    {
     "name": "stdout",
     "output_type": "stream",
     "text": [
      "(15205494, 3)\n"
     ]
    },
    {
     "data": {
      "text/html": [
       "<div>\n",
       "<style scoped>\n",
       "    .dataframe tbody tr th:only-of-type {\n",
       "        vertical-align: middle;\n",
       "    }\n",
       "\n",
       "    .dataframe tbody tr th {\n",
       "        vertical-align: top;\n",
       "    }\n",
       "\n",
       "    .dataframe thead th {\n",
       "        text-align: right;\n",
       "    }\n",
       "</style>\n",
       "<table border=\"1\" class=\"dataframe\">\n",
       "  <thead>\n",
       "    <tr style=\"text-align: right;\">\n",
       "      <th></th>\n",
       "      <th>CardHolder</th>\n",
       "      <th>Material</th>\n",
       "      <th>SalesCount</th>\n",
       "    </tr>\n",
       "  </thead>\n",
       "  <tbody>\n",
       "    <tr>\n",
       "      <th>0</th>\n",
       "      <td>10008254</td>\n",
       "      <td>4135</td>\n",
       "      <td>2.0</td>\n",
       "    </tr>\n",
       "    <tr>\n",
       "      <th>1</th>\n",
       "      <td>10008254</td>\n",
       "      <td>5383</td>\n",
       "      <td>2.0</td>\n",
       "    </tr>\n",
       "    <tr>\n",
       "      <th>2</th>\n",
       "      <td>10008254</td>\n",
       "      <td>5880</td>\n",
       "      <td>2.0</td>\n",
       "    </tr>\n",
       "    <tr>\n",
       "      <th>3</th>\n",
       "      <td>10008254</td>\n",
       "      <td>78790</td>\n",
       "      <td>2.0</td>\n",
       "    </tr>\n",
       "    <tr>\n",
       "      <th>4</th>\n",
       "      <td>10008254</td>\n",
       "      <td>81107</td>\n",
       "      <td>1.0</td>\n",
       "    </tr>\n",
       "  </tbody>\n",
       "</table>\n",
       "</div>"
      ],
      "text/plain": [
       "   CardHolder  Material  SalesCount\n",
       "0    10008254      4135         2.0\n",
       "1    10008254      5383         2.0\n",
       "2    10008254      5880         2.0\n",
       "3    10008254     78790         2.0\n",
       "4    10008254     81107         1.0"
      ]
     },
     "execution_count": 14,
     "metadata": {},
     "output_type": "execute_result"
    }
   ],
   "source": [
    "                                  ##groupby CustomerID && Item, then summing quantity values                   \n",
    "used_dff = No_lentabag_df[['CardHolder','Material','SalesCount']]\n",
    "used_df = used_dff.groupby(['CardHolder','Material']).sum().reset_index()  \n",
    "\n",
    "                                  #replacing a sum of 0 with a sum of 1                               \n",
    "used_df.SalesCount.loc[used_df.SalesCount==0] = 1\n",
    "                                 #get only customers with positive num of quantities\n",
    "user_item_info = used_df.query('SalesCount > 0')  \n",
    "print(user_item_info.shape)\n",
    "user_item_info.head()"
   ]
  },
  {
   "cell_type": "code",
   "execution_count": 15,
   "metadata": {},
   "outputs": [],
   "source": [
    "#user_item_info.to_csv('user_item_nonbag.csv',index=False)"
   ]
  },
  {
   "cell_type": "code",
   "execution_count": 8,
   "metadata": {},
   "outputs": [
    {
     "data": {
      "text/html": [
       "<div>\n",
       "<style scoped>\n",
       "    .dataframe tbody tr th:only-of-type {\n",
       "        vertical-align: middle;\n",
       "    }\n",
       "\n",
       "    .dataframe tbody tr th {\n",
       "        vertical-align: top;\n",
       "    }\n",
       "\n",
       "    .dataframe thead th {\n",
       "        text-align: right;\n",
       "    }\n",
       "</style>\n",
       "<table border=\"1\" class=\"dataframe\">\n",
       "  <thead>\n",
       "    <tr style=\"text-align: right;\">\n",
       "      <th></th>\n",
       "      <th>CardHolder</th>\n",
       "      <th>Material</th>\n",
       "      <th>SalesCount</th>\n",
       "    </tr>\n",
       "  </thead>\n",
       "  <tbody>\n",
       "    <tr>\n",
       "      <th>0</th>\n",
       "      <td>10008254</td>\n",
       "      <td>4135</td>\n",
       "      <td>2.0</td>\n",
       "    </tr>\n",
       "    <tr>\n",
       "      <th>1</th>\n",
       "      <td>10008254</td>\n",
       "      <td>5383</td>\n",
       "      <td>2.0</td>\n",
       "    </tr>\n",
       "    <tr>\n",
       "      <th>2</th>\n",
       "      <td>10008254</td>\n",
       "      <td>5880</td>\n",
       "      <td>2.0</td>\n",
       "    </tr>\n",
       "    <tr>\n",
       "      <th>3</th>\n",
       "      <td>10008254</td>\n",
       "      <td>78790</td>\n",
       "      <td>2.0</td>\n",
       "    </tr>\n",
       "    <tr>\n",
       "      <th>4</th>\n",
       "      <td>10008254</td>\n",
       "      <td>81107</td>\n",
       "      <td>1.0</td>\n",
       "    </tr>\n",
       "  </tbody>\n",
       "</table>\n",
       "</div>"
      ],
      "text/plain": [
       "   CardHolder  Material  SalesCount\n",
       "0    10008254      4135         2.0\n",
       "1    10008254      5383         2.0\n",
       "2    10008254      5880         2.0\n",
       "3    10008254     78790         2.0\n",
       "4    10008254     81107         1.0"
      ]
     },
     "execution_count": 8,
     "metadata": {},
     "output_type": "execute_result"
    }
   ],
   "source": [
    "user_item_info = pd.read_csv('Olaleke_Tasks/user_item_nonbag.csv')\n",
    "user_item_info.head()"
   ]
  },
  {
   "cell_type": "markdown",
   "metadata": {},
   "source": [
    "### Creating Rating  Matrix \n",
    " \n",
    "  - since there are no explicit rating, the purchase quantity can serve as an implicit feedback for us.\n",
    "  \n",
    "\n",
    "  - It represent a “confidence” in terms of how strong the user-item was. \n",
    "  \n",
    "\n",
    "  - Items with a larger number of purchases by a customer can carry more weight in the ratings matrix of purchases.\n",
    " "
   ]
  },
  {
   "cell_type": "code",
   "execution_count": 9,
   "metadata": {},
   "outputs": [
    {
     "name": "stdout",
     "output_type": "stream",
     "text": [
      "Num of unique customers:  86497\n",
      "Num of unique Items:  58320\n",
      "Num of Item quantities:  15205494\n"
     ]
    }
   ],
   "source": [
    "                                                                ##creating the sparse rating matrix\n",
    "CUSTOMERS = list(np.sort(user_item_info['CardHolder'].unique()))   #Get list of unique customers..\n",
    "ITEMS     = list(user_item_info['Material'].unique())             #Get list of unique items\n",
    "QUANTITY  =  list(user_item_info['SalesCount'])                       #get all quantities\n",
    "\n",
    "print(\"Num of unique customers: \",len(CUSTOMERS))\n",
    "print(\"Num of unique Items: \",   len(ITEMS))\n",
    "print(\"Num of Item quantities: \",len(QUANTITY))"
   ]
  },
  {
   "cell_type": "code",
   "execution_count": 9,
   "metadata": {},
   "outputs": [
    {
     "data": {
      "text/plain": [
       "0               0\n",
       "1               0\n",
       "2               0\n",
       "3               0\n",
       "4               0\n",
       "            ...  \n",
       "15205489    86496\n",
       "15205490    86496\n",
       "15205491    86496\n",
       "15205492    86496\n",
       "15205493    86496\n",
       "Length: 15205494, dtype: int32"
      ]
     },
     "execution_count": 9,
     "metadata": {},
     "output_type": "execute_result"
    }
   ],
   "source": [
    "                    #Creating rows values corresponding to unique Customers\n",
    "rows = user_item_info.CardHolder.astype(CategoricalDtype(categories=CUSTOMERS)).cat.codes\n",
    "rows"
   ]
  },
  {
   "cell_type": "code",
   "execution_count": 10,
   "metadata": {},
   "outputs": [
    {
     "data": {
      "text/plain": [
       "0               0\n",
       "1               1\n",
       "2               2\n",
       "3               3\n",
       "4               4\n",
       "            ...  \n",
       "15205489    48534\n",
       "15205490    35770\n",
       "15205491    41246\n",
       "15205492    21686\n",
       "15205493    35162\n",
       "Length: 15205494, dtype: int32"
      ]
     },
     "execution_count": 10,
     "metadata": {},
     "output_type": "execute_result"
    }
   ],
   "source": [
    "                #Creating columns values corresponding to unique Items\n",
    "cols = user_item_info.Material.astype(CategoricalDtype(categories=ITEMS)).cat.codes\n",
    "cols"
   ]
  },
  {
   "cell_type": "code",
   "execution_count": 11,
   "metadata": {},
   "outputs": [
    {
     "data": {
      "text/plain": [
       "<86497x58320 sparse matrix of type '<class 'numpy.float64'>'\n",
       "\twith 15205494 stored elements in Compressed Sparse Row format>"
      ]
     },
     "execution_count": 11,
     "metadata": {},
     "output_type": "execute_result"
    }
   ],
   "source": [
    "Rating_matrix = sparse.csr_matrix((QUANTITY, (rows,cols)),\n",
    "                                     shape=(len(CUSTOMERS),len(ITEMS)))\n",
    "Rating_matrix"
   ]
  },
  {
   "cell_type": "code",
   "execution_count": 12,
   "metadata": {},
   "outputs": [
    {
     "name": "stdout",
     "output_type": "stream",
     "text": [
      "Shape  of the rating matrix:  (86497, 58320)\n",
      "Size of Rating Matrix:  5044505040\n",
      "Num of purchase:  15205494\n",
      "Percentage Sparsity:  99.6985731230432\n"
     ]
    }
   ],
   "source": [
    "        ##Checking sparsity of the rating matrix:\n",
    "Matrix_size = Rating_matrix.shape[0]*Rating_matrix.shape[1]\n",
    "Num_of_purchase = len(Rating_matrix.nonzero()[0])\n",
    "sparsity = 100*(1-(Num_of_purchase/Matrix_size))\n",
    "print(\"Shape  of the rating matrix: \", Rating_matrix.shape)\n",
    "print(\"Size of Rating Matrix: \",Matrix_size)\n",
    "print(\"Num of purchase: \",Num_of_purchase)\n",
    "print(\"Percentage Sparsity: \", sparsity)"
   ]
  },
  {
   "cell_type": "code",
   "execution_count": null,
   "metadata": {},
   "outputs": [],
   "source": []
  },
  {
   "cell_type": "markdown",
   "metadata": {},
   "source": [
    "### Training and Testing set:\n",
    "\n",
    "- The method of getting training and testing set is as follows;\n",
    "\n",
    "\n",
    "- Test set is an exact copy of our original rating data.\n",
    "\n",
    "\n",
    "- The training set, however, will mask a random percentage of user/item interactions and act as if the user never purchased the item (making it a sparse entry with a zero)\n",
    "\n",
    "\n",
    "- Then during testing, we check in the test set which items were recommended to the user that they ended up actually purchasing.\n",
    "\n",
    "\n",
    "- If the users frequently ended up purchasing the items most recommended to them by the system, we can conclude the system seems to be working."
   ]
  },
  {
   "cell_type": "code",
   "execution_count": 13,
   "metadata": {},
   "outputs": [],
   "source": [
    "                                                ##takes rating matrix and masks a certain 20% \n",
    "                                                ##of the user-item interaction\n",
    "def TrainTest(ratings_matrix,pct_mask=0.2):\n",
    "    test_set = ratings_matrix.copy()              #making a copy of the rating matrix as text_set\n",
    "    test_set[test_set!=0]=1                       #storing this as a binary preference matrix \n",
    "\n",
    "    train_set = ratings_matrix.copy() \n",
    "    nonzero_inds = train_set.nonzero()            #get indices where interaction actually exist\n",
    "    nonzero_pairs = list(zip(nonzero_inds[0],     #user-item indices into list\n",
    "                          nonzero_inds[1]))   \n",
    "    random.seed(0) \n",
    "    num_samples = int(np.ceil(pct_mask*len(nonzero_pairs)))  #num of samples to mask\n",
    "    samples = random.sample(nonzero_pairs, num_samples) \n",
    "\n",
    "\n",
    "    user_inds = [i[0] for i in samples]             #Get the user row indices\n",
    "    item_inds = [i[1] for i in samples]            # Get the item column indices\n",
    "    train_set[user_inds, item_inds] = 0            # Assign all of the randomly chosen user-item pairs to zero\n",
    "    train_set.eliminate_zeros()                    # Get rid of zeros in sparse array storage after update to save space\n",
    "    return train_set, test_set, list(set(user_inds)) # Output the unique list of use"
   ]
  },
  {
   "cell_type": "markdown",
   "metadata": {},
   "source": [
    "- The function above will return 3 things;\n",
    "\n",
    "\n",
    "- Train set- {with some samples delibrately masked out},\n",
    "\n",
    "\n",
    "- Test set - {that has been binarized to 0/1 for purchased/not purchased}\n",
    "\n",
    "\n",
    "-  and a list of which users had at least one item masked. \n",
    "\n",
    "\n",
    "- the performance of the recommender system will be tested on these users only. "
   ]
  },
  {
   "cell_type": "code",
   "execution_count": 14,
   "metadata": {},
   "outputs": [],
   "source": [
    "train_set ,test_set,masked_users = TrainTest(Rating_matrix, pct_mask=0.2)"
   ]
  },
  {
   "cell_type": "code",
   "execution_count": 15,
   "metadata": {},
   "outputs": [
    {
     "data": {
      "text/plain": [
       "<86497x58320 sparse matrix of type '<class 'numpy.float64'>'\n",
       "\twith 12164395 stored elements in Compressed Sparse Row format>"
      ]
     },
     "execution_count": 15,
     "metadata": {},
     "output_type": "execute_result"
    }
   ],
   "source": [
    "train_set"
   ]
  },
  {
   "cell_type": "code",
   "execution_count": 18,
   "metadata": {},
   "outputs": [
    {
     "data": {
      "text/plain": [
       "81755"
      ]
     },
     "execution_count": 18,
     "metadata": {},
     "output_type": "execute_result"
    }
   ],
   "source": [
    "len(masked_users)"
   ]
  },
  {
   "cell_type": "code",
   "execution_count": 19,
   "metadata": {},
   "outputs": [],
   "source": [
    "                #Pickling\n",
    "with open(\"masked_users.txt\", \"wb\") as fp:\n",
    "    pickle.dump(masked_users, fp)\n",
    "    \n",
    "sparse.save_npz(\"ALS_train_set.npz\",train_set)\n",
    "sparse.save_npz(\"ALS_test_set.npz\",test_set)"
   ]
  },
  {
   "cell_type": "code",
   "execution_count": null,
   "metadata": {},
   "outputs": [],
   "source": []
  },
  {
   "cell_type": "code",
   "execution_count": 16,
   "metadata": {},
   "outputs": [],
   "source": [
    "train_set = sparse.load_npz(\"ALS_train_set.npz\")\n",
    "test_set = sparse.load_npz(\"ALS_test_set.npz\")\n",
    "                        #unpickling\n",
    "with open(\"masked_users.txt\", \"rb\") as fp:  \n",
    "        masked_users = pickle.load(fp)"
   ]
  },
  {
   "cell_type": "markdown",
   "metadata": {},
   "source": [
    "### Implementation of Alternating Least Square [ALS]\n",
    "\n",
    "- This method  below returns: \n",
    "\n",
    "\n",
    "- user_vecs: Array of latent factors for each USERS in the training set (M X K)\n",
    "    \n",
    "      \n",
    "- item_vecs: Array of latent factors for each ITEMS in the training set (K X N) \n",
    "     \n",
    "       \n",
    "- where K == num of latent factors "
   ]
  },
  {
   "cell_type": "code",
   "execution_count": 852,
   "metadata": {},
   "outputs": [],
   "source": [
    "#!pip install implicit"
   ]
  },
  {
   "cell_type": "code",
   "execution_count": 17,
   "metadata": {},
   "outputs": [],
   "source": [
    "import implicit"
   ]
  },
  {
   "cell_type": "code",
   "execution_count": 1,
   "metadata": {},
   "outputs": [],
   "source": [
    "#export OPENBLAS_NUM_THREADS=1"
   ]
  },
  {
   "cell_type": "code",
   "execution_count": 20,
   "metadata": {},
   "outputs": [
    {
     "name": "stderr",
     "output_type": "stream",
     "text": [
      "WARNING:root:OpenBLAS detected. Its highly recommend to set the environment variable 'export OPENBLAS_NUM_THREADS=1' to disable its internal multithreading\n"
     ]
    },
    {
     "data": {
      "application/vnd.jupyter.widget-view+json": {
       "model_id": "a46f645530484c75a66992a95745b6c3",
       "version_major": 2,
       "version_minor": 0
      },
      "text/plain": [
       "HBox(children=(FloatProgress(value=0.0), HTML(value='')))"
      ]
     },
     "metadata": {},
     "output_type": "display_data"
    },
    {
     "name": "stdout",
     "output_type": "stream",
     "text": [
      "\n"
     ]
    }
   ],
   "source": [
    "alpha = 15\n",
    "model = implicit.als.AlternatingLeastSquares(factors=50,\n",
    "                                            regularization = 0.1,\n",
    "                                            use_gpu = False,  #change to 'True' if connected to GPU \n",
    "                                            iterations = 100,\n",
    "                                            calculate_training_loss = True)\n",
    "\n",
    "\n",
    "item_user_matrix = (train_set*alpha).astype('double')\n",
    "model.fit(item_user_matrix.T)\n",
    "user_vecs = model.user_factors\n",
    "item_vecs = model.item_factors"
   ]
  },
  {
   "cell_type": "code",
   "execution_count": null,
   "metadata": {},
   "outputs": [],
   "source": []
  },
  {
   "cell_type": "code",
   "execution_count": null,
   "metadata": {},
   "outputs": [],
   "source": []
  },
  {
   "cell_type": "code",
   "execution_count": 27,
   "metadata": {},
   "outputs": [],
   "source": [
    "# alpha = 15\n",
    "# user_vecs, item_vecs = implicit.alternating_least_squares((train_set*alpha).astype('double'), \n",
    "#                                                           factors=32, \n",
    "#                                                           regularization = 0.1, \n",
    "#                                                           iterations = 100,\n",
    "#                                                           use_gpu = False)"
   ]
  },
  {
   "cell_type": "code",
   "execution_count": 28,
   "metadata": {},
   "outputs": [],
   "source": [
    "#np.save('user_vecs.npy', user_vecs)    #.npy extension is added if not given\n",
    "#np.save('item_vecs.npy', item_vecs)    #.npy extension is added if not given"
   ]
  },
  {
   "cell_type": "code",
   "execution_count": 10,
   "metadata": {},
   "outputs": [],
   "source": [
    "user_vecs = np.load('user_vecs.npy')\n",
    "item_vecs = np.load('item_vecs.npy')"
   ]
  },
  {
   "cell_type": "code",
   "execution_count": 11,
   "metadata": {},
   "outputs": [
    {
     "name": "stdout",
     "output_type": "stream",
     "text": [
      "Shape of User features:  (86497, 50)\n",
      "Shape of Item features:  (58320, 50)\n"
     ]
    }
   ],
   "source": [
    "print(\"Shape of User features: \", user_vecs.shape)\n",
    "print(\"Shape of Item features: \", item_vecs.shape)"
   ]
  },
  {
   "cell_type": "code",
   "execution_count": null,
   "metadata": {},
   "outputs": [],
   "source": []
  },
  {
   "cell_type": "markdown",
   "metadata": {},
   "source": [
    "### Evaluating the ALS RecSys\n",
    "\n",
    "- The training set has 20% data masked,and this will be used for the evaluation\n",
    "\n",
    "\n",
    "- The evaluation will be to see **if the order of recommendations given for each user matches the items they ended up purchasing.**\n",
    "\n",
    "\n",
    "- **Method 1**: using ROC curve; a greater{AUC} means recommending items that end up being purchased near the top of the list of recommended items.\n",
    "\n",
    " "
   ]
  },
  {
   "cell_type": "code",
   "execution_count": 29,
   "metadata": {},
   "outputs": [],
   "source": [
    "                    #creating and AUC_score function\n",
    "def auc_score(predictions,test):\n",
    "    fpr,tpr,threshold = metrics.roc_curve(test, predictions)\n",
    "    auc_score = metrics.auc(fpr, tpr)\n",
    "    return auc_score"
   ]
  },
  {
   "cell_type": "code",
   "execution_count": 30,
   "metadata": {},
   "outputs": [],
   "source": [
    "def mean_auc(train_set,test_set,latent_features,masked_users) :\n",
    "    user_AUC = []\n",
    "    popularity_AUC = []                     \n",
    "                                                           #sum of item interactions to find most popular items\n",
    "    popular_item = np.array(test_set.sum(axis = 0)).reshape(-1)\n",
    "    item_vectors = latent_features[1]                     #item latent features: matrix_V\n",
    "    \n",
    "    for user in masked_users:\n",
    "        train_row  = train_set[user,:].toarray().reshape(-1)  ##for each user in the training set\n",
    "        zero_index = np.where(train_row==0)                   ##get the index where interaction has not yet occurred \n",
    "\n",
    "                                                              #extract the user latent features... \n",
    "        user_vector = latent_features[0][user,:]              #get me each row in the predicted rating matrix--> \n",
    "                                                              #user latent features: matrix_U\n",
    "\n",
    "        pred_rating = user_vector.dot(item_vectors).toarray()[0,zero_index].reshape(-1)  #user predicted ratings based on \n",
    "\n",
    "        actual_rating = test_set[user,:].toarray()[0,zero_index].reshape(-1) \n",
    "        pop = popular_item[zero_index]                      #item popularity of our chosen item: \n",
    "                                                            #to test with our system recommending popular item for every user\n",
    "        user_AUC.append(auc_score(pred_rating, actual_rating))\n",
    "        popularity_AUC.append(auc_score(pop,actual_rating))\n",
    "        AVG_test_AUC = float('%.3f'%np.mean(user_AUC))\n",
    "        AVG_pop_AUC = float('%.3f'%np.mean(popularity_AUC))\n",
    "\n",
    "    return AVG_test_AUC,AVG_pop_AUC"
   ]
  },
  {
   "cell_type": "code",
   "execution_count": 31,
   "metadata": {},
   "outputs": [
    {
     "name": "stdout",
     "output_type": "stream",
     "text": [
      "Mean Test AUC: 0.872\n",
      "Mean Popularity AUC: 0.888\n"
     ]
    }
   ],
   "source": [
    "                                          ##converting the ALS output to csr_matrix , \n",
    "                                          ##...and transposing th eitem vectors:\n",
    "user_vecs_csr = sparse.csr_matrix(user_vecs) \n",
    "item_vecs_csr = sparse.csr_matrix(item_vecs.T) \n",
    "\n",
    "latent_features = [user_vecs_csr,item_vecs_csr]\n",
    "AVG_test_AUC,AVG_pop_AUC  =      mean_auc(train_set,test_set,\n",
    "                                  latent_features,masked_users)\n",
    "\n",
    "print(\"Mean Test AUC:\",AVG_test_AUC)        ##AUC based on recommendation on users' interactions\n",
    "print(\"Mean Popularity AUC:\",AVG_pop_AUC)   ##Auc based on system recommending just the most popular items"
   ]
  },
  {
   "cell_type": "code",
   "execution_count": null,
   "metadata": {},
   "outputs": [],
   "source": []
  },
  {
   "cell_type": "markdown",
   "metadata": {},
   "source": [
    "- The result above is not satisfactory enough, \n",
    "\n",
    "\n",
    "- because recommendation based on the  most popular items performs better than the usr_item interaction"
   ]
  },
  {
   "cell_type": "code",
   "execution_count": null,
   "metadata": {},
   "outputs": [],
   "source": []
  },
  {
   "cell_type": "code",
   "execution_count": null,
   "metadata": {},
   "outputs": [],
   "source": []
  },
  {
   "cell_type": "markdown",
   "metadata": {},
   "source": [
    "### ALS Recoemmdation Example "
   ]
  },
  {
   "cell_type": "code",
   "execution_count": 143,
   "metadata": {},
   "outputs": [
    {
     "data": {
      "text/html": [
       "<div>\n",
       "<style scoped>\n",
       "    .dataframe tbody tr th:only-of-type {\n",
       "        vertical-align: middle;\n",
       "    }\n",
       "\n",
       "    .dataframe tbody tr th {\n",
       "        vertical-align: top;\n",
       "    }\n",
       "\n",
       "    .dataframe thead th {\n",
       "        text-align: right;\n",
       "    }\n",
       "</style>\n",
       "<table border=\"1\" class=\"dataframe\">\n",
       "  <thead>\n",
       "    <tr style=\"text-align: right;\">\n",
       "      <th></th>\n",
       "      <th>Material</th>\n",
       "      <th>ItemDescription</th>\n",
       "    </tr>\n",
       "  </thead>\n",
       "  <tbody>\n",
       "    <tr>\n",
       "      <th>0</th>\n",
       "      <td>439630</td>\n",
       "      <td>Dry dog food up to 800 gr</td>\n",
       "    </tr>\n",
       "    <tr>\n",
       "      <th>1</th>\n",
       "      <td>338329</td>\n",
       "      <td>Dry dog food up to 800 gr</td>\n",
       "    </tr>\n",
       "    <tr>\n",
       "      <th>2</th>\n",
       "      <td>338283</td>\n",
       "      <td>Dry dog food up to 800 gr</td>\n",
       "    </tr>\n",
       "    <tr>\n",
       "      <th>3</th>\n",
       "      <td>338287</td>\n",
       "      <td>Dry dog food up to 800 gr</td>\n",
       "    </tr>\n",
       "    <tr>\n",
       "      <th>4</th>\n",
       "      <td>513215</td>\n",
       "      <td>Dry dog food up to 800 gr</td>\n",
       "    </tr>\n",
       "  </tbody>\n",
       "</table>\n",
       "</div>"
      ],
      "text/plain": [
       "   Material            ItemDescription\n",
       "0    439630  Dry dog food up to 800 gr\n",
       "1    338329  Dry dog food up to 800 gr\n",
       "2    338283  Dry dog food up to 800 gr\n",
       "3    338287  Dry dog food up to 800 gr\n",
       "4    513215  Dry dog food up to 800 gr"
      ]
     },
     "execution_count": 143,
     "metadata": {},
     "output_type": "execute_result"
    }
   ],
   "source": [
    "item_lookup_nonbag.head()"
   ]
  },
  {
   "cell_type": "code",
   "execution_count": 99,
   "metadata": {},
   "outputs": [],
   "source": [
    "customers_arr = np.array(CUSTOMERS)     #Array of unique customer IDs from the ratings matrix\n",
    "items_arr =  np.array(ITEMS)            #Array of unique product IDs from the ratings matrix\n",
    "\n",
    "                                        #get the items that have already been purchased by\n",
    "                                        #...a specific customer in the training set\n",
    "def get_item_already_bought(customer_id,train_set,customers_list,items_list,item_lookup):\n",
    "    customers_index = np.where(customers_list == customer_id)[0][0]    #get the row index  of the customer_ID \n",
    "    customer_item_index = train_set[customers_index,:].nonzero()[1]    #get column indices of purchased items by the customer \n",
    "    Item_id = items_list[customer_item_index] \n",
    "    get_item = item_lookup.loc[item_lookup['Material'].isin(Item_id)]\n",
    "    get_item =  get_item.reset_index(drop=True)                                                          #return :A list of item IDs and item descriptions \n",
    "    return get_item                                             #..for a particular customer that were already purchased in the training set     "
   ]
  },
  {
   "cell_type": "code",
   "execution_count": 121,
   "metadata": {},
   "outputs": [],
   "source": [
    "# item_lookup['Material'] = item_lookup['Material'].astype(int)\n",
    "# item_lookup['Material'].dtype\n",
    "\n",
    "item_lookup = item_lookup_nonbag "
   ]
  },
  {
   "cell_type": "code",
   "execution_count": null,
   "metadata": {},
   "outputs": [],
   "source": []
  },
  {
   "cell_type": "code",
   "execution_count": null,
   "metadata": {},
   "outputs": [],
   "source": []
  },
  {
   "cell_type": "code",
   "execution_count": 148,
   "metadata": {},
   "outputs": [],
   "source": [
    "                             #function to recommend top items for all users... \n",
    "def get_recommended_items(customer_id,train_set=train_set,user_vecs=user_vecs, \n",
    "                          item_vecs=item_vecs,customer_list=customers_arr,\n",
    "                          item_list = items_arr,item_lookup=item_lookup, num_items = 10):\n",
    "    \n",
    "    \n",
    "    customers_index = np.where(customer_list == customer_id)[0][0] \n",
    "    customer_rating = train_set[customers_index,:].toarray()          #get customer rating from the rating_matrix(train_set)\n",
    "    customer_rating = customer_rating.reshape(-1) + 1                 #adding 1 to every values; items not purchased yet(0 before), will not become 1\n",
    "    customer_rating[customer_rating > 1] = 0                          #make all items already purchased  to be 0\n",
    "    recommend_vec = user_vecs[customers_index,:].dot(item_vecs.T)     #Get dot product of user vector and all item vectors\n",
    "                                                                      #making the recommendation vector between 0 and 1\n",
    "    min_max = MinMaxScaler()\n",
    "    rec_vector_scaled = min_max.fit_transform(recommend_vec.reshape(-1,1))[:,0] \n",
    "\n",
    "    recommend_vector = customer_rating*rec_vector_scaled              #item already purchased have their recommendation multiplied by 0\n",
    "    item_index = np.argsort(recommend_vector)[::-1][:num_items]       #Sorting the indices of the recommended_items into order \n",
    "    recommend_list = []\n",
    "    for i in item_index[:num_items]:\n",
    "        code = item_list[i]                                            #appening item description to list\n",
    "        recommend_list.append([code,item_lookup.ItemDescription.loc[item_lookup.Material == code].iloc[0]]) \n",
    "        \n",
    "        #get_item = item_lookup.loc[item_lookup['Material'].isin(Item_id)]\n",
    "    codes = [item[0] for item in recommend_list]\n",
    "    descriptions = [item[1] for item in recommend_list]\n",
    "    final_frame = pd.DataFrame({'Material': codes, 'ItemDescription': descriptions})   #Create a dataframe \n",
    "    recommended = final_frame[['Material', 'ItemDescription']]                         #Switch order of columns around\n",
    "    \n",
    "                        ##get items already bought\n",
    "    customers_index = np.where(customer_list == customer_id)[0][0]    #get the row index  of the customer_ID \n",
    "    customer_item_index = train_set[customers_index,:].nonzero()[1]    #get column indices of purchased items by the customer \n",
    "    Item_id = item_list[customer_item_index] \n",
    "    already_bought = item_lookup.loc[item_lookup['Material'].isin(Item_id)]\n",
    "    already_bought =  already_bought.reset_index(drop=True)\n",
    "                                                                #return :A list of item IDs and item descriptions \n",
    "\n",
    "           \n",
    "    compare_output = pd.concat([already_bought[:num_items]['ItemDescription'], \n",
    "                                recommended[:num_items]['ItemDescription']],\n",
    "                                ignore_index=True, axis=1)\n",
    "    compare_output = compare_output.rename(columns={0:\"Already_Purchased_Items\",\n",
    "                                                    1:\"Recommended_Items(ALS)\"})\n",
    "    \n",
    "    print(\"Recommendation for user_id: {}\".format(customer_id))\n",
    "    return already_bought,recommended,compare_output"
   ]
  },
  {
   "cell_type": "code",
   "execution_count": 157,
   "metadata": {
    "scrolled": true
   },
   "outputs": [
    {
     "data": {
      "text/plain": [
       "array([83326249, 83326911, 83327390, 83329160, 83329286, 83329684,\n",
       "       83329792, 83332008, 83332870, 83333056])"
      ]
     },
     "execution_count": 157,
     "metadata": {},
     "output_type": "execute_result"
    }
   ],
   "source": [
    "customers_arr[-10:]  #view the 1st 5 customers_id"
   ]
  },
  {
   "cell_type": "code",
   "execution_count": 158,
   "metadata": {},
   "outputs": [
    {
     "name": "stdout",
     "output_type": "stream",
     "text": [
      "Recommendation for user_id: 83326249\n"
     ]
    },
    {
     "data": {
      "text/html": [
       "<div>\n",
       "<style scoped>\n",
       "    .dataframe tbody tr th:only-of-type {\n",
       "        vertical-align: middle;\n",
       "    }\n",
       "\n",
       "    .dataframe tbody tr th {\n",
       "        vertical-align: top;\n",
       "    }\n",
       "\n",
       "    .dataframe thead th {\n",
       "        text-align: right;\n",
       "    }\n",
       "</style>\n",
       "<table border=\"1\" class=\"dataframe\">\n",
       "  <thead>\n",
       "    <tr style=\"text-align: right;\">\n",
       "      <th></th>\n",
       "      <th>Already_Purchased_Items</th>\n",
       "      <th>Recommended_Items(ALS)</th>\n",
       "    </tr>\n",
       "  </thead>\n",
       "  <tbody>\n",
       "    <tr>\n",
       "      <th>0</th>\n",
       "      <td>\"Table and drinking still water \"</td>\n",
       "      <td>\"Table and drinking still water \"</td>\n",
       "    </tr>\n",
       "    <tr>\n",
       "      <th>1</th>\n",
       "      <td>NaN</td>\n",
       "      <td>Baby water</td>\n",
       "    </tr>\n",
       "    <tr>\n",
       "      <th>2</th>\n",
       "      <td>NaN</td>\n",
       "      <td>Baby juice</td>\n",
       "    </tr>\n",
       "    <tr>\n",
       "      <th>3</th>\n",
       "      <td>NaN</td>\n",
       "      <td>Baby water</td>\n",
       "    </tr>\n",
       "    <tr>\n",
       "      <th>4</th>\n",
       "      <td>NaN</td>\n",
       "      <td>Kefir, bifidus for children under 3 years</td>\n",
       "    </tr>\n",
       "    <tr>\n",
       "      <th>5</th>\n",
       "      <td>NaN</td>\n",
       "      <td>Chocolate eggs</td>\n",
       "    </tr>\n",
       "    <tr>\n",
       "      <th>6</th>\n",
       "      <td>NaN</td>\n",
       "      <td>Cream yoghurt for children under 3 years</td>\n",
       "    </tr>\n",
       "    <tr>\n",
       "      <th>7</th>\n",
       "      <td>NaN</td>\n",
       "      <td>\"Table and drinking still water \"</td>\n",
       "    </tr>\n",
       "    <tr>\n",
       "      <th>8</th>\n",
       "      <td>NaN</td>\n",
       "      <td>Baby water</td>\n",
       "    </tr>\n",
       "    <tr>\n",
       "      <th>9</th>\n",
       "      <td>NaN</td>\n",
       "      <td>Chocolate eggs</td>\n",
       "    </tr>\n",
       "  </tbody>\n",
       "</table>\n",
       "</div>"
      ],
      "text/plain": [
       "             Already_Purchased_Items  \\\n",
       "0  \"Table and drinking still water \"   \n",
       "1                                NaN   \n",
       "2                                NaN   \n",
       "3                                NaN   \n",
       "4                                NaN   \n",
       "5                                NaN   \n",
       "6                                NaN   \n",
       "7                                NaN   \n",
       "8                                NaN   \n",
       "9                                NaN   \n",
       "\n",
       "                      Recommended_Items(ALS)  \n",
       "0          \"Table and drinking still water \"  \n",
       "1                                 Baby water  \n",
       "2                                 Baby juice  \n",
       "3                                 Baby water  \n",
       "4  Kefir, bifidus for children under 3 years  \n",
       "5                             Chocolate eggs  \n",
       "6   Cream yoghurt for children under 3 years  \n",
       "7          \"Table and drinking still water \"  \n",
       "8                                 Baby water  \n",
       "9                             Chocolate eggs  "
      ]
     },
     "execution_count": 158,
     "metadata": {},
     "output_type": "execute_result"
    }
   ],
   "source": [
    "get_recommended_items(83326249)[2]  "
   ]
  },
  {
   "cell_type": "code",
   "execution_count": 151,
   "metadata": {},
   "outputs": [
    {
     "name": "stdout",
     "output_type": "stream",
     "text": [
      "Recommendation for user_id: 83329160\n"
     ]
    },
    {
     "data": {
      "text/html": [
       "<div>\n",
       "<style scoped>\n",
       "    .dataframe tbody tr th:only-of-type {\n",
       "        vertical-align: middle;\n",
       "    }\n",
       "\n",
       "    .dataframe tbody tr th {\n",
       "        vertical-align: top;\n",
       "    }\n",
       "\n",
       "    .dataframe thead th {\n",
       "        text-align: right;\n",
       "    }\n",
       "</style>\n",
       "<table border=\"1\" class=\"dataframe\">\n",
       "  <thead>\n",
       "    <tr style=\"text-align: right;\">\n",
       "      <th></th>\n",
       "      <th>Already_Purchased_Items</th>\n",
       "      <th>Recommended_Items(ALS)</th>\n",
       "    </tr>\n",
       "  </thead>\n",
       "  <tbody>\n",
       "    <tr>\n",
       "      <th>0</th>\n",
       "      <td>Butter packing 125 gr - 300 gr</td>\n",
       "      <td>\"Medicinal mineral water \"</td>\n",
       "    </tr>\n",
       "    <tr>\n",
       "      <th>1</th>\n",
       "      <td>Pants</td>\n",
       "      <td>Bananas</td>\n",
       "    </tr>\n",
       "    <tr>\n",
       "      <th>2</th>\n",
       "      <td>\"Medicinal mineral water \"</td>\n",
       "      <td>\"Medicinal mineral water \"</td>\n",
       "    </tr>\n",
       "    <tr>\n",
       "      <th>3</th>\n",
       "      <td>\"Cables for mobile phones \"</td>\n",
       "      <td>Baguette, own production</td>\n",
       "    </tr>\n",
       "    <tr>\n",
       "      <th>4</th>\n",
       "      <td>\"Caviar imitation in branded package  \"</td>\n",
       "      <td>Premium and imported water</td>\n",
       "    </tr>\n",
       "    <tr>\n",
       "      <th>5</th>\n",
       "      <td>NaN</td>\n",
       "      <td>Cow sterilized milk (UHT) &lt;1 l</td>\n",
       "    </tr>\n",
       "    <tr>\n",
       "      <th>6</th>\n",
       "      <td>NaN</td>\n",
       "      <td>Bulb onion</td>\n",
       "    </tr>\n",
       "    <tr>\n",
       "      <th>7</th>\n",
       "      <td>NaN</td>\n",
       "      <td>\"Table and drinking still water \"</td>\n",
       "    </tr>\n",
       "    <tr>\n",
       "      <th>8</th>\n",
       "      <td>NaN</td>\n",
       "      <td>Wheat bread, own production</td>\n",
       "    </tr>\n",
       "    <tr>\n",
       "      <th>9</th>\n",
       "      <td>NaN</td>\n",
       "      <td>A loaf of wheat in sliced.</td>\n",
       "    </tr>\n",
       "  </tbody>\n",
       "</table>\n",
       "</div>"
      ],
      "text/plain": [
       "                   Already_Purchased_Items             Recommended_Items(ALS)\n",
       "0           Butter packing 125 gr - 300 gr         \"Medicinal mineral water \"\n",
       "1                                    Pants                            Bananas\n",
       "2               \"Medicinal mineral water \"         \"Medicinal mineral water \"\n",
       "3              \"Cables for mobile phones \"           Baguette, own production\n",
       "4  \"Caviar imitation in branded package  \"         Premium and imported water\n",
       "5                                      NaN     Cow sterilized milk (UHT) <1 l\n",
       "6                                      NaN                         Bulb onion\n",
       "7                                      NaN  \"Table and drinking still water \"\n",
       "8                                      NaN        Wheat bread, own production\n",
       "9                                      NaN         A loaf of wheat in sliced."
      ]
     },
     "execution_count": 151,
     "metadata": {},
     "output_type": "execute_result"
    }
   ],
   "source": [
    "get_recommended_items(83329160)[2]"
   ]
  },
  {
   "cell_type": "code",
   "execution_count": 150,
   "metadata": {
    "scrolled": true
   },
   "outputs": [
    {
     "name": "stdout",
     "output_type": "stream",
     "text": [
      "Recommendation for user_id: 83327390\n"
     ]
    },
    {
     "data": {
      "text/html": [
       "<div>\n",
       "<style scoped>\n",
       "    .dataframe tbody tr th:only-of-type {\n",
       "        vertical-align: middle;\n",
       "    }\n",
       "\n",
       "    .dataframe tbody tr th {\n",
       "        vertical-align: top;\n",
       "    }\n",
       "\n",
       "    .dataframe thead th {\n",
       "        text-align: right;\n",
       "    }\n",
       "</style>\n",
       "<table border=\"1\" class=\"dataframe\">\n",
       "  <thead>\n",
       "    <tr style=\"text-align: right;\">\n",
       "      <th></th>\n",
       "      <th>Already_Purchased_Items</th>\n",
       "      <th>Recommended_Items(ALS)</th>\n",
       "    </tr>\n",
       "  </thead>\n",
       "  <tbody>\n",
       "    <tr>\n",
       "      <th>0</th>\n",
       "      <td>Oatmeal cookies</td>\n",
       "      <td>Puff pastry treats</td>\n",
       "    </tr>\n",
       "    <tr>\n",
       "      <th>1</th>\n",
       "      <td>Bulk grapes</td>\n",
       "      <td>Puff pastry treats</td>\n",
       "    </tr>\n",
       "    <tr>\n",
       "      <th>2</th>\n",
       "      <td>\"Bulk apples \"</td>\n",
       "      <td>Puff pastry treats</td>\n",
       "    </tr>\n",
       "    <tr>\n",
       "      <th>3</th>\n",
       "      <td>Juices Tetra Pack  0,6-1,4 л. Other flavours</td>\n",
       "      <td>Puff pastry treats</td>\n",
       "    </tr>\n",
       "    <tr>\n",
       "      <th>4</th>\n",
       "      <td>\"Table and drinking still water \"</td>\n",
       "      <td>Puff pastry treats</td>\n",
       "    </tr>\n",
       "    <tr>\n",
       "      <th>5</th>\n",
       "      <td>Frankfurters in branded package</td>\n",
       "      <td>A loaf of wheat in sliced.</td>\n",
       "    </tr>\n",
       "    <tr>\n",
       "      <th>6</th>\n",
       "      <td>Flavoured black tea bags</td>\n",
       "      <td>Puff pastry treats</td>\n",
       "    </tr>\n",
       "    <tr>\n",
       "      <th>7</th>\n",
       "      <td>Fruit drink 0,6-1,4 l</td>\n",
       "      <td>\"Sweet dough treats with fruit and berry filli...</td>\n",
       "    </tr>\n",
       "    <tr>\n",
       "      <th>8</th>\n",
       "      <td>\"Fresh semi-finished products from cut poultry...</td>\n",
       "      <td>Other pastries</td>\n",
       "    </tr>\n",
       "    <tr>\n",
       "      <th>9</th>\n",
       "      <td>A loaf of wheat in sliced.</td>\n",
       "      <td>Puff pastry treats</td>\n",
       "    </tr>\n",
       "  </tbody>\n",
       "</table>\n",
       "</div>"
      ],
      "text/plain": [
       "                             Already_Purchased_Items  \\\n",
       "0                                    Oatmeal cookies   \n",
       "1                                        Bulk grapes   \n",
       "2                                     \"Bulk apples \"   \n",
       "3       Juices Tetra Pack  0,6-1,4 л. Other flavours   \n",
       "4                  \"Table and drinking still water \"   \n",
       "5                    Frankfurters in branded package   \n",
       "6                           Flavoured black tea bags   \n",
       "7                              Fruit drink 0,6-1,4 l   \n",
       "8  \"Fresh semi-finished products from cut poultry...   \n",
       "9                         A loaf of wheat in sliced.   \n",
       "\n",
       "                              Recommended_Items(ALS)  \n",
       "0                                 Puff pastry treats  \n",
       "1                                 Puff pastry treats  \n",
       "2                                 Puff pastry treats  \n",
       "3                                 Puff pastry treats  \n",
       "4                                 Puff pastry treats  \n",
       "5                         A loaf of wheat in sliced.  \n",
       "6                                 Puff pastry treats  \n",
       "7  \"Sweet dough treats with fruit and berry filli...  \n",
       "8                                     Other pastries  \n",
       "9                                 Puff pastry treats  "
      ]
     },
     "execution_count": 150,
     "metadata": {},
     "output_type": "execute_result"
    }
   ],
   "source": [
    "get_recommended_items(83327390)[2]"
   ]
  },
  {
   "cell_type": "code",
   "execution_count": 153,
   "metadata": {},
   "outputs": [
    {
     "name": "stdout",
     "output_type": "stream",
     "text": [
      "Recommendation for user_id: 83329286\n"
     ]
    },
    {
     "data": {
      "text/html": [
       "<div>\n",
       "<style scoped>\n",
       "    .dataframe tbody tr th:only-of-type {\n",
       "        vertical-align: middle;\n",
       "    }\n",
       "\n",
       "    .dataframe tbody tr th {\n",
       "        vertical-align: top;\n",
       "    }\n",
       "\n",
       "    .dataframe thead th {\n",
       "        text-align: right;\n",
       "    }\n",
       "</style>\n",
       "<table border=\"1\" class=\"dataframe\">\n",
       "  <thead>\n",
       "    <tr style=\"text-align: right;\">\n",
       "      <th></th>\n",
       "      <th>Already_Purchased_Items</th>\n",
       "      <th>Recommended_Items(ALS)</th>\n",
       "    </tr>\n",
       "  </thead>\n",
       "  <tbody>\n",
       "    <tr>\n",
       "      <th>0</th>\n",
       "      <td>Cow pasteurized milk  &lt;1 l</td>\n",
       "      <td>Bananas</td>\n",
       "    </tr>\n",
       "    <tr>\n",
       "      <th>1</th>\n",
       "      <td>Imported beer in can</td>\n",
       "      <td>Baguette, own production</td>\n",
       "    </tr>\n",
       "    <tr>\n",
       "      <th>2</th>\n",
       "      <td>Other oriental cuisine products</td>\n",
       "      <td>\"Table and drinking still water \"</td>\n",
       "    </tr>\n",
       "    <tr>\n",
       "      <th>3</th>\n",
       "      <td>Table and drinking water without gas 4l or more</td>\n",
       "      <td>Bulb onion</td>\n",
       "    </tr>\n",
       "    <tr>\n",
       "      <th>4</th>\n",
       "      <td>Contraceptives</td>\n",
       "      <td>Watermelons</td>\n",
       "    </tr>\n",
       "    <tr>\n",
       "      <th>5</th>\n",
       "      <td>\"Other fresh mushrooms \"</td>\n",
       "      <td>Cow sterilized milk (UHT) &lt;1 l</td>\n",
       "    </tr>\n",
       "    <tr>\n",
       "      <th>6</th>\n",
       "      <td>NaN</td>\n",
       "      <td>Wheat bread, own production</td>\n",
       "    </tr>\n",
       "    <tr>\n",
       "      <th>7</th>\n",
       "      <td>NaN</td>\n",
       "      <td>Premium and imported water</td>\n",
       "    </tr>\n",
       "    <tr>\n",
       "      <th>8</th>\n",
       "      <td>NaN</td>\n",
       "      <td>Cow sterilized milk (UHT) &lt;1 l</td>\n",
       "    </tr>\n",
       "    <tr>\n",
       "      <th>9</th>\n",
       "      <td>NaN</td>\n",
       "      <td>Cola-based lemonade</td>\n",
       "    </tr>\n",
       "  </tbody>\n",
       "</table>\n",
       "</div>"
      ],
      "text/plain": [
       "                           Already_Purchased_Items  \\\n",
       "0                       Cow pasteurized milk  <1 l   \n",
       "1                             Imported beer in can   \n",
       "2                  Other oriental cuisine products   \n",
       "3  Table and drinking water without gas 4l or more   \n",
       "4                                   Contraceptives   \n",
       "5                         \"Other fresh mushrooms \"   \n",
       "6                                              NaN   \n",
       "7                                              NaN   \n",
       "8                                              NaN   \n",
       "9                                              NaN   \n",
       "\n",
       "              Recommended_Items(ALS)  \n",
       "0                            Bananas  \n",
       "1           Baguette, own production  \n",
       "2  \"Table and drinking still water \"  \n",
       "3                         Bulb onion  \n",
       "4                        Watermelons  \n",
       "5     Cow sterilized milk (UHT) <1 l  \n",
       "6        Wheat bread, own production  \n",
       "7         Premium and imported water  \n",
       "8     Cow sterilized milk (UHT) <1 l  \n",
       "9                Cola-based lemonade  "
      ]
     },
     "execution_count": 153,
     "metadata": {},
     "output_type": "execute_result"
    }
   ],
   "source": [
    "get_recommended_items(83329286)[2]"
   ]
  },
  {
   "cell_type": "code",
   "execution_count": 152,
   "metadata": {
    "scrolled": false
   },
   "outputs": [
    {
     "name": "stdout",
     "output_type": "stream",
     "text": [
      "Recommendation for user_id: 10049978\n"
     ]
    },
    {
     "data": {
      "text/html": [
       "<div>\n",
       "<style scoped>\n",
       "    .dataframe tbody tr th:only-of-type {\n",
       "        vertical-align: middle;\n",
       "    }\n",
       "\n",
       "    .dataframe tbody tr th {\n",
       "        vertical-align: top;\n",
       "    }\n",
       "\n",
       "    .dataframe thead th {\n",
       "        text-align: right;\n",
       "    }\n",
       "</style>\n",
       "<table border=\"1\" class=\"dataframe\">\n",
       "  <thead>\n",
       "    <tr style=\"text-align: right;\">\n",
       "      <th></th>\n",
       "      <th>Already_Purchased_Items</th>\n",
       "      <th>Recommended_Items(ALS)</th>\n",
       "    </tr>\n",
       "  </thead>\n",
       "  <tbody>\n",
       "    <tr>\n",
       "      <th>0</th>\n",
       "      <td>Bananas</td>\n",
       "      <td>Premium and imported water</td>\n",
       "    </tr>\n",
       "    <tr>\n",
       "      <th>1</th>\n",
       "      <td>Condensed milk</td>\n",
       "      <td>Premium and imported water</td>\n",
       "    </tr>\n",
       "    <tr>\n",
       "      <th>2</th>\n",
       "      <td>Premium and imported water</td>\n",
       "      <td>Premium and imported water</td>\n",
       "    </tr>\n",
       "    <tr>\n",
       "      <th>3</th>\n",
       "      <td>Cashew</td>\n",
       "      <td>Premium and imported water</td>\n",
       "    </tr>\n",
       "    <tr>\n",
       "      <th>4</th>\n",
       "      <td>Grape seed oil</td>\n",
       "      <td>Premium and imported water</td>\n",
       "    </tr>\n",
       "    <tr>\n",
       "      <th>5</th>\n",
       "      <td>Olive oil Pomace</td>\n",
       "      <td>Cola-based lemonade</td>\n",
       "    </tr>\n",
       "    <tr>\n",
       "      <th>6</th>\n",
       "      <td>\"Russian brandy \"</td>\n",
       "      <td>Premium and imported water</td>\n",
       "    </tr>\n",
       "    <tr>\n",
       "      <th>7</th>\n",
       "      <td>Milk shakes cold storage</td>\n",
       "      <td>\"Table and drinking still water \"</td>\n",
       "    </tr>\n",
       "    <tr>\n",
       "      <th>8</th>\n",
       "      <td>NaN</td>\n",
       "      <td>\"Table and drinking still water \"</td>\n",
       "    </tr>\n",
       "    <tr>\n",
       "      <th>9</th>\n",
       "      <td>NaN</td>\n",
       "      <td>\"Medicinal mineral water \"</td>\n",
       "    </tr>\n",
       "  </tbody>\n",
       "</table>\n",
       "</div>"
      ],
      "text/plain": [
       "      Already_Purchased_Items             Recommended_Items(ALS)\n",
       "0                     Bananas         Premium and imported water\n",
       "1              Condensed milk         Premium and imported water\n",
       "2  Premium and imported water         Premium and imported water\n",
       "3                      Cashew         Premium and imported water\n",
       "4              Grape seed oil         Premium and imported water\n",
       "5            Olive oil Pomace                Cola-based lemonade\n",
       "6           \"Russian brandy \"         Premium and imported water\n",
       "7    Milk shakes cold storage  \"Table and drinking still water \"\n",
       "8                         NaN  \"Table and drinking still water \"\n",
       "9                         NaN         \"Medicinal mineral water \""
      ]
     },
     "execution_count": 152,
     "metadata": {},
     "output_type": "execute_result"
    }
   ],
   "source": [
    "get_recommended_items(10049978)[2]"
   ]
  },
  {
   "cell_type": "code",
   "execution_count": 127,
   "metadata": {},
   "outputs": [
    {
     "name": "stdout",
     "output_type": "stream",
     "text": [
      "Recommendation for user_id: 10011587\n"
     ]
    },
    {
     "data": {
      "text/html": [
       "<div>\n",
       "<style scoped>\n",
       "    .dataframe tbody tr th:only-of-type {\n",
       "        vertical-align: middle;\n",
       "    }\n",
       "\n",
       "    .dataframe tbody tr th {\n",
       "        vertical-align: top;\n",
       "    }\n",
       "\n",
       "    .dataframe thead th {\n",
       "        text-align: right;\n",
       "    }\n",
       "</style>\n",
       "<table border=\"1\" class=\"dataframe\">\n",
       "  <thead>\n",
       "    <tr style=\"text-align: right;\">\n",
       "      <th></th>\n",
       "      <th>Already_Purchased_Items</th>\n",
       "      <th>Recommended_Items(ALS)</th>\n",
       "    </tr>\n",
       "  </thead>\n",
       "  <tbody>\n",
       "    <tr>\n",
       "      <th>0</th>\n",
       "      <td>\"Sparkling white wine, brut, dry, semi-dry \"</td>\n",
       "      <td>Table and drinking water without gas 4l or more</td>\n",
       "    </tr>\n",
       "    <tr>\n",
       "      <th>1</th>\n",
       "      <td>Cow pasteurized milk  &lt;1 l</td>\n",
       "      <td>Imported beer in can</td>\n",
       "    </tr>\n",
       "    <tr>\n",
       "      <th>2</th>\n",
       "      <td>Oatmeal cookies</td>\n",
       "      <td>Table and drinking water without gas 4l or more</td>\n",
       "    </tr>\n",
       "    <tr>\n",
       "      <th>3</th>\n",
       "      <td>Oatmeal cookies</td>\n",
       "      <td>Gingerbread</td>\n",
       "    </tr>\n",
       "    <tr>\n",
       "      <th>4</th>\n",
       "      <td>NaN</td>\n",
       "      <td>Gingerbread</td>\n",
       "    </tr>\n",
       "    <tr>\n",
       "      <th>5</th>\n",
       "      <td>NaN</td>\n",
       "      <td>\"Medicinal mineral water \"</td>\n",
       "    </tr>\n",
       "    <tr>\n",
       "      <th>6</th>\n",
       "      <td>NaN</td>\n",
       "      <td>\"Medicinal mineral water \"</td>\n",
       "    </tr>\n",
       "    <tr>\n",
       "      <th>7</th>\n",
       "      <td>NaN</td>\n",
       "      <td>Oatmeal cookies</td>\n",
       "    </tr>\n",
       "    <tr>\n",
       "      <th>8</th>\n",
       "      <td>NaN</td>\n",
       "      <td>Oatmeal cookies</td>\n",
       "    </tr>\n",
       "    <tr>\n",
       "      <th>9</th>\n",
       "      <td>NaN</td>\n",
       "      <td>Imported beer in bottle</td>\n",
       "    </tr>\n",
       "  </tbody>\n",
       "</table>\n",
       "</div>"
      ],
      "text/plain": [
       "                        Already_Purchased_Items  \\\n",
       "0  \"Sparkling white wine, brut, dry, semi-dry \"   \n",
       "1                    Cow pasteurized milk  <1 l   \n",
       "2                               Oatmeal cookies   \n",
       "3                               Oatmeal cookies   \n",
       "4                                           NaN   \n",
       "5                                           NaN   \n",
       "6                                           NaN   \n",
       "7                                           NaN   \n",
       "8                                           NaN   \n",
       "9                                           NaN   \n",
       "\n",
       "                            Recommended_Items(ALS)  \n",
       "0  Table and drinking water without gas 4l or more  \n",
       "1                             Imported beer in can  \n",
       "2  Table and drinking water without gas 4l or more  \n",
       "3                                      Gingerbread  \n",
       "4                                      Gingerbread  \n",
       "5                       \"Medicinal mineral water \"  \n",
       "6                       \"Medicinal mineral water \"  \n",
       "7                                  Oatmeal cookies  \n",
       "8                                  Oatmeal cookies  \n",
       "9                          Imported beer in bottle  "
      ]
     },
     "execution_count": 127,
     "metadata": {},
     "output_type": "execute_result"
    }
   ],
   "source": [
    "get_recommended_items(10011587)[2]"
   ]
  },
  {
   "cell_type": "code",
   "execution_count": 128,
   "metadata": {
    "scrolled": true
   },
   "outputs": [
    {
     "name": "stdout",
     "output_type": "stream",
     "text": [
      "Recommendation for user_id: 10011935\n"
     ]
    },
    {
     "data": {
      "text/html": [
       "<div>\n",
       "<style scoped>\n",
       "    .dataframe tbody tr th:only-of-type {\n",
       "        vertical-align: middle;\n",
       "    }\n",
       "\n",
       "    .dataframe tbody tr th {\n",
       "        vertical-align: top;\n",
       "    }\n",
       "\n",
       "    .dataframe thead th {\n",
       "        text-align: right;\n",
       "    }\n",
       "</style>\n",
       "<table border=\"1\" class=\"dataframe\">\n",
       "  <thead>\n",
       "    <tr style=\"text-align: right;\">\n",
       "      <th></th>\n",
       "      <th>Already_Purchased_Items</th>\n",
       "      <th>Recommended_Items(ALS)</th>\n",
       "    </tr>\n",
       "  </thead>\n",
       "  <tbody>\n",
       "    <tr>\n",
       "      <th>0</th>\n",
       "      <td>Baking foil, sleeve</td>\n",
       "      <td>Spoonable yoghurts cold storage</td>\n",
       "    </tr>\n",
       "    <tr>\n",
       "      <th>1</th>\n",
       "      <td>\"Low-fat sterilized cream (below 15%) \"</td>\n",
       "      <td>One flower type bouquets</td>\n",
       "    </tr>\n",
       "    <tr>\n",
       "      <th>2</th>\n",
       "      <td>Bottled juice 0,6-1,4 l</td>\n",
       "      <td>\"Edam, Gouda, Tilsiter cheese sold by weight \"</td>\n",
       "    </tr>\n",
       "    <tr>\n",
       "      <th>3</th>\n",
       "      <td>Chicken eggs, more than 15  eggs</td>\n",
       "      <td>Fresh whole and cut turkey own product</td>\n",
       "    </tr>\n",
       "    <tr>\n",
       "      <th>4</th>\n",
       "      <td>Oatmeal cookies</td>\n",
       "      <td>Spoonable yoghurts cold storage</td>\n",
       "    </tr>\n",
       "    <tr>\n",
       "      <th>5</th>\n",
       "      <td>Oatmeal cookies</td>\n",
       "      <td>Classic mashmallow</td>\n",
       "    </tr>\n",
       "    <tr>\n",
       "      <th>6</th>\n",
       "      <td>\"Plastic construction toys \"</td>\n",
       "      <td>Fresh whole and cut turkey own product</td>\n",
       "    </tr>\n",
       "    <tr>\n",
       "      <th>7</th>\n",
       "      <td>Modelling sets</td>\n",
       "      <td>\"Natural curd, ? 5% fat  \"</td>\n",
       "    </tr>\n",
       "    <tr>\n",
       "      <th>8</th>\n",
       "      <td>Modelling sets</td>\n",
       "      <td>Curd rolls, snacks cold storage</td>\n",
       "    </tr>\n",
       "    <tr>\n",
       "      <th>9</th>\n",
       "      <td>Modelling sets</td>\n",
       "      <td>Spoonable yoghurts cold storage</td>\n",
       "    </tr>\n",
       "  </tbody>\n",
       "</table>\n",
       "</div>"
      ],
      "text/plain": [
       "                   Already_Purchased_Items  \\\n",
       "0                      Baking foil, sleeve   \n",
       "1  \"Low-fat sterilized cream (below 15%) \"   \n",
       "2                  Bottled juice 0,6-1,4 l   \n",
       "3         Chicken eggs, more than 15  eggs   \n",
       "4                          Oatmeal cookies   \n",
       "5                          Oatmeal cookies   \n",
       "6             \"Plastic construction toys \"   \n",
       "7                           Modelling sets   \n",
       "8                           Modelling sets   \n",
       "9                           Modelling sets   \n",
       "\n",
       "                           Recommended_Items(ALS)  \n",
       "0                 Spoonable yoghurts cold storage  \n",
       "1                        One flower type bouquets  \n",
       "2  \"Edam, Gouda, Tilsiter cheese sold by weight \"  \n",
       "3          Fresh whole and cut turkey own product  \n",
       "4                 Spoonable yoghurts cold storage  \n",
       "5                              Classic mashmallow  \n",
       "6          Fresh whole and cut turkey own product  \n",
       "7                      \"Natural curd, ? 5% fat  \"  \n",
       "8                 Curd rolls, snacks cold storage  \n",
       "9                 Spoonable yoghurts cold storage  "
      ]
     },
     "execution_count": 128,
     "metadata": {},
     "output_type": "execute_result"
    }
   ],
   "source": [
    "get_recommended_items(10011935)[2]  "
   ]
  },
  {
   "cell_type": "code",
   "execution_count": 129,
   "metadata": {},
   "outputs": [
    {
     "name": "stdout",
     "output_type": "stream",
     "text": [
      "Recommendation for user_id: 10036221\n"
     ]
    },
    {
     "data": {
      "text/html": [
       "<div>\n",
       "<style scoped>\n",
       "    .dataframe tbody tr th:only-of-type {\n",
       "        vertical-align: middle;\n",
       "    }\n",
       "\n",
       "    .dataframe tbody tr th {\n",
       "        vertical-align: top;\n",
       "    }\n",
       "\n",
       "    .dataframe thead th {\n",
       "        text-align: right;\n",
       "    }\n",
       "</style>\n",
       "<table border=\"1\" class=\"dataframe\">\n",
       "  <thead>\n",
       "    <tr style=\"text-align: right;\">\n",
       "      <th></th>\n",
       "      <th>Already_Purchased_Items</th>\n",
       "      <th>Recommended_Items(ALS)</th>\n",
       "    </tr>\n",
       "  </thead>\n",
       "  <tbody>\n",
       "    <tr>\n",
       "      <th>0</th>\n",
       "      <td>Cotton wool</td>\n",
       "      <td>\"Frozen one vegetable type mix, packaged \"</td>\n",
       "    </tr>\n",
       "    <tr>\n",
       "      <th>1</th>\n",
       "      <td>Cotton wool</td>\n",
       "      <td>Individual portion food for dogs (pouch)</td>\n",
       "    </tr>\n",
       "    <tr>\n",
       "      <th>2</th>\n",
       "      <td>Cotton wool</td>\n",
       "      <td>Individual portion food for dogs (pouch)</td>\n",
       "    </tr>\n",
       "    <tr>\n",
       "      <th>3</th>\n",
       "      <td>Washing detergent - capsules, tablets</td>\n",
       "      <td>Biokefir, kefir drinks</td>\n",
       "    </tr>\n",
       "    <tr>\n",
       "      <th>4</th>\n",
       "      <td>Washing detergent - capsules, tablets</td>\n",
       "      <td>\"Frozen one vegetable type mix, packaged \"</td>\n",
       "    </tr>\n",
       "    <tr>\n",
       "      <th>5</th>\n",
       "      <td>Fresh cut chicken in branded package</td>\n",
       "      <td>Cream yoghurt for children under 3 years</td>\n",
       "    </tr>\n",
       "    <tr>\n",
       "      <th>6</th>\n",
       "      <td>Fresh cut chicken in branded package</td>\n",
       "      <td>Biokefir, kefir drinks</td>\n",
       "    </tr>\n",
       "    <tr>\n",
       "      <th>7</th>\n",
       "      <td>Fresh cut chicken in branded package</td>\n",
       "      <td>Cream yoghurt for children under 3 years</td>\n",
       "    </tr>\n",
       "    <tr>\n",
       "      <th>8</th>\n",
       "      <td>Cut salmon, service</td>\n",
       "      <td>Ready-to-eat baby cereals</td>\n",
       "    </tr>\n",
       "    <tr>\n",
       "      <th>9</th>\n",
       "      <td>Cut salmon, service</td>\n",
       "      <td>Fresh whole and cut turkey own product</td>\n",
       "    </tr>\n",
       "  </tbody>\n",
       "</table>\n",
       "</div>"
      ],
      "text/plain": [
       "                 Already_Purchased_Items  \\\n",
       "0                            Cotton wool   \n",
       "1                            Cotton wool   \n",
       "2                            Cotton wool   \n",
       "3  Washing detergent - capsules, tablets   \n",
       "4  Washing detergent - capsules, tablets   \n",
       "5   Fresh cut chicken in branded package   \n",
       "6   Fresh cut chicken in branded package   \n",
       "7   Fresh cut chicken in branded package   \n",
       "8                    Cut salmon, service   \n",
       "9                    Cut salmon, service   \n",
       "\n",
       "                       Recommended_Items(ALS)  \n",
       "0  \"Frozen one vegetable type mix, packaged \"  \n",
       "1    Individual portion food for dogs (pouch)  \n",
       "2    Individual portion food for dogs (pouch)  \n",
       "3                      Biokefir, kefir drinks  \n",
       "4  \"Frozen one vegetable type mix, packaged \"  \n",
       "5    Cream yoghurt for children under 3 years  \n",
       "6                      Biokefir, kefir drinks  \n",
       "7    Cream yoghurt for children under 3 years  \n",
       "8                   Ready-to-eat baby cereals  \n",
       "9      Fresh whole and cut turkey own product  "
      ]
     },
     "execution_count": 129,
     "metadata": {},
     "output_type": "execute_result"
    }
   ],
   "source": [
    "get_recommended_items(10036221)[2]"
   ]
  },
  {
   "cell_type": "code",
   "execution_count": 26,
   "metadata": {},
   "outputs": [],
   "source": [
    "#                         ##get item already bought by a user '10049978'...\n",
    "# already_purchased2 = get_item_already_bought(10011587,train_set,customers_arr,items_arr,item_lookup)\n",
    "\n",
    "# rec_items2 = get_recommended_items(10011587, train_set,user_vecs, item_vecs, \n",
    "#                       customers_arr,items_arr, item_lookup,num_items = 5)\n",
    "\n",
    "# pd.DataFrame({'Purchased_Item':already_purchased2['ItemDescription'].values,\n",
    "#         'Recommended_items':rec_items2[:4]['ItemDescription'].values}) "
   ]
  },
  {
   "cell_type": "code",
   "execution_count": 15,
   "metadata": {},
   "outputs": [],
   "source": [
    "#                         ##get item already bought by a user '10049978'...\n",
    "# already_purchased3 = get_item_already_bought(10011935,train_set,customers_arr,items_arr,item_lookup)\n",
    "\n",
    "# rec_items3 = get_recommended_items(10011935, train_set,user_vecs, item_vecs, \n",
    "#                       customers_arr,items_arr, item_lookup,num_items = 10)\n",
    "\n",
    "# pd.DataFrame({'Purchased_Item':already_purchased3[:10]['ItemDescription'].values,\n",
    "#         'Recommended_items':rec_items3['ItemDescription'].values}) "
   ]
  }
 ],
 "metadata": {
  "kernelspec": {
   "display_name": "Python 3",
   "language": "python",
   "name": "python3"
  },
  "language_info": {
   "codemirror_mode": {
    "name": "ipython",
    "version": 3
   },
   "file_extension": ".py",
   "mimetype": "text/x-python",
   "name": "python",
   "nbconvert_exporter": "python",
   "pygments_lexer": "ipython3",
   "version": "3.7.4"
  }
 },
 "nbformat": 4,
 "nbformat_minor": 2
}
