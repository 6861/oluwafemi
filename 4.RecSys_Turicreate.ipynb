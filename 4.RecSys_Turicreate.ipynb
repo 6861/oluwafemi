{
 "cells": [
  {
   "cell_type": "code",
   "execution_count": null,
   "metadata": {},
   "outputs": [],
   "source": []
  },
  {
   "cell_type": "markdown",
   "metadata": {},
   "source": [
    "# Section 4 :  RecSys Model with TuriCreate\n",
    "\n",
    " - In this section, I will be working on an Item-based collaborative filtering using turicreate using the following sub-tasks;\n",
    " \n",
    "- Transforming and normalizing data\n",
    "\n",
    "\n",
    "- Training models\n",
    "\n",
    "  \n",
    "- Evaluating model performance\n",
    "\n",
    "  \n",
    "- Selecting the optimal model\n"
   ]
  },
  {
   "cell_type": "code",
   "execution_count": null,
   "metadata": {},
   "outputs": [],
   "source": []
  },
  {
   "cell_type": "code",
   "execution_count": 185,
   "metadata": {},
   "outputs": [],
   "source": [
    "import pandas as pd\n",
    "import numpy as np\n",
    "import matplotlib.pyplot as plt\n",
    "import seaborn as sns\n",
    "plt.style.use('fivethirtyeight')\n",
    "from pandas.api.types import CategoricalDtype\n",
    "import warnings\n",
    "warnings.filterwarnings('ignore')\n",
    "from IPython.display import clear_output\n",
    "#pd.options.plotting.backend = 'plotly'\n",
    "\n",
    "###################################################\n",
    "import random\n",
    "import scipy.sparse as sparse\n",
    "from pandas.api.types import CategoricalDtype\n",
    "from sklearn.preprocessing import MinMaxScaler\n",
    "from sklearn import metrics\n",
    "from sklearn.model_selection import train_test_split\n",
    "from scipy.sparse import coo_matrix\n",
    "from scipy.sparse.linalg import spsolve\n",
    "\n",
    "\n",
    "########################################################\n",
    "from itertools import islice\n",
    "from itertools import cycle\n",
    "#######################################################\n",
    "import turicreate as tc\n"
   ]
  },
  {
   "cell_type": "code",
   "execution_count": null,
   "metadata": {},
   "outputs": [],
   "source": []
  },
  {
   "cell_type": "code",
   "execution_count": null,
   "metadata": {},
   "outputs": [],
   "source": []
  },
  {
   "cell_type": "code",
   "execution_count": 3,
   "metadata": {},
   "outputs": [
    {
     "data": {
      "text/html": [
       "<div>\n",
       "<style scoped>\n",
       "    .dataframe tbody tr th:only-of-type {\n",
       "        vertical-align: middle;\n",
       "    }\n",
       "\n",
       "    .dataframe tbody tr th {\n",
       "        vertical-align: top;\n",
       "    }\n",
       "\n",
       "    .dataframe thead th {\n",
       "        text-align: right;\n",
       "    }\n",
       "</style>\n",
       "<table border=\"1\" class=\"dataframe\">\n",
       "  <thead>\n",
       "    <tr style=\"text-align: right;\">\n",
       "      <th></th>\n",
       "      <th>CardHolder</th>\n",
       "      <th>Material</th>\n",
       "      <th>SalesCount</th>\n",
       "      <th>ItemPrice</th>\n",
       "      <th>net_weight</th>\n",
       "      <th>SubCategorycode</th>\n",
       "      <th>ItemDescription</th>\n",
       "      <th>Class</th>\n",
       "      <th>rpa_wgh2</th>\n",
       "      <th>rpa_wgh2_SubClass</th>\n",
       "      <th>rpa_wgh3</th>\n",
       "      <th>rpa_wgh3_SubClass</th>\n",
       "      <th>vendor</th>\n",
       "    </tr>\n",
       "  </thead>\n",
       "  <tbody>\n",
       "    <tr>\n",
       "      <th>0</th>\n",
       "      <td>10008254</td>\n",
       "      <td>109900</td>\n",
       "      <td>3.0</td>\n",
       "      <td>20.97</td>\n",
       "      <td>23.0</td>\n",
       "      <td>401201</td>\n",
       "      <td>Lenta bags</td>\n",
       "      <td>NON FOOD</td>\n",
       "      <td>40.0</td>\n",
       "      <td>\"Household cleaning products \"</td>\n",
       "      <td>4012.0</td>\n",
       "      <td>Packaging and containers</td>\n",
       "      <td>100260.0</td>\n",
       "    </tr>\n",
       "    <tr>\n",
       "      <th>1</th>\n",
       "      <td>10011935</td>\n",
       "      <td>109900</td>\n",
       "      <td>1.0</td>\n",
       "      <td>6.49</td>\n",
       "      <td>23.0</td>\n",
       "      <td>401201</td>\n",
       "      <td>Lenta bags</td>\n",
       "      <td>NON FOOD</td>\n",
       "      <td>40.0</td>\n",
       "      <td>\"Household cleaning products \"</td>\n",
       "      <td>4012.0</td>\n",
       "      <td>Packaging and containers</td>\n",
       "      <td>100260.0</td>\n",
       "    </tr>\n",
       "    <tr>\n",
       "      <th>2</th>\n",
       "      <td>10036221</td>\n",
       "      <td>109900</td>\n",
       "      <td>3.0</td>\n",
       "      <td>19.47</td>\n",
       "      <td>23.0</td>\n",
       "      <td>401201</td>\n",
       "      <td>Lenta bags</td>\n",
       "      <td>NON FOOD</td>\n",
       "      <td>40.0</td>\n",
       "      <td>\"Household cleaning products \"</td>\n",
       "      <td>4012.0</td>\n",
       "      <td>Packaging and containers</td>\n",
       "      <td>100260.0</td>\n",
       "    </tr>\n",
       "    <tr>\n",
       "      <th>3</th>\n",
       "      <td>10036221</td>\n",
       "      <td>109900</td>\n",
       "      <td>2.0</td>\n",
       "      <td>12.98</td>\n",
       "      <td>23.0</td>\n",
       "      <td>401201</td>\n",
       "      <td>Lenta bags</td>\n",
       "      <td>NON FOOD</td>\n",
       "      <td>40.0</td>\n",
       "      <td>\"Household cleaning products \"</td>\n",
       "      <td>4012.0</td>\n",
       "      <td>Packaging and containers</td>\n",
       "      <td>100260.0</td>\n",
       "    </tr>\n",
       "    <tr>\n",
       "      <th>4</th>\n",
       "      <td>10036221</td>\n",
       "      <td>109900</td>\n",
       "      <td>4.0</td>\n",
       "      <td>25.96</td>\n",
       "      <td>23.0</td>\n",
       "      <td>401201</td>\n",
       "      <td>Lenta bags</td>\n",
       "      <td>NON FOOD</td>\n",
       "      <td>40.0</td>\n",
       "      <td>\"Household cleaning products \"</td>\n",
       "      <td>4012.0</td>\n",
       "      <td>Packaging and containers</td>\n",
       "      <td>100260.0</td>\n",
       "    </tr>\n",
       "  </tbody>\n",
       "</table>\n",
       "</div>"
      ],
      "text/plain": [
       "   CardHolder  Material  SalesCount  ItemPrice  net_weight  SubCategorycode  \\\n",
       "0    10008254    109900         3.0      20.97        23.0           401201   \n",
       "1    10011935    109900         1.0       6.49        23.0           401201   \n",
       "2    10036221    109900         3.0      19.47        23.0           401201   \n",
       "3    10036221    109900         2.0      12.98        23.0           401201   \n",
       "4    10036221    109900         4.0      25.96        23.0           401201   \n",
       "\n",
       "  ItemDescription     Class  rpa_wgh2               rpa_wgh2_SubClass  \\\n",
       "0      Lenta bags  NON FOOD      40.0  \"Household cleaning products \"   \n",
       "1      Lenta bags  NON FOOD      40.0  \"Household cleaning products \"   \n",
       "2      Lenta bags  NON FOOD      40.0  \"Household cleaning products \"   \n",
       "3      Lenta bags  NON FOOD      40.0  \"Household cleaning products \"   \n",
       "4      Lenta bags  NON FOOD      40.0  \"Household cleaning products \"   \n",
       "\n",
       "   rpa_wgh3         rpa_wgh3_SubClass    vendor  \n",
       "0    4012.0  Packaging and containers  100260.0  \n",
       "1    4012.0  Packaging and containers  100260.0  \n",
       "2    4012.0  Packaging and containers  100260.0  \n",
       "3    4012.0  Packaging and containers  100260.0  \n",
       "4    4012.0  Packaging and containers  100260.0  "
      ]
     },
     "execution_count": 3,
     "metadata": {},
     "output_type": "execute_result"
    }
   ],
   "source": [
    "recsys_df = pd.read_csv('Olaleke_Tasks/RecSys_df.csv')\n",
    "recsys_df.head()"
   ]
  },
  {
   "cell_type": "code",
   "execution_count": 4,
   "metadata": {},
   "outputs": [
    {
     "data": {
      "text/html": [
       "<div>\n",
       "<style scoped>\n",
       "    .dataframe tbody tr th:only-of-type {\n",
       "        vertical-align: middle;\n",
       "    }\n",
       "\n",
       "    .dataframe tbody tr th {\n",
       "        vertical-align: top;\n",
       "    }\n",
       "\n",
       "    .dataframe thead th {\n",
       "        text-align: right;\n",
       "    }\n",
       "</style>\n",
       "<table border=\"1\" class=\"dataframe\">\n",
       "  <thead>\n",
       "    <tr style=\"text-align: right;\">\n",
       "      <th></th>\n",
       "      <th>CardHolder</th>\n",
       "      <th>Material</th>\n",
       "      <th>SalesCount</th>\n",
       "      <th>ItemPrice</th>\n",
       "      <th>net_weight</th>\n",
       "      <th>SubCategorycode</th>\n",
       "      <th>ItemDescription</th>\n",
       "      <th>Class</th>\n",
       "      <th>rpa_wgh2</th>\n",
       "      <th>rpa_wgh2_SubClass</th>\n",
       "      <th>rpa_wgh3</th>\n",
       "      <th>rpa_wgh3_SubClass</th>\n",
       "      <th>vendor</th>\n",
       "    </tr>\n",
       "  </thead>\n",
       "  <tbody>\n",
       "    <tr>\n",
       "      <th>0</th>\n",
       "      <td>10008254</td>\n",
       "      <td>439630</td>\n",
       "      <td>1.0</td>\n",
       "      <td>169.99</td>\n",
       "      <td>500.0</td>\n",
       "      <td>420103</td>\n",
       "      <td>Dry dog food up to 800 gr</td>\n",
       "      <td>FOOD</td>\n",
       "      <td>42.0</td>\n",
       "      <td>Pet goods</td>\n",
       "      <td>4201.0</td>\n",
       "      <td>Goods for dogs</td>\n",
       "      <td>100410.0</td>\n",
       "    </tr>\n",
       "    <tr>\n",
       "      <th>1</th>\n",
       "      <td>14919617</td>\n",
       "      <td>439630</td>\n",
       "      <td>1.0</td>\n",
       "      <td>109.89</td>\n",
       "      <td>500.0</td>\n",
       "      <td>420103</td>\n",
       "      <td>Dry dog food up to 800 gr</td>\n",
       "      <td>FOOD</td>\n",
       "      <td>42.0</td>\n",
       "      <td>Pet goods</td>\n",
       "      <td>4201.0</td>\n",
       "      <td>Goods for dogs</td>\n",
       "      <td>100410.0</td>\n",
       "    </tr>\n",
       "    <tr>\n",
       "      <th>2</th>\n",
       "      <td>15041309</td>\n",
       "      <td>439630</td>\n",
       "      <td>1.0</td>\n",
       "      <td>169.99</td>\n",
       "      <td>500.0</td>\n",
       "      <td>420103</td>\n",
       "      <td>Dry dog food up to 800 gr</td>\n",
       "      <td>FOOD</td>\n",
       "      <td>42.0</td>\n",
       "      <td>Pet goods</td>\n",
       "      <td>4201.0</td>\n",
       "      <td>Goods for dogs</td>\n",
       "      <td>100410.0</td>\n",
       "    </tr>\n",
       "    <tr>\n",
       "      <th>3</th>\n",
       "      <td>15041309</td>\n",
       "      <td>439630</td>\n",
       "      <td>1.0</td>\n",
       "      <td>116.99</td>\n",
       "      <td>500.0</td>\n",
       "      <td>420103</td>\n",
       "      <td>Dry dog food up to 800 gr</td>\n",
       "      <td>FOOD</td>\n",
       "      <td>42.0</td>\n",
       "      <td>Pet goods</td>\n",
       "      <td>4201.0</td>\n",
       "      <td>Goods for dogs</td>\n",
       "      <td>100410.0</td>\n",
       "    </tr>\n",
       "    <tr>\n",
       "      <th>4</th>\n",
       "      <td>15041309</td>\n",
       "      <td>439630</td>\n",
       "      <td>1.0</td>\n",
       "      <td>152.14</td>\n",
       "      <td>500.0</td>\n",
       "      <td>420103</td>\n",
       "      <td>Dry dog food up to 800 gr</td>\n",
       "      <td>FOOD</td>\n",
       "      <td>42.0</td>\n",
       "      <td>Pet goods</td>\n",
       "      <td>4201.0</td>\n",
       "      <td>Goods for dogs</td>\n",
       "      <td>100410.0</td>\n",
       "    </tr>\n",
       "  </tbody>\n",
       "</table>\n",
       "</div>"
      ],
      "text/plain": [
       "   CardHolder  Material  SalesCount  ItemPrice  net_weight  SubCategorycode  \\\n",
       "0    10008254    439630         1.0     169.99       500.0           420103   \n",
       "1    14919617    439630         1.0     109.89       500.0           420103   \n",
       "2    15041309    439630         1.0     169.99       500.0           420103   \n",
       "3    15041309    439630         1.0     116.99       500.0           420103   \n",
       "4    15041309    439630         1.0     152.14       500.0           420103   \n",
       "\n",
       "             ItemDescription Class  rpa_wgh2 rpa_wgh2_SubClass  rpa_wgh3  \\\n",
       "0  Dry dog food up to 800 gr  FOOD      42.0         Pet goods    4201.0   \n",
       "1  Dry dog food up to 800 gr  FOOD      42.0         Pet goods    4201.0   \n",
       "2  Dry dog food up to 800 gr  FOOD      42.0         Pet goods    4201.0   \n",
       "3  Dry dog food up to 800 gr  FOOD      42.0         Pet goods    4201.0   \n",
       "4  Dry dog food up to 800 gr  FOOD      42.0         Pet goods    4201.0   \n",
       "\n",
       "  rpa_wgh3_SubClass    vendor  \n",
       "0    Goods for dogs  100410.0  \n",
       "1    Goods for dogs  100410.0  \n",
       "2    Goods for dogs  100410.0  \n",
       "3    Goods for dogs  100410.0  \n",
       "4    Goods for dogs  100410.0  "
      ]
     },
     "execution_count": 4,
     "metadata": {},
     "output_type": "execute_result"
    }
   ],
   "source": [
    "No_lentabag_df = pd.read_csv('Olaleke_Tasks/No_lentabag.csv')\n",
    "No_lentabag_df.head()"
   ]
  },
  {
   "cell_type": "code",
   "execution_count": 187,
   "metadata": {},
   "outputs": [],
   "source": [
    "#No_lentabag_df.head()"
   ]
  },
  {
   "cell_type": "markdown",
   "metadata": {},
   "source": [
    "## Creating Different Data Transformation form for Training\n",
    "\n",
    "- 1.Data set with quantity of items boought    \n"
   ]
  },
  {
   "cell_type": "code",
   "execution_count": 6,
   "metadata": {},
   "outputs": [
    {
     "data": {
      "text/html": [
       "<div>\n",
       "<style scoped>\n",
       "    .dataframe tbody tr th:only-of-type {\n",
       "        vertical-align: middle;\n",
       "    }\n",
       "\n",
       "    .dataframe tbody tr th {\n",
       "        vertical-align: top;\n",
       "    }\n",
       "\n",
       "    .dataframe thead th {\n",
       "        text-align: right;\n",
       "    }\n",
       "</style>\n",
       "<table border=\"1\" class=\"dataframe\">\n",
       "  <thead>\n",
       "    <tr style=\"text-align: right;\">\n",
       "      <th></th>\n",
       "      <th>CardHolder</th>\n",
       "      <th>Material</th>\n",
       "      <th>SalesCount</th>\n",
       "    </tr>\n",
       "  </thead>\n",
       "  <tbody>\n",
       "    <tr>\n",
       "      <th>0</th>\n",
       "      <td>10008254</td>\n",
       "      <td>4135</td>\n",
       "      <td>2.0</td>\n",
       "    </tr>\n",
       "    <tr>\n",
       "      <th>1</th>\n",
       "      <td>10008254</td>\n",
       "      <td>5383</td>\n",
       "      <td>2.0</td>\n",
       "    </tr>\n",
       "    <tr>\n",
       "      <th>2</th>\n",
       "      <td>10008254</td>\n",
       "      <td>5880</td>\n",
       "      <td>2.0</td>\n",
       "    </tr>\n",
       "    <tr>\n",
       "      <th>3</th>\n",
       "      <td>10008254</td>\n",
       "      <td>78790</td>\n",
       "      <td>2.0</td>\n",
       "    </tr>\n",
       "    <tr>\n",
       "      <th>4</th>\n",
       "      <td>10008254</td>\n",
       "      <td>81107</td>\n",
       "      <td>1.0</td>\n",
       "    </tr>\n",
       "  </tbody>\n",
       "</table>\n",
       "</div>"
      ],
      "text/plain": [
       "   CardHolder  Material  SalesCount\n",
       "0    10008254      4135         2.0\n",
       "1    10008254      5383         2.0\n",
       "2    10008254      5880         2.0\n",
       "3    10008254     78790         2.0\n",
       "4    10008254     81107         1.0"
      ]
     },
     "execution_count": 6,
     "metadata": {},
     "output_type": "execute_result"
    }
   ],
   "source": [
    "user_item_df = pd.read_csv('Olaleke_Tasks/user_item_nonbag.csv')\n",
    "user_item_df.head()"
   ]
  },
  {
   "cell_type": "code",
   "execution_count": 7,
   "metadata": {},
   "outputs": [],
   "source": [
    "df = user_item_df"
   ]
  },
  {
   "cell_type": "code",
   "execution_count": 8,
   "metadata": {},
   "outputs": [
    {
     "data": {
      "text/html": [
       "<div>\n",
       "<style scoped>\n",
       "    .dataframe tbody tr th:only-of-type {\n",
       "        vertical-align: middle;\n",
       "    }\n",
       "\n",
       "    .dataframe tbody tr th {\n",
       "        vertical-align: top;\n",
       "    }\n",
       "\n",
       "    .dataframe thead th {\n",
       "        text-align: right;\n",
       "    }\n",
       "</style>\n",
       "<table border=\"1\" class=\"dataframe\">\n",
       "  <thead>\n",
       "    <tr style=\"text-align: right;\">\n",
       "      <th></th>\n",
       "      <th>Material</th>\n",
       "      <th>ItemDescription</th>\n",
       "    </tr>\n",
       "  </thead>\n",
       "  <tbody>\n",
       "    <tr>\n",
       "      <th>0</th>\n",
       "      <td>439630</td>\n",
       "      <td>Dry dog food up to 800 gr</td>\n",
       "    </tr>\n",
       "    <tr>\n",
       "      <th>1</th>\n",
       "      <td>338329</td>\n",
       "      <td>Dry dog food up to 800 gr</td>\n",
       "    </tr>\n",
       "    <tr>\n",
       "      <th>2</th>\n",
       "      <td>338283</td>\n",
       "      <td>Dry dog food up to 800 gr</td>\n",
       "    </tr>\n",
       "    <tr>\n",
       "      <th>3</th>\n",
       "      <td>338287</td>\n",
       "      <td>Dry dog food up to 800 gr</td>\n",
       "    </tr>\n",
       "    <tr>\n",
       "      <th>4</th>\n",
       "      <td>513215</td>\n",
       "      <td>Dry dog food up to 800 gr</td>\n",
       "    </tr>\n",
       "  </tbody>\n",
       "</table>\n",
       "</div>"
      ],
      "text/plain": [
       "   Material            ItemDescription\n",
       "0    439630  Dry dog food up to 800 gr\n",
       "1    338329  Dry dog food up to 800 gr\n",
       "2    338283  Dry dog food up to 800 gr\n",
       "3    338287  Dry dog food up to 800 gr\n",
       "4    513215  Dry dog food up to 800 gr"
      ]
     },
     "execution_count": 8,
     "metadata": {},
     "output_type": "execute_result"
    }
   ],
   "source": [
    "item_lookup = pd.read_csv('Olaleke_Tasks/item_lookup_nonbag.csv')\n",
    "item_lookup.head()"
   ]
  },
  {
   "cell_type": "code",
   "execution_count": null,
   "metadata": {},
   "outputs": [],
   "source": []
  },
  {
   "cell_type": "code",
   "execution_count": null,
   "metadata": {},
   "outputs": [],
   "source": []
  },
  {
   "cell_type": "markdown",
   "metadata": {},
   "source": [
    "- 2.Data set with \"purchase mask\" that tells if a customers bought an item or not"
   ]
  },
  {
   "cell_type": "code",
   "execution_count": 9,
   "metadata": {},
   "outputs": [
    {
     "data": {
      "text/html": [
       "<div>\n",
       "<style scoped>\n",
       "    .dataframe tbody tr th:only-of-type {\n",
       "        vertical-align: middle;\n",
       "    }\n",
       "\n",
       "    .dataframe tbody tr th {\n",
       "        vertical-align: top;\n",
       "    }\n",
       "\n",
       "    .dataframe thead th {\n",
       "        text-align: right;\n",
       "    }\n",
       "</style>\n",
       "<table border=\"1\" class=\"dataframe\">\n",
       "  <thead>\n",
       "    <tr style=\"text-align: right;\">\n",
       "      <th></th>\n",
       "      <th>CardHolder</th>\n",
       "      <th>Material</th>\n",
       "      <th>SalesCount</th>\n",
       "      <th>purchase_or_not_purpchase</th>\n",
       "    </tr>\n",
       "  </thead>\n",
       "  <tbody>\n",
       "    <tr>\n",
       "      <th>0</th>\n",
       "      <td>10008254</td>\n",
       "      <td>4135</td>\n",
       "      <td>2.0</td>\n",
       "      <td>1</td>\n",
       "    </tr>\n",
       "    <tr>\n",
       "      <th>1</th>\n",
       "      <td>10008254</td>\n",
       "      <td>5383</td>\n",
       "      <td>2.0</td>\n",
       "      <td>1</td>\n",
       "    </tr>\n",
       "    <tr>\n",
       "      <th>2</th>\n",
       "      <td>10008254</td>\n",
       "      <td>5880</td>\n",
       "      <td>2.0</td>\n",
       "      <td>1</td>\n",
       "    </tr>\n",
       "    <tr>\n",
       "      <th>3</th>\n",
       "      <td>10008254</td>\n",
       "      <td>78790</td>\n",
       "      <td>2.0</td>\n",
       "      <td>1</td>\n",
       "    </tr>\n",
       "    <tr>\n",
       "      <th>4</th>\n",
       "      <td>10008254</td>\n",
       "      <td>81107</td>\n",
       "      <td>1.0</td>\n",
       "      <td>1</td>\n",
       "    </tr>\n",
       "  </tbody>\n",
       "</table>\n",
       "</div>"
      ],
      "text/plain": [
       "   CardHolder  Material  SalesCount  purchase_or_not_purpchase\n",
       "0    10008254      4135         2.0                          1\n",
       "1    10008254      5383         2.0                          1\n",
       "2    10008254      5880         2.0                          1\n",
       "3    10008254     78790         2.0                          1\n",
       "4    10008254     81107         1.0                          1"
      ]
     },
     "execution_count": 9,
     "metadata": {},
     "output_type": "execute_result"
    }
   ],
   "source": [
    "            #Data form that only tells if a customers bought an item or not             \n",
    "            #...same number of rows as before, we only added a new column...\n",
    "def purchase_mask(df):\n",
    "    df_dummy = df.copy()\n",
    "    df_dummy['purchase_or_not_purpchase'] = 1\n",
    "    return df_dummy\n",
    "\n",
    "df_purchase_mask = purchase_mask(df)\n",
    "df_purchase_mask.head()"
   ]
  },
  {
   "cell_type": "code",
   "execution_count": null,
   "metadata": {},
   "outputs": [],
   "source": []
  },
  {
   "cell_type": "code",
   "execution_count": null,
   "metadata": {},
   "outputs": [],
   "source": []
  },
  {
   "cell_type": "markdown",
   "metadata": {},
   "source": [
    "\n",
    "- 3.Data with normalized items (by purchase frequency) across all users;\n",
    "\n",
    "\n",
    "    - To do this, we normalize purchase frequency of each item across users bu creating a user-item matrix\n",
    "    "
   ]
  },
  {
   "cell_type": "code",
   "execution_count": 266,
   "metadata": {},
   "outputs": [
    {
     "name": "stdout",
     "output_type": "stream",
     "text": [
      "(86497, 58320)\n"
     ]
    },
    {
     "data": {
      "text/html": [
       "<div>\n",
       "<style scoped>\n",
       "    .dataframe tbody tr th:only-of-type {\n",
       "        vertical-align: middle;\n",
       "    }\n",
       "\n",
       "    .dataframe tbody tr th {\n",
       "        vertical-align: top;\n",
       "    }\n",
       "\n",
       "    .dataframe thead th {\n",
       "        text-align: right;\n",
       "    }\n",
       "</style>\n",
       "<table border=\"1\" class=\"dataframe\">\n",
       "  <thead>\n",
       "    <tr style=\"text-align: right;\">\n",
       "      <th>Material</th>\n",
       "      <th>21</th>\n",
       "      <th>85</th>\n",
       "      <th>94</th>\n",
       "      <th>602</th>\n",
       "      <th>613</th>\n",
       "      <th>616</th>\n",
       "      <th>627</th>\n",
       "      <th>655</th>\n",
       "      <th>684</th>\n",
       "      <th>729</th>\n",
       "      <th>...</th>\n",
       "      <th>532164</th>\n",
       "      <th>532198</th>\n",
       "      <th>532204</th>\n",
       "      <th>532225</th>\n",
       "      <th>532249</th>\n",
       "      <th>532250</th>\n",
       "      <th>532251</th>\n",
       "      <th>532291</th>\n",
       "      <th>532292</th>\n",
       "      <th>532293</th>\n",
       "    </tr>\n",
       "    <tr>\n",
       "      <th>CardHolder</th>\n",
       "      <th></th>\n",
       "      <th></th>\n",
       "      <th></th>\n",
       "      <th></th>\n",
       "      <th></th>\n",
       "      <th></th>\n",
       "      <th></th>\n",
       "      <th></th>\n",
       "      <th></th>\n",
       "      <th></th>\n",
       "      <th></th>\n",
       "      <th></th>\n",
       "      <th></th>\n",
       "      <th></th>\n",
       "      <th></th>\n",
       "      <th></th>\n",
       "      <th></th>\n",
       "      <th></th>\n",
       "      <th></th>\n",
       "      <th></th>\n",
       "      <th></th>\n",
       "    </tr>\n",
       "  </thead>\n",
       "  <tbody>\n",
       "    <tr>\n",
       "      <th>10008254</th>\n",
       "      <td>NaN</td>\n",
       "      <td>NaN</td>\n",
       "      <td>NaN</td>\n",
       "      <td>NaN</td>\n",
       "      <td>NaN</td>\n",
       "      <td>NaN</td>\n",
       "      <td>NaN</td>\n",
       "      <td>NaN</td>\n",
       "      <td>NaN</td>\n",
       "      <td>NaN</td>\n",
       "      <td>...</td>\n",
       "      <td>NaN</td>\n",
       "      <td>NaN</td>\n",
       "      <td>NaN</td>\n",
       "      <td>NaN</td>\n",
       "      <td>NaN</td>\n",
       "      <td>NaN</td>\n",
       "      <td>NaN</td>\n",
       "      <td>NaN</td>\n",
       "      <td>NaN</td>\n",
       "      <td>NaN</td>\n",
       "    </tr>\n",
       "    <tr>\n",
       "      <th>10011587</th>\n",
       "      <td>NaN</td>\n",
       "      <td>NaN</td>\n",
       "      <td>NaN</td>\n",
       "      <td>NaN</td>\n",
       "      <td>NaN</td>\n",
       "      <td>NaN</td>\n",
       "      <td>NaN</td>\n",
       "      <td>NaN</td>\n",
       "      <td>NaN</td>\n",
       "      <td>NaN</td>\n",
       "      <td>...</td>\n",
       "      <td>NaN</td>\n",
       "      <td>NaN</td>\n",
       "      <td>NaN</td>\n",
       "      <td>NaN</td>\n",
       "      <td>NaN</td>\n",
       "      <td>NaN</td>\n",
       "      <td>NaN</td>\n",
       "      <td>NaN</td>\n",
       "      <td>NaN</td>\n",
       "      <td>NaN</td>\n",
       "    </tr>\n",
       "    <tr>\n",
       "      <th>10011935</th>\n",
       "      <td>NaN</td>\n",
       "      <td>NaN</td>\n",
       "      <td>NaN</td>\n",
       "      <td>NaN</td>\n",
       "      <td>NaN</td>\n",
       "      <td>NaN</td>\n",
       "      <td>NaN</td>\n",
       "      <td>NaN</td>\n",
       "      <td>NaN</td>\n",
       "      <td>NaN</td>\n",
       "      <td>...</td>\n",
       "      <td>NaN</td>\n",
       "      <td>NaN</td>\n",
       "      <td>NaN</td>\n",
       "      <td>NaN</td>\n",
       "      <td>NaN</td>\n",
       "      <td>NaN</td>\n",
       "      <td>NaN</td>\n",
       "      <td>NaN</td>\n",
       "      <td>NaN</td>\n",
       "      <td>NaN</td>\n",
       "    </tr>\n",
       "    <tr>\n",
       "      <th>10036221</th>\n",
       "      <td>NaN</td>\n",
       "      <td>NaN</td>\n",
       "      <td>NaN</td>\n",
       "      <td>NaN</td>\n",
       "      <td>NaN</td>\n",
       "      <td>NaN</td>\n",
       "      <td>NaN</td>\n",
       "      <td>NaN</td>\n",
       "      <td>NaN</td>\n",
       "      <td>NaN</td>\n",
       "      <td>...</td>\n",
       "      <td>NaN</td>\n",
       "      <td>NaN</td>\n",
       "      <td>NaN</td>\n",
       "      <td>NaN</td>\n",
       "      <td>NaN</td>\n",
       "      <td>NaN</td>\n",
       "      <td>NaN</td>\n",
       "      <td>NaN</td>\n",
       "      <td>NaN</td>\n",
       "      <td>NaN</td>\n",
       "    </tr>\n",
       "    <tr>\n",
       "      <th>10049978</th>\n",
       "      <td>NaN</td>\n",
       "      <td>NaN</td>\n",
       "      <td>NaN</td>\n",
       "      <td>NaN</td>\n",
       "      <td>NaN</td>\n",
       "      <td>NaN</td>\n",
       "      <td>NaN</td>\n",
       "      <td>NaN</td>\n",
       "      <td>NaN</td>\n",
       "      <td>NaN</td>\n",
       "      <td>...</td>\n",
       "      <td>NaN</td>\n",
       "      <td>NaN</td>\n",
       "      <td>NaN</td>\n",
       "      <td>NaN</td>\n",
       "      <td>NaN</td>\n",
       "      <td>NaN</td>\n",
       "      <td>NaN</td>\n",
       "      <td>NaN</td>\n",
       "      <td>NaN</td>\n",
       "      <td>NaN</td>\n",
       "    </tr>\n",
       "  </tbody>\n",
       "</table>\n",
       "<p>5 rows × 58320 columns</p>\n",
       "</div>"
      ],
      "text/plain": [
       "Material    21      85      94      602     613     616     627     655     \\\n",
       "CardHolder                                                                   \n",
       "10008254       NaN     NaN     NaN     NaN     NaN     NaN     NaN     NaN   \n",
       "10011587       NaN     NaN     NaN     NaN     NaN     NaN     NaN     NaN   \n",
       "10011935       NaN     NaN     NaN     NaN     NaN     NaN     NaN     NaN   \n",
       "10036221       NaN     NaN     NaN     NaN     NaN     NaN     NaN     NaN   \n",
       "10049978       NaN     NaN     NaN     NaN     NaN     NaN     NaN     NaN   \n",
       "\n",
       "Material    684     729     ...  532164  532198  532204  532225  532249  \\\n",
       "CardHolder                  ...                                           \n",
       "10008254       NaN     NaN  ...     NaN     NaN     NaN     NaN     NaN   \n",
       "10011587       NaN     NaN  ...     NaN     NaN     NaN     NaN     NaN   \n",
       "10011935       NaN     NaN  ...     NaN     NaN     NaN     NaN     NaN   \n",
       "10036221       NaN     NaN  ...     NaN     NaN     NaN     NaN     NaN   \n",
       "10049978       NaN     NaN  ...     NaN     NaN     NaN     NaN     NaN   \n",
       "\n",
       "Material    532250  532251  532291  532292  532293  \n",
       "CardHolder                                          \n",
       "10008254       NaN     NaN     NaN     NaN     NaN  \n",
       "10011587       NaN     NaN     NaN     NaN     NaN  \n",
       "10011935       NaN     NaN     NaN     NaN     NaN  \n",
       "10036221       NaN     NaN     NaN     NaN     NaN  \n",
       "10049978       NaN     NaN     NaN     NaN     NaN  \n",
       "\n",
       "[5 rows x 58320 columns]"
      ]
     },
     "execution_count": 266,
     "metadata": {},
     "output_type": "execute_result"
    }
   ],
   "source": [
    "                           #for each user.....\n",
    "                           #we have a matrix with the number of item quantitis as matrix values \n",
    "df_matrix = pd.pivot_table(df,values='SalesCount',\n",
    "                              index='CardHolder',\n",
    "                              columns = 'Material')\n",
    "      \n",
    "                          #normalization of the df_matrix \n",
    "df_matrix_norm = (df_matrix-df_matrix.min())/(df_matrix.max() - df_matrix.min())\n",
    "print(df_matrix_norm.shape)\n",
    "df_matrix_norm.head()    "
   ]
  },
  {
   "cell_type": "code",
   "execution_count": 267,
   "metadata": {},
   "outputs": [],
   "source": [
    "df_norm_purchase = df_matrix_norm.reset_index()\n",
    "df_norm_purchase.index_names = ['scaled_purchase_freq']"
   ]
  },
  {
   "cell_type": "code",
   "execution_count": null,
   "metadata": {},
   "outputs": [],
   "source": [
    "df_norm_purchase = pd.melt(df_norm_purchase,\n",
    "                       id_vars=['CardHolder'],\n",
    "                       value_name = 'scaled_purchase_freq').dropna()\n",
    "\n",
    "print(df_norm_purchase.shape)\n",
    "df_norm_purchase.head()                             "
   ]
  },
  {
   "cell_type": "code",
   "execution_count": 12,
   "metadata": {},
   "outputs": [],
   "source": [
    "df_norm_purchase.to_csv('scaled_purchase_freq.csv', index=False)"
   ]
  },
  {
   "cell_type": "code",
   "execution_count": null,
   "metadata": {},
   "outputs": [],
   "source": []
  },
  {
   "cell_type": "code",
   "execution_count": null,
   "metadata": {},
   "outputs": [],
   "source": []
  },
  {
   "cell_type": "code",
   "execution_count": 10,
   "metadata": {},
   "outputs": [],
   "source": [
    "          #splitting datasets to train and test set :                                       \n",
    "def split_data(df):\n",
    "    train,test = train_test_split(df,test_size=0.2)\n",
    "    train_data = tc.SFrame(train)\n",
    "    test_data = tc.SFrame(test)\n",
    "    return train_data,test_data\n",
    "\n",
    "               \n",
    "#train_df_norm,test_df_norm = split_data(df_norm_purchase)\n",
    "df_purchase_mask_tr,df_purchase_mask_ts = split_data(df_purchase_mask)\n",
    "user_item_tr,user_item_ts = split_data(user_item_df)"
   ]
  },
  {
   "cell_type": "code",
   "execution_count": 40,
   "metadata": {},
   "outputs": [
    {
     "data": {
      "text/html": [
       "<div style=\"max-height:1000px;max-width:1500px;overflow:auto;\"><table frame=\"box\" rules=\"cols\">\n",
       "    <tr>\n",
       "        <th style=\"padding-left: 1em; padding-right: 1em; text-align: center\">CardHolder</th>\n",
       "        <th style=\"padding-left: 1em; padding-right: 1em; text-align: center\">Material</th>\n",
       "        <th style=\"padding-left: 1em; padding-right: 1em; text-align: center\">scaled_purchase_freq</th>\n",
       "    </tr>\n",
       "    <tr>\n",
       "        <td style=\"padding-left: 1em; padding-right: 1em; text-align: center; vertical-align: top\">82732233</td>\n",
       "        <td style=\"padding-left: 1em; padding-right: 1em; text-align: center; vertical-align: top\">500016</td>\n",
       "        <td style=\"padding-left: 1em; padding-right: 1em; text-align: center; vertical-align: top\">0.0</td>\n",
       "    </tr>\n",
       "    <tr>\n",
       "        <td style=\"padding-left: 1em; padding-right: 1em; text-align: center; vertical-align: top\">82790682</td>\n",
       "        <td style=\"padding-left: 1em; padding-right: 1em; text-align: center; vertical-align: top\">428426</td>\n",
       "        <td style=\"padding-left: 1em; padding-right: 1em; text-align: center; vertical-align: top\">0.0</td>\n",
       "    </tr>\n",
       "    <tr>\n",
       "        <td style=\"padding-left: 1em; padding-right: 1em; text-align: center; vertical-align: top\">82908725</td>\n",
       "        <td style=\"padding-left: 1em; padding-right: 1em; text-align: center; vertical-align: top\">69267</td>\n",
       "        <td style=\"padding-left: 1em; padding-right: 1em; text-align: center; vertical-align: top\">0.038461538461538464</td>\n",
       "    </tr>\n",
       "    <tr>\n",
       "        <td style=\"padding-left: 1em; padding-right: 1em; text-align: center; vertical-align: top\">82731316</td>\n",
       "        <td style=\"padding-left: 1em; padding-right: 1em; text-align: center; vertical-align: top\">9845</td>\n",
       "        <td style=\"padding-left: 1em; padding-right: 1em; text-align: center; vertical-align: top\">0.0007861635220125787</td>\n",
       "    </tr>\n",
       "    <tr>\n",
       "        <td style=\"padding-left: 1em; padding-right: 1em; text-align: center; vertical-align: top\">61137360</td>\n",
       "        <td style=\"padding-left: 1em; padding-right: 1em; text-align: center; vertical-align: top\">498712</td>\n",
       "        <td style=\"padding-left: 1em; padding-right: 1em; text-align: center; vertical-align: top\">0.0</td>\n",
       "    </tr>\n",
       "    <tr>\n",
       "        <td style=\"padding-left: 1em; padding-right: 1em; text-align: center; vertical-align: top\">82959680</td>\n",
       "        <td style=\"padding-left: 1em; padding-right: 1em; text-align: center; vertical-align: top\">41422</td>\n",
       "        <td style=\"padding-left: 1em; padding-right: 1em; text-align: center; vertical-align: top\">0.0015878914828203652</td>\n",
       "    </tr>\n",
       "    <tr>\n",
       "        <td style=\"padding-left: 1em; padding-right: 1em; text-align: center; vertical-align: top\">59145723</td>\n",
       "        <td style=\"padding-left: 1em; padding-right: 1em; text-align: center; vertical-align: top\">338232</td>\n",
       "        <td style=\"padding-left: 1em; padding-right: 1em; text-align: center; vertical-align: top\">0.02631578947368421</td>\n",
       "    </tr>\n",
       "    <tr>\n",
       "        <td style=\"padding-left: 1em; padding-right: 1em; text-align: center; vertical-align: top\">48815084</td>\n",
       "        <td style=\"padding-left: 1em; padding-right: 1em; text-align: center; vertical-align: top\">345118</td>\n",
       "        <td style=\"padding-left: 1em; padding-right: 1em; text-align: center; vertical-align: top\">0.0</td>\n",
       "    </tr>\n",
       "    <tr>\n",
       "        <td style=\"padding-left: 1em; padding-right: 1em; text-align: center; vertical-align: top\">82790063</td>\n",
       "        <td style=\"padding-left: 1em; padding-right: 1em; text-align: center; vertical-align: top\">427309</td>\n",
       "        <td style=\"padding-left: 1em; padding-right: 1em; text-align: center; vertical-align: top\">0.0</td>\n",
       "    </tr>\n",
       "    <tr>\n",
       "        <td style=\"padding-left: 1em; padding-right: 1em; text-align: center; vertical-align: top\">82733361</td>\n",
       "        <td style=\"padding-left: 1em; padding-right: 1em; text-align: center; vertical-align: top\">11230</td>\n",
       "        <td style=\"padding-left: 1em; padding-right: 1em; text-align: center; vertical-align: top\">0.0001300483470606588</td>\n",
       "    </tr>\n",
       "</table>\n",
       "[12216951 rows x 3 columns]<br/>Note: Only the head of the SFrame is printed.<br/>You can use print_rows(num_rows=m, num_columns=n) to print more rows and columns.\n",
       "</div>"
      ],
      "text/plain": [
       "Columns:\n",
       "\tCardHolder\tint\n",
       "\tMaterial\tint\n",
       "\tscaled_purchase_freq\tfloat\n",
       "\n",
       "Rows: 12216951\n",
       "\n",
       "Data:\n",
       "+------------+----------+-----------------------+\n",
       "| CardHolder | Material |  scaled_purchase_freq |\n",
       "+------------+----------+-----------------------+\n",
       "|  82732233  |  500016  |          0.0          |\n",
       "|  82790682  |  428426  |          0.0          |\n",
       "|  82908725  |  69267   |  0.038461538461538464 |\n",
       "|  82731316  |   9845   | 0.0007861635220125787 |\n",
       "|  61137360  |  498712  |          0.0          |\n",
       "|  82959680  |  41422   | 0.0015878914828203652 |\n",
       "|  59145723  |  338232  |  0.02631578947368421  |\n",
       "|  48815084  |  345118  |          0.0          |\n",
       "|  82790063  |  427309  |          0.0          |\n",
       "|  82733361  |  11230   | 0.0001300483470606588 |\n",
       "+------------+----------+-----------------------+\n",
       "[12216951 rows x 3 columns]\n",
       "Note: Only the head of the SFrame is printed.\n",
       "You can use print_rows(num_rows=m, num_columns=n) to print more rows and columns."
      ]
     },
     "execution_count": 40,
     "metadata": {},
     "output_type": "execute_result"
    }
   ],
   "source": [
    "train_df_norm"
   ]
  },
  {
   "cell_type": "code",
   "execution_count": null,
   "metadata": {},
   "outputs": [],
   "source": []
  },
  {
   "cell_type": "markdown",
   "metadata": {},
   "source": [
    "## Creating Diferent Turicreate Model Prototypes "
   ]
  },
  {
   "cell_type": "code",
   "execution_count": null,
   "metadata": {},
   "outputs": [],
   "source": [
    "                #"
   ]
  },
  {
   "cell_type": "code",
   "execution_count": 133,
   "metadata": {},
   "outputs": [],
   "source": [
    "            #defining functions for model selection...\n",
    "def model_selection(train_data,model_name,user_id,item_id,target,\n",
    "                    users_to_recommend,n_rec=5,item_lookup=item_lookup,n_display=30):\n",
    "    if model_name == 'popularity':\n",
    "        model = tc.popularity_recommender.create(\n",
    "                                      train_data,\n",
    "                                      user_id = user_id,\n",
    "                                      item_id = item_id,\n",
    "                                      target= target)\n",
    "    elif model_name == 'cosine':               #model based on item similarity using 'COSINE'\n",
    "        model = tc.item_similarity_recommender.create(\n",
    "                                      train_data,\n",
    "                                      user_id = user_id,\n",
    "                                      item_id = item_id,\n",
    "                                      target= target,\n",
    "                                      similarity_type = 'cosine')  \n",
    "    elif model_name == 'pearson':               #model based on item similarity using 'PEARSON'\n",
    "        model = tc.item_similarity_recommender.create(\n",
    "                                      train_data,\n",
    "                                      user_id = user_id,\n",
    "                                      item_id = item_id,\n",
    "                                      target= target,\n",
    "                                      similarity_type = 'pearson')  \n",
    "\n",
    "    elif model_name == 'jaccard':           #model based on item similarity using 'JACCARD'\n",
    "        model = tc.item_similarity_recommender.create(\n",
    "                                      train_data,\n",
    "                                      user_id = user_id,\n",
    "                                      item_id = item_id,\n",
    "                                      target= target,\n",
    "                                      similarity_type = 'jaccard')\n",
    "    \n",
    "                                            #making recommendation based on the the most popular items....\n",
    "    recommendation = model.recommend(users = users_to_recommend,k = n_rec)\n",
    "    clear_output()\n",
    "    #recommendation.print_rows(n_display)\n",
    "    \n",
    "    rec_df  =  recommendation.to_dataframe()\n",
    "    material_id = list(rec_df['Material'].unique()) \n",
    "    get_item = item_lookup.loc[item_lookup['Material'].isin(material_id)]\n",
    "    get_item = get_item.reset_index(drop=True)\n",
    "    \n",
    "    rec_items = pd.merge(rec_df,get_item,\n",
    "                        on='Material',how='left')  #preserve the sort order from rec_sample if preserved by \"how='left' \"\n",
    "    rec_items = rec_items[['CardHolder','Material','ItemDescription','score','rank']]\n",
    "    \n",
    "    return model,rec_items"
   ]
  },
  {
   "cell_type": "code",
   "execution_count": null,
   "metadata": {},
   "outputs": [],
   "source": []
  },
  {
   "cell_type": "markdown",
   "metadata": {},
   "source": [
    "\n",
    "### Popularity Model\n",
    "\n",
    "- Using the Popularity model as a baseline:\n",
    "\n",
    "      \n",
    "    - This takes the most popular items for recommendations\n",
    "    \n",
    "    - these items are the product with the highest number of sells across the customers\n",
    "  "
   ]
  },
  {
   "cell_type": "code",
   "execution_count": null,
   "metadata": {},
   "outputs": [],
   "source": []
  },
  {
   "cell_type": "markdown",
   "metadata": {},
   "source": [
    "- Popularity Model based on Quantity of items"
   ]
  },
  {
   "cell_type": "code",
   "execution_count": 164,
   "metadata": {},
   "outputs": [],
   "source": [
    "        #Popularity Model based on Quantity of items  \n",
    "user_id = 'CardHolder'\n",
    "item_id = 'Material'\n",
    "target =  'SalesCount'\n",
    "users_to_recommend = list(user_item_df[user_id].unique())\n",
    "n_rec = 10                    #..number of items to recommend\n",
    "n_display = 30                #..num of rows to display     "
   ]
  },
  {
   "cell_type": "code",
   "execution_count": 110,
   "metadata": {},
   "outputs": [
    {
     "data": {
      "text/plain": [
       "86497"
      ]
     },
     "execution_count": 110,
     "metadata": {},
     "output_type": "execute_result"
    }
   ],
   "source": [
    "len(users_to_recommend)"
   ]
  },
  {
   "cell_type": "code",
   "execution_count": 111,
   "metadata": {},
   "outputs": [
    {
     "data": {
      "text/html": [
       "<div>\n",
       "<style scoped>\n",
       "    .dataframe tbody tr th:only-of-type {\n",
       "        vertical-align: middle;\n",
       "    }\n",
       "\n",
       "    .dataframe tbody tr th {\n",
       "        vertical-align: top;\n",
       "    }\n",
       "\n",
       "    .dataframe thead th {\n",
       "        text-align: right;\n",
       "    }\n",
       "</style>\n",
       "<table border=\"1\" class=\"dataframe\">\n",
       "  <thead>\n",
       "    <tr style=\"text-align: right;\">\n",
       "      <th></th>\n",
       "      <th>CardHolder</th>\n",
       "      <th>Material</th>\n",
       "      <th>ItemDescription</th>\n",
       "      <th>score</th>\n",
       "      <th>rank</th>\n",
       "    </tr>\n",
       "  </thead>\n",
       "  <tbody>\n",
       "    <tr>\n",
       "      <th>0</th>\n",
       "      <td>10008254</td>\n",
       "      <td>512637</td>\n",
       "      <td>\"Non-alcohol beer \"</td>\n",
       "      <td>48.000000</td>\n",
       "      <td>1</td>\n",
       "    </tr>\n",
       "    <tr>\n",
       "      <th>1</th>\n",
       "      <td>10008254</td>\n",
       "      <td>161810</td>\n",
       "      <td>Premium and imported water</td>\n",
       "      <td>39.000000</td>\n",
       "      <td>2</td>\n",
       "    </tr>\n",
       "    <tr>\n",
       "      <th>2</th>\n",
       "      <td>10008254</td>\n",
       "      <td>378667</td>\n",
       "      <td>Individual portion food (pouch)</td>\n",
       "      <td>20.854093</td>\n",
       "      <td>3</td>\n",
       "    </tr>\n",
       "    <tr>\n",
       "      <th>3</th>\n",
       "      <td>10008254</td>\n",
       "      <td>529747</td>\n",
       "      <td>Other long-term storage seasonal products</td>\n",
       "      <td>17.500000</td>\n",
       "      <td>4</td>\n",
       "    </tr>\n",
       "    <tr>\n",
       "      <th>4</th>\n",
       "      <td>10008254</td>\n",
       "      <td>482424</td>\n",
       "      <td>Licensed beer in can</td>\n",
       "      <td>16.506130</td>\n",
       "      <td>5</td>\n",
       "    </tr>\n",
       "    <tr>\n",
       "      <th>5</th>\n",
       "      <td>10011587</td>\n",
       "      <td>512637</td>\n",
       "      <td>\"Non-alcohol beer \"</td>\n",
       "      <td>48.000000</td>\n",
       "      <td>1</td>\n",
       "    </tr>\n",
       "    <tr>\n",
       "      <th>6</th>\n",
       "      <td>10011587</td>\n",
       "      <td>161810</td>\n",
       "      <td>Premium and imported water</td>\n",
       "      <td>39.000000</td>\n",
       "      <td>2</td>\n",
       "    </tr>\n",
       "    <tr>\n",
       "      <th>7</th>\n",
       "      <td>10011587</td>\n",
       "      <td>378667</td>\n",
       "      <td>Individual portion food (pouch)</td>\n",
       "      <td>20.854093</td>\n",
       "      <td>3</td>\n",
       "    </tr>\n",
       "    <tr>\n",
       "      <th>8</th>\n",
       "      <td>10011587</td>\n",
       "      <td>529747</td>\n",
       "      <td>Other long-term storage seasonal products</td>\n",
       "      <td>17.500000</td>\n",
       "      <td>4</td>\n",
       "    </tr>\n",
       "    <tr>\n",
       "      <th>9</th>\n",
       "      <td>10011587</td>\n",
       "      <td>482424</td>\n",
       "      <td>Licensed beer in can</td>\n",
       "      <td>16.506130</td>\n",
       "      <td>5</td>\n",
       "    </tr>\n",
       "    <tr>\n",
       "      <th>10</th>\n",
       "      <td>10011935</td>\n",
       "      <td>512637</td>\n",
       "      <td>\"Non-alcohol beer \"</td>\n",
       "      <td>48.000000</td>\n",
       "      <td>1</td>\n",
       "    </tr>\n",
       "    <tr>\n",
       "      <th>11</th>\n",
       "      <td>10011935</td>\n",
       "      <td>161810</td>\n",
       "      <td>Premium and imported water</td>\n",
       "      <td>39.000000</td>\n",
       "      <td>2</td>\n",
       "    </tr>\n",
       "    <tr>\n",
       "      <th>12</th>\n",
       "      <td>10011935</td>\n",
       "      <td>378667</td>\n",
       "      <td>Individual portion food (pouch)</td>\n",
       "      <td>20.854093</td>\n",
       "      <td>3</td>\n",
       "    </tr>\n",
       "    <tr>\n",
       "      <th>13</th>\n",
       "      <td>10011935</td>\n",
       "      <td>529747</td>\n",
       "      <td>Other long-term storage seasonal products</td>\n",
       "      <td>17.500000</td>\n",
       "      <td>4</td>\n",
       "    </tr>\n",
       "    <tr>\n",
       "      <th>14</th>\n",
       "      <td>10011935</td>\n",
       "      <td>482424</td>\n",
       "      <td>Licensed beer in can</td>\n",
       "      <td>16.506130</td>\n",
       "      <td>5</td>\n",
       "    </tr>\n",
       "    <tr>\n",
       "      <th>15</th>\n",
       "      <td>10036221</td>\n",
       "      <td>512637</td>\n",
       "      <td>\"Non-alcohol beer \"</td>\n",
       "      <td>48.000000</td>\n",
       "      <td>1</td>\n",
       "    </tr>\n",
       "    <tr>\n",
       "      <th>16</th>\n",
       "      <td>10036221</td>\n",
       "      <td>161810</td>\n",
       "      <td>Premium and imported water</td>\n",
       "      <td>39.000000</td>\n",
       "      <td>2</td>\n",
       "    </tr>\n",
       "    <tr>\n",
       "      <th>17</th>\n",
       "      <td>10036221</td>\n",
       "      <td>378667</td>\n",
       "      <td>Individual portion food (pouch)</td>\n",
       "      <td>20.854093</td>\n",
       "      <td>3</td>\n",
       "    </tr>\n",
       "    <tr>\n",
       "      <th>18</th>\n",
       "      <td>10036221</td>\n",
       "      <td>529747</td>\n",
       "      <td>Other long-term storage seasonal products</td>\n",
       "      <td>17.500000</td>\n",
       "      <td>4</td>\n",
       "    </tr>\n",
       "    <tr>\n",
       "      <th>19</th>\n",
       "      <td>10036221</td>\n",
       "      <td>482424</td>\n",
       "      <td>Licensed beer in can</td>\n",
       "      <td>16.506130</td>\n",
       "      <td>5</td>\n",
       "    </tr>\n",
       "    <tr>\n",
       "      <th>20</th>\n",
       "      <td>10049978</td>\n",
       "      <td>512637</td>\n",
       "      <td>\"Non-alcohol beer \"</td>\n",
       "      <td>48.000000</td>\n",
       "      <td>1</td>\n",
       "    </tr>\n",
       "    <tr>\n",
       "      <th>21</th>\n",
       "      <td>10049978</td>\n",
       "      <td>161810</td>\n",
       "      <td>Premium and imported water</td>\n",
       "      <td>39.000000</td>\n",
       "      <td>2</td>\n",
       "    </tr>\n",
       "    <tr>\n",
       "      <th>22</th>\n",
       "      <td>10049978</td>\n",
       "      <td>378667</td>\n",
       "      <td>Individual portion food (pouch)</td>\n",
       "      <td>20.854093</td>\n",
       "      <td>3</td>\n",
       "    </tr>\n",
       "    <tr>\n",
       "      <th>23</th>\n",
       "      <td>10049978</td>\n",
       "      <td>529747</td>\n",
       "      <td>Other long-term storage seasonal products</td>\n",
       "      <td>17.500000</td>\n",
       "      <td>4</td>\n",
       "    </tr>\n",
       "    <tr>\n",
       "      <th>24</th>\n",
       "      <td>10049978</td>\n",
       "      <td>482424</td>\n",
       "      <td>Licensed beer in can</td>\n",
       "      <td>16.506130</td>\n",
       "      <td>5</td>\n",
       "    </tr>\n",
       "    <tr>\n",
       "      <th>25</th>\n",
       "      <td>10050032</td>\n",
       "      <td>512637</td>\n",
       "      <td>\"Non-alcohol beer \"</td>\n",
       "      <td>48.000000</td>\n",
       "      <td>1</td>\n",
       "    </tr>\n",
       "    <tr>\n",
       "      <th>26</th>\n",
       "      <td>10050032</td>\n",
       "      <td>161810</td>\n",
       "      <td>Premium and imported water</td>\n",
       "      <td>39.000000</td>\n",
       "      <td>2</td>\n",
       "    </tr>\n",
       "    <tr>\n",
       "      <th>27</th>\n",
       "      <td>10050032</td>\n",
       "      <td>378667</td>\n",
       "      <td>Individual portion food (pouch)</td>\n",
       "      <td>20.854093</td>\n",
       "      <td>3</td>\n",
       "    </tr>\n",
       "    <tr>\n",
       "      <th>28</th>\n",
       "      <td>10050032</td>\n",
       "      <td>529747</td>\n",
       "      <td>Other long-term storage seasonal products</td>\n",
       "      <td>17.500000</td>\n",
       "      <td>4</td>\n",
       "    </tr>\n",
       "    <tr>\n",
       "      <th>29</th>\n",
       "      <td>10050032</td>\n",
       "      <td>482424</td>\n",
       "      <td>Licensed beer in can</td>\n",
       "      <td>16.506130</td>\n",
       "      <td>5</td>\n",
       "    </tr>\n",
       "  </tbody>\n",
       "</table>\n",
       "</div>"
      ],
      "text/plain": [
       "    CardHolder  Material                            ItemDescription  \\\n",
       "0     10008254    512637                        \"Non-alcohol beer \"   \n",
       "1     10008254    161810                 Premium and imported water   \n",
       "2     10008254    378667            Individual portion food (pouch)   \n",
       "3     10008254    529747  Other long-term storage seasonal products   \n",
       "4     10008254    482424                       Licensed beer in can   \n",
       "5     10011587    512637                        \"Non-alcohol beer \"   \n",
       "6     10011587    161810                 Premium and imported water   \n",
       "7     10011587    378667            Individual portion food (pouch)   \n",
       "8     10011587    529747  Other long-term storage seasonal products   \n",
       "9     10011587    482424                       Licensed beer in can   \n",
       "10    10011935    512637                        \"Non-alcohol beer \"   \n",
       "11    10011935    161810                 Premium and imported water   \n",
       "12    10011935    378667            Individual portion food (pouch)   \n",
       "13    10011935    529747  Other long-term storage seasonal products   \n",
       "14    10011935    482424                       Licensed beer in can   \n",
       "15    10036221    512637                        \"Non-alcohol beer \"   \n",
       "16    10036221    161810                 Premium and imported water   \n",
       "17    10036221    378667            Individual portion food (pouch)   \n",
       "18    10036221    529747  Other long-term storage seasonal products   \n",
       "19    10036221    482424                       Licensed beer in can   \n",
       "20    10049978    512637                        \"Non-alcohol beer \"   \n",
       "21    10049978    161810                 Premium and imported water   \n",
       "22    10049978    378667            Individual portion food (pouch)   \n",
       "23    10049978    529747  Other long-term storage seasonal products   \n",
       "24    10049978    482424                       Licensed beer in can   \n",
       "25    10050032    512637                        \"Non-alcohol beer \"   \n",
       "26    10050032    161810                 Premium and imported water   \n",
       "27    10050032    378667            Individual portion food (pouch)   \n",
       "28    10050032    529747  Other long-term storage seasonal products   \n",
       "29    10050032    482424                       Licensed beer in can   \n",
       "\n",
       "        score  rank  \n",
       "0   48.000000     1  \n",
       "1   39.000000     2  \n",
       "2   20.854093     3  \n",
       "3   17.500000     4  \n",
       "4   16.506130     5  \n",
       "5   48.000000     1  \n",
       "6   39.000000     2  \n",
       "7   20.854093     3  \n",
       "8   17.500000     4  \n",
       "9   16.506130     5  \n",
       "10  48.000000     1  \n",
       "11  39.000000     2  \n",
       "12  20.854093     3  \n",
       "13  17.500000     4  \n",
       "14  16.506130     5  \n",
       "15  48.000000     1  \n",
       "16  39.000000     2  \n",
       "17  20.854093     3  \n",
       "18  17.500000     4  \n",
       "19  16.506130     5  \n",
       "20  48.000000     1  \n",
       "21  39.000000     2  \n",
       "22  20.854093     3  \n",
       "23  17.500000     4  \n",
       "24  16.506130     5  \n",
       "25  48.000000     1  \n",
       "26  39.000000     2  \n",
       "27  20.854093     3  \n",
       "28  17.500000     4  \n",
       "29  16.506130     5  "
      ]
     },
     "execution_count": 111,
     "metadata": {},
     "output_type": "execute_result"
    }
   ],
   "source": [
    "\n",
    "            ##testing model...\n",
    "            ##popularity model...\n",
    "model_name = 'popularity'\n",
    "target = 'SalesCount'\n",
    "popularity_model_qqt, pop_qqt_rec = model_selection(user_item_tr,model_name,user_id,item_id, target,users_to_recommend)\n",
    "pop_qqt_rec[:n_display]"
   ]
  },
  {
   "cell_type": "code",
   "execution_count": null,
   "metadata": {},
   "outputs": [],
   "source": []
  },
  {
   "cell_type": "code",
   "execution_count": 165,
   "metadata": {},
   "outputs": [
    {
     "data": {
      "text/html": [
       "<div>\n",
       "<style scoped>\n",
       "    .dataframe tbody tr th:only-of-type {\n",
       "        vertical-align: middle;\n",
       "    }\n",
       "\n",
       "    .dataframe tbody tr th {\n",
       "        vertical-align: top;\n",
       "    }\n",
       "\n",
       "    .dataframe thead th {\n",
       "        text-align: right;\n",
       "    }\n",
       "</style>\n",
       "<table border=\"1\" class=\"dataframe\">\n",
       "  <thead>\n",
       "    <tr style=\"text-align: right;\">\n",
       "      <th></th>\n",
       "      <th>CardHolder</th>\n",
       "      <th>Material</th>\n",
       "      <th>ItemDescription</th>\n",
       "      <th>score</th>\n",
       "      <th>rank</th>\n",
       "    </tr>\n",
       "  </thead>\n",
       "  <tbody>\n",
       "    <tr>\n",
       "      <th>0</th>\n",
       "      <td>10008254</td>\n",
       "      <td>8048</td>\n",
       "      <td>Baking foil, sleeve</td>\n",
       "      <td>1.0</td>\n",
       "      <td>1</td>\n",
       "    </tr>\n",
       "    <tr>\n",
       "      <th>1</th>\n",
       "      <td>10008254</td>\n",
       "      <td>387938</td>\n",
       "      <td>\"Flavoured green tea bags \"</td>\n",
       "      <td>1.0</td>\n",
       "      <td>2</td>\n",
       "    </tr>\n",
       "    <tr>\n",
       "      <th>2</th>\n",
       "      <td>10008254</td>\n",
       "      <td>302231</td>\n",
       "      <td>Fish and meat snacks</td>\n",
       "      <td>1.0</td>\n",
       "      <td>3</td>\n",
       "    </tr>\n",
       "    <tr>\n",
       "      <th>3</th>\n",
       "      <td>10008254</td>\n",
       "      <td>438448</td>\n",
       "      <td>\"Milk chocolate bars \"</td>\n",
       "      <td>1.0</td>\n",
       "      <td>4</td>\n",
       "    </tr>\n",
       "    <tr>\n",
       "      <th>4</th>\n",
       "      <td>10008254</td>\n",
       "      <td>139201</td>\n",
       "      <td>Chicken eggs,  9-15  eggs</td>\n",
       "      <td>1.0</td>\n",
       "      <td>5</td>\n",
       "    </tr>\n",
       "    <tr>\n",
       "      <th>5</th>\n",
       "      <td>10011587</td>\n",
       "      <td>8048</td>\n",
       "      <td>Baking foil, sleeve</td>\n",
       "      <td>1.0</td>\n",
       "      <td>1</td>\n",
       "    </tr>\n",
       "    <tr>\n",
       "      <th>6</th>\n",
       "      <td>10011587</td>\n",
       "      <td>387938</td>\n",
       "      <td>\"Flavoured green tea bags \"</td>\n",
       "      <td>1.0</td>\n",
       "      <td>2</td>\n",
       "    </tr>\n",
       "    <tr>\n",
       "      <th>7</th>\n",
       "      <td>10011587</td>\n",
       "      <td>302231</td>\n",
       "      <td>Fish and meat snacks</td>\n",
       "      <td>1.0</td>\n",
       "      <td>3</td>\n",
       "    </tr>\n",
       "    <tr>\n",
       "      <th>8</th>\n",
       "      <td>10011587</td>\n",
       "      <td>438448</td>\n",
       "      <td>\"Milk chocolate bars \"</td>\n",
       "      <td>1.0</td>\n",
       "      <td>4</td>\n",
       "    </tr>\n",
       "    <tr>\n",
       "      <th>9</th>\n",
       "      <td>10011587</td>\n",
       "      <td>139201</td>\n",
       "      <td>Chicken eggs,  9-15  eggs</td>\n",
       "      <td>1.0</td>\n",
       "      <td>5</td>\n",
       "    </tr>\n",
       "    <tr>\n",
       "      <th>10</th>\n",
       "      <td>10011935</td>\n",
       "      <td>8048</td>\n",
       "      <td>Baking foil, sleeve</td>\n",
       "      <td>1.0</td>\n",
       "      <td>1</td>\n",
       "    </tr>\n",
       "    <tr>\n",
       "      <th>11</th>\n",
       "      <td>10011935</td>\n",
       "      <td>387938</td>\n",
       "      <td>\"Flavoured green tea bags \"</td>\n",
       "      <td>1.0</td>\n",
       "      <td>2</td>\n",
       "    </tr>\n",
       "    <tr>\n",
       "      <th>12</th>\n",
       "      <td>10011935</td>\n",
       "      <td>302231</td>\n",
       "      <td>Fish and meat snacks</td>\n",
       "      <td>1.0</td>\n",
       "      <td>3</td>\n",
       "    </tr>\n",
       "    <tr>\n",
       "      <th>13</th>\n",
       "      <td>10011935</td>\n",
       "      <td>438448</td>\n",
       "      <td>\"Milk chocolate bars \"</td>\n",
       "      <td>1.0</td>\n",
       "      <td>4</td>\n",
       "    </tr>\n",
       "    <tr>\n",
       "      <th>14</th>\n",
       "      <td>10011935</td>\n",
       "      <td>139201</td>\n",
       "      <td>Chicken eggs,  9-15  eggs</td>\n",
       "      <td>1.0</td>\n",
       "      <td>5</td>\n",
       "    </tr>\n",
       "    <tr>\n",
       "      <th>15</th>\n",
       "      <td>10036221</td>\n",
       "      <td>8048</td>\n",
       "      <td>Baking foil, sleeve</td>\n",
       "      <td>1.0</td>\n",
       "      <td>1</td>\n",
       "    </tr>\n",
       "    <tr>\n",
       "      <th>16</th>\n",
       "      <td>10036221</td>\n",
       "      <td>387938</td>\n",
       "      <td>\"Flavoured green tea bags \"</td>\n",
       "      <td>1.0</td>\n",
       "      <td>2</td>\n",
       "    </tr>\n",
       "    <tr>\n",
       "      <th>17</th>\n",
       "      <td>10036221</td>\n",
       "      <td>302231</td>\n",
       "      <td>Fish and meat snacks</td>\n",
       "      <td>1.0</td>\n",
       "      <td>3</td>\n",
       "    </tr>\n",
       "    <tr>\n",
       "      <th>18</th>\n",
       "      <td>10036221</td>\n",
       "      <td>438448</td>\n",
       "      <td>\"Milk chocolate bars \"</td>\n",
       "      <td>1.0</td>\n",
       "      <td>4</td>\n",
       "    </tr>\n",
       "    <tr>\n",
       "      <th>19</th>\n",
       "      <td>10036221</td>\n",
       "      <td>139201</td>\n",
       "      <td>Chicken eggs,  9-15  eggs</td>\n",
       "      <td>1.0</td>\n",
       "      <td>5</td>\n",
       "    </tr>\n",
       "    <tr>\n",
       "      <th>20</th>\n",
       "      <td>10049978</td>\n",
       "      <td>8048</td>\n",
       "      <td>Baking foil, sleeve</td>\n",
       "      <td>1.0</td>\n",
       "      <td>1</td>\n",
       "    </tr>\n",
       "    <tr>\n",
       "      <th>21</th>\n",
       "      <td>10049978</td>\n",
       "      <td>387938</td>\n",
       "      <td>\"Flavoured green tea bags \"</td>\n",
       "      <td>1.0</td>\n",
       "      <td>2</td>\n",
       "    </tr>\n",
       "    <tr>\n",
       "      <th>22</th>\n",
       "      <td>10049978</td>\n",
       "      <td>302231</td>\n",
       "      <td>Fish and meat snacks</td>\n",
       "      <td>1.0</td>\n",
       "      <td>3</td>\n",
       "    </tr>\n",
       "    <tr>\n",
       "      <th>23</th>\n",
       "      <td>10049978</td>\n",
       "      <td>438448</td>\n",
       "      <td>\"Milk chocolate bars \"</td>\n",
       "      <td>1.0</td>\n",
       "      <td>4</td>\n",
       "    </tr>\n",
       "    <tr>\n",
       "      <th>24</th>\n",
       "      <td>10049978</td>\n",
       "      <td>139201</td>\n",
       "      <td>Chicken eggs,  9-15  eggs</td>\n",
       "      <td>1.0</td>\n",
       "      <td>5</td>\n",
       "    </tr>\n",
       "    <tr>\n",
       "      <th>25</th>\n",
       "      <td>10050032</td>\n",
       "      <td>8048</td>\n",
       "      <td>Baking foil, sleeve</td>\n",
       "      <td>1.0</td>\n",
       "      <td>1</td>\n",
       "    </tr>\n",
       "    <tr>\n",
       "      <th>26</th>\n",
       "      <td>10050032</td>\n",
       "      <td>387938</td>\n",
       "      <td>\"Flavoured green tea bags \"</td>\n",
       "      <td>1.0</td>\n",
       "      <td>2</td>\n",
       "    </tr>\n",
       "    <tr>\n",
       "      <th>27</th>\n",
       "      <td>10050032</td>\n",
       "      <td>302231</td>\n",
       "      <td>Fish and meat snacks</td>\n",
       "      <td>1.0</td>\n",
       "      <td>3</td>\n",
       "    </tr>\n",
       "    <tr>\n",
       "      <th>28</th>\n",
       "      <td>10050032</td>\n",
       "      <td>438448</td>\n",
       "      <td>\"Milk chocolate bars \"</td>\n",
       "      <td>1.0</td>\n",
       "      <td>4</td>\n",
       "    </tr>\n",
       "    <tr>\n",
       "      <th>29</th>\n",
       "      <td>10050032</td>\n",
       "      <td>139201</td>\n",
       "      <td>Chicken eggs,  9-15  eggs</td>\n",
       "      <td>1.0</td>\n",
       "      <td>5</td>\n",
       "    </tr>\n",
       "  </tbody>\n",
       "</table>\n",
       "</div>"
      ],
      "text/plain": [
       "    CardHolder  Material              ItemDescription  score  rank\n",
       "0     10008254      8048          Baking foil, sleeve    1.0     1\n",
       "1     10008254    387938  \"Flavoured green tea bags \"    1.0     2\n",
       "2     10008254    302231         Fish and meat snacks    1.0     3\n",
       "3     10008254    438448       \"Milk chocolate bars \"    1.0     4\n",
       "4     10008254    139201    Chicken eggs,  9-15  eggs    1.0     5\n",
       "5     10011587      8048          Baking foil, sleeve    1.0     1\n",
       "6     10011587    387938  \"Flavoured green tea bags \"    1.0     2\n",
       "7     10011587    302231         Fish and meat snacks    1.0     3\n",
       "8     10011587    438448       \"Milk chocolate bars \"    1.0     4\n",
       "9     10011587    139201    Chicken eggs,  9-15  eggs    1.0     5\n",
       "10    10011935      8048          Baking foil, sleeve    1.0     1\n",
       "11    10011935    387938  \"Flavoured green tea bags \"    1.0     2\n",
       "12    10011935    302231         Fish and meat snacks    1.0     3\n",
       "13    10011935    438448       \"Milk chocolate bars \"    1.0     4\n",
       "14    10011935    139201    Chicken eggs,  9-15  eggs    1.0     5\n",
       "15    10036221      8048          Baking foil, sleeve    1.0     1\n",
       "16    10036221    387938  \"Flavoured green tea bags \"    1.0     2\n",
       "17    10036221    302231         Fish and meat snacks    1.0     3\n",
       "18    10036221    438448       \"Milk chocolate bars \"    1.0     4\n",
       "19    10036221    139201    Chicken eggs,  9-15  eggs    1.0     5\n",
       "20    10049978      8048          Baking foil, sleeve    1.0     1\n",
       "21    10049978    387938  \"Flavoured green tea bags \"    1.0     2\n",
       "22    10049978    302231         Fish and meat snacks    1.0     3\n",
       "23    10049978    438448       \"Milk chocolate bars \"    1.0     4\n",
       "24    10049978    139201    Chicken eggs,  9-15  eggs    1.0     5\n",
       "25    10050032      8048          Baking foil, sleeve    1.0     1\n",
       "26    10050032    387938  \"Flavoured green tea bags \"    1.0     2\n",
       "27    10050032    302231         Fish and meat snacks    1.0     3\n",
       "28    10050032    438448       \"Milk chocolate bars \"    1.0     4\n",
       "29    10050032    139201    Chicken eggs,  9-15  eggs    1.0     5"
      ]
     },
     "execution_count": 165,
     "metadata": {},
     "output_type": "execute_result"
    }
   ],
   "source": [
    "model_name = 'popularity'\n",
    "target = 'purchase_or_not_purpchase'\n",
    "popularity_model_qqt2,pop_mask_rec = model_selection(df_purchase_mask_tr,model_name,user_id,item_id, target,users_to_recommend)\n",
    "pop_mask_rec[:n_display]"
   ]
  },
  {
   "cell_type": "code",
   "execution_count": 110,
   "metadata": {},
   "outputs": [],
   "source": []
  },
  {
   "cell_type": "code",
   "execution_count": null,
   "metadata": {},
   "outputs": [],
   "source": []
  },
  {
   "cell_type": "code",
   "execution_count": 58,
   "metadata": {},
   "outputs": [
    {
     "name": "stdout",
     "output_type": "stream",
     "text": [
      "+------------+----------+-------+------+\n",
      "| CardHolder | Material | score | rank |\n",
      "+------------+----------+-------+------+\n",
      "|  10008254  |  517191  |  1.0  |  1   |\n",
      "|  10008254  |  389771  |  1.0  |  2   |\n",
      "|  10008254  |  450267  |  1.0  |  3   |\n",
      "|  10008254  |  525925  |  1.0  |  4   |\n",
      "|  10008254  |  278577  |  1.0  |  5   |\n",
      "|  10008254  |  517191  |  1.0  |  1   |\n",
      "|  10008254  |  389771  |  1.0  |  2   |\n",
      "|  10008254  |  450267  |  1.0  |  3   |\n",
      "|  10008254  |  525925  |  1.0  |  4   |\n",
      "|  10008254  |  278577  |  1.0  |  5   |\n",
      "|  10008254  |  517191  |  1.0  |  1   |\n",
      "|  10008254  |  389771  |  1.0  |  2   |\n",
      "|  10008254  |  450267  |  1.0  |  3   |\n",
      "|  10008254  |  525925  |  1.0  |  4   |\n",
      "|  10008254  |  278577  |  1.0  |  5   |\n",
      "|  10008254  |  517191  |  1.0  |  1   |\n",
      "|  10008254  |  389771  |  1.0  |  2   |\n",
      "|  10008254  |  450267  |  1.0  |  3   |\n",
      "|  10008254  |  525925  |  1.0  |  4   |\n",
      "|  10008254  |  278577  |  1.0  |  5   |\n",
      "|  10008254  |  517191  |  1.0  |  1   |\n",
      "|  10008254  |  389771  |  1.0  |  2   |\n",
      "|  10008254  |  450267  |  1.0  |  3   |\n",
      "|  10008254  |  525925  |  1.0  |  4   |\n",
      "|  10008254  |  278577  |  1.0  |  5   |\n",
      "|  10008254  |  517191  |  1.0  |  1   |\n",
      "|  10008254  |  389771  |  1.0  |  2   |\n",
      "|  10008254  |  450267  |  1.0  |  3   |\n",
      "|  10008254  |  525925  |  1.0  |  4   |\n",
      "|  10008254  |  278577  |  1.0  |  5   |\n",
      "+------------+----------+-------+------+\n",
      "[76715165 rows x 4 columns]\n",
      "\n"
     ]
    }
   ],
   "source": [
    "model_name = 'popularity'\n",
    "target = 'scaled_purchase_freq'\n",
    "popularity_model_norm,pop_norm_rec = model_selection(train_df_norm,model_name,user_id,item_id, target,users_to_recommend) \n",
    "pop_norm_rec[:n_display]"
   ]
  },
  {
   "cell_type": "code",
   "execution_count": null,
   "metadata": {},
   "outputs": [],
   "source": []
  },
  {
   "cell_type": "code",
   "execution_count": 166,
   "metadata": {},
   "outputs": [],
   "source": [
    "df_purchase_info_tr = df_purchase_mask_tr"
   ]
  },
  {
   "cell_type": "code",
   "execution_count": 168,
   "metadata": {},
   "outputs": [
    {
     "data": {
      "text/html": [
       "<div>\n",
       "<style scoped>\n",
       "    .dataframe tbody tr th:only-of-type {\n",
       "        vertical-align: middle;\n",
       "    }\n",
       "\n",
       "    .dataframe tbody tr th {\n",
       "        vertical-align: top;\n",
       "    }\n",
       "\n",
       "    .dataframe thead th {\n",
       "        text-align: right;\n",
       "    }\n",
       "</style>\n",
       "<table border=\"1\" class=\"dataframe\">\n",
       "  <thead>\n",
       "    <tr style=\"text-align: right;\">\n",
       "      <th></th>\n",
       "      <th>CardHolder</th>\n",
       "      <th>Material</th>\n",
       "      <th>ItemDescription</th>\n",
       "      <th>score</th>\n",
       "      <th>rank</th>\n",
       "    </tr>\n",
       "  </thead>\n",
       "  <tbody>\n",
       "    <tr>\n",
       "      <th>0</th>\n",
       "      <td>10008254</td>\n",
       "      <td>303640</td>\n",
       "      <td>Bulb onion</td>\n",
       "      <td>0.113423</td>\n",
       "      <td>1</td>\n",
       "    </tr>\n",
       "    <tr>\n",
       "      <th>1</th>\n",
       "      <td>10008254</td>\n",
       "      <td>11230</td>\n",
       "      <td>Bananas</td>\n",
       "      <td>0.113356</td>\n",
       "      <td>2</td>\n",
       "    </tr>\n",
       "    <tr>\n",
       "      <th>2</th>\n",
       "      <td>10008254</td>\n",
       "      <td>94429</td>\n",
       "      <td>Lemons</td>\n",
       "      <td>0.104768</td>\n",
       "      <td>3</td>\n",
       "    </tr>\n",
       "    <tr>\n",
       "      <th>3</th>\n",
       "      <td>10008254</td>\n",
       "      <td>303639</td>\n",
       "      <td>Carrot</td>\n",
       "      <td>0.101521</td>\n",
       "      <td>4</td>\n",
       "    </tr>\n",
       "    <tr>\n",
       "      <th>4</th>\n",
       "      <td>10008254</td>\n",
       "      <td>11189</td>\n",
       "      <td>\"Cabbage \"</td>\n",
       "      <td>0.100215</td>\n",
       "      <td>5</td>\n",
       "    </tr>\n",
       "    <tr>\n",
       "      <th>5</th>\n",
       "      <td>10011587</td>\n",
       "      <td>11230</td>\n",
       "      <td>Bananas</td>\n",
       "      <td>0.106039</td>\n",
       "      <td>1</td>\n",
       "    </tr>\n",
       "    <tr>\n",
       "      <th>6</th>\n",
       "      <td>10011587</td>\n",
       "      <td>94429</td>\n",
       "      <td>Lemons</td>\n",
       "      <td>0.101006</td>\n",
       "      <td>2</td>\n",
       "    </tr>\n",
       "    <tr>\n",
       "      <th>7</th>\n",
       "      <td>10011587</td>\n",
       "      <td>303640</td>\n",
       "      <td>Bulb onion</td>\n",
       "      <td>0.099016</td>\n",
       "      <td>3</td>\n",
       "    </tr>\n",
       "    <tr>\n",
       "      <th>8</th>\n",
       "      <td>10011587</td>\n",
       "      <td>41424</td>\n",
       "      <td>Carrot</td>\n",
       "      <td>0.098907</td>\n",
       "      <td>4</td>\n",
       "    </tr>\n",
       "    <tr>\n",
       "      <th>9</th>\n",
       "      <td>10011587</td>\n",
       "      <td>216368</td>\n",
       "      <td>Packaged cucumbers</td>\n",
       "      <td>0.098078</td>\n",
       "      <td>5</td>\n",
       "    </tr>\n",
       "    <tr>\n",
       "      <th>10</th>\n",
       "      <td>10011935</td>\n",
       "      <td>303640</td>\n",
       "      <td>Bulb onion</td>\n",
       "      <td>0.106138</td>\n",
       "      <td>1</td>\n",
       "    </tr>\n",
       "    <tr>\n",
       "      <th>11</th>\n",
       "      <td>10011935</td>\n",
       "      <td>94429</td>\n",
       "      <td>Lemons</td>\n",
       "      <td>0.105650</td>\n",
       "      <td>2</td>\n",
       "    </tr>\n",
       "    <tr>\n",
       "      <th>12</th>\n",
       "      <td>10011935</td>\n",
       "      <td>41203</td>\n",
       "      <td>\"Sweet pepper \"</td>\n",
       "      <td>0.101754</td>\n",
       "      <td>3</td>\n",
       "    </tr>\n",
       "    <tr>\n",
       "      <th>13</th>\n",
       "      <td>10011935</td>\n",
       "      <td>41424</td>\n",
       "      <td>Carrot</td>\n",
       "      <td>0.096774</td>\n",
       "      <td>4</td>\n",
       "    </tr>\n",
       "    <tr>\n",
       "      <th>14</th>\n",
       "      <td>10011935</td>\n",
       "      <td>303639</td>\n",
       "      <td>Carrot</td>\n",
       "      <td>0.095792</td>\n",
       "      <td>5</td>\n",
       "    </tr>\n",
       "    <tr>\n",
       "      <th>15</th>\n",
       "      <td>10036221</td>\n",
       "      <td>41424</td>\n",
       "      <td>Carrot</td>\n",
       "      <td>0.102483</td>\n",
       "      <td>1</td>\n",
       "    </tr>\n",
       "    <tr>\n",
       "      <th>16</th>\n",
       "      <td>10036221</td>\n",
       "      <td>303639</td>\n",
       "      <td>Carrot</td>\n",
       "      <td>0.099959</td>\n",
       "      <td>2</td>\n",
       "    </tr>\n",
       "    <tr>\n",
       "      <th>17</th>\n",
       "      <td>10036221</td>\n",
       "      <td>11189</td>\n",
       "      <td>\"Cabbage \"</td>\n",
       "      <td>0.098546</td>\n",
       "      <td>3</td>\n",
       "    </tr>\n",
       "    <tr>\n",
       "      <th>18</th>\n",
       "      <td>10036221</td>\n",
       "      <td>39906</td>\n",
       "      <td>Marrows</td>\n",
       "      <td>0.093229</td>\n",
       "      <td>4</td>\n",
       "    </tr>\n",
       "    <tr>\n",
       "      <th>19</th>\n",
       "      <td>10036221</td>\n",
       "      <td>45520</td>\n",
       "      <td>Bulk potato</td>\n",
       "      <td>0.093041</td>\n",
       "      <td>5</td>\n",
       "    </tr>\n",
       "    <tr>\n",
       "      <th>20</th>\n",
       "      <td>10049978</td>\n",
       "      <td>303640</td>\n",
       "      <td>Bulb onion</td>\n",
       "      <td>0.153544</td>\n",
       "      <td>1</td>\n",
       "    </tr>\n",
       "    <tr>\n",
       "      <th>21</th>\n",
       "      <td>10049978</td>\n",
       "      <td>41203</td>\n",
       "      <td>\"Sweet pepper \"</td>\n",
       "      <td>0.152871</td>\n",
       "      <td>2</td>\n",
       "    </tr>\n",
       "    <tr>\n",
       "      <th>22</th>\n",
       "      <td>10049978</td>\n",
       "      <td>41424</td>\n",
       "      <td>Carrot</td>\n",
       "      <td>0.142703</td>\n",
       "      <td>3</td>\n",
       "    </tr>\n",
       "    <tr>\n",
       "      <th>23</th>\n",
       "      <td>10049978</td>\n",
       "      <td>216368</td>\n",
       "      <td>Packaged cucumbers</td>\n",
       "      <td>0.137347</td>\n",
       "      <td>4</td>\n",
       "    </tr>\n",
       "    <tr>\n",
       "      <th>24</th>\n",
       "      <td>10049978</td>\n",
       "      <td>303639</td>\n",
       "      <td>Carrot</td>\n",
       "      <td>0.133166</td>\n",
       "      <td>5</td>\n",
       "    </tr>\n",
       "    <tr>\n",
       "      <th>25</th>\n",
       "      <td>10050032</td>\n",
       "      <td>11230</td>\n",
       "      <td>Bananas</td>\n",
       "      <td>0.182254</td>\n",
       "      <td>1</td>\n",
       "    </tr>\n",
       "    <tr>\n",
       "      <th>26</th>\n",
       "      <td>10050032</td>\n",
       "      <td>303640</td>\n",
       "      <td>Bulb onion</td>\n",
       "      <td>0.179284</td>\n",
       "      <td>2</td>\n",
       "    </tr>\n",
       "    <tr>\n",
       "      <th>27</th>\n",
       "      <td>10050032</td>\n",
       "      <td>41203</td>\n",
       "      <td>\"Sweet pepper \"</td>\n",
       "      <td>0.168536</td>\n",
       "      <td>3</td>\n",
       "    </tr>\n",
       "    <tr>\n",
       "      <th>28</th>\n",
       "      <td>10050032</td>\n",
       "      <td>303639</td>\n",
       "      <td>Carrot</td>\n",
       "      <td>0.162339</td>\n",
       "      <td>4</td>\n",
       "    </tr>\n",
       "    <tr>\n",
       "      <th>29</th>\n",
       "      <td>10050032</td>\n",
       "      <td>41424</td>\n",
       "      <td>Carrot</td>\n",
       "      <td>0.161717</td>\n",
       "      <td>5</td>\n",
       "    </tr>\n",
       "  </tbody>\n",
       "</table>\n",
       "</div>"
      ],
      "text/plain": [
       "    CardHolder  Material     ItemDescription     score  rank\n",
       "0     10008254    303640          Bulb onion  0.113423     1\n",
       "1     10008254     11230             Bananas  0.113356     2\n",
       "2     10008254     94429              Lemons  0.104768     3\n",
       "3     10008254    303639              Carrot  0.101521     4\n",
       "4     10008254     11189          \"Cabbage \"  0.100215     5\n",
       "5     10011587     11230             Bananas  0.106039     1\n",
       "6     10011587     94429              Lemons  0.101006     2\n",
       "7     10011587    303640          Bulb onion  0.099016     3\n",
       "8     10011587     41424              Carrot  0.098907     4\n",
       "9     10011587    216368  Packaged cucumbers  0.098078     5\n",
       "10    10011935    303640          Bulb onion  0.106138     1\n",
       "11    10011935     94429              Lemons  0.105650     2\n",
       "12    10011935     41203     \"Sweet pepper \"  0.101754     3\n",
       "13    10011935     41424              Carrot  0.096774     4\n",
       "14    10011935    303639              Carrot  0.095792     5\n",
       "15    10036221     41424              Carrot  0.102483     1\n",
       "16    10036221    303639              Carrot  0.099959     2\n",
       "17    10036221     11189          \"Cabbage \"  0.098546     3\n",
       "18    10036221     39906             Marrows  0.093229     4\n",
       "19    10036221     45520         Bulk potato  0.093041     5\n",
       "20    10049978    303640          Bulb onion  0.153544     1\n",
       "21    10049978     41203     \"Sweet pepper \"  0.152871     2\n",
       "22    10049978     41424              Carrot  0.142703     3\n",
       "23    10049978    216368  Packaged cucumbers  0.137347     4\n",
       "24    10049978    303639              Carrot  0.133166     5\n",
       "25    10050032     11230             Bananas  0.182254     1\n",
       "26    10050032    303640          Bulb onion  0.179284     2\n",
       "27    10050032     41203     \"Sweet pepper \"  0.168536     3\n",
       "28    10050032    303639              Carrot  0.162339     4\n",
       "29    10050032     41424              Carrot  0.161717     5"
      ]
     },
     "execution_count": 168,
     "metadata": {},
     "output_type": "execute_result"
    }
   ],
   "source": [
    "            ##testing model...\n",
    "            ##collaborative filtering model purchase_or_not_purpchase...\n",
    "model_name = 'cosine'\n",
    "target = 'purchase_or_not_purpchase'\n",
    "cosine_model_mask1,cosine_mask_rec = model_selection(df_purchase_info_tr,model_name,user_id,item_id, target,users_to_recommend)\n",
    "cosine_mask_rec[:n_display]"
   ]
  },
  {
   "cell_type": "code",
   "execution_count": null,
   "metadata": {},
   "outputs": [],
   "source": []
  },
  {
   "cell_type": "code",
   "execution_count": null,
   "metadata": {},
   "outputs": [],
   "source": [
    "#train_df_norm,test_df_norm df_purchase_mask_tr,df_purchase_mask_ts "
   ]
  },
  {
   "cell_type": "code",
   "execution_count": 48,
   "metadata": {},
   "outputs": [
    {
     "name": "stdout",
     "output_type": "stream",
     "text": [
      "+------------+----------+-----------------------+------+\n",
      "| CardHolder | Material |         score         | rank |\n",
      "+------------+----------+-----------------------+------+\n",
      "|  10008254  |  486953  |  0.003813295260719631 |  1   |\n",
      "|  10008254  |  487064  | 0.0023587449737217116 |  2   |\n",
      "|  10008254  |  525902  |  0.002042713372603707 |  3   |\n",
      "|  10008254  |  472179  | 0.0019066463346066682 |  4   |\n",
      "|  10008254  |  170127  |  0.001797603524249533 |  5   |\n",
      "|  10008254  |  486953  |  0.003813295260719631 |  1   |\n",
      "|  10008254  |  487064  | 0.0023587449737217116 |  2   |\n",
      "|  10008254  |  525902  |  0.002042713372603707 |  3   |\n",
      "|  10008254  |  472179  | 0.0019066463346066682 |  4   |\n",
      "|  10008254  |  170127  |  0.001797603524249533 |  5   |\n",
      "|  10008254  |  486953  |  0.003813295260719631 |  1   |\n",
      "|  10008254  |  487064  | 0.0023587449737217116 |  2   |\n",
      "|  10008254  |  525902  |  0.002042713372603707 |  3   |\n",
      "|  10008254  |  472179  | 0.0019066463346066682 |  4   |\n",
      "|  10008254  |  170127  |  0.001797603524249533 |  5   |\n",
      "|  10008254  |  486953  |  0.003813295260719631 |  1   |\n",
      "|  10008254  |  487064  | 0.0023587449737217116 |  2   |\n",
      "|  10008254  |  525902  |  0.002042713372603707 |  3   |\n",
      "|  10008254  |  472179  | 0.0019066463346066682 |  4   |\n",
      "|  10008254  |  170127  |  0.001797603524249533 |  5   |\n",
      "|  10008254  |  486953  |  0.003813295260719631 |  1   |\n",
      "|  10008254  |  487064  | 0.0023587449737217116 |  2   |\n",
      "|  10008254  |  525902  |  0.002042713372603707 |  3   |\n",
      "|  10008254  |  472179  | 0.0019066463346066682 |  4   |\n",
      "|  10008254  |  170127  |  0.001797603524249533 |  5   |\n",
      "|  10008254  |  486953  |  0.003813295260719631 |  1   |\n",
      "|  10008254  |  487064  | 0.0023587449737217116 |  2   |\n",
      "|  10008254  |  525902  |  0.002042713372603707 |  3   |\n",
      "|  10008254  |  472179  | 0.0019066463346066682 |  4   |\n",
      "|  10008254  |  170127  |  0.001797603524249533 |  5   |\n",
      "+------------+----------+-----------------------+------+\n",
      "[76715165 rows x 4 columns]\n",
      "\n"
     ]
    }
   ],
   "source": [
    "            ##testing model...\n",
    "            ##cosine model scaled_purchase_freq...\n",
    "model_name = 'cosine'\n",
    "target = 'scaled_purchase_freq'\n",
    "cosine_model_norm,cosine_norm_rec = model_selection(train_df_norm,model_name,user_id,item_id, target,users_to_recommend)\n",
    "cosine_norm_rec[:n_display]"
   ]
  },
  {
   "cell_type": "code",
   "execution_count": null,
   "metadata": {},
   "outputs": [],
   "source": []
  },
  {
   "cell_type": "code",
   "execution_count": 170,
   "metadata": {},
   "outputs": [
    {
     "data": {
      "text/html": [
       "<div>\n",
       "<style scoped>\n",
       "    .dataframe tbody tr th:only-of-type {\n",
       "        vertical-align: middle;\n",
       "    }\n",
       "\n",
       "    .dataframe tbody tr th {\n",
       "        vertical-align: top;\n",
       "    }\n",
       "\n",
       "    .dataframe thead th {\n",
       "        text-align: right;\n",
       "    }\n",
       "</style>\n",
       "<table border=\"1\" class=\"dataframe\">\n",
       "  <thead>\n",
       "    <tr style=\"text-align: right;\">\n",
       "      <th></th>\n",
       "      <th>CardHolder</th>\n",
       "      <th>Material</th>\n",
       "      <th>ItemDescription</th>\n",
       "      <th>score</th>\n",
       "      <th>rank</th>\n",
       "    </tr>\n",
       "  </thead>\n",
       "  <tbody>\n",
       "    <tr>\n",
       "      <th>0</th>\n",
       "      <td>10008254</td>\n",
       "      <td>457282</td>\n",
       "      <td>Other detergents</td>\n",
       "      <td>0.096228</td>\n",
       "      <td>1</td>\n",
       "    </tr>\n",
       "    <tr>\n",
       "      <th>1</th>\n",
       "      <td>10008254</td>\n",
       "      <td>449257</td>\n",
       "      <td>Perfume sets for men</td>\n",
       "      <td>0.081602</td>\n",
       "      <td>2</td>\n",
       "    </tr>\n",
       "    <tr>\n",
       "      <th>2</th>\n",
       "      <td>10008254</td>\n",
       "      <td>159200</td>\n",
       "      <td>Children's magazines</td>\n",
       "      <td>0.045716</td>\n",
       "      <td>3</td>\n",
       "    </tr>\n",
       "    <tr>\n",
       "      <th>3</th>\n",
       "      <td>10008254</td>\n",
       "      <td>469931</td>\n",
       "      <td>Mixed vegetable oil</td>\n",
       "      <td>0.044348</td>\n",
       "      <td>4</td>\n",
       "    </tr>\n",
       "    <tr>\n",
       "      <th>4</th>\n",
       "      <td>10008254</td>\n",
       "      <td>490118</td>\n",
       "      <td>Garden lights, lanterns</td>\n",
       "      <td>0.043740</td>\n",
       "      <td>5</td>\n",
       "    </tr>\n",
       "    <tr>\n",
       "      <th>5</th>\n",
       "      <td>10011587</td>\n",
       "      <td>350426</td>\n",
       "      <td>Cream yoghurt for children older than 3 years</td>\n",
       "      <td>0.191514</td>\n",
       "      <td>1</td>\n",
       "    </tr>\n",
       "    <tr>\n",
       "      <th>6</th>\n",
       "      <td>10011587</td>\n",
       "      <td>355877</td>\n",
       "      <td>Cream yoghurt for children older than 3 years</td>\n",
       "      <td>0.182351</td>\n",
       "      <td>2</td>\n",
       "    </tr>\n",
       "    <tr>\n",
       "      <th>7</th>\n",
       "      <td>10011587</td>\n",
       "      <td>385030</td>\n",
       "      <td>Cream yoghurt for children older than 3 years</td>\n",
       "      <td>0.172070</td>\n",
       "      <td>3</td>\n",
       "    </tr>\n",
       "    <tr>\n",
       "      <th>8</th>\n",
       "      <td>10011587</td>\n",
       "      <td>504726</td>\n",
       "      <td>Cream yoghurt for children older than 3 years</td>\n",
       "      <td>0.162448</td>\n",
       "      <td>4</td>\n",
       "    </tr>\n",
       "    <tr>\n",
       "      <th>9</th>\n",
       "      <td>10011587</td>\n",
       "      <td>282741</td>\n",
       "      <td>Curd rolls, snacks cold storage</td>\n",
       "      <td>0.148101</td>\n",
       "      <td>5</td>\n",
       "    </tr>\n",
       "    <tr>\n",
       "      <th>10</th>\n",
       "      <td>10011935</td>\n",
       "      <td>459363</td>\n",
       "      <td>Iron</td>\n",
       "      <td>0.038818</td>\n",
       "      <td>1</td>\n",
       "    </tr>\n",
       "    <tr>\n",
       "      <th>11</th>\n",
       "      <td>10011935</td>\n",
       "      <td>449257</td>\n",
       "      <td>Perfume sets for men</td>\n",
       "      <td>0.035656</td>\n",
       "      <td>2</td>\n",
       "    </tr>\n",
       "    <tr>\n",
       "      <th>12</th>\n",
       "      <td>10011935</td>\n",
       "      <td>445129</td>\n",
       "      <td>Sand sugar white</td>\n",
       "      <td>0.034787</td>\n",
       "      <td>3</td>\n",
       "    </tr>\n",
       "    <tr>\n",
       "      <th>13</th>\n",
       "      <td>10011935</td>\n",
       "      <td>529028</td>\n",
       "      <td>\"Sparkling white wine, brut, dry, semi-dry \"</td>\n",
       "      <td>0.033326</td>\n",
       "      <td>4</td>\n",
       "    </tr>\n",
       "    <tr>\n",
       "      <th>14</th>\n",
       "      <td>10011935</td>\n",
       "      <td>41203</td>\n",
       "      <td>\"Sweet pepper \"</td>\n",
       "      <td>0.032564</td>\n",
       "      <td>5</td>\n",
       "    </tr>\n",
       "    <tr>\n",
       "      <th>15</th>\n",
       "      <td>10036221</td>\n",
       "      <td>528599</td>\n",
       "      <td>Individual portion food for dogs (pouch)</td>\n",
       "      <td>0.173217</td>\n",
       "      <td>1</td>\n",
       "    </tr>\n",
       "    <tr>\n",
       "      <th>16</th>\n",
       "      <td>10036221</td>\n",
       "      <td>350879</td>\n",
       "      <td>Individual portion food for dogs (pouch)</td>\n",
       "      <td>0.158618</td>\n",
       "      <td>2</td>\n",
       "    </tr>\n",
       "    <tr>\n",
       "      <th>17</th>\n",
       "      <td>10036221</td>\n",
       "      <td>350882</td>\n",
       "      <td>Individual portion food for dogs (pouch)</td>\n",
       "      <td>0.151941</td>\n",
       "      <td>3</td>\n",
       "    </tr>\n",
       "    <tr>\n",
       "      <th>18</th>\n",
       "      <td>10036221</td>\n",
       "      <td>528569</td>\n",
       "      <td>Individual portion food for dogs (pouch)</td>\n",
       "      <td>0.151311</td>\n",
       "      <td>4</td>\n",
       "    </tr>\n",
       "    <tr>\n",
       "      <th>19</th>\n",
       "      <td>10036221</td>\n",
       "      <td>528591</td>\n",
       "      <td>Individual portion food for dogs (pouch)</td>\n",
       "      <td>0.140022</td>\n",
       "      <td>5</td>\n",
       "    </tr>\n",
       "    <tr>\n",
       "      <th>20</th>\n",
       "      <td>10049978</td>\n",
       "      <td>512541</td>\n",
       "      <td>Sliced Maasdam cheese</td>\n",
       "      <td>0.208160</td>\n",
       "      <td>1</td>\n",
       "    </tr>\n",
       "    <tr>\n",
       "      <th>21</th>\n",
       "      <td>10049978</td>\n",
       "      <td>515812</td>\n",
       "      <td>Good wine, Still</td>\n",
       "      <td>0.190380</td>\n",
       "      <td>2</td>\n",
       "    </tr>\n",
       "    <tr>\n",
       "      <th>22</th>\n",
       "      <td>10049978</td>\n",
       "      <td>444423</td>\n",
       "      <td>Good wine, Still</td>\n",
       "      <td>0.174334</td>\n",
       "      <td>3</td>\n",
       "    </tr>\n",
       "    <tr>\n",
       "      <th>23</th>\n",
       "      <td>10049978</td>\n",
       "      <td>100357</td>\n",
       "      <td>Premium and imported water</td>\n",
       "      <td>0.167817</td>\n",
       "      <td>4</td>\n",
       "    </tr>\n",
       "    <tr>\n",
       "      <th>24</th>\n",
       "      <td>10049978</td>\n",
       "      <td>492792</td>\n",
       "      <td>Pet collection kits</td>\n",
       "      <td>0.156212</td>\n",
       "      <td>5</td>\n",
       "    </tr>\n",
       "    <tr>\n",
       "      <th>25</th>\n",
       "      <td>10050032</td>\n",
       "      <td>352562</td>\n",
       "      <td>\"Serveware \"</td>\n",
       "      <td>0.133136</td>\n",
       "      <td>1</td>\n",
       "    </tr>\n",
       "    <tr>\n",
       "      <th>26</th>\n",
       "      <td>10050032</td>\n",
       "      <td>163238</td>\n",
       "      <td>Disposable utencils</td>\n",
       "      <td>0.073180</td>\n",
       "      <td>2</td>\n",
       "    </tr>\n",
       "    <tr>\n",
       "      <th>27</th>\n",
       "      <td>10050032</td>\n",
       "      <td>303640</td>\n",
       "      <td>Bulb onion</td>\n",
       "      <td>0.055572</td>\n",
       "      <td>3</td>\n",
       "    </tr>\n",
       "    <tr>\n",
       "      <th>28</th>\n",
       "      <td>10050032</td>\n",
       "      <td>53038</td>\n",
       "      <td>Disposable plates</td>\n",
       "      <td>0.051456</td>\n",
       "      <td>4</td>\n",
       "    </tr>\n",
       "    <tr>\n",
       "      <th>29</th>\n",
       "      <td>10050032</td>\n",
       "      <td>159618</td>\n",
       "      <td>Tomato paste</td>\n",
       "      <td>0.051293</td>\n",
       "      <td>5</td>\n",
       "    </tr>\n",
       "  </tbody>\n",
       "</table>\n",
       "</div>"
      ],
      "text/plain": [
       "    CardHolder  Material                                ItemDescription  \\\n",
       "0     10008254    457282                               Other detergents   \n",
       "1     10008254    449257                           Perfume sets for men   \n",
       "2     10008254    159200                           Children's magazines   \n",
       "3     10008254    469931                            Mixed vegetable oil   \n",
       "4     10008254    490118                        Garden lights, lanterns   \n",
       "5     10011587    350426  Cream yoghurt for children older than 3 years   \n",
       "6     10011587    355877  Cream yoghurt for children older than 3 years   \n",
       "7     10011587    385030  Cream yoghurt for children older than 3 years   \n",
       "8     10011587    504726  Cream yoghurt for children older than 3 years   \n",
       "9     10011587    282741                Curd rolls, snacks cold storage   \n",
       "10    10011935    459363                                           Iron   \n",
       "11    10011935    449257                           Perfume sets for men   \n",
       "12    10011935    445129                               Sand sugar white   \n",
       "13    10011935    529028   \"Sparkling white wine, brut, dry, semi-dry \"   \n",
       "14    10011935     41203                                \"Sweet pepper \"   \n",
       "15    10036221    528599       Individual portion food for dogs (pouch)   \n",
       "16    10036221    350879       Individual portion food for dogs (pouch)   \n",
       "17    10036221    350882       Individual portion food for dogs (pouch)   \n",
       "18    10036221    528569       Individual portion food for dogs (pouch)   \n",
       "19    10036221    528591       Individual portion food for dogs (pouch)   \n",
       "20    10049978    512541                          Sliced Maasdam cheese   \n",
       "21    10049978    515812                               Good wine, Still   \n",
       "22    10049978    444423                               Good wine, Still   \n",
       "23    10049978    100357                     Premium and imported water   \n",
       "24    10049978    492792                            Pet collection kits   \n",
       "25    10050032    352562                                   \"Serveware \"   \n",
       "26    10050032    163238                            Disposable utencils   \n",
       "27    10050032    303640                                     Bulb onion   \n",
       "28    10050032     53038                              Disposable plates   \n",
       "29    10050032    159618                                   Tomato paste   \n",
       "\n",
       "       score  rank  \n",
       "0   0.096228     1  \n",
       "1   0.081602     2  \n",
       "2   0.045716     3  \n",
       "3   0.044348     4  \n",
       "4   0.043740     5  \n",
       "5   0.191514     1  \n",
       "6   0.182351     2  \n",
       "7   0.172070     3  \n",
       "8   0.162448     4  \n",
       "9   0.148101     5  \n",
       "10  0.038818     1  \n",
       "11  0.035656     2  \n",
       "12  0.034787     3  \n",
       "13  0.033326     4  \n",
       "14  0.032564     5  \n",
       "15  0.173217     1  \n",
       "16  0.158618     2  \n",
       "17  0.151941     3  \n",
       "18  0.151311     4  \n",
       "19  0.140022     5  \n",
       "20  0.208160     1  \n",
       "21  0.190380     2  \n",
       "22  0.174334     3  \n",
       "23  0.167817     4  \n",
       "24  0.156212     5  \n",
       "25  0.133136     1  \n",
       "26  0.073180     2  \n",
       "27  0.055572     3  \n",
       "28  0.051456     4  \n",
       "29  0.051293     5  "
      ]
     },
     "execution_count": 170,
     "metadata": {},
     "output_type": "execute_result"
    }
   ],
   "source": [
    "             ##testing model...\n",
    "             ##cosine model quantity...\n",
    "model_name = 'cosine'\n",
    "target = 'SalesCount'\n",
    "cosine_model_qqt,cosine_qqt_rec = model_selection(user_item_tr,model_name,user_id,item_id, target,users_to_recommend)\n",
    "cosine_qqt_rec[:n_display]"
   ]
  },
  {
   "cell_type": "code",
   "execution_count": null,
   "metadata": {},
   "outputs": [],
   "source": []
  },
  {
   "cell_type": "code",
   "execution_count": null,
   "metadata": {},
   "outputs": [],
   "source": []
  },
  {
   "cell_type": "code",
   "execution_count": null,
   "metadata": {},
   "outputs": [],
   "source": []
  },
  {
   "cell_type": "code",
   "execution_count": null,
   "metadata": {},
   "outputs": [],
   "source": []
  },
  {
   "cell_type": "code",
   "execution_count": 171,
   "metadata": {},
   "outputs": [
    {
     "data": {
      "text/html": [
       "<div>\n",
       "<style scoped>\n",
       "    .dataframe tbody tr th:only-of-type {\n",
       "        vertical-align: middle;\n",
       "    }\n",
       "\n",
       "    .dataframe tbody tr th {\n",
       "        vertical-align: top;\n",
       "    }\n",
       "\n",
       "    .dataframe thead th {\n",
       "        text-align: right;\n",
       "    }\n",
       "</style>\n",
       "<table border=\"1\" class=\"dataframe\">\n",
       "  <thead>\n",
       "    <tr style=\"text-align: right;\">\n",
       "      <th></th>\n",
       "      <th>CardHolder</th>\n",
       "      <th>Material</th>\n",
       "      <th>ItemDescription</th>\n",
       "      <th>score</th>\n",
       "      <th>rank</th>\n",
       "    </tr>\n",
       "  </thead>\n",
       "  <tbody>\n",
       "    <tr>\n",
       "      <th>0</th>\n",
       "      <td>10008254</td>\n",
       "      <td>45520</td>\n",
       "      <td>Bulk potato</td>\n",
       "      <td>0.032414</td>\n",
       "      <td>1</td>\n",
       "    </tr>\n",
       "    <tr>\n",
       "      <th>1</th>\n",
       "      <td>10008254</td>\n",
       "      <td>29221</td>\n",
       "      <td>\"Cabbage \"</td>\n",
       "      <td>0.030996</td>\n",
       "      <td>2</td>\n",
       "    </tr>\n",
       "    <tr>\n",
       "      <th>2</th>\n",
       "      <td>10008254</td>\n",
       "      <td>41424</td>\n",
       "      <td>Carrot</td>\n",
       "      <td>0.030545</td>\n",
       "      <td>3</td>\n",
       "    </tr>\n",
       "    <tr>\n",
       "      <th>3</th>\n",
       "      <td>10008254</td>\n",
       "      <td>239792</td>\n",
       "      <td>Bulk traditional tomatoes</td>\n",
       "      <td>0.030119</td>\n",
       "      <td>4</td>\n",
       "    </tr>\n",
       "    <tr>\n",
       "      <th>4</th>\n",
       "      <td>10008254</td>\n",
       "      <td>39906</td>\n",
       "      <td>Marrows</td>\n",
       "      <td>0.029737</td>\n",
       "      <td>5</td>\n",
       "    </tr>\n",
       "    <tr>\n",
       "      <th>5</th>\n",
       "      <td>10011587</td>\n",
       "      <td>80424</td>\n",
       "      <td>Cow pasteurized milk  &lt;1 l</td>\n",
       "      <td>0.042652</td>\n",
       "      <td>1</td>\n",
       "    </tr>\n",
       "    <tr>\n",
       "      <th>6</th>\n",
       "      <td>10011587</td>\n",
       "      <td>503022</td>\n",
       "      <td>Oatmeal cookies</td>\n",
       "      <td>0.041633</td>\n",
       "      <td>2</td>\n",
       "    </tr>\n",
       "    <tr>\n",
       "      <th>7</th>\n",
       "      <td>10011587</td>\n",
       "      <td>492772</td>\n",
       "      <td>Oatmeal cookies</td>\n",
       "      <td>0.040752</td>\n",
       "      <td>3</td>\n",
       "    </tr>\n",
       "    <tr>\n",
       "      <th>8</th>\n",
       "      <td>10011587</td>\n",
       "      <td>135219</td>\n",
       "      <td>Natural curd  2%-5% fat</td>\n",
       "      <td>0.033361</td>\n",
       "      <td>4</td>\n",
       "    </tr>\n",
       "    <tr>\n",
       "      <th>9</th>\n",
       "      <td>10011587</td>\n",
       "      <td>114858</td>\n",
       "      <td>Packaged oranges</td>\n",
       "      <td>0.032940</td>\n",
       "      <td>5</td>\n",
       "    </tr>\n",
       "    <tr>\n",
       "      <th>10</th>\n",
       "      <td>10011935</td>\n",
       "      <td>45520</td>\n",
       "      <td>Bulk potato</td>\n",
       "      <td>0.023167</td>\n",
       "      <td>1</td>\n",
       "    </tr>\n",
       "    <tr>\n",
       "      <th>11</th>\n",
       "      <td>10011935</td>\n",
       "      <td>41424</td>\n",
       "      <td>Carrot</td>\n",
       "      <td>0.022832</td>\n",
       "      <td>2</td>\n",
       "    </tr>\n",
       "    <tr>\n",
       "      <th>12</th>\n",
       "      <td>10011935</td>\n",
       "      <td>29221</td>\n",
       "      <td>\"Cabbage \"</td>\n",
       "      <td>0.022506</td>\n",
       "      <td>3</td>\n",
       "    </tr>\n",
       "    <tr>\n",
       "      <th>13</th>\n",
       "      <td>10011935</td>\n",
       "      <td>39906</td>\n",
       "      <td>Marrows</td>\n",
       "      <td>0.022402</td>\n",
       "      <td>4</td>\n",
       "    </tr>\n",
       "    <tr>\n",
       "      <th>14</th>\n",
       "      <td>10011935</td>\n",
       "      <td>155251</td>\n",
       "      <td>Bulk traditional tomatoes</td>\n",
       "      <td>0.021627</td>\n",
       "      <td>5</td>\n",
       "    </tr>\n",
       "    <tr>\n",
       "      <th>15</th>\n",
       "      <td>10036221</td>\n",
       "      <td>45520</td>\n",
       "      <td>Bulk potato</td>\n",
       "      <td>0.030650</td>\n",
       "      <td>1</td>\n",
       "    </tr>\n",
       "    <tr>\n",
       "      <th>16</th>\n",
       "      <td>10036221</td>\n",
       "      <td>41424</td>\n",
       "      <td>Carrot</td>\n",
       "      <td>0.029370</td>\n",
       "      <td>2</td>\n",
       "    </tr>\n",
       "    <tr>\n",
       "      <th>17</th>\n",
       "      <td>10036221</td>\n",
       "      <td>155251</td>\n",
       "      <td>Bulk traditional tomatoes</td>\n",
       "      <td>0.027267</td>\n",
       "      <td>3</td>\n",
       "    </tr>\n",
       "    <tr>\n",
       "      <th>18</th>\n",
       "      <td>10036221</td>\n",
       "      <td>39906</td>\n",
       "      <td>Marrows</td>\n",
       "      <td>0.027234</td>\n",
       "      <td>4</td>\n",
       "    </tr>\n",
       "    <tr>\n",
       "      <th>19</th>\n",
       "      <td>10036221</td>\n",
       "      <td>11189</td>\n",
       "      <td>\"Cabbage \"</td>\n",
       "      <td>0.027080</td>\n",
       "      <td>5</td>\n",
       "    </tr>\n",
       "    <tr>\n",
       "      <th>20</th>\n",
       "      <td>10049978</td>\n",
       "      <td>303640</td>\n",
       "      <td>Bulb onion</td>\n",
       "      <td>0.084166</td>\n",
       "      <td>1</td>\n",
       "    </tr>\n",
       "    <tr>\n",
       "      <th>21</th>\n",
       "      <td>10049978</td>\n",
       "      <td>41203</td>\n",
       "      <td>\"Sweet pepper \"</td>\n",
       "      <td>0.076731</td>\n",
       "      <td>2</td>\n",
       "    </tr>\n",
       "    <tr>\n",
       "      <th>22</th>\n",
       "      <td>10049978</td>\n",
       "      <td>303639</td>\n",
       "      <td>Carrot</td>\n",
       "      <td>0.071639</td>\n",
       "      <td>3</td>\n",
       "    </tr>\n",
       "    <tr>\n",
       "      <th>23</th>\n",
       "      <td>10049978</td>\n",
       "      <td>11458</td>\n",
       "      <td>Bulk tangerines</td>\n",
       "      <td>0.067433</td>\n",
       "      <td>4</td>\n",
       "    </tr>\n",
       "    <tr>\n",
       "      <th>24</th>\n",
       "      <td>10049978</td>\n",
       "      <td>162743</td>\n",
       "      <td>Bulk cucumbers</td>\n",
       "      <td>0.064440</td>\n",
       "      <td>5</td>\n",
       "    </tr>\n",
       "    <tr>\n",
       "      <th>25</th>\n",
       "      <td>10050032</td>\n",
       "      <td>11557</td>\n",
       "      <td>\"Poultry salads with mayonnaise, own productio...</td>\n",
       "      <td>0.040993</td>\n",
       "      <td>1</td>\n",
       "    </tr>\n",
       "    <tr>\n",
       "      <th>26</th>\n",
       "      <td>10050032</td>\n",
       "      <td>11283</td>\n",
       "      <td>\"Vegetable salads with vegetable oil, own prod...</td>\n",
       "      <td>0.040205</td>\n",
       "      <td>2</td>\n",
       "    </tr>\n",
       "    <tr>\n",
       "      <th>27</th>\n",
       "      <td>10050032</td>\n",
       "      <td>163238</td>\n",
       "      <td>Disposable utencils</td>\n",
       "      <td>0.038990</td>\n",
       "      <td>3</td>\n",
       "    </tr>\n",
       "    <tr>\n",
       "      <th>28</th>\n",
       "      <td>10050032</td>\n",
       "      <td>11556</td>\n",
       "      <td>Meat salads with mayonnaise, own production</td>\n",
       "      <td>0.038409</td>\n",
       "      <td>4</td>\n",
       "    </tr>\n",
       "    <tr>\n",
       "      <th>29</th>\n",
       "      <td>10050032</td>\n",
       "      <td>11404</td>\n",
       "      <td>\"Fish and seafood salads with mayonnaise, own ...</td>\n",
       "      <td>0.037043</td>\n",
       "      <td>5</td>\n",
       "    </tr>\n",
       "  </tbody>\n",
       "</table>\n",
       "</div>"
      ],
      "text/plain": [
       "    CardHolder  Material                                    ItemDescription  \\\n",
       "0     10008254     45520                                        Bulk potato   \n",
       "1     10008254     29221                                         \"Cabbage \"   \n",
       "2     10008254     41424                                             Carrot   \n",
       "3     10008254    239792                          Bulk traditional tomatoes   \n",
       "4     10008254     39906                                            Marrows   \n",
       "5     10011587     80424                         Cow pasteurized milk  <1 l   \n",
       "6     10011587    503022                                    Oatmeal cookies   \n",
       "7     10011587    492772                                    Oatmeal cookies   \n",
       "8     10011587    135219                            Natural curd  2%-5% fat   \n",
       "9     10011587    114858                                   Packaged oranges   \n",
       "10    10011935     45520                                        Bulk potato   \n",
       "11    10011935     41424                                             Carrot   \n",
       "12    10011935     29221                                         \"Cabbage \"   \n",
       "13    10011935     39906                                            Marrows   \n",
       "14    10011935    155251                          Bulk traditional tomatoes   \n",
       "15    10036221     45520                                        Bulk potato   \n",
       "16    10036221     41424                                             Carrot   \n",
       "17    10036221    155251                          Bulk traditional tomatoes   \n",
       "18    10036221     39906                                            Marrows   \n",
       "19    10036221     11189                                         \"Cabbage \"   \n",
       "20    10049978    303640                                         Bulb onion   \n",
       "21    10049978     41203                                    \"Sweet pepper \"   \n",
       "22    10049978    303639                                             Carrot   \n",
       "23    10049978     11458                                    Bulk tangerines   \n",
       "24    10049978    162743                                     Bulk cucumbers   \n",
       "25    10050032     11557  \"Poultry salads with mayonnaise, own productio...   \n",
       "26    10050032     11283  \"Vegetable salads with vegetable oil, own prod...   \n",
       "27    10050032    163238                                Disposable utencils   \n",
       "28    10050032     11556        Meat salads with mayonnaise, own production   \n",
       "29    10050032     11404  \"Fish and seafood salads with mayonnaise, own ...   \n",
       "\n",
       "       score  rank  \n",
       "0   0.032414     1  \n",
       "1   0.030996     2  \n",
       "2   0.030545     3  \n",
       "3   0.030119     4  \n",
       "4   0.029737     5  \n",
       "5   0.042652     1  \n",
       "6   0.041633     2  \n",
       "7   0.040752     3  \n",
       "8   0.033361     4  \n",
       "9   0.032940     5  \n",
       "10  0.023167     1  \n",
       "11  0.022832     2  \n",
       "12  0.022506     3  \n",
       "13  0.022402     4  \n",
       "14  0.021627     5  \n",
       "15  0.030650     1  \n",
       "16  0.029370     2  \n",
       "17  0.027267     3  \n",
       "18  0.027234     4  \n",
       "19  0.027080     5  \n",
       "20  0.084166     1  \n",
       "21  0.076731     2  \n",
       "22  0.071639     3  \n",
       "23  0.067433     4  \n",
       "24  0.064440     5  \n",
       "25  0.040993     1  \n",
       "26  0.040205     2  \n",
       "27  0.038990     3  \n",
       "28  0.038409     4  \n",
       "29  0.037043     5  "
      ]
     },
     "execution_count": 171,
     "metadata": {},
     "output_type": "execute_result"
    }
   ],
   "source": [
    "             ##testing model...\n",
    "             ##jaccard model...\n",
    "model_name = 'jaccard'\n",
    "target = 'SalesCount'\n",
    "jaccard_model_qqt,jaccard_qqt_rec = model_selection(user_item_tr,model_name,user_id,item_id, target,users_to_recommend)\n",
    "jaccard_qqt_rec[:n_display]"
   ]
  },
  {
   "cell_type": "code",
   "execution_count": null,
   "metadata": {},
   "outputs": [],
   "source": []
  },
  {
   "cell_type": "code",
   "execution_count": 51,
   "metadata": {},
   "outputs": [],
   "source": [
    "#train_df_norm"
   ]
  },
  {
   "cell_type": "code",
   "execution_count": 53,
   "metadata": {},
   "outputs": [
    {
     "name": "stdout",
     "output_type": "stream",
     "text": [
      "+------------+----------+----------------------+------+\n",
      "| CardHolder | Material |        score         | rank |\n",
      "+------------+----------+----------------------+------+\n",
      "|  10008254  |  11230   | 0.019119394862133522 |  1   |\n",
      "|  10008254  |  303640  | 0.018552422523498535 |  2   |\n",
      "|  10008254  |  94429   | 0.017335808795431385 |  3   |\n",
      "|  10008254  |  41203   | 0.017288780730703602 |  4   |\n",
      "|  10008254  |  45520   | 0.017197551934615425 |  5   |\n",
      "|  10008254  |  11230   | 0.019119394862133522 |  1   |\n",
      "|  10008254  |  303640  | 0.018552422523498535 |  2   |\n",
      "|  10008254  |  94429   | 0.017335808795431385 |  3   |\n",
      "|  10008254  |  41203   | 0.017288780730703602 |  4   |\n",
      "|  10008254  |  45520   | 0.017197551934615425 |  5   |\n",
      "|  10008254  |  11230   | 0.019119394862133522 |  1   |\n",
      "|  10008254  |  303640  | 0.018552422523498535 |  2   |\n",
      "|  10008254  |  94429   | 0.017335808795431385 |  3   |\n",
      "|  10008254  |  41203   | 0.017288780730703602 |  4   |\n",
      "|  10008254  |  45520   | 0.017197551934615425 |  5   |\n",
      "|  10008254  |  11230   | 0.019119394862133522 |  1   |\n",
      "|  10008254  |  303640  | 0.018552422523498535 |  2   |\n",
      "|  10008254  |  94429   | 0.017335808795431385 |  3   |\n",
      "|  10008254  |  41203   | 0.017288780730703602 |  4   |\n",
      "|  10008254  |  45520   | 0.017197551934615425 |  5   |\n",
      "|  10008254  |  11230   | 0.019119394862133522 |  1   |\n",
      "|  10008254  |  303640  | 0.018552422523498535 |  2   |\n",
      "|  10008254  |  94429   | 0.017335808795431385 |  3   |\n",
      "|  10008254  |  41203   | 0.017288780730703602 |  4   |\n",
      "|  10008254  |  45520   | 0.017197551934615425 |  5   |\n",
      "|  10008254  |  11230   | 0.019119394862133522 |  1   |\n",
      "|  10008254  |  303640  | 0.018552422523498535 |  2   |\n",
      "|  10008254  |  94429   | 0.017335808795431385 |  3   |\n",
      "|  10008254  |  41203   | 0.017288780730703602 |  4   |\n",
      "|  10008254  |  45520   | 0.017197551934615425 |  5   |\n",
      "+------------+----------+----------------------+------+\n",
      "[76715165 rows x 4 columns]\n",
      "\n"
     ]
    }
   ],
   "source": [
    "            ##testing model...\n",
    "            ##jaccard scaled_purchase_freq model...\n",
    "model_name = 'jaccard'\n",
    "target = 'scaled_purchase_freq'\n",
    "jaccard_model_norm,jaccard_norm_rec = model_selection(train_df_norm,model_name,user_id,item_id, target,users_to_recommend)      \n",
    "jaccard_norm_rec[:n_display]"
   ]
  },
  {
   "cell_type": "code",
   "execution_count": null,
   "metadata": {},
   "outputs": [],
   "source": []
  },
  {
   "cell_type": "code",
   "execution_count": 172,
   "metadata": {},
   "outputs": [
    {
     "data": {
      "text/html": [
       "<div>\n",
       "<style scoped>\n",
       "    .dataframe tbody tr th:only-of-type {\n",
       "        vertical-align: middle;\n",
       "    }\n",
       "\n",
       "    .dataframe tbody tr th {\n",
       "        vertical-align: top;\n",
       "    }\n",
       "\n",
       "    .dataframe thead th {\n",
       "        text-align: right;\n",
       "    }\n",
       "</style>\n",
       "<table border=\"1\" class=\"dataframe\">\n",
       "  <thead>\n",
       "    <tr style=\"text-align: right;\">\n",
       "      <th></th>\n",
       "      <th>CardHolder</th>\n",
       "      <th>Material</th>\n",
       "      <th>ItemDescription</th>\n",
       "      <th>score</th>\n",
       "      <th>rank</th>\n",
       "    </tr>\n",
       "  </thead>\n",
       "  <tbody>\n",
       "    <tr>\n",
       "      <th>0</th>\n",
       "      <td>10008254</td>\n",
       "      <td>45520</td>\n",
       "      <td>Bulk potato</td>\n",
       "      <td>0.030796</td>\n",
       "      <td>1</td>\n",
       "    </tr>\n",
       "    <tr>\n",
       "      <th>1</th>\n",
       "      <td>10008254</td>\n",
       "      <td>29221</td>\n",
       "      <td>\"Cabbage \"</td>\n",
       "      <td>0.029339</td>\n",
       "      <td>2</td>\n",
       "    </tr>\n",
       "    <tr>\n",
       "      <th>2</th>\n",
       "      <td>10008254</td>\n",
       "      <td>43027</td>\n",
       "      <td>\"Bulk apples \"</td>\n",
       "      <td>0.028628</td>\n",
       "      <td>3</td>\n",
       "    </tr>\n",
       "    <tr>\n",
       "      <th>3</th>\n",
       "      <td>10008254</td>\n",
       "      <td>341482</td>\n",
       "      <td>Packaged cucumbers</td>\n",
       "      <td>0.028393</td>\n",
       "      <td>4</td>\n",
       "    </tr>\n",
       "    <tr>\n",
       "      <th>4</th>\n",
       "      <td>10008254</td>\n",
       "      <td>239792</td>\n",
       "      <td>Bulk traditional tomatoes</td>\n",
       "      <td>0.028290</td>\n",
       "      <td>5</td>\n",
       "    </tr>\n",
       "    <tr>\n",
       "      <th>5</th>\n",
       "      <td>10011587</td>\n",
       "      <td>492772</td>\n",
       "      <td>Oatmeal cookies</td>\n",
       "      <td>0.040683</td>\n",
       "      <td>1</td>\n",
       "    </tr>\n",
       "    <tr>\n",
       "      <th>6</th>\n",
       "      <td>10011587</td>\n",
       "      <td>503022</td>\n",
       "      <td>Oatmeal cookies</td>\n",
       "      <td>0.038507</td>\n",
       "      <td>2</td>\n",
       "    </tr>\n",
       "    <tr>\n",
       "      <th>7</th>\n",
       "      <td>10011587</td>\n",
       "      <td>184194</td>\n",
       "      <td>Sand sugar white</td>\n",
       "      <td>0.034949</td>\n",
       "      <td>3</td>\n",
       "    </tr>\n",
       "    <tr>\n",
       "      <th>8</th>\n",
       "      <td>10011587</td>\n",
       "      <td>80424</td>\n",
       "      <td>Cow pasteurized milk  &lt;1 l</td>\n",
       "      <td>0.029738</td>\n",
       "      <td>4</td>\n",
       "    </tr>\n",
       "    <tr>\n",
       "      <th>9</th>\n",
       "      <td>10011587</td>\n",
       "      <td>280164</td>\n",
       "      <td>Chicken eggs,  9-15  eggs</td>\n",
       "      <td>0.027206</td>\n",
       "      <td>5</td>\n",
       "    </tr>\n",
       "    <tr>\n",
       "      <th>10</th>\n",
       "      <td>10011935</td>\n",
       "      <td>45520</td>\n",
       "      <td>Bulk potato</td>\n",
       "      <td>0.024983</td>\n",
       "      <td>1</td>\n",
       "    </tr>\n",
       "    <tr>\n",
       "      <th>11</th>\n",
       "      <td>10011935</td>\n",
       "      <td>41424</td>\n",
       "      <td>Carrot</td>\n",
       "      <td>0.024440</td>\n",
       "      <td>2</td>\n",
       "    </tr>\n",
       "    <tr>\n",
       "      <th>12</th>\n",
       "      <td>10011935</td>\n",
       "      <td>155251</td>\n",
       "      <td>Bulk traditional tomatoes</td>\n",
       "      <td>0.023498</td>\n",
       "      <td>3</td>\n",
       "    </tr>\n",
       "    <tr>\n",
       "      <th>13</th>\n",
       "      <td>10011935</td>\n",
       "      <td>39906</td>\n",
       "      <td>Marrows</td>\n",
       "      <td>0.023054</td>\n",
       "      <td>4</td>\n",
       "    </tr>\n",
       "    <tr>\n",
       "      <th>14</th>\n",
       "      <td>10011935</td>\n",
       "      <td>29221</td>\n",
       "      <td>\"Cabbage \"</td>\n",
       "      <td>0.022600</td>\n",
       "      <td>5</td>\n",
       "    </tr>\n",
       "    <tr>\n",
       "      <th>15</th>\n",
       "      <td>10036221</td>\n",
       "      <td>45520</td>\n",
       "      <td>Bulk potato</td>\n",
       "      <td>0.029809</td>\n",
       "      <td>1</td>\n",
       "    </tr>\n",
       "    <tr>\n",
       "      <th>16</th>\n",
       "      <td>10036221</td>\n",
       "      <td>41424</td>\n",
       "      <td>Carrot</td>\n",
       "      <td>0.028962</td>\n",
       "      <td>2</td>\n",
       "    </tr>\n",
       "    <tr>\n",
       "      <th>17</th>\n",
       "      <td>10036221</td>\n",
       "      <td>39906</td>\n",
       "      <td>Marrows</td>\n",
       "      <td>0.028400</td>\n",
       "      <td>3</td>\n",
       "    </tr>\n",
       "    <tr>\n",
       "      <th>18</th>\n",
       "      <td>10036221</td>\n",
       "      <td>11189</td>\n",
       "      <td>\"Cabbage \"</td>\n",
       "      <td>0.026666</td>\n",
       "      <td>4</td>\n",
       "    </tr>\n",
       "    <tr>\n",
       "      <th>19</th>\n",
       "      <td>10036221</td>\n",
       "      <td>239792</td>\n",
       "      <td>Bulk traditional tomatoes</td>\n",
       "      <td>0.026486</td>\n",
       "      <td>5</td>\n",
       "    </tr>\n",
       "    <tr>\n",
       "      <th>20</th>\n",
       "      <td>10049978</td>\n",
       "      <td>303640</td>\n",
       "      <td>Bulb onion</td>\n",
       "      <td>0.067884</td>\n",
       "      <td>1</td>\n",
       "    </tr>\n",
       "    <tr>\n",
       "      <th>21</th>\n",
       "      <td>10049978</td>\n",
       "      <td>41203</td>\n",
       "      <td>\"Sweet pepper \"</td>\n",
       "      <td>0.061522</td>\n",
       "      <td>2</td>\n",
       "    </tr>\n",
       "    <tr>\n",
       "      <th>22</th>\n",
       "      <td>10049978</td>\n",
       "      <td>303639</td>\n",
       "      <td>Carrot</td>\n",
       "      <td>0.057303</td>\n",
       "      <td>3</td>\n",
       "    </tr>\n",
       "    <tr>\n",
       "      <th>23</th>\n",
       "      <td>10049978</td>\n",
       "      <td>11458</td>\n",
       "      <td>Bulk tangerines</td>\n",
       "      <td>0.053680</td>\n",
       "      <td>4</td>\n",
       "    </tr>\n",
       "    <tr>\n",
       "      <th>24</th>\n",
       "      <td>10049978</td>\n",
       "      <td>41424</td>\n",
       "      <td>Carrot</td>\n",
       "      <td>0.051713</td>\n",
       "      <td>5</td>\n",
       "    </tr>\n",
       "    <tr>\n",
       "      <th>25</th>\n",
       "      <td>10050032</td>\n",
       "      <td>24654</td>\n",
       "      <td>Bulk traditional tomatoes</td>\n",
       "      <td>0.050417</td>\n",
       "      <td>1</td>\n",
       "    </tr>\n",
       "    <tr>\n",
       "      <th>26</th>\n",
       "      <td>10050032</td>\n",
       "      <td>205221</td>\n",
       "      <td>Napkins sanitary hygienic</td>\n",
       "      <td>0.049750</td>\n",
       "      <td>2</td>\n",
       "    </tr>\n",
       "    <tr>\n",
       "      <th>27</th>\n",
       "      <td>10050032</td>\n",
       "      <td>339858</td>\n",
       "      <td>Paper towels</td>\n",
       "      <td>0.049058</td>\n",
       "      <td>3</td>\n",
       "    </tr>\n",
       "    <tr>\n",
       "      <th>28</th>\n",
       "      <td>10050032</td>\n",
       "      <td>42660</td>\n",
       "      <td>Spring onion</td>\n",
       "      <td>0.048945</td>\n",
       "      <td>4</td>\n",
       "    </tr>\n",
       "    <tr>\n",
       "      <th>29</th>\n",
       "      <td>10050032</td>\n",
       "      <td>6128</td>\n",
       "      <td>Sand sugar white</td>\n",
       "      <td>0.047611</td>\n",
       "      <td>5</td>\n",
       "    </tr>\n",
       "  </tbody>\n",
       "</table>\n",
       "</div>"
      ],
      "text/plain": [
       "    CardHolder  Material             ItemDescription     score  rank\n",
       "0     10008254     45520                 Bulk potato  0.030796     1\n",
       "1     10008254     29221                  \"Cabbage \"  0.029339     2\n",
       "2     10008254     43027              \"Bulk apples \"  0.028628     3\n",
       "3     10008254    341482          Packaged cucumbers  0.028393     4\n",
       "4     10008254    239792   Bulk traditional tomatoes  0.028290     5\n",
       "5     10011587    492772             Oatmeal cookies  0.040683     1\n",
       "6     10011587    503022             Oatmeal cookies  0.038507     2\n",
       "7     10011587    184194            Sand sugar white  0.034949     3\n",
       "8     10011587     80424  Cow pasteurized milk  <1 l  0.029738     4\n",
       "9     10011587    280164   Chicken eggs,  9-15  eggs  0.027206     5\n",
       "10    10011935     45520                 Bulk potato  0.024983     1\n",
       "11    10011935     41424                      Carrot  0.024440     2\n",
       "12    10011935    155251   Bulk traditional tomatoes  0.023498     3\n",
       "13    10011935     39906                     Marrows  0.023054     4\n",
       "14    10011935     29221                  \"Cabbage \"  0.022600     5\n",
       "15    10036221     45520                 Bulk potato  0.029809     1\n",
       "16    10036221     41424                      Carrot  0.028962     2\n",
       "17    10036221     39906                     Marrows  0.028400     3\n",
       "18    10036221     11189                  \"Cabbage \"  0.026666     4\n",
       "19    10036221    239792   Bulk traditional tomatoes  0.026486     5\n",
       "20    10049978    303640                  Bulb onion  0.067884     1\n",
       "21    10049978     41203             \"Sweet pepper \"  0.061522     2\n",
       "22    10049978    303639                      Carrot  0.057303     3\n",
       "23    10049978     11458             Bulk tangerines  0.053680     4\n",
       "24    10049978     41424                      Carrot  0.051713     5\n",
       "25    10050032     24654   Bulk traditional tomatoes  0.050417     1\n",
       "26    10050032    205221   Napkins sanitary hygienic  0.049750     2\n",
       "27    10050032    339858                Paper towels  0.049058     3\n",
       "28    10050032     42660                Spring onion  0.048945     4\n",
       "29    10050032      6128            Sand sugar white  0.047611     5"
      ]
     },
     "execution_count": 172,
     "metadata": {},
     "output_type": "execute_result"
    }
   ],
   "source": [
    "            ##testing jaccard model...\n",
    "            ##based on purchase masking...\n",
    "model_name = 'jaccard'\n",
    "target = 'purchase_or_not_purpchase'\n",
    "jaccard_model_mask,jaccard_mask_rec = model_selection(df_purchase_info_tr,model_name,user_id,item_id, target,users_to_recommend)\n",
    "jaccard_mask_rec[:n_display]"
   ]
  },
  {
   "cell_type": "code",
   "execution_count": null,
   "metadata": {},
   "outputs": [],
   "source": []
  },
  {
   "cell_type": "code",
   "execution_count": 178,
   "metadata": {},
   "outputs": [
    {
     "data": {
      "text/plain": [
       "(432485, 5)"
      ]
     },
     "execution_count": 178,
     "metadata": {},
     "output_type": "execute_result"
    }
   ],
   "source": [
    "jaccard_qqt_rec.shape"
   ]
  },
  {
   "cell_type": "code",
   "execution_count": 179,
   "metadata": {},
   "outputs": [],
   "source": [
    "jaccard_mask_rec.to_csv('jaccard_rec_purchase_mask.csv')\n",
    "jaccard_qqt_rec.to_csv('jaccard_rec_salecount_qqt.csv')"
   ]
  },
  {
   "cell_type": "code",
   "execution_count": 219,
   "metadata": {
    "scrolled": true
   },
   "outputs": [],
   "source": [
    "#jaccard_mask_rec"
   ]
  },
  {
   "cell_type": "code",
   "execution_count": null,
   "metadata": {},
   "outputs": [],
   "source": []
  },
  {
   "cell_type": "code",
   "execution_count": null,
   "metadata": {},
   "outputs": [],
   "source": []
  },
  {
   "cell_type": "markdown",
   "metadata": {},
   "source": [
    "### Evaluation of Models"
   ]
  },
  {
   "cell_type": "code",
   "execution_count": 180,
   "metadata": {},
   "outputs": [],
   "source": [
    "              ##..\n",
    "quantity_based_models = [popularity_model_qqt,\n",
    "                         cosine_model_qqt,\n",
    "                         jaccard_model_qqt]\n",
    "\n",
    "mask_based_models = [popularity_model_qqt2,\n",
    "                         cosine_model_mask1,\n",
    "                         jaccard_model_mask]\n",
    "\n",
    "# freq_based_models = [popularity_model_norm,\n",
    "#                          cosine_model_norm,\n",
    "#                          jaccard_model_norm]\n",
    "\n",
    "              ##..\n",
    "names_qqt = ['Popularity Model  on item quantity', \n",
    "              'Cosine Similarity on item quantity', \n",
    "              'Jaccard Similarity on item quantity']\n",
    "\n",
    "names_mask =['Popularity Model  on purchase masking', \n",
    "            'Cosine Similarity on purchase masking', \n",
    "            'Jaccard Similarity on purchase masking']\n",
    "\n",
    "\n",
    "name_freq = ['Popularity Model on purchase freq', \n",
    "              'Cosine Similarity on purchase freq', \n",
    "              'Jaccard Similarity on purchase freq']"
   ]
  },
  {
   "cell_type": "code",
   "execution_count": 181,
   "metadata": {},
   "outputs": [],
   "source": [
    "tc.config.set_runtime_config('TURI_DEFAULT_NUM_PYLAMBDA_WORKERS', 128)"
   ]
  },
  {
   "cell_type": "code",
   "execution_count": null,
   "metadata": {},
   "outputs": [
    {
     "name": "stdout",
     "output_type": "stream",
     "text": [
      "PROGRESS: Evaluate model Popularity Model  on item quantity\n"
     ]
    },
    {
     "data": {
      "text/html": [
       "<pre>recommendations finished on 1000/81697 queries. users per second: 33115.9</pre>"
      ],
      "text/plain": [
       "recommendations finished on 1000/81697 queries. users per second: 33115.9"
      ]
     },
     "metadata": {},
     "output_type": "display_data"
    },
    {
     "data": {
      "text/html": [
       "<pre>recommendations finished on 2000/81697 queries. users per second: 39572.6</pre>"
      ],
      "text/plain": [
       "recommendations finished on 2000/81697 queries. users per second: 39572.6"
      ]
     },
     "metadata": {},
     "output_type": "display_data"
    },
    {
     "data": {
      "text/html": [
       "<pre>recommendations finished on 3000/81697 queries. users per second: 42241</pre>"
      ],
      "text/plain": [
       "recommendations finished on 3000/81697 queries. users per second: 42241"
      ]
     },
     "metadata": {},
     "output_type": "display_data"
    },
    {
     "data": {
      "text/html": [
       "<pre>recommendations finished on 4000/81697 queries. users per second: 43534.1</pre>"
      ],
      "text/plain": [
       "recommendations finished on 4000/81697 queries. users per second: 43534.1"
      ]
     },
     "metadata": {},
     "output_type": "display_data"
    },
    {
     "data": {
      "text/html": [
       "<pre>recommendations finished on 5000/81697 queries. users per second: 45898.5</pre>"
      ],
      "text/plain": [
       "recommendations finished on 5000/81697 queries. users per second: 45898.5"
      ]
     },
     "metadata": {},
     "output_type": "display_data"
    },
    {
     "data": {
      "text/html": [
       "<pre>recommendations finished on 6000/81697 queries. users per second: 46842.1</pre>"
      ],
      "text/plain": [
       "recommendations finished on 6000/81697 queries. users per second: 46842.1"
      ]
     },
     "metadata": {},
     "output_type": "display_data"
    },
    {
     "data": {
      "text/html": [
       "<pre>recommendations finished on 7000/81697 queries. users per second: 49667.9</pre>"
      ],
      "text/plain": [
       "recommendations finished on 7000/81697 queries. users per second: 49667.9"
      ]
     },
     "metadata": {},
     "output_type": "display_data"
    },
    {
     "data": {
      "text/html": [
       "<pre>recommendations finished on 8000/81697 queries. users per second: 51870.9</pre>"
      ],
      "text/plain": [
       "recommendations finished on 8000/81697 queries. users per second: 51870.9"
      ]
     },
     "metadata": {},
     "output_type": "display_data"
    },
    {
     "data": {
      "text/html": [
       "<pre>recommendations finished on 9000/81697 queries. users per second: 53619.9</pre>"
      ],
      "text/plain": [
       "recommendations finished on 9000/81697 queries. users per second: 53619.9"
      ]
     },
     "metadata": {},
     "output_type": "display_data"
    },
    {
     "data": {
      "text/html": [
       "<pre>recommendations finished on 10000/81697 queries. users per second: 54827.3</pre>"
      ],
      "text/plain": [
       "recommendations finished on 10000/81697 queries. users per second: 54827.3"
      ]
     },
     "metadata": {},
     "output_type": "display_data"
    },
    {
     "data": {
      "text/html": [
       "<pre>recommendations finished on 11000/81697 queries. users per second: 56304</pre>"
      ],
      "text/plain": [
       "recommendations finished on 11000/81697 queries. users per second: 56304"
      ]
     },
     "metadata": {},
     "output_type": "display_data"
    },
    {
     "data": {
      "text/html": [
       "<pre>recommendations finished on 12000/81697 queries. users per second: 57689.5</pre>"
      ],
      "text/plain": [
       "recommendations finished on 12000/81697 queries. users per second: 57689.5"
      ]
     },
     "metadata": {},
     "output_type": "display_data"
    },
    {
     "data": {
      "text/html": [
       "<pre>recommendations finished on 13000/81697 queries. users per second: 59192.1</pre>"
      ],
      "text/plain": [
       "recommendations finished on 13000/81697 queries. users per second: 59192.1"
      ]
     },
     "metadata": {},
     "output_type": "display_data"
    },
    {
     "data": {
      "text/html": [
       "<pre>recommendations finished on 14000/81697 queries. users per second: 60235.3</pre>"
      ],
      "text/plain": [
       "recommendations finished on 14000/81697 queries. users per second: 60235.3"
      ]
     },
     "metadata": {},
     "output_type": "display_data"
    },
    {
     "data": {
      "text/html": [
       "<pre>recommendations finished on 15000/81697 queries. users per second: 61327.9</pre>"
      ],
      "text/plain": [
       "recommendations finished on 15000/81697 queries. users per second: 61327.9"
      ]
     },
     "metadata": {},
     "output_type": "display_data"
    },
    {
     "data": {
      "text/html": [
       "<pre>recommendations finished on 16000/81697 queries. users per second: 62345.8</pre>"
      ],
      "text/plain": [
       "recommendations finished on 16000/81697 queries. users per second: 62345.8"
      ]
     },
     "metadata": {},
     "output_type": "display_data"
    },
    {
     "data": {
      "text/html": [
       "<pre>recommendations finished on 17000/81697 queries. users per second: 63115.4</pre>"
      ],
      "text/plain": [
       "recommendations finished on 17000/81697 queries. users per second: 63115.4"
      ]
     },
     "metadata": {},
     "output_type": "display_data"
    },
    {
     "data": {
      "text/html": [
       "<pre>recommendations finished on 18000/81697 queries. users per second: 63918.2</pre>"
      ],
      "text/plain": [
       "recommendations finished on 18000/81697 queries. users per second: 63918.2"
      ]
     },
     "metadata": {},
     "output_type": "display_data"
    },
    {
     "data": {
      "text/html": [
       "<pre>recommendations finished on 19000/81697 queries. users per second: 64811.7</pre>"
      ],
      "text/plain": [
       "recommendations finished on 19000/81697 queries. users per second: 64811.7"
      ]
     },
     "metadata": {},
     "output_type": "display_data"
    },
    {
     "data": {
      "text/html": [
       "<pre>recommendations finished on 20000/81697 queries. users per second: 65888.5</pre>"
      ],
      "text/plain": [
       "recommendations finished on 20000/81697 queries. users per second: 65888.5"
      ]
     },
     "metadata": {},
     "output_type": "display_data"
    },
    {
     "data": {
      "text/html": [
       "<pre>recommendations finished on 21000/81697 queries. users per second: 66794.1</pre>"
      ],
      "text/plain": [
       "recommendations finished on 21000/81697 queries. users per second: 66794.1"
      ]
     },
     "metadata": {},
     "output_type": "display_data"
    },
    {
     "data": {
      "text/html": [
       "<pre>recommendations finished on 22000/81697 queries. users per second: 67334.9</pre>"
      ],
      "text/plain": [
       "recommendations finished on 22000/81697 queries. users per second: 67334.9"
      ]
     },
     "metadata": {},
     "output_type": "display_data"
    },
    {
     "data": {
      "text/html": [
       "<pre>recommendations finished on 23000/81697 queries. users per second: 68097.7</pre>"
      ],
      "text/plain": [
       "recommendations finished on 23000/81697 queries. users per second: 68097.7"
      ]
     },
     "metadata": {},
     "output_type": "display_data"
    },
    {
     "data": {
      "text/html": [
       "<pre>recommendations finished on 24000/81697 queries. users per second: 68821.7</pre>"
      ],
      "text/plain": [
       "recommendations finished on 24000/81697 queries. users per second: 68821.7"
      ]
     },
     "metadata": {},
     "output_type": "display_data"
    },
    {
     "data": {
      "text/html": [
       "<pre>recommendations finished on 25000/81697 queries. users per second: 69244</pre>"
      ],
      "text/plain": [
       "recommendations finished on 25000/81697 queries. users per second: 69244"
      ]
     },
     "metadata": {},
     "output_type": "display_data"
    },
    {
     "data": {
      "text/html": [
       "<pre>recommendations finished on 26000/81697 queries. users per second: 68772</pre>"
      ],
      "text/plain": [
       "recommendations finished on 26000/81697 queries. users per second: 68772"
      ]
     },
     "metadata": {},
     "output_type": "display_data"
    },
    {
     "data": {
      "text/html": [
       "<pre>recommendations finished on 27000/81697 queries. users per second: 68328.3</pre>"
      ],
      "text/plain": [
       "recommendations finished on 27000/81697 queries. users per second: 68328.3"
      ]
     },
     "metadata": {},
     "output_type": "display_data"
    },
    {
     "data": {
      "text/html": [
       "<pre>recommendations finished on 28000/81697 queries. users per second: 68672.2</pre>"
      ],
      "text/plain": [
       "recommendations finished on 28000/81697 queries. users per second: 68672.2"
      ]
     },
     "metadata": {},
     "output_type": "display_data"
    },
    {
     "data": {
      "text/html": [
       "<pre>recommendations finished on 29000/81697 queries. users per second: 69088.2</pre>"
      ],
      "text/plain": [
       "recommendations finished on 29000/81697 queries. users per second: 69088.2"
      ]
     },
     "metadata": {},
     "output_type": "display_data"
    },
    {
     "data": {
      "text/html": [
       "<pre>recommendations finished on 30000/81697 queries. users per second: 69266.1</pre>"
      ],
      "text/plain": [
       "recommendations finished on 30000/81697 queries. users per second: 69266.1"
      ]
     },
     "metadata": {},
     "output_type": "display_data"
    },
    {
     "data": {
      "text/html": [
       "<pre>recommendations finished on 31000/81697 queries. users per second: 69499.1</pre>"
      ],
      "text/plain": [
       "recommendations finished on 31000/81697 queries. users per second: 69499.1"
      ]
     },
     "metadata": {},
     "output_type": "display_data"
    },
    {
     "data": {
      "text/html": [
       "<pre>recommendations finished on 32000/81697 queries. users per second: 68936.5</pre>"
      ],
      "text/plain": [
       "recommendations finished on 32000/81697 queries. users per second: 68936.5"
      ]
     },
     "metadata": {},
     "output_type": "display_data"
    },
    {
     "data": {
      "text/html": [
       "<pre>recommendations finished on 33000/81697 queries. users per second: 68397.3</pre>"
      ],
      "text/plain": [
       "recommendations finished on 33000/81697 queries. users per second: 68397.3"
      ]
     },
     "metadata": {},
     "output_type": "display_data"
    },
    {
     "data": {
      "text/html": [
       "<pre>recommendations finished on 34000/81697 queries. users per second: 68505.7</pre>"
      ],
      "text/plain": [
       "recommendations finished on 34000/81697 queries. users per second: 68505.7"
      ]
     },
     "metadata": {},
     "output_type": "display_data"
    },
    {
     "data": {
      "text/html": [
       "<pre>recommendations finished on 35000/81697 queries. users per second: 68689.1</pre>"
      ],
      "text/plain": [
       "recommendations finished on 35000/81697 queries. users per second: 68689.1"
      ]
     },
     "metadata": {},
     "output_type": "display_data"
    },
    {
     "data": {
      "text/html": [
       "<pre>recommendations finished on 36000/81697 queries. users per second: 68484.7</pre>"
      ],
      "text/plain": [
       "recommendations finished on 36000/81697 queries. users per second: 68484.7"
      ]
     },
     "metadata": {},
     "output_type": "display_data"
    },
    {
     "data": {
      "text/html": [
       "<pre>recommendations finished on 37000/81697 queries. users per second: 68376.2</pre>"
      ],
      "text/plain": [
       "recommendations finished on 37000/81697 queries. users per second: 68376.2"
      ]
     },
     "metadata": {},
     "output_type": "display_data"
    },
    {
     "data": {
      "text/html": [
       "<pre>recommendations finished on 38000/81697 queries. users per second: 68221.4</pre>"
      ],
      "text/plain": [
       "recommendations finished on 38000/81697 queries. users per second: 68221.4"
      ]
     },
     "metadata": {},
     "output_type": "display_data"
    },
    {
     "data": {
      "text/html": [
       "<pre>recommendations finished on 39000/81697 queries. users per second: 68402.8</pre>"
      ],
      "text/plain": [
       "recommendations finished on 39000/81697 queries. users per second: 68402.8"
      ]
     },
     "metadata": {},
     "output_type": "display_data"
    },
    {
     "data": {
      "text/html": [
       "<pre>recommendations finished on 40000/81697 queries. users per second: 68377.7</pre>"
      ],
      "text/plain": [
       "recommendations finished on 40000/81697 queries. users per second: 68377.7"
      ]
     },
     "metadata": {},
     "output_type": "display_data"
    },
    {
     "data": {
      "text/html": [
       "<pre>recommendations finished on 41000/81697 queries. users per second: 68228.9</pre>"
      ],
      "text/plain": [
       "recommendations finished on 41000/81697 queries. users per second: 68228.9"
      ]
     },
     "metadata": {},
     "output_type": "display_data"
    },
    {
     "data": {
      "text/html": [
       "<pre>recommendations finished on 42000/81697 queries. users per second: 68122.8</pre>"
      ],
      "text/plain": [
       "recommendations finished on 42000/81697 queries. users per second: 68122.8"
      ]
     },
     "metadata": {},
     "output_type": "display_data"
    },
    {
     "data": {
      "text/html": [
       "<pre>recommendations finished on 43000/81697 queries. users per second: 68441.4</pre>"
      ],
      "text/plain": [
       "recommendations finished on 43000/81697 queries. users per second: 68441.4"
      ]
     },
     "metadata": {},
     "output_type": "display_data"
    },
    {
     "data": {
      "text/html": [
       "<pre>recommendations finished on 44000/81697 queries. users per second: 68772.4</pre>"
      ],
      "text/plain": [
       "recommendations finished on 44000/81697 queries. users per second: 68772.4"
      ]
     },
     "metadata": {},
     "output_type": "display_data"
    },
    {
     "data": {
      "text/html": [
       "<pre>recommendations finished on 45000/81697 queries. users per second: 69124.4</pre>"
      ],
      "text/plain": [
       "recommendations finished on 45000/81697 queries. users per second: 69124.4"
      ]
     },
     "metadata": {},
     "output_type": "display_data"
    },
    {
     "data": {
      "text/html": [
       "<pre>recommendations finished on 46000/81697 queries. users per second: 69361.5</pre>"
      ],
      "text/plain": [
       "recommendations finished on 46000/81697 queries. users per second: 69361.5"
      ]
     },
     "metadata": {},
     "output_type": "display_data"
    },
    {
     "data": {
      "text/html": [
       "<pre>recommendations finished on 47000/81697 queries. users per second: 69480.6</pre>"
      ],
      "text/plain": [
       "recommendations finished on 47000/81697 queries. users per second: 69480.6"
      ]
     },
     "metadata": {},
     "output_type": "display_data"
    },
    {
     "data": {
      "text/html": [
       "<pre>recommendations finished on 48000/81697 queries. users per second: 69506.1</pre>"
      ],
      "text/plain": [
       "recommendations finished on 48000/81697 queries. users per second: 69506.1"
      ]
     },
     "metadata": {},
     "output_type": "display_data"
    },
    {
     "data": {
      "text/html": [
       "<pre>recommendations finished on 49000/81697 queries. users per second: 69706.6</pre>"
      ],
      "text/plain": [
       "recommendations finished on 49000/81697 queries. users per second: 69706.6"
      ]
     },
     "metadata": {},
     "output_type": "display_data"
    },
    {
     "data": {
      "text/html": [
       "<pre>recommendations finished on 50000/81697 queries. users per second: 69680.4</pre>"
      ],
      "text/plain": [
       "recommendations finished on 50000/81697 queries. users per second: 69680.4"
      ]
     },
     "metadata": {},
     "output_type": "display_data"
    },
    {
     "data": {
      "text/html": [
       "<pre>recommendations finished on 51000/81697 queries. users per second: 69644.9</pre>"
      ],
      "text/plain": [
       "recommendations finished on 51000/81697 queries. users per second: 69644.9"
      ]
     },
     "metadata": {},
     "output_type": "display_data"
    },
    {
     "data": {
      "text/html": [
       "<pre>recommendations finished on 52000/81697 queries. users per second: 69722.1</pre>"
      ],
      "text/plain": [
       "recommendations finished on 52000/81697 queries. users per second: 69722.1"
      ]
     },
     "metadata": {},
     "output_type": "display_data"
    },
    {
     "data": {
      "text/html": [
       "<pre>recommendations finished on 53000/81697 queries. users per second: 69865.4</pre>"
      ],
      "text/plain": [
       "recommendations finished on 53000/81697 queries. users per second: 69865.4"
      ]
     },
     "metadata": {},
     "output_type": "display_data"
    },
    {
     "data": {
      "text/html": [
       "<pre>recommendations finished on 54000/81697 queries. users per second: 69976.9</pre>"
      ],
      "text/plain": [
       "recommendations finished on 54000/81697 queries. users per second: 69976.9"
      ]
     },
     "metadata": {},
     "output_type": "display_data"
    },
    {
     "data": {
      "text/html": [
       "<pre>recommendations finished on 55000/81697 queries. users per second: 69932.7</pre>"
      ],
      "text/plain": [
       "recommendations finished on 55000/81697 queries. users per second: 69932.7"
      ]
     },
     "metadata": {},
     "output_type": "display_data"
    },
    {
     "data": {
      "text/html": [
       "<pre>recommendations finished on 56000/81697 queries. users per second: 70038.3</pre>"
      ],
      "text/plain": [
       "recommendations finished on 56000/81697 queries. users per second: 70038.3"
      ]
     },
     "metadata": {},
     "output_type": "display_data"
    },
    {
     "data": {
      "text/html": [
       "<pre>recommendations finished on 57000/81697 queries. users per second: 70163.4</pre>"
      ],
      "text/plain": [
       "recommendations finished on 57000/81697 queries. users per second: 70163.4"
      ]
     },
     "metadata": {},
     "output_type": "display_data"
    },
    {
     "data": {
      "text/html": [
       "<pre>recommendations finished on 58000/81697 queries. users per second: 70120.6</pre>"
      ],
      "text/plain": [
       "recommendations finished on 58000/81697 queries. users per second: 70120.6"
      ]
     },
     "metadata": {},
     "output_type": "display_data"
    },
    {
     "data": {
      "text/html": [
       "<pre>recommendations finished on 59000/81697 queries. users per second: 70130.2</pre>"
      ],
      "text/plain": [
       "recommendations finished on 59000/81697 queries. users per second: 70130.2"
      ]
     },
     "metadata": {},
     "output_type": "display_data"
    },
    {
     "data": {
      "text/html": [
       "<pre>recommendations finished on 60000/81697 queries. users per second: 70282.9</pre>"
      ],
      "text/plain": [
       "recommendations finished on 60000/81697 queries. users per second: 70282.9"
      ]
     },
     "metadata": {},
     "output_type": "display_data"
    },
    {
     "data": {
      "text/html": [
       "<pre>recommendations finished on 61000/81697 queries. users per second: 70329.7</pre>"
      ],
      "text/plain": [
       "recommendations finished on 61000/81697 queries. users per second: 70329.7"
      ]
     },
     "metadata": {},
     "output_type": "display_data"
    },
    {
     "data": {
      "text/html": [
       "<pre>recommendations finished on 62000/81697 queries. users per second: 70493.8</pre>"
      ],
      "text/plain": [
       "recommendations finished on 62000/81697 queries. users per second: 70493.8"
      ]
     },
     "metadata": {},
     "output_type": "display_data"
    },
    {
     "data": {
      "text/html": [
       "<pre>recommendations finished on 63000/81697 queries. users per second: 70601.5</pre>"
      ],
      "text/plain": [
       "recommendations finished on 63000/81697 queries. users per second: 70601.5"
      ]
     },
     "metadata": {},
     "output_type": "display_data"
    },
    {
     "data": {
      "text/html": [
       "<pre>recommendations finished on 64000/81697 queries. users per second: 70805.2</pre>"
      ],
      "text/plain": [
       "recommendations finished on 64000/81697 queries. users per second: 70805.2"
      ]
     },
     "metadata": {},
     "output_type": "display_data"
    },
    {
     "data": {
      "text/html": [
       "<pre>recommendations finished on 65000/81697 queries. users per second: 70913.8</pre>"
      ],
      "text/plain": [
       "recommendations finished on 65000/81697 queries. users per second: 70913.8"
      ]
     },
     "metadata": {},
     "output_type": "display_data"
    },
    {
     "data": {
      "text/html": [
       "<pre>recommendations finished on 66000/81697 queries. users per second: 70952.6</pre>"
      ],
      "text/plain": [
       "recommendations finished on 66000/81697 queries. users per second: 70952.6"
      ]
     },
     "metadata": {},
     "output_type": "display_data"
    },
    {
     "data": {
      "text/html": [
       "<pre>recommendations finished on 67000/81697 queries. users per second: 70896.6</pre>"
      ],
      "text/plain": [
       "recommendations finished on 67000/81697 queries. users per second: 70896.6"
      ]
     },
     "metadata": {},
     "output_type": "display_data"
    },
    {
     "data": {
      "text/html": [
       "<pre>recommendations finished on 68000/81697 queries. users per second: 70933.2</pre>"
      ],
      "text/plain": [
       "recommendations finished on 68000/81697 queries. users per second: 70933.2"
      ]
     },
     "metadata": {},
     "output_type": "display_data"
    },
    {
     "data": {
      "text/html": [
       "<pre>recommendations finished on 69000/81697 queries. users per second: 70977.1</pre>"
      ],
      "text/plain": [
       "recommendations finished on 69000/81697 queries. users per second: 70977.1"
      ]
     },
     "metadata": {},
     "output_type": "display_data"
    },
    {
     "data": {
      "text/html": [
       "<pre>recommendations finished on 70000/81697 queries. users per second: 71044.5</pre>"
      ],
      "text/plain": [
       "recommendations finished on 70000/81697 queries. users per second: 71044.5"
      ]
     },
     "metadata": {},
     "output_type": "display_data"
    },
    {
     "data": {
      "text/html": [
       "<pre>recommendations finished on 71000/81697 queries. users per second: 71015.1</pre>"
      ],
      "text/plain": [
       "recommendations finished on 71000/81697 queries. users per second: 71015.1"
      ]
     },
     "metadata": {},
     "output_type": "display_data"
    },
    {
     "data": {
      "text/html": [
       "<pre>recommendations finished on 72000/81697 queries. users per second: 70890.1</pre>"
      ],
      "text/plain": [
       "recommendations finished on 72000/81697 queries. users per second: 70890.1"
      ]
     },
     "metadata": {},
     "output_type": "display_data"
    },
    {
     "data": {
      "text/html": [
       "<pre>recommendations finished on 73000/81697 queries. users per second: 70884.9</pre>"
      ],
      "text/plain": [
       "recommendations finished on 73000/81697 queries. users per second: 70884.9"
      ]
     },
     "metadata": {},
     "output_type": "display_data"
    },
    {
     "data": {
      "text/html": [
       "<pre>recommendations finished on 74000/81697 queries. users per second: 70729.5</pre>"
      ],
      "text/plain": [
       "recommendations finished on 74000/81697 queries. users per second: 70729.5"
      ]
     },
     "metadata": {},
     "output_type": "display_data"
    },
    {
     "data": {
      "text/html": [
       "<pre>recommendations finished on 75000/81697 queries. users per second: 70411.8</pre>"
      ],
      "text/plain": [
       "recommendations finished on 75000/81697 queries. users per second: 70411.8"
      ]
     },
     "metadata": {},
     "output_type": "display_data"
    },
    {
     "data": {
      "text/html": [
       "<pre>recommendations finished on 76000/81697 queries. users per second: 70302.5</pre>"
      ],
      "text/plain": [
       "recommendations finished on 76000/81697 queries. users per second: 70302.5"
      ]
     },
     "metadata": {},
     "output_type": "display_data"
    },
    {
     "data": {
      "text/html": [
       "<pre>recommendations finished on 77000/81697 queries. users per second: 70235.5</pre>"
      ],
      "text/plain": [
       "recommendations finished on 77000/81697 queries. users per second: 70235.5"
      ]
     },
     "metadata": {},
     "output_type": "display_data"
    },
    {
     "data": {
      "text/html": [
       "<pre>recommendations finished on 78000/81697 queries. users per second: 69932.9</pre>"
      ],
      "text/plain": [
       "recommendations finished on 78000/81697 queries. users per second: 69932.9"
      ]
     },
     "metadata": {},
     "output_type": "display_data"
    },
    {
     "data": {
      "text/html": [
       "<pre>recommendations finished on 79000/81697 queries. users per second: 69187.2</pre>"
      ],
      "text/plain": [
       "recommendations finished on 79000/81697 queries. users per second: 69187.2"
      ]
     },
     "metadata": {},
     "output_type": "display_data"
    },
    {
     "data": {
      "text/html": [
       "<pre>recommendations finished on 80000/81697 queries. users per second: 67700.3</pre>"
      ],
      "text/plain": [
       "recommendations finished on 80000/81697 queries. users per second: 67700.3"
      ]
     },
     "metadata": {},
     "output_type": "display_data"
    },
    {
     "data": {
      "text/html": [
       "<pre>recommendations finished on 81000/81697 queries. users per second: 64723.7</pre>"
      ],
      "text/plain": [
       "recommendations finished on 81000/81697 queries. users per second: 64723.7"
      ]
     },
     "metadata": {},
     "output_type": "display_data"
    },
    {
     "name": "stdout",
     "output_type": "stream",
     "text": [
      "\n",
      "Precision and recall summary statistics by cutoff\n",
      "+--------+-----------------------+------------------------+\n",
      "| cutoff |     mean_precision    |      mean_recall       |\n",
      "+--------+-----------------------+------------------------+\n",
      "|   1    |          0.0          |          0.0           |\n",
      "|   2    | 6.120175771448157e-06 | 1.1229680314583754e-07 |\n",
      "|   3    | 0.0012933971463660362 | 0.00012769466655295937 |\n",
      "|   4    | 0.0009884083870888788 | 0.00012847999161039953 |\n",
      "|   5    | 0.0011310084825636297 | 0.00020640443106456874 |\n",
      "|   6    | 0.0009506673031649471 | 0.0002074651124604874  |\n",
      "|   7    | 0.0011033802605096494 | 0.00024698005509197704 |\n",
      "|   8    |  0.001263816296804041 | 0.0003346923767684095  |\n",
      "|   9    | 0.0013695593337440864 | 0.0003811554276712244  |\n",
      "|   10   | 0.0031567866629128617 | 0.0010209754003748482  |\n",
      "+--------+-----------------------+------------------------+\n",
      "[10 rows x 3 columns]\n",
      "\n",
      "\n",
      "Overall RMSE: 7.15704847069076\n",
      "\n",
      "Per User RMSE (best)\n",
      "+------------+------+-------+\n",
      "| CardHolder | rmse | count |\n",
      "+------------+------+-------+\n",
      "|  59100059  | 0.0  |   1   |\n",
      "+------------+------+-------+\n",
      "[1 rows x 3 columns]\n",
      "\n",
      "\n",
      "Per User RMSE (worst)\n",
      "+------------+--------------------+-------+\n",
      "| CardHolder |        rmse        | count |\n",
      "+------------+--------------------+-------+\n",
      "|  82910713  | 1064.1411938143654 |   3   |\n",
      "+------------+--------------------+-------+\n",
      "[1 rows x 3 columns]\n",
      "\n",
      "\n",
      "Per Item RMSE (best)\n",
      "+----------+------+-------+\n",
      "| Material | rmse | count |\n",
      "+----------+------+-------+\n",
      "|  433610  | 0.0  |   1   |\n",
      "+----------+------+-------+\n",
      "[1 rows x 3 columns]\n",
      "\n",
      "\n",
      "Per Item RMSE (worst)\n",
      "+----------+--------------------+-------+\n",
      "| Material |        rmse        | count |\n",
      "+----------+--------------------+-------+\n",
      "|  378667  | 144.27322948455588 |  316  |\n",
      "+----------+--------------------+-------+\n",
      "[1 rows x 3 columns]\n",
      "\n",
      "PROGRESS: Evaluate model Cosine Similarity on item quantity\n"
     ]
    },
    {
     "data": {
      "text/html": [
       "<pre>recommendations finished on 1000/81697 queries. users per second: 16135</pre>"
      ],
      "text/plain": [
       "recommendations finished on 1000/81697 queries. users per second: 16135"
      ]
     },
     "metadata": {},
     "output_type": "display_data"
    },
    {
     "data": {
      "text/html": [
       "<pre>recommendations finished on 2000/81697 queries. users per second: 22550.5</pre>"
      ],
      "text/plain": [
       "recommendations finished on 2000/81697 queries. users per second: 22550.5"
      ]
     },
     "metadata": {},
     "output_type": "display_data"
    },
    {
     "data": {
      "text/html": [
       "<pre>recommendations finished on 3000/81697 queries. users per second: 24741.9</pre>"
      ],
      "text/plain": [
       "recommendations finished on 3000/81697 queries. users per second: 24741.9"
      ]
     },
     "metadata": {},
     "output_type": "display_data"
    },
    {
     "data": {
      "text/html": [
       "<pre>recommendations finished on 4000/81697 queries. users per second: 27692</pre>"
      ],
      "text/plain": [
       "recommendations finished on 4000/81697 queries. users per second: 27692"
      ]
     },
     "metadata": {},
     "output_type": "display_data"
    },
    {
     "data": {
      "text/html": [
       "<pre>recommendations finished on 5000/81697 queries. users per second: 27107</pre>"
      ],
      "text/plain": [
       "recommendations finished on 5000/81697 queries. users per second: 27107"
      ]
     },
     "metadata": {},
     "output_type": "display_data"
    },
    {
     "data": {
      "text/html": [
       "<pre>recommendations finished on 6000/81697 queries. users per second: 26712.5</pre>"
      ],
      "text/plain": [
       "recommendations finished on 6000/81697 queries. users per second: 26712.5"
      ]
     },
     "metadata": {},
     "output_type": "display_data"
    },
    {
     "data": {
      "text/html": [
       "<pre>recommendations finished on 7000/81697 queries. users per second: 25260.5</pre>"
      ],
      "text/plain": [
       "recommendations finished on 7000/81697 queries. users per second: 25260.5"
      ]
     },
     "metadata": {},
     "output_type": "display_data"
    },
    {
     "data": {
      "text/html": [
       "<pre>recommendations finished on 8000/81697 queries. users per second: 26384.4</pre>"
      ],
      "text/plain": [
       "recommendations finished on 8000/81697 queries. users per second: 26384.4"
      ]
     },
     "metadata": {},
     "output_type": "display_data"
    },
    {
     "data": {
      "text/html": [
       "<pre>recommendations finished on 9000/81697 queries. users per second: 27611.4</pre>"
      ],
      "text/plain": [
       "recommendations finished on 9000/81697 queries. users per second: 27611.4"
      ]
     },
     "metadata": {},
     "output_type": "display_data"
    },
    {
     "data": {
      "text/html": [
       "<pre>recommendations finished on 10000/81697 queries. users per second: 27949</pre>"
      ],
      "text/plain": [
       "recommendations finished on 10000/81697 queries. users per second: 27949"
      ]
     },
     "metadata": {},
     "output_type": "display_data"
    },
    {
     "data": {
      "text/html": [
       "<pre>recommendations finished on 11000/81697 queries. users per second: 28757.3</pre>"
      ],
      "text/plain": [
       "recommendations finished on 11000/81697 queries. users per second: 28757.3"
      ]
     },
     "metadata": {},
     "output_type": "display_data"
    },
    {
     "data": {
      "text/html": [
       "<pre>recommendations finished on 12000/81697 queries. users per second: 29252.5</pre>"
      ],
      "text/plain": [
       "recommendations finished on 12000/81697 queries. users per second: 29252.5"
      ]
     },
     "metadata": {},
     "output_type": "display_data"
    },
    {
     "data": {
      "text/html": [
       "<pre>recommendations finished on 13000/81697 queries. users per second: 29899.4</pre>"
      ],
      "text/plain": [
       "recommendations finished on 13000/81697 queries. users per second: 29899.4"
      ]
     },
     "metadata": {},
     "output_type": "display_data"
    },
    {
     "data": {
      "text/html": [
       "<pre>recommendations finished on 14000/81697 queries. users per second: 30368.5</pre>"
      ],
      "text/plain": [
       "recommendations finished on 14000/81697 queries. users per second: 30368.5"
      ]
     },
     "metadata": {},
     "output_type": "display_data"
    },
    {
     "data": {
      "text/html": [
       "<pre>recommendations finished on 15000/81697 queries. users per second: 30527.8</pre>"
      ],
      "text/plain": [
       "recommendations finished on 15000/81697 queries. users per second: 30527.8"
      ]
     },
     "metadata": {},
     "output_type": "display_data"
    },
    {
     "data": {
      "text/html": [
       "<pre>recommendations finished on 16000/81697 queries. users per second: 30856.9</pre>"
      ],
      "text/plain": [
       "recommendations finished on 16000/81697 queries. users per second: 30856.9"
      ]
     },
     "metadata": {},
     "output_type": "display_data"
    },
    {
     "data": {
      "text/html": [
       "<pre>recommendations finished on 17000/81697 queries. users per second: 31241.6</pre>"
      ],
      "text/plain": [
       "recommendations finished on 17000/81697 queries. users per second: 31241.6"
      ]
     },
     "metadata": {},
     "output_type": "display_data"
    },
    {
     "data": {
      "text/html": [
       "<pre>recommendations finished on 18000/81697 queries. users per second: 31517</pre>"
      ],
      "text/plain": [
       "recommendations finished on 18000/81697 queries. users per second: 31517"
      ]
     },
     "metadata": {},
     "output_type": "display_data"
    },
    {
     "data": {
      "text/html": [
       "<pre>recommendations finished on 19000/81697 queries. users per second: 31829.1</pre>"
      ],
      "text/plain": [
       "recommendations finished on 19000/81697 queries. users per second: 31829.1"
      ]
     },
     "metadata": {},
     "output_type": "display_data"
    },
    {
     "data": {
      "text/html": [
       "<pre>recommendations finished on 20000/81697 queries. users per second: 32261.7</pre>"
      ],
      "text/plain": [
       "recommendations finished on 20000/81697 queries. users per second: 32261.7"
      ]
     },
     "metadata": {},
     "output_type": "display_data"
    },
    {
     "data": {
      "text/html": [
       "<pre>recommendations finished on 21000/81697 queries. users per second: 32732.2</pre>"
      ],
      "text/plain": [
       "recommendations finished on 21000/81697 queries. users per second: 32732.2"
      ]
     },
     "metadata": {},
     "output_type": "display_data"
    },
    {
     "data": {
      "text/html": [
       "<pre>recommendations finished on 22000/81697 queries. users per second: 32967.1</pre>"
      ],
      "text/plain": [
       "recommendations finished on 22000/81697 queries. users per second: 32967.1"
      ]
     },
     "metadata": {},
     "output_type": "display_data"
    },
    {
     "data": {
      "text/html": [
       "<pre>recommendations finished on 23000/81697 queries. users per second: 33165.9</pre>"
      ],
      "text/plain": [
       "recommendations finished on 23000/81697 queries. users per second: 33165.9"
      ]
     },
     "metadata": {},
     "output_type": "display_data"
    },
    {
     "data": {
      "text/html": [
       "<pre>recommendations finished on 24000/81697 queries. users per second: 33354.5</pre>"
      ],
      "text/plain": [
       "recommendations finished on 24000/81697 queries. users per second: 33354.5"
      ]
     },
     "metadata": {},
     "output_type": "display_data"
    },
    {
     "data": {
      "text/html": [
       "<pre>recommendations finished on 25000/81697 queries. users per second: 33486.3</pre>"
      ],
      "text/plain": [
       "recommendations finished on 25000/81697 queries. users per second: 33486.3"
      ]
     },
     "metadata": {},
     "output_type": "display_data"
    },
    {
     "data": {
      "text/html": [
       "<pre>recommendations finished on 26000/81697 queries. users per second: 33755.8</pre>"
      ],
      "text/plain": [
       "recommendations finished on 26000/81697 queries. users per second: 33755.8"
      ]
     },
     "metadata": {},
     "output_type": "display_data"
    },
    {
     "data": {
      "text/html": [
       "<pre>recommendations finished on 27000/81697 queries. users per second: 34045.7</pre>"
      ],
      "text/plain": [
       "recommendations finished on 27000/81697 queries. users per second: 34045.7"
      ]
     },
     "metadata": {},
     "output_type": "display_data"
    },
    {
     "data": {
      "text/html": [
       "<pre>recommendations finished on 28000/81697 queries. users per second: 34378.7</pre>"
      ],
      "text/plain": [
       "recommendations finished on 28000/81697 queries. users per second: 34378.7"
      ]
     },
     "metadata": {},
     "output_type": "display_data"
    },
    {
     "data": {
      "text/html": [
       "<pre>recommendations finished on 29000/81697 queries. users per second: 34732.3</pre>"
      ],
      "text/plain": [
       "recommendations finished on 29000/81697 queries. users per second: 34732.3"
      ]
     },
     "metadata": {},
     "output_type": "display_data"
    },
    {
     "data": {
      "text/html": [
       "<pre>recommendations finished on 30000/81697 queries. users per second: 34982</pre>"
      ],
      "text/plain": [
       "recommendations finished on 30000/81697 queries. users per second: 34982"
      ]
     },
     "metadata": {},
     "output_type": "display_data"
    },
    {
     "data": {
      "text/html": [
       "<pre>recommendations finished on 31000/81697 queries. users per second: 35028.8</pre>"
      ],
      "text/plain": [
       "recommendations finished on 31000/81697 queries. users per second: 35028.8"
      ]
     },
     "metadata": {},
     "output_type": "display_data"
    },
    {
     "data": {
      "text/html": [
       "<pre>recommendations finished on 32000/81697 queries. users per second: 35176.3</pre>"
      ],
      "text/plain": [
       "recommendations finished on 32000/81697 queries. users per second: 35176.3"
      ]
     },
     "metadata": {},
     "output_type": "display_data"
    },
    {
     "data": {
      "text/html": [
       "<pre>recommendations finished on 33000/81697 queries. users per second: 35252.8</pre>"
      ],
      "text/plain": [
       "recommendations finished on 33000/81697 queries. users per second: 35252.8"
      ]
     },
     "metadata": {},
     "output_type": "display_data"
    },
    {
     "data": {
      "text/html": [
       "<pre>recommendations finished on 34000/81697 queries. users per second: 35335.2</pre>"
      ],
      "text/plain": [
       "recommendations finished on 34000/81697 queries. users per second: 35335.2"
      ]
     },
     "metadata": {},
     "output_type": "display_data"
    },
    {
     "data": {
      "text/html": [
       "<pre>recommendations finished on 35000/81697 queries. users per second: 35525.5</pre>"
      ],
      "text/plain": [
       "recommendations finished on 35000/81697 queries. users per second: 35525.5"
      ]
     },
     "metadata": {},
     "output_type": "display_data"
    },
    {
     "data": {
      "text/html": [
       "<pre>recommendations finished on 36000/81697 queries. users per second: 35764.3</pre>"
      ],
      "text/plain": [
       "recommendations finished on 36000/81697 queries. users per second: 35764.3"
      ]
     },
     "metadata": {},
     "output_type": "display_data"
    },
    {
     "data": {
      "text/html": [
       "<pre>recommendations finished on 37000/81697 queries. users per second: 35943.7</pre>"
      ],
      "text/plain": [
       "recommendations finished on 37000/81697 queries. users per second: 35943.7"
      ]
     },
     "metadata": {},
     "output_type": "display_data"
    },
    {
     "data": {
      "text/html": [
       "<pre>recommendations finished on 38000/81697 queries. users per second: 35978.5</pre>"
      ],
      "text/plain": [
       "recommendations finished on 38000/81697 queries. users per second: 35978.5"
      ]
     },
     "metadata": {},
     "output_type": "display_data"
    },
    {
     "data": {
      "text/html": [
       "<pre>recommendations finished on 39000/81697 queries. users per second: 36158.6</pre>"
      ],
      "text/plain": [
       "recommendations finished on 39000/81697 queries. users per second: 36158.6"
      ]
     },
     "metadata": {},
     "output_type": "display_data"
    },
    {
     "data": {
      "text/html": [
       "<pre>recommendations finished on 40000/81697 queries. users per second: 36266.6</pre>"
      ],
      "text/plain": [
       "recommendations finished on 40000/81697 queries. users per second: 36266.6"
      ]
     },
     "metadata": {},
     "output_type": "display_data"
    },
    {
     "data": {
      "text/html": [
       "<pre>recommendations finished on 41000/81697 queries. users per second: 36225.7</pre>"
      ],
      "text/plain": [
       "recommendations finished on 41000/81697 queries. users per second: 36225.7"
      ]
     },
     "metadata": {},
     "output_type": "display_data"
    },
    {
     "data": {
      "text/html": [
       "<pre>recommendations finished on 42000/81697 queries. users per second: 36294.9</pre>"
      ],
      "text/plain": [
       "recommendations finished on 42000/81697 queries. users per second: 36294.9"
      ]
     },
     "metadata": {},
     "output_type": "display_data"
    },
    {
     "data": {
      "text/html": [
       "<pre>recommendations finished on 43000/81697 queries. users per second: 36391.1</pre>"
      ],
      "text/plain": [
       "recommendations finished on 43000/81697 queries. users per second: 36391.1"
      ]
     },
     "metadata": {},
     "output_type": "display_data"
    },
    {
     "data": {
      "text/html": [
       "<pre>recommendations finished on 44000/81697 queries. users per second: 36561.9</pre>"
      ],
      "text/plain": [
       "recommendations finished on 44000/81697 queries. users per second: 36561.9"
      ]
     },
     "metadata": {},
     "output_type": "display_data"
    },
    {
     "data": {
      "text/html": [
       "<pre>recommendations finished on 45000/81697 queries. users per second: 36633.3</pre>"
      ],
      "text/plain": [
       "recommendations finished on 45000/81697 queries. users per second: 36633.3"
      ]
     },
     "metadata": {},
     "output_type": "display_data"
    },
    {
     "data": {
      "text/html": [
       "<pre>recommendations finished on 46000/81697 queries. users per second: 36760.2</pre>"
      ],
      "text/plain": [
       "recommendations finished on 46000/81697 queries. users per second: 36760.2"
      ]
     },
     "metadata": {},
     "output_type": "display_data"
    },
    {
     "data": {
      "text/html": [
       "<pre>recommendations finished on 47000/81697 queries. users per second: 36953.7</pre>"
      ],
      "text/plain": [
       "recommendations finished on 47000/81697 queries. users per second: 36953.7"
      ]
     },
     "metadata": {},
     "output_type": "display_data"
    },
    {
     "data": {
      "text/html": [
       "<pre>recommendations finished on 48000/81697 queries. users per second: 36981.3</pre>"
      ],
      "text/plain": [
       "recommendations finished on 48000/81697 queries. users per second: 36981.3"
      ]
     },
     "metadata": {},
     "output_type": "display_data"
    },
    {
     "data": {
      "text/html": [
       "<pre>recommendations finished on 49000/81697 queries. users per second: 37093.1</pre>"
      ],
      "text/plain": [
       "recommendations finished on 49000/81697 queries. users per second: 37093.1"
      ]
     },
     "metadata": {},
     "output_type": "display_data"
    },
    {
     "data": {
      "text/html": [
       "<pre>recommendations finished on 50000/81697 queries. users per second: 37268.7</pre>"
      ],
      "text/plain": [
       "recommendations finished on 50000/81697 queries. users per second: 37268.7"
      ]
     },
     "metadata": {},
     "output_type": "display_data"
    },
    {
     "data": {
      "text/html": [
       "<pre>recommendations finished on 51000/81697 queries. users per second: 37461.5</pre>"
      ],
      "text/plain": [
       "recommendations finished on 51000/81697 queries. users per second: 37461.5"
      ]
     },
     "metadata": {},
     "output_type": "display_data"
    },
    {
     "data": {
      "text/html": [
       "<pre>recommendations finished on 52000/81697 queries. users per second: 37547.6</pre>"
      ],
      "text/plain": [
       "recommendations finished on 52000/81697 queries. users per second: 37547.6"
      ]
     },
     "metadata": {},
     "output_type": "display_data"
    },
    {
     "data": {
      "text/html": [
       "<pre>recommendations finished on 53000/81697 queries. users per second: 37602.9</pre>"
      ],
      "text/plain": [
       "recommendations finished on 53000/81697 queries. users per second: 37602.9"
      ]
     },
     "metadata": {},
     "output_type": "display_data"
    },
    {
     "data": {
      "text/html": [
       "<pre>recommendations finished on 54000/81697 queries. users per second: 37645.1</pre>"
      ],
      "text/plain": [
       "recommendations finished on 54000/81697 queries. users per second: 37645.1"
      ]
     },
     "metadata": {},
     "output_type": "display_data"
    },
    {
     "data": {
      "text/html": [
       "<pre>recommendations finished on 55000/81697 queries. users per second: 37713.4</pre>"
      ],
      "text/plain": [
       "recommendations finished on 55000/81697 queries. users per second: 37713.4"
      ]
     },
     "metadata": {},
     "output_type": "display_data"
    },
    {
     "data": {
      "text/html": [
       "<pre>recommendations finished on 56000/81697 queries. users per second: 37623</pre>"
      ],
      "text/plain": [
       "recommendations finished on 56000/81697 queries. users per second: 37623"
      ]
     },
     "metadata": {},
     "output_type": "display_data"
    },
    {
     "data": {
      "text/html": [
       "<pre>recommendations finished on 57000/81697 queries. users per second: 37405.9</pre>"
      ],
      "text/plain": [
       "recommendations finished on 57000/81697 queries. users per second: 37405.9"
      ]
     },
     "metadata": {},
     "output_type": "display_data"
    },
    {
     "data": {
      "text/html": [
       "<pre>recommendations finished on 58000/81697 queries. users per second: 37481.7</pre>"
      ],
      "text/plain": [
       "recommendations finished on 58000/81697 queries. users per second: 37481.7"
      ]
     },
     "metadata": {},
     "output_type": "display_data"
    },
    {
     "data": {
      "text/html": [
       "<pre>recommendations finished on 59000/81697 queries. users per second: 37581.7</pre>"
      ],
      "text/plain": [
       "recommendations finished on 59000/81697 queries. users per second: 37581.7"
      ]
     },
     "metadata": {},
     "output_type": "display_data"
    },
    {
     "data": {
      "text/html": [
       "<pre>recommendations finished on 60000/81697 queries. users per second: 37626.8</pre>"
      ],
      "text/plain": [
       "recommendations finished on 60000/81697 queries. users per second: 37626.8"
      ]
     },
     "metadata": {},
     "output_type": "display_data"
    },
    {
     "data": {
      "text/html": [
       "<pre>recommendations finished on 61000/81697 queries. users per second: 37695.4</pre>"
      ],
      "text/plain": [
       "recommendations finished on 61000/81697 queries. users per second: 37695.4"
      ]
     },
     "metadata": {},
     "output_type": "display_data"
    },
    {
     "data": {
      "text/html": [
       "<pre>recommendations finished on 62000/81697 queries. users per second: 37803.9</pre>"
      ],
      "text/plain": [
       "recommendations finished on 62000/81697 queries. users per second: 37803.9"
      ]
     },
     "metadata": {},
     "output_type": "display_data"
    },
    {
     "data": {
      "text/html": [
       "<pre>recommendations finished on 63000/81697 queries. users per second: 37771.3</pre>"
      ],
      "text/plain": [
       "recommendations finished on 63000/81697 queries. users per second: 37771.3"
      ]
     },
     "metadata": {},
     "output_type": "display_data"
    },
    {
     "data": {
      "text/html": [
       "<pre>recommendations finished on 64000/81697 queries. users per second: 37698.8</pre>"
      ],
      "text/plain": [
       "recommendations finished on 64000/81697 queries. users per second: 37698.8"
      ]
     },
     "metadata": {},
     "output_type": "display_data"
    },
    {
     "data": {
      "text/html": [
       "<pre>recommendations finished on 65000/81697 queries. users per second: 37615.6</pre>"
      ],
      "text/plain": [
       "recommendations finished on 65000/81697 queries. users per second: 37615.6"
      ]
     },
     "metadata": {},
     "output_type": "display_data"
    },
    {
     "data": {
      "text/html": [
       "<pre>recommendations finished on 66000/81697 queries. users per second: 37654.8</pre>"
      ],
      "text/plain": [
       "recommendations finished on 66000/81697 queries. users per second: 37654.8"
      ]
     },
     "metadata": {},
     "output_type": "display_data"
    },
    {
     "data": {
      "text/html": [
       "<pre>recommendations finished on 67000/81697 queries. users per second: 37759.2</pre>"
      ],
      "text/plain": [
       "recommendations finished on 67000/81697 queries. users per second: 37759.2"
      ]
     },
     "metadata": {},
     "output_type": "display_data"
    },
    {
     "data": {
      "text/html": [
       "<pre>recommendations finished on 68000/81697 queries. users per second: 37752.7</pre>"
      ],
      "text/plain": [
       "recommendations finished on 68000/81697 queries. users per second: 37752.7"
      ]
     },
     "metadata": {},
     "output_type": "display_data"
    },
    {
     "data": {
      "text/html": [
       "<pre>recommendations finished on 69000/81697 queries. users per second: 37702.2</pre>"
      ],
      "text/plain": [
       "recommendations finished on 69000/81697 queries. users per second: 37702.2"
      ]
     },
     "metadata": {},
     "output_type": "display_data"
    },
    {
     "data": {
      "text/html": [
       "<pre>recommendations finished on 70000/81697 queries. users per second: 37667.3</pre>"
      ],
      "text/plain": [
       "recommendations finished on 70000/81697 queries. users per second: 37667.3"
      ]
     },
     "metadata": {},
     "output_type": "display_data"
    },
    {
     "data": {
      "text/html": [
       "<pre>recommendations finished on 71000/81697 queries. users per second: 37692.3</pre>"
      ],
      "text/plain": [
       "recommendations finished on 71000/81697 queries. users per second: 37692.3"
      ]
     },
     "metadata": {},
     "output_type": "display_data"
    },
    {
     "data": {
      "text/html": [
       "<pre>recommendations finished on 72000/81697 queries. users per second: 37337.2</pre>"
      ],
      "text/plain": [
       "recommendations finished on 72000/81697 queries. users per second: 37337.2"
      ]
     },
     "metadata": {},
     "output_type": "display_data"
    },
    {
     "data": {
      "text/html": [
       "<pre>recommendations finished on 73000/81697 queries. users per second: 37098.3</pre>"
      ],
      "text/plain": [
       "recommendations finished on 73000/81697 queries. users per second: 37098.3"
      ]
     },
     "metadata": {},
     "output_type": "display_data"
    },
    {
     "data": {
      "text/html": [
       "<pre>recommendations finished on 74000/81697 queries. users per second: 37117.8</pre>"
      ],
      "text/plain": [
       "recommendations finished on 74000/81697 queries. users per second: 37117.8"
      ]
     },
     "metadata": {},
     "output_type": "display_data"
    },
    {
     "data": {
      "text/html": [
       "<pre>recommendations finished on 75000/81697 queries. users per second: 36879.4</pre>"
      ],
      "text/plain": [
       "recommendations finished on 75000/81697 queries. users per second: 36879.4"
      ]
     },
     "metadata": {},
     "output_type": "display_data"
    },
    {
     "data": {
      "text/html": [
       "<pre>recommendations finished on 76000/81697 queries. users per second: 36849.6</pre>"
      ],
      "text/plain": [
       "recommendations finished on 76000/81697 queries. users per second: 36849.6"
      ]
     },
     "metadata": {},
     "output_type": "display_data"
    },
    {
     "data": {
      "text/html": [
       "<pre>recommendations finished on 77000/81697 queries. users per second: 36884.4</pre>"
      ],
      "text/plain": [
       "recommendations finished on 77000/81697 queries. users per second: 36884.4"
      ]
     },
     "metadata": {},
     "output_type": "display_data"
    },
    {
     "data": {
      "text/html": [
       "<pre>recommendations finished on 78000/81697 queries. users per second: 36671</pre>"
      ],
      "text/plain": [
       "recommendations finished on 78000/81697 queries. users per second: 36671"
      ]
     },
     "metadata": {},
     "output_type": "display_data"
    },
    {
     "data": {
      "text/html": [
       "<pre>recommendations finished on 79000/81697 queries. users per second: 35476</pre>"
      ],
      "text/plain": [
       "recommendations finished on 79000/81697 queries. users per second: 35476"
      ]
     },
     "metadata": {},
     "output_type": "display_data"
    },
    {
     "data": {
      "text/html": [
       "<pre>recommendations finished on 80000/81697 queries. users per second: 35184.8</pre>"
      ],
      "text/plain": [
       "recommendations finished on 80000/81697 queries. users per second: 35184.8"
      ]
     },
     "metadata": {},
     "output_type": "display_data"
    },
    {
     "data": {
      "text/html": [
       "<pre>recommendations finished on 81000/81697 queries. users per second: 34542.9</pre>"
      ],
      "text/plain": [
       "recommendations finished on 81000/81697 queries. users per second: 34542.9"
      ]
     },
     "metadata": {},
     "output_type": "display_data"
    },
    {
     "name": "stdout",
     "output_type": "stream",
     "text": [
      "\n",
      "Precision and recall summary statistics by cutoff\n",
      "+--------+----------------------+-----------------------+\n",
      "| cutoff |    mean_precision    |      mean_recall      |\n",
      "+--------+----------------------+-----------------------+\n",
      "|   1    | 0.06974552309142297  | 0.0028394419611409275 |\n",
      "|   2    | 0.060222529591049866 | 0.0049136972056426625 |\n",
      "|   3    | 0.05394322924954457  |  0.006609702652420212 |\n",
      "|   4    | 0.049576483836615864 |  0.008015180215140654 |\n",
      "|   5    | 0.04646927059745055  |  0.009177266621752046 |\n",
      "|   6    | 0.04379189770330162  |  0.010289833149336684 |\n",
      "|   7    | 0.041657413543775876 |  0.01142160360608337  |\n",
      "|   8    | 0.039879065326756294 |  0.012383199683150218 |\n",
      "|   9    | 0.038414303258791034 |  0.013332543556990945 |\n",
      "|   10   | 0.03712498622960313  |  0.014159949091728864 |\n",
      "+--------+----------------------+-----------------------+\n",
      "[10 rows x 3 columns]\n",
      "\n"
     ]
    }
   ],
   "source": [
    "              ##..evaluation of models.\n",
    "eval_quantity_based = tc.recommender.util.compare_models(user_item_ts,\n",
    "                                                         quantity_based_models,\n",
    "                                                          model_names = names_qqt )"
   ]
  },
  {
   "cell_type": "code",
   "execution_count": null,
   "metadata": {},
   "outputs": [],
   "source": []
  },
  {
   "cell_type": "code",
   "execution_count": 76,
   "metadata": {},
   "outputs": [],
   "source": [
    "eval_mask_based = tc.recommender.util.compare_models(df_purchase_info_ts,\n",
    "                                                          mask_based_models,\n",
    "                                                           model_names = names_mask )"
   ]
  },
  {
   "cell_type": "code",
   "execution_count": null,
   "metadata": {},
   "outputs": [],
   "source": []
  },
  {
   "cell_type": "code",
   "execution_count": null,
   "metadata": {},
   "outputs": [
    {
     "name": "stdout",
     "output_type": "stream",
     "text": [
      "PROGRESS: Evaluate model Popularity Model on purchase freq\n"
     ]
    },
    {
     "data": {
      "text/html": [
       "<pre>recommendations finished on 1000/82045 queries. users per second: 15114</pre>"
      ],
      "text/plain": [
       "recommendations finished on 1000/82045 queries. users per second: 15114"
      ]
     },
     "metadata": {},
     "output_type": "display_data"
    },
    {
     "data": {
      "text/html": [
       "<pre>recommendations finished on 2000/82045 queries. users per second: 15877.9</pre>"
      ],
      "text/plain": [
       "recommendations finished on 2000/82045 queries. users per second: 15877.9"
      ]
     },
     "metadata": {},
     "output_type": "display_data"
    },
    {
     "data": {
      "text/html": [
       "<pre>recommendations finished on 3000/82045 queries. users per second: 20901</pre>"
      ],
      "text/plain": [
       "recommendations finished on 3000/82045 queries. users per second: 20901"
      ]
     },
     "metadata": {},
     "output_type": "display_data"
    },
    {
     "data": {
      "text/html": [
       "<pre>recommendations finished on 4000/82045 queries. users per second: 25368.2</pre>"
      ],
      "text/plain": [
       "recommendations finished on 4000/82045 queries. users per second: 25368.2"
      ]
     },
     "metadata": {},
     "output_type": "display_data"
    },
    {
     "data": {
      "text/html": [
       "<pre>recommendations finished on 5000/82045 queries. users per second: 29391.5</pre>"
      ],
      "text/plain": [
       "recommendations finished on 5000/82045 queries. users per second: 29391.5"
      ]
     },
     "metadata": {},
     "output_type": "display_data"
    },
    {
     "data": {
      "text/html": [
       "<pre>recommendations finished on 6000/82045 queries. users per second: 33232</pre>"
      ],
      "text/plain": [
       "recommendations finished on 6000/82045 queries. users per second: 33232"
      ]
     },
     "metadata": {},
     "output_type": "display_data"
    },
    {
     "data": {
      "text/html": [
       "<pre>recommendations finished on 7000/82045 queries. users per second: 36678.6</pre>"
      ],
      "text/plain": [
       "recommendations finished on 7000/82045 queries. users per second: 36678.6"
      ]
     },
     "metadata": {},
     "output_type": "display_data"
    },
    {
     "data": {
      "text/html": [
       "<pre>recommendations finished on 8000/82045 queries. users per second: 39861.9</pre>"
      ],
      "text/plain": [
       "recommendations finished on 8000/82045 queries. users per second: 39861.9"
      ]
     },
     "metadata": {},
     "output_type": "display_data"
    },
    {
     "data": {
      "text/html": [
       "<pre>recommendations finished on 9000/82045 queries. users per second: 42843.5</pre>"
      ],
      "text/plain": [
       "recommendations finished on 9000/82045 queries. users per second: 42843.5"
      ]
     },
     "metadata": {},
     "output_type": "display_data"
    },
    {
     "data": {
      "text/html": [
       "<pre>recommendations finished on 10000/82045 queries. users per second: 45541.7</pre>"
      ],
      "text/plain": [
       "recommendations finished on 10000/82045 queries. users per second: 45541.7"
      ]
     },
     "metadata": {},
     "output_type": "display_data"
    },
    {
     "data": {
      "text/html": [
       "<pre>recommendations finished on 11000/82045 queries. users per second: 48075.2</pre>"
      ],
      "text/plain": [
       "recommendations finished on 11000/82045 queries. users per second: 48075.2"
      ]
     },
     "metadata": {},
     "output_type": "display_data"
    },
    {
     "data": {
      "text/html": [
       "<pre>recommendations finished on 12000/82045 queries. users per second: 50414</pre>"
      ],
      "text/plain": [
       "recommendations finished on 12000/82045 queries. users per second: 50414"
      ]
     },
     "metadata": {},
     "output_type": "display_data"
    },
    {
     "data": {
      "text/html": [
       "<pre>recommendations finished on 13000/82045 queries. users per second: 52600.5</pre>"
      ],
      "text/plain": [
       "recommendations finished on 13000/82045 queries. users per second: 52600.5"
      ]
     },
     "metadata": {},
     "output_type": "display_data"
    },
    {
     "data": {
      "text/html": [
       "<pre>recommendations finished on 14000/82045 queries. users per second: 54686.9</pre>"
      ],
      "text/plain": [
       "recommendations finished on 14000/82045 queries. users per second: 54686.9"
      ]
     },
     "metadata": {},
     "output_type": "display_data"
    },
    {
     "data": {
      "text/html": [
       "<pre>recommendations finished on 15000/82045 queries. users per second: 56638.6</pre>"
      ],
      "text/plain": [
       "recommendations finished on 15000/82045 queries. users per second: 56638.6"
      ]
     },
     "metadata": {},
     "output_type": "display_data"
    },
    {
     "data": {
      "text/html": [
       "<pre>recommendations finished on 16000/82045 queries. users per second: 58415.3</pre>"
      ],
      "text/plain": [
       "recommendations finished on 16000/82045 queries. users per second: 58415.3"
      ]
     },
     "metadata": {},
     "output_type": "display_data"
    },
    {
     "data": {
      "text/html": [
       "<pre>recommendations finished on 17000/82045 queries. users per second: 60105.7</pre>"
      ],
      "text/plain": [
       "recommendations finished on 17000/82045 queries. users per second: 60105.7"
      ]
     },
     "metadata": {},
     "output_type": "display_data"
    },
    {
     "data": {
      "text/html": [
       "<pre>recommendations finished on 18000/82045 queries. users per second: 61727.8</pre>"
      ],
      "text/plain": [
       "recommendations finished on 18000/82045 queries. users per second: 61727.8"
      ]
     },
     "metadata": {},
     "output_type": "display_data"
    },
    {
     "data": {
      "text/html": [
       "<pre>recommendations finished on 19000/82045 queries. users per second: 63250.5</pre>"
      ],
      "text/plain": [
       "recommendations finished on 19000/82045 queries. users per second: 63250.5"
      ]
     },
     "metadata": {},
     "output_type": "display_data"
    },
    {
     "data": {
      "text/html": [
       "<pre>recommendations finished on 20000/82045 queries. users per second: 64699.4</pre>"
      ],
      "text/plain": [
       "recommendations finished on 20000/82045 queries. users per second: 64699.4"
      ]
     },
     "metadata": {},
     "output_type": "display_data"
    },
    {
     "data": {
      "text/html": [
       "<pre>recommendations finished on 21000/82045 queries. users per second: 66075.1</pre>"
      ],
      "text/plain": [
       "recommendations finished on 21000/82045 queries. users per second: 66075.1"
      ]
     },
     "metadata": {},
     "output_type": "display_data"
    },
    {
     "data": {
      "text/html": [
       "<pre>recommendations finished on 22000/82045 queries. users per second: 67305.9</pre>"
      ],
      "text/plain": [
       "recommendations finished on 22000/82045 queries. users per second: 67305.9"
      ]
     },
     "metadata": {},
     "output_type": "display_data"
    },
    {
     "data": {
      "text/html": [
       "<pre>recommendations finished on 23000/82045 queries. users per second: 68466.6</pre>"
      ],
      "text/plain": [
       "recommendations finished on 23000/82045 queries. users per second: 68466.6"
      ]
     },
     "metadata": {},
     "output_type": "display_data"
    },
    {
     "data": {
      "text/html": [
       "<pre>recommendations finished on 24000/82045 queries. users per second: 69566</pre>"
      ],
      "text/plain": [
       "recommendations finished on 24000/82045 queries. users per second: 69566"
      ]
     },
     "metadata": {},
     "output_type": "display_data"
    },
    {
     "data": {
      "text/html": [
       "<pre>recommendations finished on 25000/82045 queries. users per second: 70566.8</pre>"
      ],
      "text/plain": [
       "recommendations finished on 25000/82045 queries. users per second: 70566.8"
      ]
     },
     "metadata": {},
     "output_type": "display_data"
    },
    {
     "data": {
      "text/html": [
       "<pre>recommendations finished on 26000/82045 queries. users per second: 71561.9</pre>"
      ],
      "text/plain": [
       "recommendations finished on 26000/82045 queries. users per second: 71561.9"
      ]
     },
     "metadata": {},
     "output_type": "display_data"
    },
    {
     "data": {
      "text/html": [
       "<pre>recommendations finished on 27000/82045 queries. users per second: 72532.3</pre>"
      ],
      "text/plain": [
       "recommendations finished on 27000/82045 queries. users per second: 72532.3"
      ]
     },
     "metadata": {},
     "output_type": "display_data"
    },
    {
     "data": {
      "text/html": [
       "<pre>recommendations finished on 28000/82045 queries. users per second: 73427.2</pre>"
      ],
      "text/plain": [
       "recommendations finished on 28000/82045 queries. users per second: 73427.2"
      ]
     },
     "metadata": {},
     "output_type": "display_data"
    },
    {
     "data": {
      "text/html": [
       "<pre>recommendations finished on 29000/82045 queries. users per second: 74275.2</pre>"
      ],
      "text/plain": [
       "recommendations finished on 29000/82045 queries. users per second: 74275.2"
      ]
     },
     "metadata": {},
     "output_type": "display_data"
    },
    {
     "data": {
      "text/html": [
       "<pre>recommendations finished on 30000/82045 queries. users per second: 74847.1</pre>"
      ],
      "text/plain": [
       "recommendations finished on 30000/82045 queries. users per second: 74847.1"
      ]
     },
     "metadata": {},
     "output_type": "display_data"
    },
    {
     "data": {
      "text/html": [
       "<pre>recommendations finished on 31000/82045 queries. users per second: 75488.1</pre>"
      ],
      "text/plain": [
       "recommendations finished on 31000/82045 queries. users per second: 75488.1"
      ]
     },
     "metadata": {},
     "output_type": "display_data"
    },
    {
     "data": {
      "text/html": [
       "<pre>recommendations finished on 32000/82045 queries. users per second: 76217</pre>"
      ],
      "text/plain": [
       "recommendations finished on 32000/82045 queries. users per second: 76217"
      ]
     },
     "metadata": {},
     "output_type": "display_data"
    },
    {
     "data": {
      "text/html": [
       "<pre>recommendations finished on 33000/82045 queries. users per second: 76909.3</pre>"
      ],
      "text/plain": [
       "recommendations finished on 33000/82045 queries. users per second: 76909.3"
      ]
     },
     "metadata": {},
     "output_type": "display_data"
    },
    {
     "data": {
      "text/html": [
       "<pre>recommendations finished on 34000/82045 queries. users per second: 77621.1</pre>"
      ],
      "text/plain": [
       "recommendations finished on 34000/82045 queries. users per second: 77621.1"
      ]
     },
     "metadata": {},
     "output_type": "display_data"
    },
    {
     "data": {
      "text/html": [
       "<pre>recommendations finished on 35000/82045 queries. users per second: 78267.2</pre>"
      ],
      "text/plain": [
       "recommendations finished on 35000/82045 queries. users per second: 78267.2"
      ]
     },
     "metadata": {},
     "output_type": "display_data"
    },
    {
     "data": {
      "text/html": [
       "<pre>recommendations finished on 36000/82045 queries. users per second: 78913.1</pre>"
      ],
      "text/plain": [
       "recommendations finished on 36000/82045 queries. users per second: 78913.1"
      ]
     },
     "metadata": {},
     "output_type": "display_data"
    },
    {
     "data": {
      "text/html": [
       "<pre>recommendations finished on 37000/82045 queries. users per second: 79500.5</pre>"
      ],
      "text/plain": [
       "recommendations finished on 37000/82045 queries. users per second: 79500.5"
      ]
     },
     "metadata": {},
     "output_type": "display_data"
    },
    {
     "data": {
      "text/html": [
       "<pre>recommendations finished on 38000/82045 queries. users per second: 80078.9</pre>"
      ],
      "text/plain": [
       "recommendations finished on 38000/82045 queries. users per second: 80078.9"
      ]
     },
     "metadata": {},
     "output_type": "display_data"
    },
    {
     "data": {
      "text/html": [
       "<pre>recommendations finished on 39000/82045 queries. users per second: 80594.5</pre>"
      ],
      "text/plain": [
       "recommendations finished on 39000/82045 queries. users per second: 80594.5"
      ]
     },
     "metadata": {},
     "output_type": "display_data"
    },
    {
     "data": {
      "text/html": [
       "<pre>recommendations finished on 40000/82045 queries. users per second: 81084.9</pre>"
      ],
      "text/plain": [
       "recommendations finished on 40000/82045 queries. users per second: 81084.9"
      ]
     },
     "metadata": {},
     "output_type": "display_data"
    },
    {
     "data": {
      "text/html": [
       "<pre>recommendations finished on 41000/82045 queries. users per second: 81574.7</pre>"
      ],
      "text/plain": [
       "recommendations finished on 41000/82045 queries. users per second: 81574.7"
      ]
     },
     "metadata": {},
     "output_type": "display_data"
    },
    {
     "data": {
      "text/html": [
       "<pre>recommendations finished on 42000/82045 queries. users per second: 82057.7</pre>"
      ],
      "text/plain": [
       "recommendations finished on 42000/82045 queries. users per second: 82057.7"
      ]
     },
     "metadata": {},
     "output_type": "display_data"
    },
    {
     "data": {
      "text/html": [
       "<pre>recommendations finished on 43000/82045 queries. users per second: 82502.1</pre>"
      ],
      "text/plain": [
       "recommendations finished on 43000/82045 queries. users per second: 82502.1"
      ]
     },
     "metadata": {},
     "output_type": "display_data"
    },
    {
     "data": {
      "text/html": [
       "<pre>recommendations finished on 44000/82045 queries. users per second: 82911.2</pre>"
      ],
      "text/plain": [
       "recommendations finished on 44000/82045 queries. users per second: 82911.2"
      ]
     },
     "metadata": {},
     "output_type": "display_data"
    },
    {
     "data": {
      "text/html": [
       "<pre>recommendations finished on 45000/82045 queries. users per second: 83231.9</pre>"
      ],
      "text/plain": [
       "recommendations finished on 45000/82045 queries. users per second: 83231.9"
      ]
     },
     "metadata": {},
     "output_type": "display_data"
    },
    {
     "data": {
      "text/html": [
       "<pre>recommendations finished on 46000/82045 queries. users per second: 83550.8</pre>"
      ],
      "text/plain": [
       "recommendations finished on 46000/82045 queries. users per second: 83550.8"
      ]
     },
     "metadata": {},
     "output_type": "display_data"
    },
    {
     "data": {
      "text/html": [
       "<pre>recommendations finished on 47000/82045 queries. users per second: 83858.2</pre>"
      ],
      "text/plain": [
       "recommendations finished on 47000/82045 queries. users per second: 83858.2"
      ]
     },
     "metadata": {},
     "output_type": "display_data"
    },
    {
     "data": {
      "text/html": [
       "<pre>recommendations finished on 48000/82045 queries. users per second: 84138.6</pre>"
      ],
      "text/plain": [
       "recommendations finished on 48000/82045 queries. users per second: 84138.6"
      ]
     },
     "metadata": {},
     "output_type": "display_data"
    },
    {
     "data": {
      "text/html": [
       "<pre>recommendations finished on 49000/82045 queries. users per second: 84404.8</pre>"
      ],
      "text/plain": [
       "recommendations finished on 49000/82045 queries. users per second: 84404.8"
      ]
     },
     "metadata": {},
     "output_type": "display_data"
    },
    {
     "data": {
      "text/html": [
       "<pre>recommendations finished on 50000/82045 queries. users per second: 84570.5</pre>"
      ],
      "text/plain": [
       "recommendations finished on 50000/82045 queries. users per second: 84570.5"
      ]
     },
     "metadata": {},
     "output_type": "display_data"
    },
    {
     "data": {
      "text/html": [
       "<pre>recommendations finished on 51000/82045 queries. users per second: 84872.7</pre>"
      ],
      "text/plain": [
       "recommendations finished on 51000/82045 queries. users per second: 84872.7"
      ]
     },
     "metadata": {},
     "output_type": "display_data"
    },
    {
     "data": {
      "text/html": [
       "<pre>recommendations finished on 52000/82045 queries. users per second: 85198.3</pre>"
      ],
      "text/plain": [
       "recommendations finished on 52000/82045 queries. users per second: 85198.3"
      ]
     },
     "metadata": {},
     "output_type": "display_data"
    },
    {
     "data": {
      "text/html": [
       "<pre>recommendations finished on 53000/82045 queries. users per second: 85497.7</pre>"
      ],
      "text/plain": [
       "recommendations finished on 53000/82045 queries. users per second: 85497.7"
      ]
     },
     "metadata": {},
     "output_type": "display_data"
    },
    {
     "data": {
      "text/html": [
       "<pre>recommendations finished on 54000/82045 queries. users per second: 85797.1</pre>"
      ],
      "text/plain": [
       "recommendations finished on 54000/82045 queries. users per second: 85797.1"
      ]
     },
     "metadata": {},
     "output_type": "display_data"
    },
    {
     "data": {
      "text/html": [
       "<pre>recommendations finished on 55000/82045 queries. users per second: 86079.3</pre>"
      ],
      "text/plain": [
       "recommendations finished on 55000/82045 queries. users per second: 86079.3"
      ]
     },
     "metadata": {},
     "output_type": "display_data"
    },
    {
     "data": {
      "text/html": [
       "<pre>recommendations finished on 56000/82045 queries. users per second: 86357.9</pre>"
      ],
      "text/plain": [
       "recommendations finished on 56000/82045 queries. users per second: 86357.9"
      ]
     },
     "metadata": {},
     "output_type": "display_data"
    },
    {
     "data": {
      "text/html": [
       "<pre>recommendations finished on 57000/82045 queries. users per second: 86604.6</pre>"
      ],
      "text/plain": [
       "recommendations finished on 57000/82045 queries. users per second: 86604.6"
      ]
     },
     "metadata": {},
     "output_type": "display_data"
    },
    {
     "data": {
      "text/html": [
       "<pre>recommendations finished on 58000/82045 queries. users per second: 86777</pre>"
      ],
      "text/plain": [
       "recommendations finished on 58000/82045 queries. users per second: 86777"
      ]
     },
     "metadata": {},
     "output_type": "display_data"
    },
    {
     "data": {
      "text/html": [
       "<pre>recommendations finished on 59000/82045 queries. users per second: 87016.3</pre>"
      ],
      "text/plain": [
       "recommendations finished on 59000/82045 queries. users per second: 87016.3"
      ]
     },
     "metadata": {},
     "output_type": "display_data"
    },
    {
     "data": {
      "text/html": [
       "<pre>recommendations finished on 60000/82045 queries. users per second: 87234.4</pre>"
      ],
      "text/plain": [
       "recommendations finished on 60000/82045 queries. users per second: 87234.4"
      ]
     },
     "metadata": {},
     "output_type": "display_data"
    },
    {
     "data": {
      "text/html": [
       "<pre>recommendations finished on 61000/82045 queries. users per second: 87428.4</pre>"
      ],
      "text/plain": [
       "recommendations finished on 61000/82045 queries. users per second: 87428.4"
      ]
     },
     "metadata": {},
     "output_type": "display_data"
    },
    {
     "data": {
      "text/html": [
       "<pre>recommendations finished on 62000/82045 queries. users per second: 87648</pre>"
      ],
      "text/plain": [
       "recommendations finished on 62000/82045 queries. users per second: 87648"
      ]
     },
     "metadata": {},
     "output_type": "display_data"
    },
    {
     "data": {
      "text/html": [
       "<pre>recommendations finished on 63000/82045 queries. users per second: 87845.4</pre>"
      ],
      "text/plain": [
       "recommendations finished on 63000/82045 queries. users per second: 87845.4"
      ]
     },
     "metadata": {},
     "output_type": "display_data"
    },
    {
     "data": {
      "text/html": [
       "<pre>recommendations finished on 64000/82045 queries. users per second: 87977.6</pre>"
      ],
      "text/plain": [
       "recommendations finished on 64000/82045 queries. users per second: 87977.6"
      ]
     },
     "metadata": {},
     "output_type": "display_data"
    },
    {
     "data": {
      "text/html": [
       "<pre>recommendations finished on 65000/82045 queries. users per second: 88177.2</pre>"
      ],
      "text/plain": [
       "recommendations finished on 65000/82045 queries. users per second: 88177.2"
      ]
     },
     "metadata": {},
     "output_type": "display_data"
    },
    {
     "data": {
      "text/html": [
       "<pre>recommendations finished on 66000/82045 queries. users per second: 88369.6</pre>"
      ],
      "text/plain": [
       "recommendations finished on 66000/82045 queries. users per second: 88369.6"
      ]
     },
     "metadata": {},
     "output_type": "display_data"
    },
    {
     "data": {
      "text/html": [
       "<pre>recommendations finished on 67000/82045 queries. users per second: 88519.2</pre>"
      ],
      "text/plain": [
       "recommendations finished on 67000/82045 queries. users per second: 88519.2"
      ]
     },
     "metadata": {},
     "output_type": "display_data"
    },
    {
     "data": {
      "text/html": [
       "<pre>recommendations finished on 68000/82045 queries. users per second: 88641.9</pre>"
      ],
      "text/plain": [
       "recommendations finished on 68000/82045 queries. users per second: 88641.9"
      ]
     },
     "metadata": {},
     "output_type": "display_data"
    },
    {
     "data": {
      "text/html": [
       "<pre>recommendations finished on 69000/82045 queries. users per second: 88687</pre>"
      ],
      "text/plain": [
       "recommendations finished on 69000/82045 queries. users per second: 88687"
      ]
     },
     "metadata": {},
     "output_type": "display_data"
    },
    {
     "data": {
      "text/html": [
       "<pre>recommendations finished on 70000/82045 queries. users per second: 88874.6</pre>"
      ],
      "text/plain": [
       "recommendations finished on 70000/82045 queries. users per second: 88874.6"
      ]
     },
     "metadata": {},
     "output_type": "display_data"
    },
    {
     "data": {
      "text/html": [
       "<pre>recommendations finished on 71000/82045 queries. users per second: 89053.6</pre>"
      ],
      "text/plain": [
       "recommendations finished on 71000/82045 queries. users per second: 89053.6"
      ]
     },
     "metadata": {},
     "output_type": "display_data"
    },
    {
     "data": {
      "text/html": [
       "<pre>recommendations finished on 72000/82045 queries. users per second: 89247</pre>"
      ],
      "text/plain": [
       "recommendations finished on 72000/82045 queries. users per second: 89247"
      ]
     },
     "metadata": {},
     "output_type": "display_data"
    },
    {
     "data": {
      "text/html": [
       "<pre>recommendations finished on 73000/82045 queries. users per second: 89410.7</pre>"
      ],
      "text/plain": [
       "recommendations finished on 73000/82045 queries. users per second: 89410.7"
      ]
     },
     "metadata": {},
     "output_type": "display_data"
    },
    {
     "data": {
      "text/html": [
       "<pre>recommendations finished on 74000/82045 queries. users per second: 89565.9</pre>"
      ],
      "text/plain": [
       "recommendations finished on 74000/82045 queries. users per second: 89565.9"
      ]
     },
     "metadata": {},
     "output_type": "display_data"
    },
    {
     "data": {
      "text/html": [
       "<pre>recommendations finished on 75000/82045 queries. users per second: 89736.5</pre>"
      ],
      "text/plain": [
       "recommendations finished on 75000/82045 queries. users per second: 89736.5"
      ]
     },
     "metadata": {},
     "output_type": "display_data"
    },
    {
     "data": {
      "text/html": [
       "<pre>recommendations finished on 76000/82045 queries. users per second: 89861.5</pre>"
      ],
      "text/plain": [
       "recommendations finished on 76000/82045 queries. users per second: 89861.5"
      ]
     },
     "metadata": {},
     "output_type": "display_data"
    },
    {
     "data": {
      "text/html": [
       "<pre>recommendations finished on 77000/82045 queries. users per second: 89848.5</pre>"
      ],
      "text/plain": [
       "recommendations finished on 77000/82045 queries. users per second: 89848.5"
      ]
     },
     "metadata": {},
     "output_type": "display_data"
    },
    {
     "data": {
      "text/html": [
       "<pre>recommendations finished on 78000/82045 queries. users per second: 89919.1</pre>"
      ],
      "text/plain": [
       "recommendations finished on 78000/82045 queries. users per second: 89919.1"
      ]
     },
     "metadata": {},
     "output_type": "display_data"
    },
    {
     "data": {
      "text/html": [
       "<pre>recommendations finished on 79000/82045 queries. users per second: 89966.2</pre>"
      ],
      "text/plain": [
       "recommendations finished on 79000/82045 queries. users per second: 89966.2"
      ]
     },
     "metadata": {},
     "output_type": "display_data"
    },
    {
     "data": {
      "text/html": [
       "<pre>recommendations finished on 80000/82045 queries. users per second: 89829.7</pre>"
      ],
      "text/plain": [
       "recommendations finished on 80000/82045 queries. users per second: 89829.7"
      ]
     },
     "metadata": {},
     "output_type": "display_data"
    },
    {
     "data": {
      "text/html": [
       "<pre>recommendations finished on 81000/82045 queries. users per second: 89336.2</pre>"
      ],
      "text/plain": [
       "recommendations finished on 81000/82045 queries. users per second: 89336.2"
      ]
     },
     "metadata": {},
     "output_type": "display_data"
    },
    {
     "data": {
      "text/html": [
       "<pre>recommendations finished on 82000/82045 queries. users per second: 86680.2</pre>"
      ],
      "text/plain": [
       "recommendations finished on 82000/82045 queries. users per second: 86680.2"
      ]
     },
     "metadata": {},
     "output_type": "display_data"
    },
    {
     "name": "stdout",
     "output_type": "stream",
     "text": [
      "\n",
      "Precision and recall summary statistics by cutoff\n",
      "+--------+------------------------+------------------------+\n",
      "| cutoff |     mean_precision     |      mean_recall       |\n",
      "+--------+------------------------+------------------------+\n",
      "|   1    | 1.2188433176915108e-05 | 2.101453996019847e-07  |\n",
      "|   2    | 1.8282649765372612e-05 | 3.2339843749048797e-07 |\n",
      "|   3    | 1.2188433176915071e-05 | 3.2339843749048676e-07 |\n",
      "|   4    | 9.141324882686272e-06  | 3.233984374904898e-07  |\n",
      "|   5    | 7.313059906149054e-06  | 3.2339843749048744e-07 |\n",
      "|   6    | 1.0157027647429237e-05 | 1.3251198686296632e-06 |\n",
      "|   7    | 8.706023697796524e-06  | 1.325119868629661e-06  |\n",
      "|   8    | 1.218843317691509e-05  | 1.4712575136759214e-06 |\n",
      "|   9    | 1.2188433176915164e-05 | 2.233034587233115e-06  |\n",
      "|   10   | 1.5844963129989627e-05 | 1.5023456964624047e-05 |\n",
      "+--------+------------------------+------------------------+\n",
      "[10 rows x 3 columns]\n",
      "\n",
      "\n",
      "Overall RMSE: 0.08763588437142918\n",
      "\n",
      "Per User RMSE (best)\n",
      "+------------+------+-------+\n",
      "| CardHolder | rmse | count |\n",
      "+------------+------+-------+\n",
      "|  49426344  | 0.0  |   1   |\n",
      "+------------+------+-------+\n",
      "[1 rows x 3 columns]\n",
      "\n",
      "\n",
      "Per User RMSE (worst)\n",
      "+------------+------+-------+\n",
      "| CardHolder | rmse | count |\n",
      "+------------+------+-------+\n",
      "|  58216212  | 1.0  |   1   |\n",
      "+------------+------+-------+\n",
      "[1 rows x 3 columns]\n",
      "\n",
      "\n",
      "Per Item RMSE (best)\n",
      "+----------+------+-------+\n",
      "| Material | rmse | count |\n",
      "+----------+------+-------+\n",
      "|  522794  | 0.0  |   1   |\n",
      "+----------+------+-------+\n",
      "[1 rows x 3 columns]\n",
      "\n",
      "\n",
      "Per Item RMSE (worst)\n",
      "+----------+------+-------+\n",
      "| Material | rmse | count |\n",
      "+----------+------+-------+\n",
      "|  480000  | 1.0  |   1   |\n",
      "+----------+------+-------+\n",
      "[1 rows x 3 columns]\n",
      "\n",
      "PROGRESS: Evaluate model Cosine Similarity on purchase freq\n"
     ]
    },
    {
     "data": {
      "text/html": [
       "<pre>recommendations finished on 1000/82045 queries. users per second: 32743.9</pre>"
      ],
      "text/plain": [
       "recommendations finished on 1000/82045 queries. users per second: 32743.9"
      ]
     },
     "metadata": {},
     "output_type": "display_data"
    },
    {
     "data": {
      "text/html": [
       "<pre>recommendations finished on 2000/82045 queries. users per second: 39665.2</pre>"
      ],
      "text/plain": [
       "recommendations finished on 2000/82045 queries. users per second: 39665.2"
      ]
     },
     "metadata": {},
     "output_type": "display_data"
    },
    {
     "data": {
      "text/html": [
       "<pre>recommendations finished on 3000/82045 queries. users per second: 45509</pre>"
      ],
      "text/plain": [
       "recommendations finished on 3000/82045 queries. users per second: 45509"
      ]
     },
     "metadata": {},
     "output_type": "display_data"
    },
    {
     "data": {
      "text/html": [
       "<pre>recommendations finished on 4000/82045 queries. users per second: 48522.5</pre>"
      ],
      "text/plain": [
       "recommendations finished on 4000/82045 queries. users per second: 48522.5"
      ]
     },
     "metadata": {},
     "output_type": "display_data"
    },
    {
     "data": {
      "text/html": [
       "<pre>recommendations finished on 5000/82045 queries. users per second: 51049.6</pre>"
      ],
      "text/plain": [
       "recommendations finished on 5000/82045 queries. users per second: 51049.6"
      ]
     },
     "metadata": {},
     "output_type": "display_data"
    },
    {
     "data": {
      "text/html": [
       "<pre>recommendations finished on 6000/82045 queries. users per second: 53772.6</pre>"
      ],
      "text/plain": [
       "recommendations finished on 6000/82045 queries. users per second: 53772.6"
      ]
     },
     "metadata": {},
     "output_type": "display_data"
    },
    {
     "data": {
      "text/html": [
       "<pre>recommendations finished on 7000/82045 queries. users per second: 56140.1</pre>"
      ],
      "text/plain": [
       "recommendations finished on 7000/82045 queries. users per second: 56140.1"
      ]
     },
     "metadata": {},
     "output_type": "display_data"
    },
    {
     "data": {
      "text/html": [
       "<pre>recommendations finished on 8000/82045 queries. users per second: 57956.3</pre>"
      ],
      "text/plain": [
       "recommendations finished on 8000/82045 queries. users per second: 57956.3"
      ]
     },
     "metadata": {},
     "output_type": "display_data"
    },
    {
     "data": {
      "text/html": [
       "<pre>recommendations finished on 9000/82045 queries. users per second: 59610.5</pre>"
      ],
      "text/plain": [
       "recommendations finished on 9000/82045 queries. users per second: 59610.5"
      ]
     },
     "metadata": {},
     "output_type": "display_data"
    },
    {
     "data": {
      "text/html": [
       "<pre>recommendations finished on 10000/82045 queries. users per second: 61059.8</pre>"
      ],
      "text/plain": [
       "recommendations finished on 10000/82045 queries. users per second: 61059.8"
      ]
     },
     "metadata": {},
     "output_type": "display_data"
    },
    {
     "data": {
      "text/html": [
       "<pre>recommendations finished on 11000/82045 queries. users per second: 62407.5</pre>"
      ],
      "text/plain": [
       "recommendations finished on 11000/82045 queries. users per second: 62407.5"
      ]
     },
     "metadata": {},
     "output_type": "display_data"
    },
    {
     "data": {
      "text/html": [
       "<pre>recommendations finished on 12000/82045 queries. users per second: 63476.6</pre>"
      ],
      "text/plain": [
       "recommendations finished on 12000/82045 queries. users per second: 63476.6"
      ]
     },
     "metadata": {},
     "output_type": "display_data"
    },
    {
     "data": {
      "text/html": [
       "<pre>recommendations finished on 13000/82045 queries. users per second: 64208</pre>"
      ],
      "text/plain": [
       "recommendations finished on 13000/82045 queries. users per second: 64208"
      ]
     },
     "metadata": {},
     "output_type": "display_data"
    },
    {
     "data": {
      "text/html": [
       "<pre>recommendations finished on 14000/82045 queries. users per second: 64991.4</pre>"
      ],
      "text/plain": [
       "recommendations finished on 14000/82045 queries. users per second: 64991.4"
      ]
     },
     "metadata": {},
     "output_type": "display_data"
    },
    {
     "data": {
      "text/html": [
       "<pre>recommendations finished on 15000/82045 queries. users per second: 65848.4</pre>"
      ],
      "text/plain": [
       "recommendations finished on 15000/82045 queries. users per second: 65848.4"
      ]
     },
     "metadata": {},
     "output_type": "display_data"
    },
    {
     "data": {
      "text/html": [
       "<pre>recommendations finished on 16000/82045 queries. users per second: 66374.1</pre>"
      ],
      "text/plain": [
       "recommendations finished on 16000/82045 queries. users per second: 66374.1"
      ]
     },
     "metadata": {},
     "output_type": "display_data"
    },
    {
     "data": {
      "text/html": [
       "<pre>recommendations finished on 17000/82045 queries. users per second: 66995.6</pre>"
      ],
      "text/plain": [
       "recommendations finished on 17000/82045 queries. users per second: 66995.6"
      ]
     },
     "metadata": {},
     "output_type": "display_data"
    },
    {
     "data": {
      "text/html": [
       "<pre>recommendations finished on 18000/82045 queries. users per second: 67525.5</pre>"
      ],
      "text/plain": [
       "recommendations finished on 18000/82045 queries. users per second: 67525.5"
      ]
     },
     "metadata": {},
     "output_type": "display_data"
    },
    {
     "data": {
      "text/html": [
       "<pre>recommendations finished on 19000/82045 queries. users per second: 68039.1</pre>"
      ],
      "text/plain": [
       "recommendations finished on 19000/82045 queries. users per second: 68039.1"
      ]
     },
     "metadata": {},
     "output_type": "display_data"
    },
    {
     "data": {
      "text/html": [
       "<pre>recommendations finished on 20000/82045 queries. users per second: 68420.7</pre>"
      ],
      "text/plain": [
       "recommendations finished on 20000/82045 queries. users per second: 68420.7"
      ]
     },
     "metadata": {},
     "output_type": "display_data"
    },
    {
     "data": {
      "text/html": [
       "<pre>recommendations finished on 21000/82045 queries. users per second: 68382.1</pre>"
      ],
      "text/plain": [
       "recommendations finished on 21000/82045 queries. users per second: 68382.1"
      ]
     },
     "metadata": {},
     "output_type": "display_data"
    },
    {
     "data": {
      "text/html": [
       "<pre>recommendations finished on 22000/82045 queries. users per second: 68062.6</pre>"
      ],
      "text/plain": [
       "recommendations finished on 22000/82045 queries. users per second: 68062.6"
      ]
     },
     "metadata": {},
     "output_type": "display_data"
    },
    {
     "data": {
      "text/html": [
       "<pre>recommendations finished on 23000/82045 queries. users per second: 68364.7</pre>"
      ],
      "text/plain": [
       "recommendations finished on 23000/82045 queries. users per second: 68364.7"
      ]
     },
     "metadata": {},
     "output_type": "display_data"
    },
    {
     "data": {
      "text/html": [
       "<pre>recommendations finished on 24000/82045 queries. users per second: 68709.2</pre>"
      ],
      "text/plain": [
       "recommendations finished on 24000/82045 queries. users per second: 68709.2"
      ]
     },
     "metadata": {},
     "output_type": "display_data"
    },
    {
     "data": {
      "text/html": [
       "<pre>recommendations finished on 25000/82045 queries. users per second: 69122.8</pre>"
      ],
      "text/plain": [
       "recommendations finished on 25000/82045 queries. users per second: 69122.8"
      ]
     },
     "metadata": {},
     "output_type": "display_data"
    },
    {
     "data": {
      "text/html": [
       "<pre>recommendations finished on 26000/82045 queries. users per second: 69376.1</pre>"
      ],
      "text/plain": [
       "recommendations finished on 26000/82045 queries. users per second: 69376.1"
      ]
     },
     "metadata": {},
     "output_type": "display_data"
    },
    {
     "data": {
      "text/html": [
       "<pre>recommendations finished on 27000/82045 queries. users per second: 69588.9</pre>"
      ],
      "text/plain": [
       "recommendations finished on 27000/82045 queries. users per second: 69588.9"
      ]
     },
     "metadata": {},
     "output_type": "display_data"
    },
    {
     "data": {
      "text/html": [
       "<pre>recommendations finished on 28000/82045 queries. users per second: 69868.1</pre>"
      ],
      "text/plain": [
       "recommendations finished on 28000/82045 queries. users per second: 69868.1"
      ]
     },
     "metadata": {},
     "output_type": "display_data"
    },
    {
     "data": {
      "text/html": [
       "<pre>recommendations finished on 29000/82045 queries. users per second: 69993.4</pre>"
      ],
      "text/plain": [
       "recommendations finished on 29000/82045 queries. users per second: 69993.4"
      ]
     },
     "metadata": {},
     "output_type": "display_data"
    },
    {
     "data": {
      "text/html": [
       "<pre>recommendations finished on 30000/82045 queries. users per second: 70283.6</pre>"
      ],
      "text/plain": [
       "recommendations finished on 30000/82045 queries. users per second: 70283.6"
      ]
     },
     "metadata": {},
     "output_type": "display_data"
    },
    {
     "data": {
      "text/html": [
       "<pre>recommendations finished on 31000/82045 queries. users per second: 70478.1</pre>"
      ],
      "text/plain": [
       "recommendations finished on 31000/82045 queries. users per second: 70478.1"
      ]
     },
     "metadata": {},
     "output_type": "display_data"
    },
    {
     "data": {
      "text/html": [
       "<pre>recommendations finished on 32000/82045 queries. users per second: 70748.6</pre>"
      ],
      "text/plain": [
       "recommendations finished on 32000/82045 queries. users per second: 70748.6"
      ]
     },
     "metadata": {},
     "output_type": "display_data"
    },
    {
     "data": {
      "text/html": [
       "<pre>recommendations finished on 33000/82045 queries. users per second: 70882.8</pre>"
      ],
      "text/plain": [
       "recommendations finished on 33000/82045 queries. users per second: 70882.8"
      ]
     },
     "metadata": {},
     "output_type": "display_data"
    },
    {
     "data": {
      "text/html": [
       "<pre>recommendations finished on 34000/82045 queries. users per second: 71007.9</pre>"
      ],
      "text/plain": [
       "recommendations finished on 34000/82045 queries. users per second: 71007.9"
      ]
     },
     "metadata": {},
     "output_type": "display_data"
    },
    {
     "data": {
      "text/html": [
       "<pre>recommendations finished on 35000/82045 queries. users per second: 71172.2</pre>"
      ],
      "text/plain": [
       "recommendations finished on 35000/82045 queries. users per second: 71172.2"
      ]
     },
     "metadata": {},
     "output_type": "display_data"
    },
    {
     "data": {
      "text/html": [
       "<pre>recommendations finished on 36000/82045 queries. users per second: 71365</pre>"
      ],
      "text/plain": [
       "recommendations finished on 36000/82045 queries. users per second: 71365"
      ]
     },
     "metadata": {},
     "output_type": "display_data"
    },
    {
     "data": {
      "text/html": [
       "<pre>recommendations finished on 37000/82045 queries. users per second: 71575.6</pre>"
      ],
      "text/plain": [
       "recommendations finished on 37000/82045 queries. users per second: 71575.6"
      ]
     },
     "metadata": {},
     "output_type": "display_data"
    },
    {
     "data": {
      "text/html": [
       "<pre>recommendations finished on 38000/82045 queries. users per second: 71572.5</pre>"
      ],
      "text/plain": [
       "recommendations finished on 38000/82045 queries. users per second: 71572.5"
      ]
     },
     "metadata": {},
     "output_type": "display_data"
    },
    {
     "data": {
      "text/html": [
       "<pre>recommendations finished on 39000/82045 queries. users per second: 71790.5</pre>"
      ],
      "text/plain": [
       "recommendations finished on 39000/82045 queries. users per second: 71790.5"
      ]
     },
     "metadata": {},
     "output_type": "display_data"
    },
    {
     "data": {
      "text/html": [
       "<pre>recommendations finished on 40000/82045 queries. users per second: 71934.8</pre>"
      ],
      "text/plain": [
       "recommendations finished on 40000/82045 queries. users per second: 71934.8"
      ]
     },
     "metadata": {},
     "output_type": "display_data"
    },
    {
     "data": {
      "text/html": [
       "<pre>recommendations finished on 41000/82045 queries. users per second: 72000.9</pre>"
      ],
      "text/plain": [
       "recommendations finished on 41000/82045 queries. users per second: 72000.9"
      ]
     },
     "metadata": {},
     "output_type": "display_data"
    },
    {
     "data": {
      "text/html": [
       "<pre>recommendations finished on 42000/82045 queries. users per second: 72081</pre>"
      ],
      "text/plain": [
       "recommendations finished on 42000/82045 queries. users per second: 72081"
      ]
     },
     "metadata": {},
     "output_type": "display_data"
    },
    {
     "data": {
      "text/html": [
       "<pre>recommendations finished on 43000/82045 queries. users per second: 72171.3</pre>"
      ],
      "text/plain": [
       "recommendations finished on 43000/82045 queries. users per second: 72171.3"
      ]
     },
     "metadata": {},
     "output_type": "display_data"
    },
    {
     "data": {
      "text/html": [
       "<pre>recommendations finished on 44000/82045 queries. users per second: 72232.5</pre>"
      ],
      "text/plain": [
       "recommendations finished on 44000/82045 queries. users per second: 72232.5"
      ]
     },
     "metadata": {},
     "output_type": "display_data"
    },
    {
     "data": {
      "text/html": [
       "<pre>recommendations finished on 45000/82045 queries. users per second: 72341.1</pre>"
      ],
      "text/plain": [
       "recommendations finished on 45000/82045 queries. users per second: 72341.1"
      ]
     },
     "metadata": {},
     "output_type": "display_data"
    },
    {
     "data": {
      "text/html": [
       "<pre>recommendations finished on 46000/82045 queries. users per second: 72416</pre>"
      ],
      "text/plain": [
       "recommendations finished on 46000/82045 queries. users per second: 72416"
      ]
     },
     "metadata": {},
     "output_type": "display_data"
    },
    {
     "data": {
      "text/html": [
       "<pre>recommendations finished on 47000/82045 queries. users per second: 72443.2</pre>"
      ],
      "text/plain": [
       "recommendations finished on 47000/82045 queries. users per second: 72443.2"
      ]
     },
     "metadata": {},
     "output_type": "display_data"
    },
    {
     "data": {
      "text/html": [
       "<pre>recommendations finished on 48000/82045 queries. users per second: 72579.3</pre>"
      ],
      "text/plain": [
       "recommendations finished on 48000/82045 queries. users per second: 72579.3"
      ]
     },
     "metadata": {},
     "output_type": "display_data"
    },
    {
     "data": {
      "text/html": [
       "<pre>recommendations finished on 49000/82045 queries. users per second: 72606.9</pre>"
      ],
      "text/plain": [
       "recommendations finished on 49000/82045 queries. users per second: 72606.9"
      ]
     },
     "metadata": {},
     "output_type": "display_data"
    },
    {
     "data": {
      "text/html": [
       "<pre>recommendations finished on 50000/82045 queries. users per second: 72681.9</pre>"
      ],
      "text/plain": [
       "recommendations finished on 50000/82045 queries. users per second: 72681.9"
      ]
     },
     "metadata": {},
     "output_type": "display_data"
    },
    {
     "data": {
      "text/html": [
       "<pre>recommendations finished on 51000/82045 queries. users per second: 72701.9</pre>"
      ],
      "text/plain": [
       "recommendations finished on 51000/82045 queries. users per second: 72701.9"
      ]
     },
     "metadata": {},
     "output_type": "display_data"
    },
    {
     "data": {
      "text/html": [
       "<pre>recommendations finished on 52000/82045 queries. users per second: 72704.6</pre>"
      ],
      "text/plain": [
       "recommendations finished on 52000/82045 queries. users per second: 72704.6"
      ]
     },
     "metadata": {},
     "output_type": "display_data"
    },
    {
     "data": {
      "text/html": [
       "<pre>recommendations finished on 53000/82045 queries. users per second: 72537.8</pre>"
      ],
      "text/plain": [
       "recommendations finished on 53000/82045 queries. users per second: 72537.8"
      ]
     },
     "metadata": {},
     "output_type": "display_data"
    },
    {
     "data": {
      "text/html": [
       "<pre>recommendations finished on 54000/82045 queries. users per second: 72643</pre>"
      ],
      "text/plain": [
       "recommendations finished on 54000/82045 queries. users per second: 72643"
      ]
     },
     "metadata": {},
     "output_type": "display_data"
    },
    {
     "data": {
      "text/html": [
       "<pre>recommendations finished on 55000/82045 queries. users per second: 72774.8</pre>"
      ],
      "text/plain": [
       "recommendations finished on 55000/82045 queries. users per second: 72774.8"
      ]
     },
     "metadata": {},
     "output_type": "display_data"
    },
    {
     "data": {
      "text/html": [
       "<pre>recommendations finished on 56000/82045 queries. users per second: 72791.6</pre>"
      ],
      "text/plain": [
       "recommendations finished on 56000/82045 queries. users per second: 72791.6"
      ]
     },
     "metadata": {},
     "output_type": "display_data"
    },
    {
     "data": {
      "text/html": [
       "<pre>recommendations finished on 57000/82045 queries. users per second: 72837.5</pre>"
      ],
      "text/plain": [
       "recommendations finished on 57000/82045 queries. users per second: 72837.5"
      ]
     },
     "metadata": {},
     "output_type": "display_data"
    },
    {
     "data": {
      "text/html": [
       "<pre>recommendations finished on 58000/82045 queries. users per second: 72779.9</pre>"
      ],
      "text/plain": [
       "recommendations finished on 58000/82045 queries. users per second: 72779.9"
      ]
     },
     "metadata": {},
     "output_type": "display_data"
    },
    {
     "data": {
      "text/html": [
       "<pre>recommendations finished on 59000/82045 queries. users per second: 72874.1</pre>"
      ],
      "text/plain": [
       "recommendations finished on 59000/82045 queries. users per second: 72874.1"
      ]
     },
     "metadata": {},
     "output_type": "display_data"
    },
    {
     "data": {
      "text/html": [
       "<pre>recommendations finished on 60000/82045 queries. users per second: 72984.7</pre>"
      ],
      "text/plain": [
       "recommendations finished on 60000/82045 queries. users per second: 72984.7"
      ]
     },
     "metadata": {},
     "output_type": "display_data"
    },
    {
     "data": {
      "text/html": [
       "<pre>recommendations finished on 61000/82045 queries. users per second: 73054.2</pre>"
      ],
      "text/plain": [
       "recommendations finished on 61000/82045 queries. users per second: 73054.2"
      ]
     },
     "metadata": {},
     "output_type": "display_data"
    },
    {
     "data": {
      "text/html": [
       "<pre>recommendations finished on 62000/82045 queries. users per second: 73123.7</pre>"
      ],
      "text/plain": [
       "recommendations finished on 62000/82045 queries. users per second: 73123.7"
      ]
     },
     "metadata": {},
     "output_type": "display_data"
    },
    {
     "data": {
      "text/html": [
       "<pre>recommendations finished on 63000/82045 queries. users per second: 73129.9</pre>"
      ],
      "text/plain": [
       "recommendations finished on 63000/82045 queries. users per second: 73129.9"
      ]
     },
     "metadata": {},
     "output_type": "display_data"
    },
    {
     "data": {
      "text/html": [
       "<pre>recommendations finished on 64000/82045 queries. users per second: 73232.8</pre>"
      ],
      "text/plain": [
       "recommendations finished on 64000/82045 queries. users per second: 73232.8"
      ]
     },
     "metadata": {},
     "output_type": "display_data"
    },
    {
     "data": {
      "text/html": [
       "<pre>recommendations finished on 65000/82045 queries. users per second: 73152.6</pre>"
      ],
      "text/plain": [
       "recommendations finished on 65000/82045 queries. users per second: 73152.6"
      ]
     },
     "metadata": {},
     "output_type": "display_data"
    },
    {
     "data": {
      "text/html": [
       "<pre>recommendations finished on 66000/82045 queries. users per second: 73200.2</pre>"
      ],
      "text/plain": [
       "recommendations finished on 66000/82045 queries. users per second: 73200.2"
      ]
     },
     "metadata": {},
     "output_type": "display_data"
    },
    {
     "data": {
      "text/html": [
       "<pre>recommendations finished on 67000/82045 queries. users per second: 73017.1</pre>"
      ],
      "text/plain": [
       "recommendations finished on 67000/82045 queries. users per second: 73017.1"
      ]
     },
     "metadata": {},
     "output_type": "display_data"
    },
    {
     "data": {
      "text/html": [
       "<pre>recommendations finished on 68000/82045 queries. users per second: 72978.3</pre>"
      ],
      "text/plain": [
       "recommendations finished on 68000/82045 queries. users per second: 72978.3"
      ]
     },
     "metadata": {},
     "output_type": "display_data"
    },
    {
     "data": {
      "text/html": [
       "<pre>recommendations finished on 69000/82045 queries. users per second: 72995.8</pre>"
      ],
      "text/plain": [
       "recommendations finished on 69000/82045 queries. users per second: 72995.8"
      ]
     },
     "metadata": {},
     "output_type": "display_data"
    },
    {
     "data": {
      "text/html": [
       "<pre>recommendations finished on 70000/82045 queries. users per second: 73084.9</pre>"
      ],
      "text/plain": [
       "recommendations finished on 70000/82045 queries. users per second: 73084.9"
      ]
     },
     "metadata": {},
     "output_type": "display_data"
    },
    {
     "data": {
      "text/html": [
       "<pre>recommendations finished on 71000/82045 queries. users per second: 73127.9</pre>"
      ],
      "text/plain": [
       "recommendations finished on 71000/82045 queries. users per second: 73127.9"
      ]
     },
     "metadata": {},
     "output_type": "display_data"
    },
    {
     "data": {
      "text/html": [
       "<pre>recommendations finished on 72000/82045 queries. users per second: 73213.8</pre>"
      ],
      "text/plain": [
       "recommendations finished on 72000/82045 queries. users per second: 73213.8"
      ]
     },
     "metadata": {},
     "output_type": "display_data"
    },
    {
     "data": {
      "text/html": [
       "<pre>recommendations finished on 73000/82045 queries. users per second: 73273.3</pre>"
      ],
      "text/plain": [
       "recommendations finished on 73000/82045 queries. users per second: 73273.3"
      ]
     },
     "metadata": {},
     "output_type": "display_data"
    },
    {
     "data": {
      "text/html": [
       "<pre>recommendations finished on 74000/82045 queries. users per second: 73326.4</pre>"
      ],
      "text/plain": [
       "recommendations finished on 74000/82045 queries. users per second: 73326.4"
      ]
     },
     "metadata": {},
     "output_type": "display_data"
    },
    {
     "data": {
      "text/html": [
       "<pre>recommendations finished on 75000/82045 queries. users per second: 73389</pre>"
      ],
      "text/plain": [
       "recommendations finished on 75000/82045 queries. users per second: 73389"
      ]
     },
     "metadata": {},
     "output_type": "display_data"
    },
    {
     "data": {
      "text/html": [
       "<pre>recommendations finished on 76000/82045 queries. users per second: 73416</pre>"
      ],
      "text/plain": [
       "recommendations finished on 76000/82045 queries. users per second: 73416"
      ]
     },
     "metadata": {},
     "output_type": "display_data"
    },
    {
     "data": {
      "text/html": [
       "<pre>recommendations finished on 77000/82045 queries. users per second: 73344.5</pre>"
      ],
      "text/plain": [
       "recommendations finished on 77000/82045 queries. users per second: 73344.5"
      ]
     },
     "metadata": {},
     "output_type": "display_data"
    },
    {
     "data": {
      "text/html": [
       "<pre>recommendations finished on 78000/82045 queries. users per second: 73186.5</pre>"
      ],
      "text/plain": [
       "recommendations finished on 78000/82045 queries. users per second: 73186.5"
      ]
     },
     "metadata": {},
     "output_type": "display_data"
    },
    {
     "data": {
      "text/html": [
       "<pre>recommendations finished on 79000/82045 queries. users per second: 72804.6</pre>"
      ],
      "text/plain": [
       "recommendations finished on 79000/82045 queries. users per second: 72804.6"
      ]
     },
     "metadata": {},
     "output_type": "display_data"
    },
    {
     "data": {
      "text/html": [
       "<pre>recommendations finished on 80000/82045 queries. users per second: 72029.1</pre>"
      ],
      "text/plain": [
       "recommendations finished on 80000/82045 queries. users per second: 72029.1"
      ]
     },
     "metadata": {},
     "output_type": "display_data"
    },
    {
     "data": {
      "text/html": [
       "<pre>recommendations finished on 81000/82045 queries. users per second: 70734.1</pre>"
      ],
      "text/plain": [
       "recommendations finished on 81000/82045 queries. users per second: 70734.1"
      ]
     },
     "metadata": {},
     "output_type": "display_data"
    },
    {
     "data": {
      "text/html": [
       "<pre>recommendations finished on 82000/82045 queries. users per second: 67280.1</pre>"
      ],
      "text/plain": [
       "recommendations finished on 82000/82045 queries. users per second: 67280.1"
      ]
     },
     "metadata": {},
     "output_type": "display_data"
    },
    {
     "name": "stdout",
     "output_type": "stream",
     "text": [
      "\n",
      "Precision and recall summary statistics by cutoff\n",
      "+--------+-----------------------+-----------------------+\n",
      "| cutoff |     mean_precision    |      mean_recall      |\n",
      "+--------+-----------------------+-----------------------+\n",
      "|   1    |  0.006325796818818931 | 0.0005797958975769801 |\n",
      "|   2    |  0.005655432994088612 | 0.0010296032627884171 |\n",
      "|   3    |  0.005224775021837558 | 0.0013873421516376549 |\n",
      "|   4    |  0.004841855079529527 |  0.001665457124625654 |\n",
      "|   5    | 0.0046169784874153285 | 0.0020013951519831973 |\n",
      "|   6    | 0.0044183070266317764 | 0.0022509944682372186 |\n",
      "|   7    |  0.004241574745566542 | 0.0024640519537008684 |\n",
      "|   8    |  0.004115119751355968 |  0.002759550334998517 |\n",
      "|   9    |  0.003982909108145184 | 0.0029913991515556635 |\n",
      "|   10   | 0.0039039551465659215 | 0.0032621413422985798 |\n",
      "+--------+-----------------------+-----------------------+\n",
      "[10 rows x 3 columns]\n",
      "\n"
     ]
    }
   ],
   "source": [
    "eval_freq_based = tc.recommender.util.compare_models(test_df_norm,\n",
    "                                                         freq_based_models,\n",
    "                                                          model_names = name_freq)"
   ]
  },
  {
   "cell_type": "code",
   "execution_count": null,
   "metadata": {},
   "outputs": [],
   "source": []
  },
  {
   "cell_type": "code",
   "execution_count": null,
   "metadata": {},
   "outputs": [],
   "source": []
  },
  {
   "cell_type": "code",
   "execution_count": null,
   "metadata": {},
   "outputs": [],
   "source": []
  },
  {
   "cell_type": "markdown",
   "metadata": {},
   "source": [
    "### Recommendation Examples"
   ]
  },
  {
   "cell_type": "code",
   "execution_count": null,
   "metadata": {},
   "outputs": [],
   "source": []
  },
  {
   "cell_type": "code",
   "execution_count": 11,
   "metadata": {},
   "outputs": [
    {
     "data": {
      "text/plain": [
       "<86497x58320 sparse matrix of type '<class 'numpy.float64'>'\n",
       "\twith 15205494 stored elements in Compressed Sparse Row format>"
      ]
     },
     "execution_count": 11,
     "metadata": {},
     "output_type": "execute_result"
    }
   ],
   "source": [
    "CUSTOMERS = list(np.sort(df['CardHolder'].unique()))      #Get list of unique customers..\n",
    "ITEMS     = list(df['Material'].unique())                 #Get list of unique items\n",
    "QUANTITY  =  list(df['SalesCount'])                       #get all quantities\n",
    "customers_arr = np.array(CUSTOMERS)                       #Array of unique customer IDs from the ratings matrix\n",
    "items_arr =  np.array(ITEMS)                              #Array of unique product IDs from the ratings matrix\n",
    "\n",
    "                    #Creating rows values corresponding to unique Customers\n",
    "rows = df.CardHolder.astype(CategoricalDtype(categories=CUSTOMERS)).cat.codes\n",
    "                     #Creating columns values corresponding to unique Items\n",
    "cols = df.Material.astype(CategoricalDtype(categories=ITEMS)).cat.codes \n",
    "\n",
    "\n",
    "Rating_matrix = sparse.csr_matrix((QUANTITY, (rows,cols)),\n",
    "                                     shape=(len(CUSTOMERS),len(ITEMS)))\n",
    "Rating_matrix"
   ]
  },
  {
   "cell_type": "code",
   "execution_count": 91,
   "metadata": {},
   "outputs": [],
   "source": [
    "\n",
    "                                                            #get the items that have already been purchased by\n",
    "                                                            #...a specific customer in the training set\n",
    "def get_item_already_bought(train_set,customers_list,items_list,item_lookup,num_items=5):\n",
    "    already_purchased= []\n",
    "    for customer_id in customers_list:\n",
    "        customers_index = np.where(customers_list == customer_id)[0][0]    #get the row index  of the customer_ID \n",
    "        customer_item_index = train_set[customers_index,:].nonzero()[1]    #get column indices of purchased items by the customer \n",
    "        Item_id = items_list[customer_item_index] \n",
    "        get_item = item_lookup.loc[item_lookup['Material'].isin(Item_id)]\n",
    "        get_item =  get_item.reset_index(drop=True)                  \n",
    "        #get_item  = pd.DataFrame(get_item)\n",
    "                                             #set a bew column for the customer\n",
    "        customer = cycle([str(customer_id)])                                                      \n",
    "        get_item['Cardholder'] = [next(customer) for customers in range(len(get_item))]    \n",
    "        already_purchased.append(get_item[:num_items])\n",
    "        \n",
    "    already_purchased_df = pd.concat(already_purchased)\n",
    "    already_purchased_df = already_purchased_df[['Cardholder','Material','ItemDescription']]\n",
    "    already_purchased_df = already_purchased_df.rename(columns={'ItemDescription':'ItemsAlreadyBought'})\n",
    "\n",
    "    return already_purchased_df "
   ]
  },
  {
   "cell_type": "code",
   "execution_count": 95,
   "metadata": {},
   "outputs": [
    {
     "data": {
      "text/html": [
       "<div>\n",
       "<style scoped>\n",
       "    .dataframe tbody tr th:only-of-type {\n",
       "        vertical-align: middle;\n",
       "    }\n",
       "\n",
       "    .dataframe tbody tr th {\n",
       "        vertical-align: top;\n",
       "    }\n",
       "\n",
       "    .dataframe thead th {\n",
       "        text-align: right;\n",
       "    }\n",
       "</style>\n",
       "<table border=\"1\" class=\"dataframe\">\n",
       "  <thead>\n",
       "    <tr style=\"text-align: right;\">\n",
       "      <th></th>\n",
       "      <th>Cardholder</th>\n",
       "      <th>Material</th>\n",
       "      <th>ItemsAlreadyBought</th>\n",
       "    </tr>\n",
       "  </thead>\n",
       "  <tbody>\n",
       "    <tr>\n",
       "      <th>0</th>\n",
       "      <td>10008254</td>\n",
       "      <td>439630</td>\n",
       "      <td>Dry dog food up to 800 gr</td>\n",
       "    </tr>\n",
       "    <tr>\n",
       "      <th>1</th>\n",
       "      <td>10008254</td>\n",
       "      <td>429670</td>\n",
       "      <td>Dry food for cats from 450 gr to 1500 gr</td>\n",
       "    </tr>\n",
       "    <tr>\n",
       "      <th>2</th>\n",
       "      <td>10008254</td>\n",
       "      <td>152314</td>\n",
       "      <td>\"Special liquid washing detergent \"</td>\n",
       "    </tr>\n",
       "    <tr>\n",
       "      <th>3</th>\n",
       "      <td>10008254</td>\n",
       "      <td>81107</td>\n",
       "      <td>\"Milk shakes warm storage \"</td>\n",
       "    </tr>\n",
       "    <tr>\n",
       "      <th>4</th>\n",
       "      <td>10008254</td>\n",
       "      <td>366220</td>\n",
       "      <td>Hair dyes</td>\n",
       "    </tr>\n",
       "  </tbody>\n",
       "</table>\n",
       "</div>"
      ],
      "text/plain": [
       "  Cardholder  Material                        ItemsAlreadyBought\n",
       "0   10008254    439630                 Dry dog food up to 800 gr\n",
       "1   10008254    429670  Dry food for cats from 450 gr to 1500 gr\n",
       "2   10008254    152314       \"Special liquid washing detergent \"\n",
       "3   10008254     81107               \"Milk shakes warm storage \"\n",
       "4   10008254    366220                                 Hair dyes"
      ]
     },
     "execution_count": 95,
     "metadata": {},
     "output_type": "execute_result"
    }
   ],
   "source": [
    "#\n",
    "ItemsAlreadyBought_df = get_item_already_bought(Rating_matrix,customers_arr,items_arr,item_lookup,num_items=5)\n",
    "ItemsAlreadyBought_df.head()"
   ]
  },
  {
   "cell_type": "code",
   "execution_count": 96,
   "metadata": {},
   "outputs": [],
   "source": [
    "ItemsAlreadyBought_df.to_csv('ItemsAlreadyBought_df.csv', index=False)"
   ]
  },
  {
   "cell_type": "code",
   "execution_count": 119,
   "metadata": {},
   "outputs": [
    {
     "data": {
      "text/plain": [
       "86497"
      ]
     },
     "execution_count": 119,
     "metadata": {},
     "output_type": "execute_result"
    }
   ],
   "source": [
    "ItemsAlreadyBought_df = ItemsAlreadyBought_df.rename(columns={'AlreadyBoughtMaterial':'MaterialAlreadyBought',\n",
    "                                                             'Cardholder':'CardHolder'})\n",
    "ItemsAlreadyBought_df['CardHolder'].nunique()"
   ]
  },
  {
   "cell_type": "code",
   "execution_count": 123,
   "metadata": {},
   "outputs": [
    {
     "data": {
      "text/plain": [
       "CardHolder                int64\n",
       "MaterialAlreadyBought     int64\n",
       "ItemsAlreadyBought       object\n",
       "dtype: object"
      ]
     },
     "execution_count": 123,
     "metadata": {},
     "output_type": "execute_result"
    }
   ],
   "source": [
    "ItemsAlreadyBought_df['CardHolder'] = ItemsAlreadyBought_df['CardHolder'].astype(int)    \n",
    "ItemsAlreadyBought_df.dtypes"
   ]
  },
  {
   "cell_type": "code",
   "execution_count": null,
   "metadata": {},
   "outputs": [],
   "source": [
    "# train_df_norm,test_df_norm df_purchase_mask_tr,df_purchase_mask_ts "
   ]
  },
  {
   "cell_type": "code",
   "execution_count": 224,
   "metadata": {},
   "outputs": [
    {
     "data": {
      "text/html": [
       "<div>\n",
       "<style scoped>\n",
       "    .dataframe tbody tr th:only-of-type {\n",
       "        vertical-align: middle;\n",
       "    }\n",
       "\n",
       "    .dataframe tbody tr th {\n",
       "        vertical-align: top;\n",
       "    }\n",
       "\n",
       "    .dataframe thead th {\n",
       "        text-align: right;\n",
       "    }\n",
       "</style>\n",
       "<table border=\"1\" class=\"dataframe\">\n",
       "  <thead>\n",
       "    <tr style=\"text-align: right;\">\n",
       "      <th></th>\n",
       "      <th>CardHolder</th>\n",
       "      <th>Material</th>\n",
       "      <th>ItemDescription</th>\n",
       "      <th>score</th>\n",
       "      <th>rank</th>\n",
       "    </tr>\n",
       "  </thead>\n",
       "  <tbody>\n",
       "    <tr>\n",
       "      <th>0</th>\n",
       "      <td>10008254</td>\n",
       "      <td>45520</td>\n",
       "      <td>Bulk potato</td>\n",
       "      <td>0.030796</td>\n",
       "      <td>1</td>\n",
       "    </tr>\n",
       "    <tr>\n",
       "      <th>1</th>\n",
       "      <td>10008254</td>\n",
       "      <td>29221</td>\n",
       "      <td>\"Cabbage \"</td>\n",
       "      <td>0.029339</td>\n",
       "      <td>2</td>\n",
       "    </tr>\n",
       "    <tr>\n",
       "      <th>2</th>\n",
       "      <td>10008254</td>\n",
       "      <td>43027</td>\n",
       "      <td>\"Bulk apples \"</td>\n",
       "      <td>0.028628</td>\n",
       "      <td>3</td>\n",
       "    </tr>\n",
       "    <tr>\n",
       "      <th>3</th>\n",
       "      <td>10008254</td>\n",
       "      <td>341482</td>\n",
       "      <td>Packaged cucumbers</td>\n",
       "      <td>0.028393</td>\n",
       "      <td>4</td>\n",
       "    </tr>\n",
       "    <tr>\n",
       "      <th>4</th>\n",
       "      <td>10008254</td>\n",
       "      <td>239792</td>\n",
       "      <td>Bulk traditional tomatoes</td>\n",
       "      <td>0.028290</td>\n",
       "      <td>5</td>\n",
       "    </tr>\n",
       "  </tbody>\n",
       "</table>\n",
       "</div>"
      ],
      "text/plain": [
       "   CardHolder  Material            ItemDescription     score  rank\n",
       "0    10008254     45520                Bulk potato  0.030796     1\n",
       "1    10008254     29221                 \"Cabbage \"  0.029339     2\n",
       "2    10008254     43027             \"Bulk apples \"  0.028628     3\n",
       "3    10008254    341482         Packaged cucumbers  0.028393     4\n",
       "4    10008254    239792  Bulk traditional tomatoes  0.028290     5"
      ]
     },
     "execution_count": 224,
     "metadata": {},
     "output_type": "execute_result"
    }
   ],
   "source": [
    "jaccard_mask_rec.head()"
   ]
  },
  {
   "cell_type": "code",
   "execution_count": 256,
   "metadata": {},
   "outputs": [],
   "source": [
    "def proper_result(customer_id,Recommendation_df1,Recommendation_df2,\n",
    "                  Rec_item1,Rec_item2,ItemsAlreadyBought_df=ItemsAlreadyBought_df):\n",
    "    \n",
    "    ItemsAlreadyBought = ItemsAlreadyBought_df[ItemsAlreadyBought_df['CardHolder'] == customer_id]\n",
    "    ItemsAlreadyBought =  ItemsAlreadyBought.reset_index(drop=True)\n",
    "    \n",
    "    Recommendation1 = Recommendation_df1[Recommendation_df1['CardHolder'] == customer_id]\n",
    "    Recommendation1 =  Recommendation1.reset_index(drop=True)\n",
    "    \n",
    "    Recommendation2 = Recommendation_df2[Recommendation_df2['CardHolder'] == customer_id]\n",
    "    Recommendation2 =  Recommendation2.reset_index(drop=True)\n",
    "   \n",
    "    Result = pd.concat([Recommendation1[['CardHolder','ItemDescription','score','rank']],\n",
    "                        Recommendation2[['ItemDescription','score']],\n",
    "                        ItemsAlreadyBought['ItemsAlreadyBought']], \n",
    "                        ignore_index=True, axis=1)\n",
    "\n",
    "    Result = Result.rename(columns={\n",
    "                      0:\"CardHolder\",\n",
    "                      1:Rec_item1,\n",
    "                      2:\"Score1\",\n",
    "                      3:\"Rank\",\n",
    "                      4:Rec_item2,\n",
    "                      5:\"Score2\",\n",
    "                      6:\"ItemsAlreadyBought\"})\n",
    "\n",
    "    Result = Result[['CardHolder','ItemsAlreadyBought',Rec_item1,'Score1',Rec_item2,'Score2','Rank']]\n",
    "    return Result\n",
    "\n",
    "\n",
    "\n",
    "# def proper_result1(customer_id,Recommendation_df1,#Recommendation_df2,\n",
    "#                           ItemsAlreadyBought_df=ItemsAlreadyBought_df):\n",
    "    \n",
    "#     ItemsAlreadyBought = ItemsAlreadyBought_df[ItemsAlreadyBought_df['CardHolder'] == customer_id]\n",
    "#     ItemsAlreadyBought =  ItemsAlreadyBought.reset_index(drop=True)\n",
    "    \n",
    "#     Recommendation1 = Recommendation_df1[Recommendation_df1['CardHolder'] == customer_id]\n",
    "#     Recommendation1 =  Recommendation1.reset_index(drop=True)\n",
    "    \n",
    "# #     Recommendation2 = Recommendation_df2[Recommendation_df2['CardHolder'] == customer_id]\n",
    "# #     Recommendation2 =  Recommendation2.reset_index(drop=True)\n",
    "   \n",
    "#     Result = pd.concat([Recommendation1[['CardHolder','ItemDescription','score','rank']],\n",
    "#                ItemsAlreadyBought['ItemsAlreadyBought']], \n",
    "#                ignore_index=True, axis=1)\n",
    "\n",
    "#     Result = Result.rename(columns={\n",
    "#                       0:\"CardHolder\",\n",
    "#                       1:\"Recommended_Items\",\n",
    "#                       2:\"Score\",\n",
    "#                       3:\"Rank\",\n",
    "#                       4:\"ItemsAlreadyBought\"})\n",
    "\n",
    "#     Result = Result[['CardHolder','ItemsAlreadyBought','Recommended_Items','Score','Rank']]\n",
    "#     return Result\n",
    "\n",
    "#proper_result1(83332008,jaccard_mask_rec)\n",
    "#proper_result1(83332008,jaccard_qqt_rec)"
   ]
  },
  {
   "cell_type": "code",
   "execution_count": 241,
   "metadata": {},
   "outputs": [],
   "source": []
  },
  {
   "cell_type": "code",
   "execution_count": 261,
   "metadata": {},
   "outputs": [
    {
     "data": {
      "text/plain": [
       "[83326249,\n",
       " 83326911,\n",
       " 83327390,\n",
       " 83329160,\n",
       " 83329286,\n",
       " 83329684,\n",
       " 83329792,\n",
       " 83332008,\n",
       " 83332870,\n",
       " 83333056]"
      ]
     },
     "execution_count": 261,
     "metadata": {},
     "output_type": "execute_result"
    }
   ],
   "source": [
    "users_to_recommend[-10:]"
   ]
  },
  {
   "cell_type": "code",
   "execution_count": 262,
   "metadata": {},
   "outputs": [
    {
     "data": {
      "text/html": [
       "<div>\n",
       "<style scoped>\n",
       "    .dataframe tbody tr th:only-of-type {\n",
       "        vertical-align: middle;\n",
       "    }\n",
       "\n",
       "    .dataframe tbody tr th {\n",
       "        vertical-align: top;\n",
       "    }\n",
       "\n",
       "    .dataframe thead th {\n",
       "        text-align: right;\n",
       "    }\n",
       "</style>\n",
       "<table border=\"1\" class=\"dataframe\">\n",
       "  <thead>\n",
       "    <tr style=\"text-align: right;\">\n",
       "      <th></th>\n",
       "      <th>CardHolder</th>\n",
       "      <th>ItemsAlreadyBought</th>\n",
       "      <th>Rec_Items_Jac_qqt</th>\n",
       "      <th>Score1</th>\n",
       "      <th>Rec_Items_Jac_mask</th>\n",
       "      <th>Score2</th>\n",
       "      <th>Rank</th>\n",
       "    </tr>\n",
       "  </thead>\n",
       "  <tbody>\n",
       "    <tr>\n",
       "      <th>0</th>\n",
       "      <td>83326249</td>\n",
       "      <td>Table games</td>\n",
       "      <td>Drinking yoghurt for children older than 3 years</td>\n",
       "      <td>0.066867</td>\n",
       "      <td>Drinking yoghurt for children older than 3 years</td>\n",
       "      <td>0.066358</td>\n",
       "      <td>1</td>\n",
       "    </tr>\n",
       "    <tr>\n",
       "      <th>1</th>\n",
       "      <td>83326249</td>\n",
       "      <td>Table games</td>\n",
       "      <td>Drinking yoghurt for children older than 3 years</td>\n",
       "      <td>0.045666</td>\n",
       "      <td>Drinking yoghurt for children older than 3 years</td>\n",
       "      <td>0.044141</td>\n",
       "      <td>2</td>\n",
       "    </tr>\n",
       "    <tr>\n",
       "      <th>2</th>\n",
       "      <td>83326249</td>\n",
       "      <td>\"Table and drinking still water \"</td>\n",
       "      <td>Drinking yoghurt for children older than 3 years</td>\n",
       "      <td>0.037834</td>\n",
       "      <td>Table games</td>\n",
       "      <td>0.039510</td>\n",
       "      <td>3</td>\n",
       "    </tr>\n",
       "    <tr>\n",
       "      <th>3</th>\n",
       "      <td>83326249</td>\n",
       "      <td>Drinking yoghurt for children older than 3 years</td>\n",
       "      <td>Table games</td>\n",
       "      <td>0.034619</td>\n",
       "      <td>Drinking yoghurt for children older than 3 years</td>\n",
       "      <td>0.038872</td>\n",
       "      <td>4</td>\n",
       "    </tr>\n",
       "    <tr>\n",
       "      <th>4</th>\n",
       "      <td>83326249</td>\n",
       "      <td>NaN</td>\n",
       "      <td>Drinking yoghurt for children older than 3 years</td>\n",
       "      <td>0.026656</td>\n",
       "      <td>Drinking yoghurt for children older than 3 years</td>\n",
       "      <td>0.029606</td>\n",
       "      <td>5</td>\n",
       "    </tr>\n",
       "  </tbody>\n",
       "</table>\n",
       "</div>"
      ],
      "text/plain": [
       "   CardHolder                                ItemsAlreadyBought  \\\n",
       "0    83326249                                       Table games   \n",
       "1    83326249                                       Table games   \n",
       "2    83326249                 \"Table and drinking still water \"   \n",
       "3    83326249  Drinking yoghurt for children older than 3 years   \n",
       "4    83326249                                               NaN   \n",
       "\n",
       "                                  Rec_Items_Jac_qqt    Score1  \\\n",
       "0  Drinking yoghurt for children older than 3 years  0.066867   \n",
       "1  Drinking yoghurt for children older than 3 years  0.045666   \n",
       "2  Drinking yoghurt for children older than 3 years  0.037834   \n",
       "3                                       Table games  0.034619   \n",
       "4  Drinking yoghurt for children older than 3 years  0.026656   \n",
       "\n",
       "                                 Rec_Items_Jac_mask    Score2  Rank  \n",
       "0  Drinking yoghurt for children older than 3 years  0.066358     1  \n",
       "1  Drinking yoghurt for children older than 3 years  0.044141     2  \n",
       "2                                       Table games  0.039510     3  \n",
       "3  Drinking yoghurt for children older than 3 years  0.038872     4  \n",
       "4  Drinking yoghurt for children older than 3 years  0.029606     5  "
      ]
     },
     "execution_count": 262,
     "metadata": {},
     "output_type": "execute_result"
    }
   ],
   "source": [
    "proper_result(83326249,jaccard_qqt_rec,jaccard_mask_rec,'Rec_Items_Jac_qqt','Rec_Items_Jac_mask')"
   ]
  },
  {
   "cell_type": "code",
   "execution_count": 265,
   "metadata": {},
   "outputs": [
    {
     "data": {
      "text/html": [
       "<div>\n",
       "<style scoped>\n",
       "    .dataframe tbody tr th:only-of-type {\n",
       "        vertical-align: middle;\n",
       "    }\n",
       "\n",
       "    .dataframe tbody tr th {\n",
       "        vertical-align: top;\n",
       "    }\n",
       "\n",
       "    .dataframe thead th {\n",
       "        text-align: right;\n",
       "    }\n",
       "</style>\n",
       "<table border=\"1\" class=\"dataframe\">\n",
       "  <thead>\n",
       "    <tr style=\"text-align: right;\">\n",
       "      <th></th>\n",
       "      <th>CardHolder</th>\n",
       "      <th>ItemsAlreadyBought</th>\n",
       "      <th>Rec_Items_Jac_qqt</th>\n",
       "      <th>Score1</th>\n",
       "      <th>Rec_Items_Jac_mask</th>\n",
       "      <th>Score2</th>\n",
       "      <th>Rank</th>\n",
       "    </tr>\n",
       "  </thead>\n",
       "  <tbody>\n",
       "    <tr>\n",
       "      <th>0</th>\n",
       "      <td>83332870</td>\n",
       "      <td>\"Poultry salads with mayonnaise, own productio...</td>\n",
       "      <td>Other fast food products own production</td>\n",
       "      <td>0.090520</td>\n",
       "      <td>Meat salads with mayonnaise, own production</td>\n",
       "      <td>0.085389</td>\n",
       "      <td>1</td>\n",
       "    </tr>\n",
       "    <tr>\n",
       "      <th>1</th>\n",
       "      <td>83332870</td>\n",
       "      <td>Energy drinks &lt; 0,6 l</td>\n",
       "      <td>Other fast food products own production</td>\n",
       "      <td>0.086684</td>\n",
       "      <td>\"Fish and seafood salads with mayonnaise, own ...</td>\n",
       "      <td>0.073569</td>\n",
       "      <td>2</td>\n",
       "    </tr>\n",
       "    <tr>\n",
       "      <th>2</th>\n",
       "      <td>83332870</td>\n",
       "      <td>Other fast food products own production</td>\n",
       "      <td>Energy drinks &lt; 0,6 l</td>\n",
       "      <td>0.077766</td>\n",
       "      <td>\"Vegetable salads with vegetable oil, own prod...</td>\n",
       "      <td>0.071191</td>\n",
       "      <td>3</td>\n",
       "    </tr>\n",
       "    <tr>\n",
       "      <th>3</th>\n",
       "      <td>83332870</td>\n",
       "      <td>NaN</td>\n",
       "      <td>Energy drinks &lt; 0,6 l</td>\n",
       "      <td>0.062500</td>\n",
       "      <td>\"Fish and seafood salads with mayonnaise, own ...</td>\n",
       "      <td>0.070943</td>\n",
       "      <td>4</td>\n",
       "    </tr>\n",
       "    <tr>\n",
       "      <th>4</th>\n",
       "      <td>83332870</td>\n",
       "      <td>NaN</td>\n",
       "      <td>Sandwiches, sandwiches, rolls in pita bread ow...</td>\n",
       "      <td>0.053910</td>\n",
       "      <td>\"Fish and seafood salads with mayonnaise, own ...</td>\n",
       "      <td>0.070658</td>\n",
       "      <td>5</td>\n",
       "    </tr>\n",
       "  </tbody>\n",
       "</table>\n",
       "</div>"
      ],
      "text/plain": [
       "   CardHolder                                 ItemsAlreadyBought  \\\n",
       "0    83332870  \"Poultry salads with mayonnaise, own productio...   \n",
       "1    83332870                              Energy drinks < 0,6 l   \n",
       "2    83332870            Other fast food products own production   \n",
       "3    83332870                                                NaN   \n",
       "4    83332870                                                NaN   \n",
       "\n",
       "                                   Rec_Items_Jac_qqt    Score1  \\\n",
       "0            Other fast food products own production  0.090520   \n",
       "1            Other fast food products own production  0.086684   \n",
       "2                              Energy drinks < 0,6 l  0.077766   \n",
       "3                              Energy drinks < 0,6 l  0.062500   \n",
       "4  Sandwiches, sandwiches, rolls in pita bread ow...  0.053910   \n",
       "\n",
       "                                  Rec_Items_Jac_mask    Score2  Rank  \n",
       "0        Meat salads with mayonnaise, own production  0.085389     1  \n",
       "1  \"Fish and seafood salads with mayonnaise, own ...  0.073569     2  \n",
       "2  \"Vegetable salads with vegetable oil, own prod...  0.071191     3  \n",
       "3  \"Fish and seafood salads with mayonnaise, own ...  0.070943     4  \n",
       "4  \"Fish and seafood salads with mayonnaise, own ...  0.070658     5  "
      ]
     },
     "execution_count": 265,
     "metadata": {},
     "output_type": "execute_result"
    }
   ],
   "source": [
    "proper_result(83332870,jaccard_qqt_rec,jaccard_mask_rec,'Rec_Items_Jac_qqt','Rec_Items_Jac_mask')"
   ]
  },
  {
   "cell_type": "code",
   "execution_count": 264,
   "metadata": {
    "scrolled": true
   },
   "outputs": [
    {
     "data": {
      "text/html": [
       "<div>\n",
       "<style scoped>\n",
       "    .dataframe tbody tr th:only-of-type {\n",
       "        vertical-align: middle;\n",
       "    }\n",
       "\n",
       "    .dataframe tbody tr th {\n",
       "        vertical-align: top;\n",
       "    }\n",
       "\n",
       "    .dataframe thead th {\n",
       "        text-align: right;\n",
       "    }\n",
       "</style>\n",
       "<table border=\"1\" class=\"dataframe\">\n",
       "  <thead>\n",
       "    <tr style=\"text-align: right;\">\n",
       "      <th></th>\n",
       "      <th>CardHolder</th>\n",
       "      <th>ItemsAlreadyBought</th>\n",
       "      <th>Rec_Items_Jac_qqt</th>\n",
       "      <th>Score1</th>\n",
       "      <th>Rec_Items_Jac_mask</th>\n",
       "      <th>Score2</th>\n",
       "      <th>Rank</th>\n",
       "    </tr>\n",
       "  </thead>\n",
       "  <tbody>\n",
       "    <tr>\n",
       "      <th>0</th>\n",
       "      <td>83326911</td>\n",
       "      <td>\"Liquid washing detergent \"</td>\n",
       "      <td>Canned peas</td>\n",
       "      <td>0.017926</td>\n",
       "      <td>Marrows</td>\n",
       "      <td>0.021488</td>\n",
       "      <td>1</td>\n",
       "    </tr>\n",
       "    <tr>\n",
       "      <th>1</th>\n",
       "      <td>83326911</td>\n",
       "      <td>Other grains</td>\n",
       "      <td>\"Cabbage \"</td>\n",
       "      <td>0.015525</td>\n",
       "      <td>\"Cabbage \"</td>\n",
       "      <td>0.019892</td>\n",
       "      <td>2</td>\n",
       "    </tr>\n",
       "    <tr>\n",
       "      <th>2</th>\n",
       "      <td>83326911</td>\n",
       "      <td>Baby fabric conditioner</td>\n",
       "      <td>\"Carbonated wine drinks \"</td>\n",
       "      <td>0.015295</td>\n",
       "      <td>Spring onion</td>\n",
       "      <td>0.019326</td>\n",
       "      <td>3</td>\n",
       "    </tr>\n",
       "    <tr>\n",
       "      <th>3</th>\n",
       "      <td>83326911</td>\n",
       "      <td>\"Smoked white fish slices  in branded package  \"</td>\n",
       "      <td>Packaged potato</td>\n",
       "      <td>0.015217</td>\n",
       "      <td>Other grains</td>\n",
       "      <td>0.019191</td>\n",
       "      <td>4</td>\n",
       "    </tr>\n",
       "    <tr>\n",
       "      <th>4</th>\n",
       "      <td>83326911</td>\n",
       "      <td>\"Cabbage \"</td>\n",
       "      <td>\"Cabbage \"</td>\n",
       "      <td>0.015206</td>\n",
       "      <td>\"Cabbage \"</td>\n",
       "      <td>0.018861</td>\n",
       "      <td>5</td>\n",
       "    </tr>\n",
       "  </tbody>\n",
       "</table>\n",
       "</div>"
      ],
      "text/plain": [
       "   CardHolder                                ItemsAlreadyBought  \\\n",
       "0    83326911                       \"Liquid washing detergent \"   \n",
       "1    83326911                                      Other grains   \n",
       "2    83326911                           Baby fabric conditioner   \n",
       "3    83326911  \"Smoked white fish slices  in branded package  \"   \n",
       "4    83326911                                        \"Cabbage \"   \n",
       "\n",
       "           Rec_Items_Jac_qqt    Score1 Rec_Items_Jac_mask    Score2  Rank  \n",
       "0                Canned peas  0.017926            Marrows  0.021488     1  \n",
       "1                 \"Cabbage \"  0.015525         \"Cabbage \"  0.019892     2  \n",
       "2  \"Carbonated wine drinks \"  0.015295       Spring onion  0.019326     3  \n",
       "3            Packaged potato  0.015217       Other grains  0.019191     4  \n",
       "4                 \"Cabbage \"  0.015206         \"Cabbage \"  0.018861     5  "
      ]
     },
     "execution_count": 264,
     "metadata": {},
     "output_type": "execute_result"
    }
   ],
   "source": [
    "proper_result(83326911,jaccard_qqt_rec,jaccard_mask_rec,'Rec_Items_Jac_qqt','Rec_Items_Jac_mask')"
   ]
  },
  {
   "cell_type": "code",
   "execution_count": 263,
   "metadata": {
    "scrolled": true
   },
   "outputs": [
    {
     "data": {
      "text/html": [
       "<div>\n",
       "<style scoped>\n",
       "    .dataframe tbody tr th:only-of-type {\n",
       "        vertical-align: middle;\n",
       "    }\n",
       "\n",
       "    .dataframe tbody tr th {\n",
       "        vertical-align: top;\n",
       "    }\n",
       "\n",
       "    .dataframe thead th {\n",
       "        text-align: right;\n",
       "    }\n",
       "</style>\n",
       "<table border=\"1\" class=\"dataframe\">\n",
       "  <thead>\n",
       "    <tr style=\"text-align: right;\">\n",
       "      <th></th>\n",
       "      <th>CardHolder</th>\n",
       "      <th>ItemsAlreadyBought</th>\n",
       "      <th>Rec_Items_Jac_qqt</th>\n",
       "      <th>Score1</th>\n",
       "      <th>Rec_Items_Jac_mask</th>\n",
       "      <th>Score2</th>\n",
       "      <th>Rank</th>\n",
       "    </tr>\n",
       "  </thead>\n",
       "  <tbody>\n",
       "    <tr>\n",
       "      <th>0</th>\n",
       "      <td>83329160</td>\n",
       "      <td>Butter packing 125 gr - 300 gr</td>\n",
       "      <td>Bulk potato</td>\n",
       "      <td>0.044370</td>\n",
       "      <td>Bulk potato</td>\n",
       "      <td>0.056375</td>\n",
       "      <td>1</td>\n",
       "    </tr>\n",
       "    <tr>\n",
       "      <th>1</th>\n",
       "      <td>83329160</td>\n",
       "      <td>Pants</td>\n",
       "      <td>\"Cabbage \"</td>\n",
       "      <td>0.042731</td>\n",
       "      <td>Sand sugar white</td>\n",
       "      <td>0.053723</td>\n",
       "      <td>2</td>\n",
       "    </tr>\n",
       "    <tr>\n",
       "      <th>2</th>\n",
       "      <td>83329160</td>\n",
       "      <td>\"Medicinal mineral water \"</td>\n",
       "      <td>Sand sugar white</td>\n",
       "      <td>0.042592</td>\n",
       "      <td>\"Cabbage \"</td>\n",
       "      <td>0.052865</td>\n",
       "      <td>3</td>\n",
       "    </tr>\n",
       "    <tr>\n",
       "      <th>3</th>\n",
       "      <td>83329160</td>\n",
       "      <td>\"Cables for mobile phones \"</td>\n",
       "      <td>Carrot</td>\n",
       "      <td>0.041035</td>\n",
       "      <td>Carrot</td>\n",
       "      <td>0.052225</td>\n",
       "      <td>4</td>\n",
       "    </tr>\n",
       "    <tr>\n",
       "      <th>4</th>\n",
       "      <td>83329160</td>\n",
       "      <td>\"Caviar imitation in branded package  \"</td>\n",
       "      <td>\"Cabbage \"</td>\n",
       "      <td>0.040848</td>\n",
       "      <td>Cow pasteurized milk  &lt;1 l</td>\n",
       "      <td>0.052019</td>\n",
       "      <td>5</td>\n",
       "    </tr>\n",
       "  </tbody>\n",
       "</table>\n",
       "</div>"
      ],
      "text/plain": [
       "   CardHolder                       ItemsAlreadyBought Rec_Items_Jac_qqt  \\\n",
       "0    83329160           Butter packing 125 gr - 300 gr       Bulk potato   \n",
       "1    83329160                                    Pants        \"Cabbage \"   \n",
       "2    83329160               \"Medicinal mineral water \"  Sand sugar white   \n",
       "3    83329160              \"Cables for mobile phones \"            Carrot   \n",
       "4    83329160  \"Caviar imitation in branded package  \"        \"Cabbage \"   \n",
       "\n",
       "     Score1          Rec_Items_Jac_mask    Score2  Rank  \n",
       "0  0.044370                 Bulk potato  0.056375     1  \n",
       "1  0.042731            Sand sugar white  0.053723     2  \n",
       "2  0.042592                  \"Cabbage \"  0.052865     3  \n",
       "3  0.041035                      Carrot  0.052225     4  \n",
       "4  0.040848  Cow pasteurized milk  <1 l  0.052019     5  "
      ]
     },
     "execution_count": 263,
     "metadata": {},
     "output_type": "execute_result"
    }
   ],
   "source": [
    "proper_result(83329160,jaccard_qqt_rec,jaccard_mask_rec,'Rec_Items_Jac_qqt','Rec_Items_Jac_mask')"
   ]
  },
  {
   "cell_type": "code",
   "execution_count": 255,
   "metadata": {},
   "outputs": [
    {
     "data": {
      "text/html": [
       "<div>\n",
       "<style scoped>\n",
       "    .dataframe tbody tr th:only-of-type {\n",
       "        vertical-align: middle;\n",
       "    }\n",
       "\n",
       "    .dataframe tbody tr th {\n",
       "        vertical-align: top;\n",
       "    }\n",
       "\n",
       "    .dataframe thead th {\n",
       "        text-align: right;\n",
       "    }\n",
       "</style>\n",
       "<table border=\"1\" class=\"dataframe\">\n",
       "  <thead>\n",
       "    <tr style=\"text-align: right;\">\n",
       "      <th></th>\n",
       "      <th>CardHolder</th>\n",
       "      <th>ItemsAlreadyBought</th>\n",
       "      <th>Rec_Items_Jac_qqt</th>\n",
       "      <th>Score1</th>\n",
       "      <th>Rec_Items_Jac_mask</th>\n",
       "      <th>Score2</th>\n",
       "      <th>Rank</th>\n",
       "    </tr>\n",
       "  </thead>\n",
       "  <tbody>\n",
       "    <tr>\n",
       "      <th>0</th>\n",
       "      <td>10054537</td>\n",
       "      <td>Instant mashed potato</td>\n",
       "      <td>Fish fillet-pieces proprietary packaging</td>\n",
       "      <td>0.048913</td>\n",
       "      <td>Cheese piece with colored mold</td>\n",
       "      <td>0.100515</td>\n",
       "      <td>1</td>\n",
       "    </tr>\n",
       "    <tr>\n",
       "      <th>1</th>\n",
       "      <td>10054537</td>\n",
       "      <td>Cheese piece with colored mold</td>\n",
       "      <td>Butter packing 125 gr - 300 gr</td>\n",
       "      <td>0.026316</td>\n",
       "      <td>Instant mashed potato</td>\n",
       "      <td>0.089224</td>\n",
       "      <td>2</td>\n",
       "    </tr>\n",
       "    <tr>\n",
       "      <th>2</th>\n",
       "      <td>10054537</td>\n",
       "      <td>Fish fillet branded packaging</td>\n",
       "      <td>\"Baking mix \"</td>\n",
       "      <td>0.024691</td>\n",
       "      <td>Instant mashed potato</td>\n",
       "      <td>0.086022</td>\n",
       "      <td>3</td>\n",
       "    </tr>\n",
       "    <tr>\n",
       "      <th>3</th>\n",
       "      <td>10054537</td>\n",
       "      <td>NaN</td>\n",
       "      <td>Role-playing game kit</td>\n",
       "      <td>0.023256</td>\n",
       "      <td>Cheese piece with colored mold</td>\n",
       "      <td>0.058164</td>\n",
       "      <td>4</td>\n",
       "    </tr>\n",
       "    <tr>\n",
       "      <th>4</th>\n",
       "      <td>10054537</td>\n",
       "      <td>NaN</td>\n",
       "      <td>Fish fillet-pieces proprietary packaging</td>\n",
       "      <td>0.021898</td>\n",
       "      <td>Cheese piece with colored mold</td>\n",
       "      <td>0.046929</td>\n",
       "      <td>5</td>\n",
       "    </tr>\n",
       "  </tbody>\n",
       "</table>\n",
       "</div>"
      ],
      "text/plain": [
       "   CardHolder              ItemsAlreadyBought  \\\n",
       "0    10054537           Instant mashed potato   \n",
       "1    10054537  Cheese piece with colored mold   \n",
       "2    10054537   Fish fillet branded packaging   \n",
       "3    10054537                             NaN   \n",
       "4    10054537                             NaN   \n",
       "\n",
       "                          Rec_Items_Jac_qqt    Score1  \\\n",
       "0  Fish fillet-pieces proprietary packaging  0.048913   \n",
       "1            Butter packing 125 gr - 300 gr  0.026316   \n",
       "2                             \"Baking mix \"  0.024691   \n",
       "3                     Role-playing game kit  0.023256   \n",
       "4  Fish fillet-pieces proprietary packaging  0.021898   \n",
       "\n",
       "               Rec_Items_Jac_mask    Score2  Rank  \n",
       "0  Cheese piece with colored mold  0.100515     1  \n",
       "1           Instant mashed potato  0.089224     2  \n",
       "2           Instant mashed potato  0.086022     3  \n",
       "3  Cheese piece with colored mold  0.058164     4  \n",
       "4  Cheese piece with colored mold  0.046929     5  "
      ]
     },
     "execution_count": 255,
     "metadata": {},
     "output_type": "execute_result"
    }
   ],
   "source": [
    "proper_result(10054537,jaccard_qqt_rec,jaccard_mask_rec,'Rec_Items_Jac_qqt','Rec_Items_Jac_mask')"
   ]
  },
  {
   "cell_type": "code",
   "execution_count": 257,
   "metadata": {},
   "outputs": [
    {
     "data": {
      "text/html": [
       "<div>\n",
       "<style scoped>\n",
       "    .dataframe tbody tr th:only-of-type {\n",
       "        vertical-align: middle;\n",
       "    }\n",
       "\n",
       "    .dataframe tbody tr th {\n",
       "        vertical-align: top;\n",
       "    }\n",
       "\n",
       "    .dataframe thead th {\n",
       "        text-align: right;\n",
       "    }\n",
       "</style>\n",
       "<table border=\"1\" class=\"dataframe\">\n",
       "  <thead>\n",
       "    <tr style=\"text-align: right;\">\n",
       "      <th></th>\n",
       "      <th>CardHolder</th>\n",
       "      <th>ItemsAlreadyBought</th>\n",
       "      <th>Rec_Items_Jac_qqt</th>\n",
       "      <th>Score1</th>\n",
       "      <th>Rec_Items_Jac_mask</th>\n",
       "      <th>Score2</th>\n",
       "      <th>Rank</th>\n",
       "    </tr>\n",
       "  </thead>\n",
       "  <tbody>\n",
       "    <tr>\n",
       "      <th>0</th>\n",
       "      <td>10071527</td>\n",
       "      <td>Cotton wool</td>\n",
       "      <td>Bulk potato</td>\n",
       "      <td>0.023795</td>\n",
       "      <td>Bulk potato</td>\n",
       "      <td>0.026887</td>\n",
       "      <td>1</td>\n",
       "    </tr>\n",
       "    <tr>\n",
       "      <th>1</th>\n",
       "      <td>10071527</td>\n",
       "      <td>Cotton wool</td>\n",
       "      <td>Marrows</td>\n",
       "      <td>0.021455</td>\n",
       "      <td>Spring onion</td>\n",
       "      <td>0.023560</td>\n",
       "      <td>2</td>\n",
       "    </tr>\n",
       "    <tr>\n",
       "      <th>2</th>\n",
       "      <td>10071527</td>\n",
       "      <td>Baking foil, sleeve</td>\n",
       "      <td>\"Cabbage \"</td>\n",
       "      <td>0.021313</td>\n",
       "      <td>Bulk cucumbers</td>\n",
       "      <td>0.023349</td>\n",
       "      <td>3</td>\n",
       "    </tr>\n",
       "    <tr>\n",
       "      <th>3</th>\n",
       "      <td>10071527</td>\n",
       "      <td>Washing detergent - capsules, tablets</td>\n",
       "      <td>\"Cabbage \"</td>\n",
       "      <td>0.021071</td>\n",
       "      <td>Marrows</td>\n",
       "      <td>0.023252</td>\n",
       "      <td>4</td>\n",
       "    </tr>\n",
       "    <tr>\n",
       "      <th>4</th>\n",
       "      <td>10071527</td>\n",
       "      <td>Cow pasteurized milk  &lt;1 l</td>\n",
       "      <td>Carrot</td>\n",
       "      <td>0.020751</td>\n",
       "      <td>Packaged cucumbers</td>\n",
       "      <td>0.022716</td>\n",
       "      <td>5</td>\n",
       "    </tr>\n",
       "  </tbody>\n",
       "</table>\n",
       "</div>"
      ],
      "text/plain": [
       "   CardHolder                     ItemsAlreadyBought Rec_Items_Jac_qqt  \\\n",
       "0    10071527                            Cotton wool       Bulk potato   \n",
       "1    10071527                            Cotton wool           Marrows   \n",
       "2    10071527                    Baking foil, sleeve        \"Cabbage \"   \n",
       "3    10071527  Washing detergent - capsules, tablets        \"Cabbage \"   \n",
       "4    10071527             Cow pasteurized milk  <1 l            Carrot   \n",
       "\n",
       "     Score1  Rec_Items_Jac_mask    Score2  Rank  \n",
       "0  0.023795         Bulk potato  0.026887     1  \n",
       "1  0.021455        Spring onion  0.023560     2  \n",
       "2  0.021313      Bulk cucumbers  0.023349     3  \n",
       "3  0.021071             Marrows  0.023252     4  \n",
       "4  0.020751  Packaged cucumbers  0.022716     5  "
      ]
     },
     "execution_count": 257,
     "metadata": {},
     "output_type": "execute_result"
    }
   ],
   "source": [
    "proper_result(10071527,jaccard_qqt_rec,jaccard_mask_rec,'Rec_Items_Jac_qqt','Rec_Items_Jac_mask')"
   ]
  },
  {
   "cell_type": "code",
   "execution_count": 259,
   "metadata": {},
   "outputs": [
    {
     "data": {
      "text/html": [
       "<div>\n",
       "<style scoped>\n",
       "    .dataframe tbody tr th:only-of-type {\n",
       "        vertical-align: middle;\n",
       "    }\n",
       "\n",
       "    .dataframe tbody tr th {\n",
       "        vertical-align: top;\n",
       "    }\n",
       "\n",
       "    .dataframe thead th {\n",
       "        text-align: right;\n",
       "    }\n",
       "</style>\n",
       "<table border=\"1\" class=\"dataframe\">\n",
       "  <thead>\n",
       "    <tr style=\"text-align: right;\">\n",
       "      <th></th>\n",
       "      <th>CardHolder</th>\n",
       "      <th>ItemsAlreadyBought</th>\n",
       "      <th>Rec_Items_Jac_qqt</th>\n",
       "      <th>Score1</th>\n",
       "      <th>Rec_Items_Jac_mask</th>\n",
       "      <th>Score2</th>\n",
       "      <th>Rank</th>\n",
       "    </tr>\n",
       "  </thead>\n",
       "  <tbody>\n",
       "    <tr>\n",
       "      <th>0</th>\n",
       "      <td>10011587</td>\n",
       "      <td>\"Sparkling white wine, brut, dry, semi-dry \"</td>\n",
       "      <td>Cow pasteurized milk  &lt;1 l</td>\n",
       "      <td>0.042652</td>\n",
       "      <td>Oatmeal cookies</td>\n",
       "      <td>0.040683</td>\n",
       "      <td>1</td>\n",
       "    </tr>\n",
       "    <tr>\n",
       "      <th>1</th>\n",
       "      <td>10011587</td>\n",
       "      <td>Cow pasteurized milk  &lt;1 l</td>\n",
       "      <td>Oatmeal cookies</td>\n",
       "      <td>0.041633</td>\n",
       "      <td>Oatmeal cookies</td>\n",
       "      <td>0.038507</td>\n",
       "      <td>2</td>\n",
       "    </tr>\n",
       "    <tr>\n",
       "      <th>2</th>\n",
       "      <td>10011587</td>\n",
       "      <td>Oatmeal cookies</td>\n",
       "      <td>Oatmeal cookies</td>\n",
       "      <td>0.040752</td>\n",
       "      <td>Sand sugar white</td>\n",
       "      <td>0.034949</td>\n",
       "      <td>3</td>\n",
       "    </tr>\n",
       "    <tr>\n",
       "      <th>3</th>\n",
       "      <td>10011587</td>\n",
       "      <td>Oatmeal cookies</td>\n",
       "      <td>Natural curd  2%-5% fat</td>\n",
       "      <td>0.033361</td>\n",
       "      <td>Cow pasteurized milk  &lt;1 l</td>\n",
       "      <td>0.029738</td>\n",
       "      <td>4</td>\n",
       "    </tr>\n",
       "    <tr>\n",
       "      <th>4</th>\n",
       "      <td>10011587</td>\n",
       "      <td>NaN</td>\n",
       "      <td>Packaged oranges</td>\n",
       "      <td>0.032940</td>\n",
       "      <td>Chicken eggs,  9-15  eggs</td>\n",
       "      <td>0.027206</td>\n",
       "      <td>5</td>\n",
       "    </tr>\n",
       "  </tbody>\n",
       "</table>\n",
       "</div>"
      ],
      "text/plain": [
       "   CardHolder                            ItemsAlreadyBought  \\\n",
       "0    10011587  \"Sparkling white wine, brut, dry, semi-dry \"   \n",
       "1    10011587                    Cow pasteurized milk  <1 l   \n",
       "2    10011587                               Oatmeal cookies   \n",
       "3    10011587                               Oatmeal cookies   \n",
       "4    10011587                                           NaN   \n",
       "\n",
       "            Rec_Items_Jac_qqt    Score1          Rec_Items_Jac_mask    Score2  \\\n",
       "0  Cow pasteurized milk  <1 l  0.042652             Oatmeal cookies  0.040683   \n",
       "1             Oatmeal cookies  0.041633             Oatmeal cookies  0.038507   \n",
       "2             Oatmeal cookies  0.040752            Sand sugar white  0.034949   \n",
       "3     Natural curd  2%-5% fat  0.033361  Cow pasteurized milk  <1 l  0.029738   \n",
       "4            Packaged oranges  0.032940   Chicken eggs,  9-15  eggs  0.027206   \n",
       "\n",
       "   Rank  \n",
       "0     1  \n",
       "1     2  \n",
       "2     3  \n",
       "3     4  \n",
       "4     5  "
      ]
     },
     "execution_count": 259,
     "metadata": {},
     "output_type": "execute_result"
    }
   ],
   "source": [
    "proper_result(10011587,jaccard_qqt_rec,jaccard_mask_rec,'Rec_Items_Jac_qqt','Rec_Items_Jac_mask')"
   ]
  },
  {
   "cell_type": "code",
   "execution_count": 258,
   "metadata": {},
   "outputs": [
    {
     "data": {
      "text/html": [
       "<div>\n",
       "<style scoped>\n",
       "    .dataframe tbody tr th:only-of-type {\n",
       "        vertical-align: middle;\n",
       "    }\n",
       "\n",
       "    .dataframe tbody tr th {\n",
       "        vertical-align: top;\n",
       "    }\n",
       "\n",
       "    .dataframe thead th {\n",
       "        text-align: right;\n",
       "    }\n",
       "</style>\n",
       "<table border=\"1\" class=\"dataframe\">\n",
       "  <thead>\n",
       "    <tr style=\"text-align: right;\">\n",
       "      <th></th>\n",
       "      <th>CardHolder</th>\n",
       "      <th>ItemsAlreadyBought</th>\n",
       "      <th>Rec_Items_Jac_qqt</th>\n",
       "      <th>Score1</th>\n",
       "      <th>Rec_Items_Jac_mask</th>\n",
       "      <th>Score2</th>\n",
       "      <th>Rank</th>\n",
       "    </tr>\n",
       "  </thead>\n",
       "  <tbody>\n",
       "    <tr>\n",
       "      <th>0</th>\n",
       "      <td>10069565</td>\n",
       "      <td>\"Special liquid washing detergent \"</td>\n",
       "      <td>Bulk potato</td>\n",
       "      <td>0.045760</td>\n",
       "      <td>Lemons</td>\n",
       "      <td>0.045794</td>\n",
       "      <td>1</td>\n",
       "    </tr>\n",
       "    <tr>\n",
       "      <th>1</th>\n",
       "      <td>10069565</td>\n",
       "      <td>Hair dyes</td>\n",
       "      <td>\"Cabbage \"</td>\n",
       "      <td>0.043960</td>\n",
       "      <td>Bulk traditional tomatoes</td>\n",
       "      <td>0.045302</td>\n",
       "      <td>2</td>\n",
       "    </tr>\n",
       "    <tr>\n",
       "      <th>2</th>\n",
       "      <td>10069565</td>\n",
       "      <td>Hair dyes</td>\n",
       "      <td>Carrot</td>\n",
       "      <td>0.042591</td>\n",
       "      <td>\"Cabbage \"</td>\n",
       "      <td>0.043726</td>\n",
       "      <td>3</td>\n",
       "    </tr>\n",
       "    <tr>\n",
       "      <th>3</th>\n",
       "      <td>10069565</td>\n",
       "      <td>Butter packing 125 gr - 300 gr</td>\n",
       "      <td>Lemons</td>\n",
       "      <td>0.041882</td>\n",
       "      <td>Bulk traditional tomatoes</td>\n",
       "      <td>0.043051</td>\n",
       "      <td>4</td>\n",
       "    </tr>\n",
       "    <tr>\n",
       "      <th>4</th>\n",
       "      <td>10069565</td>\n",
       "      <td>Cut salmon, service</td>\n",
       "      <td>Bulk traditional tomatoes</td>\n",
       "      <td>0.040711</td>\n",
       "      <td>Sand sugar white</td>\n",
       "      <td>0.042420</td>\n",
       "      <td>5</td>\n",
       "    </tr>\n",
       "  </tbody>\n",
       "</table>\n",
       "</div>"
      ],
      "text/plain": [
       "   CardHolder                   ItemsAlreadyBought          Rec_Items_Jac_qqt  \\\n",
       "0    10069565  \"Special liquid washing detergent \"                Bulk potato   \n",
       "1    10069565                            Hair dyes                 \"Cabbage \"   \n",
       "2    10069565                            Hair dyes                     Carrot   \n",
       "3    10069565       Butter packing 125 gr - 300 gr                     Lemons   \n",
       "4    10069565                  Cut salmon, service  Bulk traditional tomatoes   \n",
       "\n",
       "     Score1         Rec_Items_Jac_mask    Score2  Rank  \n",
       "0  0.045760                     Lemons  0.045794     1  \n",
       "1  0.043960  Bulk traditional tomatoes  0.045302     2  \n",
       "2  0.042591                 \"Cabbage \"  0.043726     3  \n",
       "3  0.041882  Bulk traditional tomatoes  0.043051     4  \n",
       "4  0.040711           Sand sugar white  0.042420     5  "
      ]
     },
     "execution_count": 258,
     "metadata": {},
     "output_type": "execute_result"
    }
   ],
   "source": [
    "proper_result(10069565,jaccard_qqt_rec,jaccard_mask_rec,'Rec_Items_Jac_qqt','Rec_Items_Jac_mask')"
   ]
  },
  {
   "cell_type": "code",
   "execution_count": 260,
   "metadata": {},
   "outputs": [
    {
     "data": {
      "text/html": [
       "<div>\n",
       "<style scoped>\n",
       "    .dataframe tbody tr th:only-of-type {\n",
       "        vertical-align: middle;\n",
       "    }\n",
       "\n",
       "    .dataframe tbody tr th {\n",
       "        vertical-align: top;\n",
       "    }\n",
       "\n",
       "    .dataframe thead th {\n",
       "        text-align: right;\n",
       "    }\n",
       "</style>\n",
       "<table border=\"1\" class=\"dataframe\">\n",
       "  <thead>\n",
       "    <tr style=\"text-align: right;\">\n",
       "      <th></th>\n",
       "      <th>CardHolder</th>\n",
       "      <th>ItemsAlreadyBought</th>\n",
       "      <th>Rec_Items_Jac_qqt</th>\n",
       "      <th>Score1</th>\n",
       "      <th>Rec_Items_Jac_mask</th>\n",
       "      <th>Score2</th>\n",
       "      <th>Rank</th>\n",
       "    </tr>\n",
       "  </thead>\n",
       "  <tbody>\n",
       "    <tr>\n",
       "      <th>0</th>\n",
       "      <td>10049978</td>\n",
       "      <td>Bananas</td>\n",
       "      <td>Bulb onion</td>\n",
       "      <td>0.084166</td>\n",
       "      <td>Bulb onion</td>\n",
       "      <td>0.067884</td>\n",
       "      <td>1</td>\n",
       "    </tr>\n",
       "    <tr>\n",
       "      <th>1</th>\n",
       "      <td>10049978</td>\n",
       "      <td>Condensed milk</td>\n",
       "      <td>\"Sweet pepper \"</td>\n",
       "      <td>0.076731</td>\n",
       "      <td>\"Sweet pepper \"</td>\n",
       "      <td>0.061522</td>\n",
       "      <td>2</td>\n",
       "    </tr>\n",
       "    <tr>\n",
       "      <th>2</th>\n",
       "      <td>10049978</td>\n",
       "      <td>Lemons</td>\n",
       "      <td>Carrot</td>\n",
       "      <td>0.071639</td>\n",
       "      <td>Carrot</td>\n",
       "      <td>0.057303</td>\n",
       "      <td>3</td>\n",
       "    </tr>\n",
       "    <tr>\n",
       "      <th>3</th>\n",
       "      <td>10049978</td>\n",
       "      <td>Premium and imported water</td>\n",
       "      <td>Bulk tangerines</td>\n",
       "      <td>0.067433</td>\n",
       "      <td>Bulk tangerines</td>\n",
       "      <td>0.053680</td>\n",
       "      <td>4</td>\n",
       "    </tr>\n",
       "    <tr>\n",
       "      <th>4</th>\n",
       "      <td>10049978</td>\n",
       "      <td>Hazelnut</td>\n",
       "      <td>Bulk cucumbers</td>\n",
       "      <td>0.064440</td>\n",
       "      <td>Carrot</td>\n",
       "      <td>0.051713</td>\n",
       "      <td>5</td>\n",
       "    </tr>\n",
       "  </tbody>\n",
       "</table>\n",
       "</div>"
      ],
      "text/plain": [
       "   CardHolder          ItemsAlreadyBought Rec_Items_Jac_qqt    Score1  \\\n",
       "0    10049978                     Bananas        Bulb onion  0.084166   \n",
       "1    10049978              Condensed milk   \"Sweet pepper \"  0.076731   \n",
       "2    10049978                      Lemons            Carrot  0.071639   \n",
       "3    10049978  Premium and imported water   Bulk tangerines  0.067433   \n",
       "4    10049978                    Hazelnut    Bulk cucumbers  0.064440   \n",
       "\n",
       "  Rec_Items_Jac_mask    Score2  Rank  \n",
       "0         Bulb onion  0.067884     1  \n",
       "1    \"Sweet pepper \"  0.061522     2  \n",
       "2             Carrot  0.057303     3  \n",
       "3    Bulk tangerines  0.053680     4  \n",
       "4             Carrot  0.051713     5  "
      ]
     },
     "execution_count": 260,
     "metadata": {},
     "output_type": "execute_result"
    }
   ],
   "source": [
    "proper_result(10049978,jaccard_qqt_rec,jaccard_mask_rec,'Rec_Items_Jac_qqt','Rec_Items_Jac_mask')"
   ]
  },
  {
   "cell_type": "code",
   "execution_count": null,
   "metadata": {},
   "outputs": [],
   "source": []
  }
 ],
 "metadata": {
  "kernelspec": {
   "display_name": "Python 3",
   "language": "python",
   "name": "python3"
  },
  "language_info": {
   "codemirror_mode": {
    "name": "ipython",
    "version": 3
   },
   "file_extension": ".py",
   "mimetype": "text/x-python",
   "name": "python",
   "nbconvert_exporter": "python",
   "pygments_lexer": "ipython3",
   "version": "3.7.4"
  }
 },
 "nbformat": 4,
 "nbformat_minor": 2
}
