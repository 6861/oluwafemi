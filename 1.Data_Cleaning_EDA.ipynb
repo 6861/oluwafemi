{
 "cells": [
  {
   "cell_type": "code",
   "execution_count": null,
   "metadata": {},
   "outputs": [],
   "source": []
  },
  {
   "cell_type": "markdown",
   "metadata": {},
   "source": [
    "# Table of Content\n",
    "\n",
    "## Section 1: Data Cleaning and EDA\n",
    "\n",
    "## Section 2 : Alternating Least Square RecSys Model\n",
    "\n",
    "## Section 3 : LightFM RecSys Model\n",
    "\n",
    "## Section 4 : TuriCreate RecSys Model\n",
    "\n",
    "## Section 5 : RecSys with De"
   ]
  },
  {
   "cell_type": "code",
   "execution_count": null,
   "metadata": {},
   "outputs": [],
   "source": []
  },
  {
   "cell_type": "code",
   "execution_count": null,
   "metadata": {},
   "outputs": [],
   "source": [
    "import pandas as pd\n",
    "import numpy as np\n",
    "import matplotlib.pyplot as plt\n",
    "import seaborn as sns\n",
    "plt.style.use('fivethirtyeight')\n",
    "from pandas.api.types import CategoricalDtype\n",
    "import warnings\n",
    "warnings.filterwarnings('ignore')\n",
    "#pd.options.plotting.backend = 'plotly'\n",
    "\n",
    "###################################################\n",
    "import scipy.sparse as sparse\n",
    "import random\n",
    "import implicit\n",
    "from scipy.sparse import coo_matrix\n",
    "from scipy.sparse.linalg import spsolve\n",
    "from pandas.api.types import CategoricalDtype\n",
    "from sklearn.preprocessing import MinMaxScaler\n",
    "from sklearn import metrics\n",
    "from sklearn.model_selection import train_test_split\n",
    "\n",
    "########################################################\n",
    "from lightfm import LightFM\n",
    "from lightfm.data import Dataset\n",
    "from lightfm.evaluation import precision_at_k\n",
    "from lightfm.evaluation import auc_score\n",
    "from itertools import islice\n"
   ]
  },
  {
   "cell_type": "code",
   "execution_count": null,
   "metadata": {},
   "outputs": [],
   "source": []
  },
  {
   "cell_type": "markdown",
   "metadata": {},
   "source": [
    "# Section 1\n",
    "\n",
    " - Creating proper dataset from different data files\n",
    " \n",
    "         - getting items information from \"Materials data\" files\n",
    "         \n",
    "         - which will be joined with the info from the \"Transaction data\" files \n",
    "         \n",
    "         - and each item catergory will be extracted from the \"rpg_wgh\" data files \n",
    " \n",
    " \n",
    " - Expository Data Analysis\n",
    " \n",
    "         - Numerial Distribution of Data\n",
    "         \n",
    "         - Data visualization \n",
    "         "
   ]
  },
  {
   "cell_type": "code",
   "execution_count": null,
   "metadata": {},
   "outputs": [],
   "source": []
  },
  {
   "cell_type": "markdown",
   "metadata": {},
   "source": [
    "### Creating proper dataset from different data files"
   ]
  },
  {
   "cell_type": "code",
   "execution_count": null,
   "metadata": {},
   "outputs": [],
   "source": []
  },
  {
   "cell_type": "markdown",
   "metadata": {},
   "source": [
    "### Material Data file\n",
    "\n",
    "   - Data containing item_ids and vendor_ids with subcatergory codes"
   ]
  },
  {
   "cell_type": "code",
   "execution_count": 363,
   "metadata": {},
   "outputs": [
    {
     "data": {
      "text/html": [
       "<div>\n",
       "<style scoped>\n",
       "    .dataframe tbody tr th:only-of-type {\n",
       "        vertical-align: middle;\n",
       "    }\n",
       "\n",
       "    .dataframe tbody tr th {\n",
       "        vertical-align: top;\n",
       "    }\n",
       "\n",
       "    .dataframe thead th {\n",
       "        text-align: right;\n",
       "    }\n",
       "</style>\n",
       "<table border=\"1\" class=\"dataframe\">\n",
       "  <thead>\n",
       "    <tr style=\"text-align: right;\">\n",
       "      <th></th>\n",
       "      <th>material</th>\n",
       "      <th>net_weight</th>\n",
       "      <th>rpa_wgh1</th>\n",
       "      <th>rpa_wgh2</th>\n",
       "      <th>rpa_wgh3</th>\n",
       "      <th>rpa_wgh4</th>\n",
       "      <th>unit_of_wt</th>\n",
       "      <th>vendor</th>\n",
       "    </tr>\n",
       "  </thead>\n",
       "  <tbody>\n",
       "    <tr>\n",
       "      <th>0</th>\n",
       "      <td>159121</td>\n",
       "      <td>136.0</td>\n",
       "      <td>FOOD</td>\n",
       "      <td>45.0</td>\n",
       "      <td>4505.0</td>\n",
       "      <td>450503.0</td>\n",
       "      <td>G</td>\n",
       "      <td>104603</td>\n",
       "    </tr>\n",
       "    <tr>\n",
       "      <th>1</th>\n",
       "      <td>159122</td>\n",
       "      <td>30.0</td>\n",
       "      <td>NONFOOD</td>\n",
       "      <td>64.0</td>\n",
       "      <td>6401.0</td>\n",
       "      <td>640109.0</td>\n",
       "      <td>G</td>\n",
       "      <td>112359</td>\n",
       "    </tr>\n",
       "    <tr>\n",
       "      <th>2</th>\n",
       "      <td>159123</td>\n",
       "      <td>610.0</td>\n",
       "      <td>NONFOOD</td>\n",
       "      <td>74.0</td>\n",
       "      <td>7404.0</td>\n",
       "      <td>740401.0</td>\n",
       "      <td>G</td>\n",
       "      <td>103894</td>\n",
       "    </tr>\n",
       "    <tr>\n",
       "      <th>3</th>\n",
       "      <td>159124</td>\n",
       "      <td>42.0</td>\n",
       "      <td>NONFOOD</td>\n",
       "      <td>64.0</td>\n",
       "      <td>6401.0</td>\n",
       "      <td>640111.0</td>\n",
       "      <td>G</td>\n",
       "      <td>104292</td>\n",
       "    </tr>\n",
       "    <tr>\n",
       "      <th>4</th>\n",
       "      <td>159125</td>\n",
       "      <td>1200.0</td>\n",
       "      <td>NONFOOD</td>\n",
       "      <td>74.0</td>\n",
       "      <td>7404.0</td>\n",
       "      <td>740401.0</td>\n",
       "      <td>G</td>\n",
       "      <td>103894</td>\n",
       "    </tr>\n",
       "  </tbody>\n",
       "</table>\n",
       "</div>"
      ],
      "text/plain": [
       "  material  net_weight rpa_wgh1  rpa_wgh2  rpa_wgh3  rpa_wgh4 unit_of_wt  \\\n",
       "0   159121       136.0     FOOD      45.0    4505.0  450503.0          G   \n",
       "1   159122        30.0  NONFOOD      64.0    6401.0  640109.0          G   \n",
       "2   159123       610.0  NONFOOD      74.0    7404.0  740401.0          G   \n",
       "3   159124        42.0  NONFOOD      64.0    6401.0  640111.0          G   \n",
       "4   159125      1200.0  NONFOOD      74.0    7404.0  740401.0          G   \n",
       "\n",
       "   vendor  \n",
       "0  104603  \n",
       "1  112359  \n",
       "2  103894  \n",
       "3  104292  \n",
       "4  103894  "
      ]
     },
     "execution_count": 363,
     "metadata": {},
     "output_type": "execute_result"
    }
   ],
   "source": [
    "            #loading the item/material data files...\n",
    "material_df = pd.read_csv('materials.csv')\n",
    "material_df.head()"
   ]
  },
  {
   "cell_type": "code",
   "execution_count": 719,
   "metadata": {
    "scrolled": false
   },
   "outputs": [
    {
     "data": {
      "text/plain": [
       "Index(['material', 'net_weight', 'rpa_wgh1', 'rpa_wgh2', 'rpa_wgh3',\n",
       "       'rpa_wgh4', 'unit_of_wt', 'vendor'],\n",
       "      dtype='object')"
      ]
     },
     "execution_count": 719,
     "metadata": {},
     "output_type": "execute_result"
    }
   ],
   "source": [
    "            #material dataset columns...\n",
    "material_df.columns"
   ]
  },
  {
   "cell_type": "code",
   "execution_count": 178,
   "metadata": {},
   "outputs": [
    {
     "name": "stdout",
     "output_type": "stream",
     "text": [
      "The Table below shows the Data Information of each column \n"
     ]
    },
    {
     "data": {
      "text/html": [
       "<div>\n",
       "<style scoped>\n",
       "    .dataframe tbody tr th:only-of-type {\n",
       "        vertical-align: middle;\n",
       "    }\n",
       "\n",
       "    .dataframe tbody tr th {\n",
       "        vertical-align: top;\n",
       "    }\n",
       "\n",
       "    .dataframe thead th {\n",
       "        text-align: right;\n",
       "    }\n",
       "</style>\n",
       "<table border=\"1\" class=\"dataframe\">\n",
       "  <thead>\n",
       "    <tr style=\"text-align: right;\">\n",
       "      <th></th>\n",
       "      <th>Datatype</th>\n",
       "      <th>Missing Val</th>\n",
       "      <th>% Missing val</th>\n",
       "      <th>Num of Zeros</th>\n",
       "      <th>% Num of Zeros</th>\n",
       "      <th>nUnique Values</th>\n",
       "    </tr>\n",
       "  </thead>\n",
       "  <tbody>\n",
       "    <tr>\n",
       "      <th>material</th>\n",
       "      <td>object</td>\n",
       "      <td>6</td>\n",
       "      <td>0.00</td>\n",
       "      <td>9</td>\n",
       "      <td>0.00</td>\n",
       "      <td>503613</td>\n",
       "    </tr>\n",
       "    <tr>\n",
       "      <th>net_weight</th>\n",
       "      <td>float64</td>\n",
       "      <td>0</td>\n",
       "      <td>0.00</td>\n",
       "      <td>176053</td>\n",
       "      <td>31.94</td>\n",
       "      <td>7519</td>\n",
       "    </tr>\n",
       "    <tr>\n",
       "      <th>rpa_wgh1</th>\n",
       "      <td>object</td>\n",
       "      <td>58643</td>\n",
       "      <td>10.64</td>\n",
       "      <td>0</td>\n",
       "      <td>0.00</td>\n",
       "      <td>3</td>\n",
       "    </tr>\n",
       "    <tr>\n",
       "      <th>rpa_wgh2</th>\n",
       "      <td>float64</td>\n",
       "      <td>58643</td>\n",
       "      <td>10.64</td>\n",
       "      <td>9</td>\n",
       "      <td>0.00</td>\n",
       "      <td>78</td>\n",
       "    </tr>\n",
       "    <tr>\n",
       "      <th>rpa_wgh3</th>\n",
       "      <td>float64</td>\n",
       "      <td>58643</td>\n",
       "      <td>10.64</td>\n",
       "      <td>0</td>\n",
       "      <td>0.00</td>\n",
       "      <td>624</td>\n",
       "    </tr>\n",
       "    <tr>\n",
       "      <th>rpa_wgh4</th>\n",
       "      <td>float64</td>\n",
       "      <td>57901</td>\n",
       "      <td>10.51</td>\n",
       "      <td>0</td>\n",
       "      <td>0.00</td>\n",
       "      <td>4674</td>\n",
       "    </tr>\n",
       "    <tr>\n",
       "      <th>unit_of_wt</th>\n",
       "      <td>object</td>\n",
       "      <td>57921</td>\n",
       "      <td>10.51</td>\n",
       "      <td>0</td>\n",
       "      <td>0.00</td>\n",
       "      <td>2</td>\n",
       "    </tr>\n",
       "    <tr>\n",
       "      <th>vendor</th>\n",
       "      <td>object</td>\n",
       "      <td>130565</td>\n",
       "      <td>23.69</td>\n",
       "      <td>0</td>\n",
       "      <td>0.00</td>\n",
       "      <td>12996</td>\n",
       "    </tr>\n",
       "  </tbody>\n",
       "</table>\n",
       "</div>"
      ],
      "text/plain": [
       "           Datatype  Missing Val  % Missing val  Num of Zeros  % Num of Zeros  \\\n",
       "material     object            6           0.00             9            0.00   \n",
       "net_weight  float64            0           0.00        176053           31.94   \n",
       "rpa_wgh1     object        58643          10.64             0            0.00   \n",
       "rpa_wgh2    float64        58643          10.64             9            0.00   \n",
       "rpa_wgh3    float64        58643          10.64             0            0.00   \n",
       "rpa_wgh4    float64        57901          10.51             0            0.00   \n",
       "unit_of_wt   object        57921          10.51             0            0.00   \n",
       "vendor       object       130565          23.69             0            0.00   \n",
       "\n",
       "            nUnique Values  \n",
       "material            503613  \n",
       "net_weight            7519  \n",
       "rpa_wgh1                 3  \n",
       "rpa_wgh2                78  \n",
       "rpa_wgh3               624  \n",
       "rpa_wgh4              4674  \n",
       "unit_of_wt               2  \n",
       "vendor               12996  "
      ]
     },
     "execution_count": 178,
     "metadata": {},
     "output_type": "execute_result"
    }
   ],
   "source": [
    "                                                             #Dataset Information Table for each colum\n",
    "Data_Dict=pd.DataFrame(material_df.dtypes)                   #datatype of each column\n",
    "Data_Dict['Missing Val'] = material_df.isnull().sum()        #num of missing values, add to table\n",
    "Data_Dict['% Missing val'] = round((Data_Dict['Missing Val'].astype(int)/material_df.shape[0] * 100),2)\n",
    "Data_Dict['Num of Zeros'] = (material_df == 0).sum(0)\n",
    "Data_Dict['% Num of Zeros'] = round((Data_Dict['Num of Zeros'].astype(int)/material_df.shape[0] * 100),2)\n",
    "Data_Dict['nUnique Values']=material_df.nunique()            #num of unique entries, add to table\n",
    "Data_Dict=Data_Dict.rename(columns={0:'Datatype'})\n",
    "print('The Table below shows the Data Information of each column ')\n",
    "Data_Dict"
   ]
  },
  {
   "cell_type": "code",
   "execution_count": 179,
   "metadata": {
    "scrolled": true
   },
   "outputs": [
    {
     "data": {
      "text/plain": [
       "array(['FOOD', 'NONFOOD', 'NONSALES', nan], dtype=object)"
      ]
     },
     "execution_count": 179,
     "metadata": {},
     "output_type": "execute_result"
    }
   ],
   "source": [
    "material_df['rpa_wgh1'].unique()"
   ]
  },
  {
   "cell_type": "code",
   "execution_count": 180,
   "metadata": {},
   "outputs": [
    {
     "data": {
      "text/plain": [
       "array(['G', 'KG', nan], dtype=object)"
      ]
     },
     "execution_count": 180,
     "metadata": {},
     "output_type": "execute_result"
    }
   ],
   "source": [
    "material_df['unit_of_wt'].unique()"
   ]
  },
  {
   "cell_type": "code",
   "execution_count": null,
   "metadata": {},
   "outputs": [],
   "source": []
  },
  {
   "cell_type": "code",
   "execution_count": null,
   "metadata": {},
   "outputs": [],
   "source": []
  },
  {
   "cell_type": "markdown",
   "metadata": {},
   "source": [
    "### Weight Data Files :\n",
    "\n",
    "   - Data files containing item's sub-catergories codes and codes"
   ]
  },
  {
   "cell_type": "code",
   "execution_count": 244,
   "metadata": {},
   "outputs": [
    {
     "data": {
      "text/html": [
       "<div>\n",
       "<style scoped>\n",
       "    .dataframe tbody tr th:only-of-type {\n",
       "        vertical-align: middle;\n",
       "    }\n",
       "\n",
       "    .dataframe tbody tr th {\n",
       "        vertical-align: top;\n",
       "    }\n",
       "\n",
       "    .dataframe thead th {\n",
       "        text-align: right;\n",
       "    }\n",
       "</style>\n",
       "<table border=\"1\" class=\"dataframe\">\n",
       "  <thead>\n",
       "    <tr style=\"text-align: right;\">\n",
       "      <th></th>\n",
       "      <th>0</th>\n",
       "    </tr>\n",
       "  </thead>\n",
       "  <tbody>\n",
       "    <tr>\n",
       "      <th>0</th>\n",
       "      <td>groupcode;engname</td>\n",
       "    </tr>\n",
       "    <tr>\n",
       "      <th>1</th>\n",
       "      <td>01;Canteen</td>\n",
       "    </tr>\n",
       "    <tr>\n",
       "      <th>2</th>\n",
       "      <td>02;Cafeteria</td>\n",
       "    </tr>\n",
       "    <tr>\n",
       "      <th>3</th>\n",
       "      <td>10;Raw materials</td>\n",
       "    </tr>\n",
       "    <tr>\n",
       "      <th>4</th>\n",
       "      <td>11;Fresh meat</td>\n",
       "    </tr>\n",
       "  </tbody>\n",
       "</table>\n",
       "</div>"
      ],
      "text/plain": [
       "                   0\n",
       "0  groupcode;engname\n",
       "1         01;Canteen\n",
       "2       02;Cafeteria\n",
       "3   10;Raw materials\n",
       "4      11;Fresh meat"
      ]
     },
     "execution_count": 244,
     "metadata": {},
     "output_type": "execute_result"
    }
   ],
   "source": [
    "                 #loading in raw \"rpa_wgh2\" ....\n",
    "rpa_wgh2 = pd.read_csv('rpa_wgh2.csv', sep='delimiter', header=None)\n",
    "rpa_wgh2.head()"
   ]
  },
  {
   "cell_type": "code",
   "execution_count": 521,
   "metadata": {},
   "outputs": [
    {
     "data": {
      "text/plain": [
       "['groupcode', 'engname']"
      ]
     },
     "execution_count": 521,
     "metadata": {},
     "output_type": "execute_result"
    }
   ],
   "source": [
    "wgh2_columns[0]"
   ]
  },
  {
   "cell_type": "code",
   "execution_count": 245,
   "metadata": {},
   "outputs": [
    {
     "name": "stdout",
     "output_type": "stream",
     "text": [
      "Colum_names:  ['groupcode', 'engname']\n"
     ]
    },
    {
     "data": {
      "text/html": [
       "<div>\n",
       "<style scoped>\n",
       "    .dataframe tbody tr th:only-of-type {\n",
       "        vertical-align: middle;\n",
       "    }\n",
       "\n",
       "    .dataframe tbody tr th {\n",
       "        vertical-align: top;\n",
       "    }\n",
       "\n",
       "    .dataframe thead th {\n",
       "        text-align: right;\n",
       "    }\n",
       "</style>\n",
       "<table border=\"1\" class=\"dataframe\">\n",
       "  <thead>\n",
       "    <tr style=\"text-align: right;\">\n",
       "      <th></th>\n",
       "      <th>groupcode</th>\n",
       "      <th>engname</th>\n",
       "    </tr>\n",
       "  </thead>\n",
       "  <tbody>\n",
       "    <tr>\n",
       "      <th>0</th>\n",
       "      <td>01</td>\n",
       "      <td>Canteen</td>\n",
       "    </tr>\n",
       "    <tr>\n",
       "      <th>1</th>\n",
       "      <td>02</td>\n",
       "      <td>Cafeteria</td>\n",
       "    </tr>\n",
       "    <tr>\n",
       "      <th>2</th>\n",
       "      <td>10</td>\n",
       "      <td>Raw materials</td>\n",
       "    </tr>\n",
       "    <tr>\n",
       "      <th>3</th>\n",
       "      <td>11</td>\n",
       "      <td>Fresh meat</td>\n",
       "    </tr>\n",
       "    <tr>\n",
       "      <th>4</th>\n",
       "      <td>12</td>\n",
       "      <td>Fresh poultry</td>\n",
       "    </tr>\n",
       "  </tbody>\n",
       "</table>\n",
       "</div>"
      ],
      "text/plain": [
       "  groupcode        engname\n",
       "0        01        Canteen\n",
       "1        02      Cafeteria\n",
       "2        10  Raw materials\n",
       "3        11     Fresh meat\n",
       "4        12  Fresh poultry"
      ]
     },
     "execution_count": 245,
     "metadata": {},
     "output_type": "execute_result"
    }
   ],
   "source": [
    "                #1st row showing the different columns     \n",
    "                #splitting  each string values in separate columns...\n",
    "wgh2_columns = rpa_wgh2.loc[:0][0].str.split(';').to_list()  \n",
    "print(\"Colum_names: \", wgh2_columns[0])\n",
    "\n",
    "rpa_wgh2 = rpa_wgh2.drop(rpa_wgh2.index[[0]])\n",
    "weight_2 =  pd.DataFrame(rpa_wgh2[0].str.split(';').tolist(),\n",
    "                  columns = wgh2_columns[0])\n",
    "\n",
    "weight_2.head()"
   ]
  },
  {
   "cell_type": "code",
   "execution_count": 356,
   "metadata": {},
   "outputs": [
    {
     "data": {
      "text/plain": [
       "array(['01', '02', '10', '11', '12', '13', '14', '15', '16', '17', '18',\n",
       "       '19', '20', '21', '22', '23', '24', '25', '26', '27', '28', '29',\n",
       "       '30', '31', '32', '33', '34', '35', '36', '37', '38', '39', '40',\n",
       "       '41', '42', '43', '44', '45', '46', '47', '48', '49', '50', '51',\n",
       "       '52', '53', '54', '55', '56', '57', '58', '59', '60', '61', '62',\n",
       "       '63', '64', '65', '66', '67', '69', '72', '73', '74', '96', '97',\n",
       "       '98', '99'], dtype=object)"
      ]
     },
     "execution_count": 356,
     "metadata": {},
     "output_type": "execute_result"
    }
   ],
   "source": [
    "            #getting unique group codes\n",
    "weight_2['groupcode'].nunique()"
   ]
  },
  {
   "cell_type": "code",
   "execution_count": 523,
   "metadata": {},
   "outputs": [
    {
     "data": {
      "text/plain": [
       "array(['Canteen', 'Cafeteria', 'Raw materials', 'Fresh meat',\n",
       "       'Fresh poultry', 'Fresh and processed fish products',\n",
       "       'Own production culinary products', 'Vegetables',\n",
       "       'Own production bakery', 'Commercial production bakery', 'Fruits',\n",
       "       'Natural flowers (cut)', 'Frozen meat', 'Frozen poultry',\n",
       "       'Frozen fish and seafood',\n",
       "       'Frozen semi-finished and other products',\n",
       "       'Processed meat products', 'Dairy products and delicatessen',\n",
       "       'Spirits', 'Wine', 'Beer and low alcohol beverages', 'Cheese',\n",
       "       'Fish and seafood delicatessen', 'Nonalcoholic beverages',\n",
       "       'Chocolate confectionary', 'Coffee, cocoa, tea', 'Functional food',\n",
       "       'Grocery', 'Condiments, spices, dressings', 'Canned food',\n",
       "       'Baby food', 'Cosmetics, perfume, hygiene, pharmaceuticals',\n",
       "       '\"Household cleaning products \"', 'Tobacco', 'Pet goods', 'Snacks',\n",
       "       'Baby hygiena', 'Non chocolate Confectionery',\n",
       "       'Professional pet goods',\n",
       "       'Mayonnaise, Snacks, Ready meals Chilled', 'Eggs',\n",
       "       'Butter and fat products', \"Women's and men's wear\", 'Footwear',\n",
       "       \"Children's wear, underwear and footwear\",\n",
       "       \"Women's and men's underwear\", 'Accessories and haberdashery',\n",
       "       'Luggage', 'Clothes and goods for newborns', 'Sport, tourism',\n",
       "       'Garden goods', 'Christmas and New Year Goods', 'DIY',\n",
       "       'Car accessories', 'Home textiles', 'Cookware',\n",
       "       'Stationery and printed goods', 'Electrical goods', 'Toys',\n",
       "       'Audio, video, digital goods and accessories',\n",
       "       'Household appliances', 'Music, movies, games',\n",
       "       'Cleaning and storage goods', 'Tableware, household goods',\n",
       "       'Promotional materials', 'Not-for-sale services',\n",
       "       'Not-for-sale goods', 'Services'], dtype=object)"
      ]
     },
     "execution_count": 523,
     "metadata": {},
     "output_type": "execute_result"
    }
   ],
   "source": [
    "           #viewing unique catergory names \n",
    "weight_2['engname'].unique()"
   ]
  },
  {
   "cell_type": "code",
   "execution_count": null,
   "metadata": {},
   "outputs": [],
   "source": []
  },
  {
   "cell_type": "code",
   "execution_count": 252,
   "metadata": {},
   "outputs": [
    {
     "data": {
      "text/html": [
       "<div>\n",
       "<style scoped>\n",
       "    .dataframe tbody tr th:only-of-type {\n",
       "        vertical-align: middle;\n",
       "    }\n",
       "\n",
       "    .dataframe tbody tr th {\n",
       "        vertical-align: top;\n",
       "    }\n",
       "\n",
       "    .dataframe thead th {\n",
       "        text-align: right;\n",
       "    }\n",
       "</style>\n",
       "<table border=\"1\" class=\"dataframe\">\n",
       "  <thead>\n",
       "    <tr style=\"text-align: right;\">\n",
       "      <th></th>\n",
       "      <th>0</th>\n",
       "    </tr>\n",
       "  </thead>\n",
       "  <tbody>\n",
       "    <tr>\n",
       "      <th>0</th>\n",
       "      <td>categorycode;engname</td>\n",
       "    </tr>\n",
       "    <tr>\n",
       "      <th>1</th>\n",
       "      <td>0101;Business lunch</td>\n",
       "    </tr>\n",
       "    <tr>\n",
       "      <th>2</th>\n",
       "      <td>0201;Nonalcoholic beverages (Cafeteria)</td>\n",
       "    </tr>\n",
       "    <tr>\n",
       "      <th>3</th>\n",
       "      <td>0202;Freshly squeezed juices (Cafeteria)</td>\n",
       "    </tr>\n",
       "    <tr>\n",
       "      <th>4</th>\n",
       "      <td>0203;Hot drinks (Cafeteria)</td>\n",
       "    </tr>\n",
       "  </tbody>\n",
       "</table>\n",
       "</div>"
      ],
      "text/plain": [
       "                                          0\n",
       "0                      categorycode;engname\n",
       "1                       0101;Business lunch\n",
       "2   0201;Nonalcoholic beverages (Cafeteria)\n",
       "3  0202;Freshly squeezed juices (Cafeteria)\n",
       "4               0203;Hot drinks (Cafeteria)"
      ]
     },
     "execution_count": 252,
     "metadata": {},
     "output_type": "execute_result"
    }
   ],
   "source": [
    "                #loading in raw \"rpa_wgh3\"....\n",
    "rpa_wgh3 = pd.read_csv('rpa_wgh3.csv', sep='delimiter', header=None)\n",
    "rpa_wgh3.head()"
   ]
  },
  {
   "cell_type": "code",
   "execution_count": 253,
   "metadata": {},
   "outputs": [
    {
     "name": "stdout",
     "output_type": "stream",
     "text": [
      "Colum_names:  ['categorycode', 'engname']\n"
     ]
    },
    {
     "data": {
      "text/html": [
       "<div>\n",
       "<style scoped>\n",
       "    .dataframe tbody tr th:only-of-type {\n",
       "        vertical-align: middle;\n",
       "    }\n",
       "\n",
       "    .dataframe tbody tr th {\n",
       "        vertical-align: top;\n",
       "    }\n",
       "\n",
       "    .dataframe thead th {\n",
       "        text-align: right;\n",
       "    }\n",
       "</style>\n",
       "<table border=\"1\" class=\"dataframe\">\n",
       "  <thead>\n",
       "    <tr style=\"text-align: right;\">\n",
       "      <th></th>\n",
       "      <th>categorycode</th>\n",
       "      <th>engname</th>\n",
       "    </tr>\n",
       "  </thead>\n",
       "  <tbody>\n",
       "    <tr>\n",
       "      <th>0</th>\n",
       "      <td>0101</td>\n",
       "      <td>Business lunch</td>\n",
       "    </tr>\n",
       "    <tr>\n",
       "      <th>1</th>\n",
       "      <td>0201</td>\n",
       "      <td>Nonalcoholic beverages (Cafeteria)</td>\n",
       "    </tr>\n",
       "    <tr>\n",
       "      <th>2</th>\n",
       "      <td>0202</td>\n",
       "      <td>Freshly squeezed juices (Cafeteria)</td>\n",
       "    </tr>\n",
       "    <tr>\n",
       "      <th>3</th>\n",
       "      <td>0203</td>\n",
       "      <td>Hot drinks (Cafeteria)</td>\n",
       "    </tr>\n",
       "    <tr>\n",
       "      <th>4</th>\n",
       "      <td>0204</td>\n",
       "      <td>Shakes (Cafeteria)</td>\n",
       "    </tr>\n",
       "  </tbody>\n",
       "</table>\n",
       "</div>"
      ],
      "text/plain": [
       "  categorycode                              engname\n",
       "0         0101                       Business lunch\n",
       "1         0201   Nonalcoholic beverages (Cafeteria)\n",
       "2         0202  Freshly squeezed juices (Cafeteria)\n",
       "3         0203               Hot drinks (Cafeteria)\n",
       "4         0204                   Shakes (Cafeteria)"
      ]
     },
     "execution_count": 253,
     "metadata": {},
     "output_type": "execute_result"
    }
   ],
   "source": [
    "                   #1st row showing the different columns\n",
    "                   #splitting  each string values in separate columns...\n",
    "wgh3_columns = rpa_wgh3.loc[:0][0].str.split(';').to_list()  \n",
    "print(\"Colum_names: \", wgh3_columns[0])\n",
    "\n",
    "rpa_wgh3 = rpa_wgh3.drop(rpa_wgh3.index[[0]])\n",
    "weight_3 =  pd.DataFrame(rpa_wgh3[0].str.split(';').tolist(),\n",
    "                  columns = wgh3_columns[0])\n",
    "\n",
    "weight_3.head()"
   ]
  },
  {
   "cell_type": "code",
   "execution_count": 365,
   "metadata": {},
   "outputs": [
    {
     "data": {
      "text/plain": [
       "categorycode    463\n",
       "engname         462\n",
       "dtype: int64"
      ]
     },
     "execution_count": 365,
     "metadata": {},
     "output_type": "execute_result"
    }
   ],
   "source": [
    "weight_3.nunique()"
   ]
  },
  {
   "cell_type": "code",
   "execution_count": null,
   "metadata": {},
   "outputs": [],
   "source": []
  },
  {
   "cell_type": "code",
   "execution_count": 295,
   "metadata": {},
   "outputs": [
    {
     "data": {
      "text/html": [
       "<div>\n",
       "<style scoped>\n",
       "    .dataframe tbody tr th:only-of-type {\n",
       "        vertical-align: middle;\n",
       "    }\n",
       "\n",
       "    .dataframe tbody tr th {\n",
       "        vertical-align: top;\n",
       "    }\n",
       "\n",
       "    .dataframe thead th {\n",
       "        text-align: right;\n",
       "    }\n",
       "</style>\n",
       "<table border=\"1\" class=\"dataframe\">\n",
       "  <thead>\n",
       "    <tr style=\"text-align: right;\">\n",
       "      <th></th>\n",
       "      <th>0</th>\n",
       "    </tr>\n",
       "  </thead>\n",
       "  <tbody>\n",
       "    <tr>\n",
       "      <th>0</th>\n",
       "      <td>subcategorycode;engname;Class</td>\n",
       "    </tr>\n",
       "    <tr>\n",
       "      <th>1</th>\n",
       "      <td>010101;Office Business lunch;FOOD</td>\n",
       "    </tr>\n",
       "    <tr>\n",
       "      <th>2</th>\n",
       "      <td>010102;Store Business lunch;FOOD</td>\n",
       "    </tr>\n",
       "    <tr>\n",
       "      <th>3</th>\n",
       "      <td>020101;Juices (Cafeteria);FOOD</td>\n",
       "    </tr>\n",
       "    <tr>\n",
       "      <th>4</th>\n",
       "      <td>020102;Water (Cafeteria);FOOD</td>\n",
       "    </tr>\n",
       "  </tbody>\n",
       "</table>\n",
       "</div>"
      ],
      "text/plain": [
       "                                   0\n",
       "0      subcategorycode;engname;Class\n",
       "1  010101;Office Business lunch;FOOD\n",
       "2   010102;Store Business lunch;FOOD\n",
       "3     020101;Juices (Cafeteria);FOOD\n",
       "4      020102;Water (Cafeteria);FOOD"
      ]
     },
     "execution_count": 295,
     "metadata": {},
     "output_type": "execute_result"
    }
   ],
   "source": [
    "                    #loading in raw \"rpa_wgh4\"....\n",
    "rpa_wgh4 = pd.read_csv('rpa_wgh4.csv', sep='delimiter', header=None)\n",
    "rpa_wgh4.head()"
   ]
  },
  {
   "cell_type": "code",
   "execution_count": 296,
   "metadata": {},
   "outputs": [
    {
     "name": "stdout",
     "output_type": "stream",
     "text": [
      "Colum_names:  ['subcategorycode', 'engname', 'Class']\n"
     ]
    },
    {
     "data": {
      "text/html": [
       "<div>\n",
       "<style scoped>\n",
       "    .dataframe tbody tr th:only-of-type {\n",
       "        vertical-align: middle;\n",
       "    }\n",
       "\n",
       "    .dataframe tbody tr th {\n",
       "        vertical-align: top;\n",
       "    }\n",
       "\n",
       "    .dataframe thead th {\n",
       "        text-align: right;\n",
       "    }\n",
       "</style>\n",
       "<table border=\"1\" class=\"dataframe\">\n",
       "  <thead>\n",
       "    <tr style=\"text-align: right;\">\n",
       "      <th></th>\n",
       "      <th>subcategorycode</th>\n",
       "      <th>engname</th>\n",
       "      <th>Class</th>\n",
       "    </tr>\n",
       "  </thead>\n",
       "  <tbody>\n",
       "    <tr>\n",
       "      <th>0</th>\n",
       "      <td>010101</td>\n",
       "      <td>Office Business lunch</td>\n",
       "      <td>FOOD</td>\n",
       "    </tr>\n",
       "    <tr>\n",
       "      <th>1</th>\n",
       "      <td>010102</td>\n",
       "      <td>Store Business lunch</td>\n",
       "      <td>FOOD</td>\n",
       "    </tr>\n",
       "    <tr>\n",
       "      <th>2</th>\n",
       "      <td>020101</td>\n",
       "      <td>Juices (Cafeteria)</td>\n",
       "      <td>FOOD</td>\n",
       "    </tr>\n",
       "    <tr>\n",
       "      <th>3</th>\n",
       "      <td>020102</td>\n",
       "      <td>Water (Cafeteria)</td>\n",
       "      <td>FOOD</td>\n",
       "    </tr>\n",
       "    <tr>\n",
       "      <th>4</th>\n",
       "      <td>020103</td>\n",
       "      <td>Lemonade (Cafeteria)</td>\n",
       "      <td>FOOD</td>\n",
       "    </tr>\n",
       "  </tbody>\n",
       "</table>\n",
       "</div>"
      ],
      "text/plain": [
       "  subcategorycode                engname Class\n",
       "0          010101  Office Business lunch  FOOD\n",
       "1          010102   Store Business lunch  FOOD\n",
       "2          020101     Juices (Cafeteria)  FOOD\n",
       "3          020102      Water (Cafeteria)  FOOD\n",
       "4          020103   Lemonade (Cafeteria)  FOOD"
      ]
     },
     "execution_count": 296,
     "metadata": {},
     "output_type": "execute_result"
    }
   ],
   "source": [
    "                   #1st row showing the different \n",
    "                   #splitting  each string values in separate columns...\n",
    "wgh4_columns = rpa_wgh4.loc[:0][0].str.split(';').to_list()  \n",
    "print(\"Colum_names: \", wgh4_columns[0])\n",
    "\n",
    "rpa_wgh4 = rpa_wgh4.drop(rpa_wgh4.index[[0]])\n",
    "weight_4 =  pd.DataFrame(rpa_wgh4[0].str.split(';').tolist(),\n",
    "                  columns = wgh4_columns[0])\n",
    "\n",
    "weight_4.head()"
   ]
  },
  {
   "cell_type": "code",
   "execution_count": 297,
   "metadata": {},
   "outputs": [
    {
     "data": {
      "text/plain": [
       "subcategorycode    2438\n",
       "engname            2422\n",
       "Class                 3\n",
       "dtype: int64"
      ]
     },
     "execution_count": 297,
     "metadata": {},
     "output_type": "execute_result"
    }
   ],
   "source": [
    "weight_4.nunique()"
   ]
  },
  {
   "cell_type": "code",
   "execution_count": 257,
   "metadata": {},
   "outputs": [],
   "source": [
    "weight_2.to_csv('weight_2.csv', index=False)\n",
    "weight_3.to_csv('weight_3.csv', index=False)\n",
    "weight_4.to_csv('weight_4.csv', index=False)"
   ]
  },
  {
   "cell_type": "code",
   "execution_count": 258,
   "metadata": {},
   "outputs": [
    {
     "name": "stdout",
     "output_type": "stream",
     "text": [
      "Material_df shape (551168, 8)\n",
      "rpa_wgh2 shape (68, 1)\n",
      "rpa_wgh3 shape (463, 1)\n",
      "rpa_wgh4 shape (2441, 1)\n"
     ]
    }
   ],
   "source": [
    "print(\"Material_df shape \" + str(material_df.shape))\n",
    "print(\"rpa_wgh2 shape \" + str(rpa_wgh2.shape))\n",
    "print(\"rpa_wgh3 shape \" + str(rpa_wgh3.shape))\n",
    "print(\"rpa_wgh4 shape \" + str(rpa_wgh4.shape))"
   ]
  },
  {
   "cell_type": "code",
   "execution_count": null,
   "metadata": {},
   "outputs": [],
   "source": []
  },
  {
   "cell_type": "markdown",
   "metadata": {},
   "source": [
    "### Transaction Data file :\n",
    "\n",
    "    - containing info about users, itemQuantities, price, itemSubCatergories "
   ]
  },
  {
   "cell_type": "code",
   "execution_count": 204,
   "metadata": {},
   "outputs": [],
   "source": [
    "# import dask.array as da\n",
    "# import dask.dataframe as d\n",
    "#df = df.compute()  #--to convert dask dataframe to pandas"
   ]
  },
  {
   "cell_type": "code",
   "execution_count": 205,
   "metadata": {},
   "outputs": [
    {
     "data": {
      "text/html": [
       "<div>\n",
       "<style scoped>\n",
       "    .dataframe tbody tr th:only-of-type {\n",
       "        vertical-align: middle;\n",
       "    }\n",
       "\n",
       "    .dataframe tbody tr th {\n",
       "        vertical-align: top;\n",
       "    }\n",
       "\n",
       "    .dataframe thead th {\n",
       "        text-align: right;\n",
       "    }\n",
       "</style>\n",
       "<table border=\"1\" class=\"dataframe\">\n",
       "  <thead>\n",
       "    <tr style=\"text-align: right;\">\n",
       "      <th></th>\n",
       "      <th>(затронуто строк: 1051490)</th>\n",
       "    </tr>\n",
       "  </thead>\n",
       "  <tbody>\n",
       "    <tr>\n",
       "      <th>0</th>\n",
       "      <td>CardHolder\\tChequeId\\tCALDAY\\tDiscount\\tSalesC...</td>\n",
       "    </tr>\n",
       "    <tr>\n",
       "      <th>1</th>\n",
       "      <td>10008254\\t1013172924\\t20200130\\t1.20\\t3.000\\t2...</td>\n",
       "    </tr>\n",
       "    <tr>\n",
       "      <th>2</th>\n",
       "      <td>10008254\\t1013172924\\t20200130\\t9.00\\t1.000\\t1...</td>\n",
       "    </tr>\n",
       "    <tr>\n",
       "      <th>3</th>\n",
       "      <td>10008254\\t1013172924\\t20200130\\t10.50\\t1.000\\t...</td>\n",
       "    </tr>\n",
       "    <tr>\n",
       "      <th>4</th>\n",
       "      <td>10008254\\t1013172924\\t20200130\\t552.90\\t1.000\\...</td>\n",
       "    </tr>\n",
       "    <tr>\n",
       "      <th>...</th>\n",
       "      <td>...</td>\n",
       "    </tr>\n",
       "    <tr>\n",
       "      <th>30841088</th>\n",
       "      <td>83333056\\t1046692585\\t20200227\\t2356.90\\t1.000...</td>\n",
       "    </tr>\n",
       "    <tr>\n",
       "      <th>30841089</th>\n",
       "      <td>83333056\\t1046692585\\t20200227\\t1083.20\\t1.000...</td>\n",
       "    </tr>\n",
       "    <tr>\n",
       "      <th>30841090</th>\n",
       "      <td>83333056\\t1046692585\\t20200227\\t5421.71\\t1.000...</td>\n",
       "    </tr>\n",
       "    <tr>\n",
       "      <th>30841091</th>\n",
       "      <td>(затронуто строк: 30841090)</td>\n",
       "    </tr>\n",
       "    <tr>\n",
       "      <th>30841092</th>\n",
       "      <td>Время выполнения: 2020-04-03T14:24:23.4101984+...</td>\n",
       "    </tr>\n",
       "  </tbody>\n",
       "</table>\n",
       "<p>30841093 rows × 1 columns</p>\n",
       "</div>"
      ],
      "text/plain": [
       "                                 (затронуто строк: 1051490)\n",
       "0         CardHolder\\tChequeId\\tCALDAY\\tDiscount\\tSalesC...\n",
       "1         10008254\\t1013172924\\t20200130\\t1.20\\t3.000\\t2...\n",
       "2         10008254\\t1013172924\\t20200130\\t9.00\\t1.000\\t1...\n",
       "3         10008254\\t1013172924\\t20200130\\t10.50\\t1.000\\t...\n",
       "4         10008254\\t1013172924\\t20200130\\t552.90\\t1.000\\...\n",
       "...                                                     ...\n",
       "30841088  83333056\\t1046692585\\t20200227\\t2356.90\\t1.000...\n",
       "30841089  83333056\\t1046692585\\t20200227\\t1083.20\\t1.000...\n",
       "30841090  83333056\\t1046692585\\t20200227\\t5421.71\\t1.000...\n",
       "30841091                        (затронуто строк: 30841090)\n",
       "30841092  Время выполнения: 2020-04-03T14:24:23.4101984+...\n",
       "\n",
       "[30841093 rows x 1 columns]"
      ]
     },
     "execution_count": 205,
     "metadata": {},
     "output_type": "execute_result"
    }
   ],
   "source": [
    "              #loading raw data file...\n",
    "transaction_df = pd.read_csv('chq_pro_reduced.csv')\n",
    "transaction_df"
   ]
  },
  {
   "cell_type": "code",
   "execution_count": 206,
   "metadata": {},
   "outputs": [
    {
     "data": {
      "text/plain": [
       "Index(['single_colum'], dtype='object')"
      ]
     },
     "execution_count": 206,
     "metadata": {},
     "output_type": "execute_result"
    }
   ],
   "source": [
    "transaction_df = transaction_df.rename(columns={'(затронуто строк: 1051490)':'single_colum'})\n",
    "transaction_df.columns"
   ]
  },
  {
   "cell_type": "code",
   "execution_count": 207,
   "metadata": {},
   "outputs": [
    {
     "data": {
      "text/plain": [
       "(30841093, 1)"
      ]
     },
     "execution_count": 207,
     "metadata": {},
     "output_type": "execute_result"
    }
   ],
   "source": [
    "transaction_df.shape"
   ]
  },
  {
   "cell_type": "code",
   "execution_count": 227,
   "metadata": {},
   "outputs": [
    {
     "data": {
      "text/plain": [
       "['CardHolder',\n",
       " 'ChequeId',\n",
       " 'CALDAY',\n",
       " 'Discount',\n",
       " 'SalesCount',\n",
       " 'SalesSumma',\n",
       " 'Material',\n",
       " 'Subcategory']"
      ]
     },
     "execution_count": 227,
     "metadata": {},
     "output_type": "execute_result"
    }
   ],
   "source": [
    "                    #1st row showing the different columns in the data file\n",
    "trnx_columns = transaction_df.loc[:0].single_colum.str.split('\\s+').to_list()  \n",
    "trnx_columns[0]"
   ]
  },
  {
   "cell_type": "code",
   "execution_count": 209,
   "metadata": {},
   "outputs": [
    {
     "data": {
      "text/html": [
       "<div>\n",
       "<style scoped>\n",
       "    .dataframe tbody tr th:only-of-type {\n",
       "        vertical-align: middle;\n",
       "    }\n",
       "\n",
       "    .dataframe tbody tr th {\n",
       "        vertical-align: top;\n",
       "    }\n",
       "\n",
       "    .dataframe thead th {\n",
       "        text-align: right;\n",
       "    }\n",
       "</style>\n",
       "<table border=\"1\" class=\"dataframe\">\n",
       "  <thead>\n",
       "    <tr style=\"text-align: right;\">\n",
       "      <th></th>\n",
       "      <th>single_colum</th>\n",
       "    </tr>\n",
       "  </thead>\n",
       "  <tbody>\n",
       "    <tr>\n",
       "      <th>1</th>\n",
       "      <td>10008254\\t1013172924\\t20200130\\t1.20\\t3.000\\t2...</td>\n",
       "    </tr>\n",
       "    <tr>\n",
       "      <th>2</th>\n",
       "      <td>10008254\\t1013172924\\t20200130\\t9.00\\t1.000\\t1...</td>\n",
       "    </tr>\n",
       "    <tr>\n",
       "      <th>3</th>\n",
       "      <td>10008254\\t1013172924\\t20200130\\t10.50\\t1.000\\t...</td>\n",
       "    </tr>\n",
       "    <tr>\n",
       "      <th>4</th>\n",
       "      <td>10008254\\t1013172924\\t20200130\\t552.90\\t1.000\\...</td>\n",
       "    </tr>\n",
       "    <tr>\n",
       "      <th>5</th>\n",
       "      <td>10008254\\t1013172924\\t20200130\\t35.40\\t1.000\\t...</td>\n",
       "    </tr>\n",
       "    <tr>\n",
       "      <th>...</th>\n",
       "      <td>...</td>\n",
       "    </tr>\n",
       "    <tr>\n",
       "      <th>30841086</th>\n",
       "      <td>83333056\\t1046692585\\t20200227\\t210.70\\t1.000\\...</td>\n",
       "    </tr>\n",
       "    <tr>\n",
       "      <th>30841087</th>\n",
       "      <td>83333056\\t1046692585\\t20200227\\t2483.20\\t1.000...</td>\n",
       "    </tr>\n",
       "    <tr>\n",
       "      <th>30841088</th>\n",
       "      <td>83333056\\t1046692585\\t20200227\\t2356.90\\t1.000...</td>\n",
       "    </tr>\n",
       "    <tr>\n",
       "      <th>30841089</th>\n",
       "      <td>83333056\\t1046692585\\t20200227\\t1083.20\\t1.000...</td>\n",
       "    </tr>\n",
       "    <tr>\n",
       "      <th>30841090</th>\n",
       "      <td>83333056\\t1046692585\\t20200227\\t5421.71\\t1.000...</td>\n",
       "    </tr>\n",
       "  </tbody>\n",
       "</table>\n",
       "<p>30841090 rows × 1 columns</p>\n",
       "</div>"
      ],
      "text/plain": [
       "                                               single_colum\n",
       "1         10008254\\t1013172924\\t20200130\\t1.20\\t3.000\\t2...\n",
       "2         10008254\\t1013172924\\t20200130\\t9.00\\t1.000\\t1...\n",
       "3         10008254\\t1013172924\\t20200130\\t10.50\\t1.000\\t...\n",
       "4         10008254\\t1013172924\\t20200130\\t552.90\\t1.000\\...\n",
       "5         10008254\\t1013172924\\t20200130\\t35.40\\t1.000\\t...\n",
       "...                                                     ...\n",
       "30841086  83333056\\t1046692585\\t20200227\\t210.70\\t1.000\\...\n",
       "30841087  83333056\\t1046692585\\t20200227\\t2483.20\\t1.000...\n",
       "30841088  83333056\\t1046692585\\t20200227\\t2356.90\\t1.000...\n",
       "30841089  83333056\\t1046692585\\t20200227\\t1083.20\\t1.000...\n",
       "30841090  83333056\\t1046692585\\t20200227\\t5421.71\\t1.000...\n",
       "\n",
       "[30841090 rows x 1 columns]"
      ]
     },
     "execution_count": 209,
     "metadata": {},
     "output_type": "execute_result"
    }
   ],
   "source": [
    "        #dropping the 1st row and last 2 rows\n",
    "used_trx_df = transaction_df.drop(transaction_df.index[[0,30841091,30841092]])\n",
    "used_trx_df"
   ]
  },
  {
   "cell_type": "code",
   "execution_count": 211,
   "metadata": {},
   "outputs": [
    {
     "data": {
      "text/plain": [
       "[['10008254',\n",
       "  '1013172924',\n",
       "  '20200130',\n",
       "  '1.20',\n",
       "  '3.000',\n",
       "  '20.97',\n",
       "  '109900',\n",
       "  '401201']]"
      ]
     },
     "execution_count": 211,
     "metadata": {},
     "output_type": "execute_result"
    }
   ],
   "source": [
    "              #showing the number of observatiosn in the row\n",
    "             #comfirming it correlates with the number of columsn the data should have\n",
    "used_trx_df.loc[:1].single_colum.str.split('\\s+').to_list()  "
   ]
  },
  {
   "cell_type": "code",
   "execution_count": null,
   "metadata": {},
   "outputs": [],
   "source": []
  },
  {
   "cell_type": "code",
   "execution_count": 218,
   "metadata": {},
   "outputs": [
    {
     "data": {
      "text/html": [
       "<div>\n",
       "<style scoped>\n",
       "    .dataframe tbody tr th:only-of-type {\n",
       "        vertical-align: middle;\n",
       "    }\n",
       "\n",
       "    .dataframe tbody tr th {\n",
       "        vertical-align: top;\n",
       "    }\n",
       "\n",
       "    .dataframe thead th {\n",
       "        text-align: right;\n",
       "    }\n",
       "</style>\n",
       "<table border=\"1\" class=\"dataframe\">\n",
       "  <thead>\n",
       "    <tr style=\"text-align: right;\">\n",
       "      <th></th>\n",
       "      <th>CardHolder</th>\n",
       "      <th>ChequeId</th>\n",
       "      <th>CALDAY</th>\n",
       "      <th>Discount</th>\n",
       "      <th>SalesCount</th>\n",
       "      <th>SalesSumma</th>\n",
       "      <th>Material</th>\n",
       "      <th>Subcategory</th>\n",
       "    </tr>\n",
       "  </thead>\n",
       "  <tbody>\n",
       "    <tr>\n",
       "      <th>0</th>\n",
       "      <td>10008254</td>\n",
       "      <td>1013172924</td>\n",
       "      <td>20200130</td>\n",
       "      <td>1.20</td>\n",
       "      <td>3.000</td>\n",
       "      <td>20.97</td>\n",
       "      <td>109900</td>\n",
       "      <td>401201</td>\n",
       "    </tr>\n",
       "    <tr>\n",
       "      <th>1</th>\n",
       "      <td>10008254</td>\n",
       "      <td>1013172924</td>\n",
       "      <td>20200130</td>\n",
       "      <td>9.00</td>\n",
       "      <td>1.000</td>\n",
       "      <td>169.99</td>\n",
       "      <td>439630</td>\n",
       "      <td>420103</td>\n",
       "    </tr>\n",
       "    <tr>\n",
       "      <th>2</th>\n",
       "      <td>10008254</td>\n",
       "      <td>1013172924</td>\n",
       "      <td>20200130</td>\n",
       "      <td>10.50</td>\n",
       "      <td>1.000</td>\n",
       "      <td>198.49</td>\n",
       "      <td>429670</td>\n",
       "      <td>420205</td>\n",
       "    </tr>\n",
       "    <tr>\n",
       "      <th>3</th>\n",
       "      <td>10008254</td>\n",
       "      <td>1013172924</td>\n",
       "      <td>20200130</td>\n",
       "      <td>552.90</td>\n",
       "      <td>1.000</td>\n",
       "      <td>348.99</td>\n",
       "      <td>152314</td>\n",
       "      <td>400107</td>\n",
       "    </tr>\n",
       "    <tr>\n",
       "      <th>4</th>\n",
       "      <td>10008254</td>\n",
       "      <td>1013172924</td>\n",
       "      <td>20200130</td>\n",
       "      <td>35.40</td>\n",
       "      <td>1.000</td>\n",
       "      <td>79.99</td>\n",
       "      <td>081107</td>\n",
       "      <td>251602</td>\n",
       "    </tr>\n",
       "    <tr>\n",
       "      <th>...</th>\n",
       "      <td>...</td>\n",
       "      <td>...</td>\n",
       "      <td>...</td>\n",
       "      <td>...</td>\n",
       "      <td>...</td>\n",
       "      <td>...</td>\n",
       "      <td>...</td>\n",
       "      <td>...</td>\n",
       "    </tr>\n",
       "    <tr>\n",
       "      <th>30841085</th>\n",
       "      <td>83333056</td>\n",
       "      <td>1046692585</td>\n",
       "      <td>20200227</td>\n",
       "      <td>210.70</td>\n",
       "      <td>1.000</td>\n",
       "      <td>199.89</td>\n",
       "      <td>044122</td>\n",
       "      <td>320501</td>\n",
       "    </tr>\n",
       "    <tr>\n",
       "      <th>30841086</th>\n",
       "      <td>83333056</td>\n",
       "      <td>1046692585</td>\n",
       "      <td>20200227</td>\n",
       "      <td>2483.20</td>\n",
       "      <td>1.000</td>\n",
       "      <td>1199.99</td>\n",
       "      <td>495645</td>\n",
       "      <td>620203</td>\n",
       "    </tr>\n",
       "    <tr>\n",
       "      <th>30841087</th>\n",
       "      <td>83333056</td>\n",
       "      <td>1046692585</td>\n",
       "      <td>20200227</td>\n",
       "      <td>2356.90</td>\n",
       "      <td>1.000</td>\n",
       "      <td>799.99</td>\n",
       "      <td>495644</td>\n",
       "      <td>620203</td>\n",
       "    </tr>\n",
       "    <tr>\n",
       "      <th>30841088</th>\n",
       "      <td>83333056</td>\n",
       "      <td>1046692585</td>\n",
       "      <td>20200227</td>\n",
       "      <td>1083.20</td>\n",
       "      <td>1.000</td>\n",
       "      <td>599.99</td>\n",
       "      <td>495643</td>\n",
       "      <td>620202</td>\n",
       "    </tr>\n",
       "    <tr>\n",
       "      <th>30841089</th>\n",
       "      <td>83333056</td>\n",
       "      <td>1046692585</td>\n",
       "      <td>20200227</td>\n",
       "      <td>5421.71</td>\n",
       "      <td>1.000</td>\n",
       "      <td>2998.38</td>\n",
       "      <td>509436</td>\n",
       "      <td>620205</td>\n",
       "    </tr>\n",
       "  </tbody>\n",
       "</table>\n",
       "<p>30841090 rows × 8 columns</p>\n",
       "</div>"
      ],
      "text/plain": [
       "         CardHolder    ChequeId    CALDAY Discount SalesCount SalesSumma  \\\n",
       "0          10008254  1013172924  20200130     1.20      3.000      20.97   \n",
       "1          10008254  1013172924  20200130     9.00      1.000     169.99   \n",
       "2          10008254  1013172924  20200130    10.50      1.000     198.49   \n",
       "3          10008254  1013172924  20200130   552.90      1.000     348.99   \n",
       "4          10008254  1013172924  20200130    35.40      1.000      79.99   \n",
       "...             ...         ...       ...      ...        ...        ...   \n",
       "30841085   83333056  1046692585  20200227   210.70      1.000     199.89   \n",
       "30841086   83333056  1046692585  20200227  2483.20      1.000    1199.99   \n",
       "30841087   83333056  1046692585  20200227  2356.90      1.000     799.99   \n",
       "30841088   83333056  1046692585  20200227  1083.20      1.000     599.99   \n",
       "30841089   83333056  1046692585  20200227  5421.71      1.000    2998.38   \n",
       "\n",
       "         Material Subcategory  \n",
       "0          109900      401201  \n",
       "1          439630      420103  \n",
       "2          429670      420205  \n",
       "3          152314      400107  \n",
       "4          081107      251602  \n",
       "...           ...         ...  \n",
       "30841085   044122      320501  \n",
       "30841086   495645      620203  \n",
       "30841087   495644      620203  \n",
       "30841088   495643      620202  \n",
       "30841089   509436      620205  \n",
       "\n",
       "[30841090 rows x 8 columns]"
      ]
     },
     "execution_count": 218,
     "metadata": {},
     "output_type": "execute_result"
    }
   ],
   "source": [
    "                    #splitting string values into different columns\n",
    "                    #df.single_colum.str.split('\\s+').str[-1]\n",
    "trx_df =  pd.DataFrame(used_trx_df.single_colum.str.split('\\s+').tolist(),\n",
    "                  columns = trnx_columns[0])\n",
    "trx_df"
   ]
  },
  {
   "cell_type": "code",
   "execution_count": 220,
   "metadata": {},
   "outputs": [],
   "source": [
    "#trx_df.to_csv('Transactions_data', index=False)"
   ]
  },
  {
   "cell_type": "code",
   "execution_count": null,
   "metadata": {},
   "outputs": [],
   "source": [
    "#trx_df = pd.read_csv('Transactions_data')"
   ]
  },
  {
   "cell_type": "code",
   "execution_count": 223,
   "metadata": {},
   "outputs": [
    {
     "name": "stdout",
     "output_type": "stream",
     "text": [
      "The Table below shows the Data Information of each column \n"
     ]
    },
    {
     "data": {
      "text/html": [
       "<div>\n",
       "<style scoped>\n",
       "    .dataframe tbody tr th:only-of-type {\n",
       "        vertical-align: middle;\n",
       "    }\n",
       "\n",
       "    .dataframe tbody tr th {\n",
       "        vertical-align: top;\n",
       "    }\n",
       "\n",
       "    .dataframe thead th {\n",
       "        text-align: right;\n",
       "    }\n",
       "</style>\n",
       "<table border=\"1\" class=\"dataframe\">\n",
       "  <thead>\n",
       "    <tr style=\"text-align: right;\">\n",
       "      <th></th>\n",
       "      <th>Datatype</th>\n",
       "      <th>Missing Val</th>\n",
       "      <th>% Missing val</th>\n",
       "      <th>Num of Zeros</th>\n",
       "      <th>% Num of Zeros</th>\n",
       "      <th>nUnique Values</th>\n",
       "    </tr>\n",
       "  </thead>\n",
       "  <tbody>\n",
       "    <tr>\n",
       "      <th>CardHolder</th>\n",
       "      <td>object</td>\n",
       "      <td>0</td>\n",
       "      <td>0.0</td>\n",
       "      <td>0</td>\n",
       "      <td>0.0</td>\n",
       "      <td>86689</td>\n",
       "    </tr>\n",
       "    <tr>\n",
       "      <th>ChequeId</th>\n",
       "      <td>object</td>\n",
       "      <td>0</td>\n",
       "      <td>0.0</td>\n",
       "      <td>0</td>\n",
       "      <td>0.0</td>\n",
       "      <td>3099718</td>\n",
       "    </tr>\n",
       "    <tr>\n",
       "      <th>CALDAY</th>\n",
       "      <td>object</td>\n",
       "      <td>0</td>\n",
       "      <td>0.0</td>\n",
       "      <td>0</td>\n",
       "      <td>0.0</td>\n",
       "      <td>791</td>\n",
       "    </tr>\n",
       "    <tr>\n",
       "      <th>Discount</th>\n",
       "      <td>object</td>\n",
       "      <td>0</td>\n",
       "      <td>0.0</td>\n",
       "      <td>0</td>\n",
       "      <td>0.0</td>\n",
       "      <td>121204</td>\n",
       "    </tr>\n",
       "    <tr>\n",
       "      <th>SalesCount</th>\n",
       "      <td>object</td>\n",
       "      <td>0</td>\n",
       "      <td>0.0</td>\n",
       "      <td>0</td>\n",
       "      <td>0.0</td>\n",
       "      <td>7481</td>\n",
       "    </tr>\n",
       "    <tr>\n",
       "      <th>SalesSumma</th>\n",
       "      <td>object</td>\n",
       "      <td>0</td>\n",
       "      <td>0.0</td>\n",
       "      <td>0</td>\n",
       "      <td>0.0</td>\n",
       "      <td>171568</td>\n",
       "    </tr>\n",
       "    <tr>\n",
       "      <th>Material</th>\n",
       "      <td>object</td>\n",
       "      <td>0</td>\n",
       "      <td>0.0</td>\n",
       "      <td>0</td>\n",
       "      <td>0.0</td>\n",
       "      <td>65559</td>\n",
       "    </tr>\n",
       "    <tr>\n",
       "      <th>Subcategory</th>\n",
       "      <td>object</td>\n",
       "      <td>0</td>\n",
       "      <td>0.0</td>\n",
       "      <td>0</td>\n",
       "      <td>0.0</td>\n",
       "      <td>1872</td>\n",
       "    </tr>\n",
       "  </tbody>\n",
       "</table>\n",
       "</div>"
      ],
      "text/plain": [
       "            Datatype  Missing Val  % Missing val  Num of Zeros  \\\n",
       "CardHolder    object            0            0.0             0   \n",
       "ChequeId      object            0            0.0             0   \n",
       "CALDAY        object            0            0.0             0   \n",
       "Discount      object            0            0.0             0   \n",
       "SalesCount    object            0            0.0             0   \n",
       "SalesSumma    object            0            0.0             0   \n",
       "Material      object            0            0.0             0   \n",
       "Subcategory   object            0            0.0             0   \n",
       "\n",
       "             % Num of Zeros  nUnique Values  \n",
       "CardHolder              0.0           86689  \n",
       "ChequeId                0.0         3099718  \n",
       "CALDAY                  0.0             791  \n",
       "Discount                0.0          121204  \n",
       "SalesCount              0.0            7481  \n",
       "SalesSumma              0.0          171568  \n",
       "Material                0.0           65559  \n",
       "Subcategory             0.0            1872  "
      ]
     },
     "execution_count": 223,
     "metadata": {},
     "output_type": "execute_result"
    }
   ],
   "source": [
    "                                                        #Dataset Information Table for each colum\n",
    "Trnx_Dict=pd.DataFrame(trx_df.dtypes)                   #datatype of each column\n",
    "Trnx_Dict['Missing Val'] = trx_df.isnull().sum()        #num of missing values, add to table\n",
    "Trnx_Dict['% Missing val'] = round((Trnx_Dict['Missing Val'].astype(int)/new_df.shape[0] * 100),2)\n",
    "Trnx_Dict['Num of Zeros'] = (trx_df == 0).sum(0)\n",
    "Trnx_Dict['% Num of Zeros'] = round((Trnx_Dict['Num of Zeros'].astype(int)/trx_df.shape[0] * 100),2)\n",
    "Trnx_Dict['nUnique Values']=trx_df.nunique()                   #num of unique entries, add to table\n",
    "Trnx_Dict=Trnx_Dict.rename(columns={0:'Datatype'})\n",
    "print('The Table below shows the Data Information of each column ')\n",
    "Trnx_Dict"
   ]
  },
  {
   "cell_type": "code",
   "execution_count": null,
   "metadata": {},
   "outputs": [],
   "source": [
    "# df = pd.read_csv('Transactions_data.csv')\n",
    "# df.head()"
   ]
  },
  {
   "cell_type": "code",
   "execution_count": 225,
   "metadata": {},
   "outputs": [
    {
     "data": {
      "text/plain": [
       "Index(['material', 'net_weight', 'rpa_wgh1', 'rpa_wgh2', 'rpa_wgh3',\n",
       "       'rpa_wgh4', 'unit_of_wt', 'vendor'],\n",
       "      dtype='object')"
      ]
     },
     "execution_count": 225,
     "metadata": {},
     "output_type": "execute_result"
    }
   ],
   "source": [
    "material_df.columns"
   ]
  },
  {
   "cell_type": "code",
   "execution_count": 226,
   "metadata": {},
   "outputs": [
    {
     "data": {
      "text/plain": [
       "Index(['CardHolder', 'ChequeId', 'CALDAY', 'Discount', 'SalesCount',\n",
       "       'SalesSumma', 'Material', 'Subcategory'],\n",
       "      dtype='object')"
      ]
     },
     "execution_count": 226,
     "metadata": {},
     "output_type": "execute_result"
    }
   ],
   "source": [
    "trx_df.columns"
   ]
  },
  {
   "cell_type": "code",
   "execution_count": 369,
   "metadata": {},
   "outputs": [
    {
     "name": "stdout",
     "output_type": "stream",
     "text": [
      "shape of transaction data:  (30841090, 8)\n",
      "shape of material data:  (551168, 8)\n"
     ]
    }
   ],
   "source": [
    "print(\"shape of transaction data: \", trx_df.shape)\n",
    "print(\"shape of material data: \", material_df.shape)"
   ]
  },
  {
   "cell_type": "code",
   "execution_count": 370,
   "metadata": {},
   "outputs": [
    {
     "data": {
      "text/html": [
       "<div>\n",
       "<style scoped>\n",
       "    .dataframe tbody tr th:only-of-type {\n",
       "        vertical-align: middle;\n",
       "    }\n",
       "\n",
       "    .dataframe tbody tr th {\n",
       "        vertical-align: top;\n",
       "    }\n",
       "\n",
       "    .dataframe thead th {\n",
       "        text-align: right;\n",
       "    }\n",
       "</style>\n",
       "<table border=\"1\" class=\"dataframe\">\n",
       "  <thead>\n",
       "    <tr style=\"text-align: right;\">\n",
       "      <th></th>\n",
       "      <th>CardHolder</th>\n",
       "      <th>SalesCount</th>\n",
       "      <th>SalesSumma</th>\n",
       "      <th>Material</th>\n",
       "      <th>Subcategory</th>\n",
       "    </tr>\n",
       "  </thead>\n",
       "  <tbody>\n",
       "    <tr>\n",
       "      <th>0</th>\n",
       "      <td>10008254</td>\n",
       "      <td>3.000</td>\n",
       "      <td>20.97</td>\n",
       "      <td>109900</td>\n",
       "      <td>401201</td>\n",
       "    </tr>\n",
       "    <tr>\n",
       "      <th>1</th>\n",
       "      <td>10008254</td>\n",
       "      <td>1.000</td>\n",
       "      <td>169.99</td>\n",
       "      <td>439630</td>\n",
       "      <td>420103</td>\n",
       "    </tr>\n",
       "    <tr>\n",
       "      <th>2</th>\n",
       "      <td>10008254</td>\n",
       "      <td>1.000</td>\n",
       "      <td>198.49</td>\n",
       "      <td>429670</td>\n",
       "      <td>420205</td>\n",
       "    </tr>\n",
       "    <tr>\n",
       "      <th>3</th>\n",
       "      <td>10008254</td>\n",
       "      <td>1.000</td>\n",
       "      <td>348.99</td>\n",
       "      <td>152314</td>\n",
       "      <td>400107</td>\n",
       "    </tr>\n",
       "    <tr>\n",
       "      <th>4</th>\n",
       "      <td>10008254</td>\n",
       "      <td>1.000</td>\n",
       "      <td>79.99</td>\n",
       "      <td>081107</td>\n",
       "      <td>251602</td>\n",
       "    </tr>\n",
       "  </tbody>\n",
       "</table>\n",
       "</div>"
      ],
      "text/plain": [
       "  CardHolder SalesCount SalesSumma Material Subcategory\n",
       "0   10008254      3.000      20.97   109900      401201\n",
       "1   10008254      1.000     169.99   439630      420103\n",
       "2   10008254      1.000     198.49   429670      420205\n",
       "3   10008254      1.000     348.99   152314      400107\n",
       "4   10008254      1.000      79.99   081107      251602"
      ]
     },
     "execution_count": 370,
     "metadata": {},
     "output_type": "execute_result"
    }
   ],
   "source": [
    "     #drooping less important columns\n",
    "trnx_dff = trx_df.drop(['ChequeId', 'CALDAY', 'Discount'],axis=1)\n",
    "trnx_dff.head()"
   ]
  },
  {
   "cell_type": "code",
   "execution_count": 371,
   "metadata": {},
   "outputs": [
    {
     "data": {
      "text/plain": [
       "1872"
      ]
     },
     "execution_count": 371,
     "metadata": {},
     "output_type": "execute_result"
    }
   ],
   "source": [
    "trnx_dff['Subcategory'].nunique()"
   ]
  },
  {
   "cell_type": "code",
   "execution_count": 373,
   "metadata": {},
   "outputs": [],
   "source": [
    "                            #chaning datatype\n",
    "trnx_dff['SalesCount'] = trnx_dff[['SalesCount','SalesSumma']].astype(float)\n",
    "trnx_dff[['CardHolder','Material','Subcategory']] = trnx_dff[['CardHolder','Material','Subcategory']].astype(int)"
   ]
  },
  {
   "cell_type": "code",
   "execution_count": 377,
   "metadata": {},
   "outputs": [],
   "source": [
    "trnx_dff['SalesSumma'] = trnx_dff[['SalesSumma']].astype(float)"
   ]
  },
  {
   "cell_type": "code",
   "execution_count": 378,
   "metadata": {},
   "outputs": [
    {
     "data": {
      "text/plain": [
       "CardHolder       int64\n",
       "SalesCount     float64\n",
       "SalesSumma     float64\n",
       "Material         int64\n",
       "Subcategory      int64\n",
       "dtype: object"
      ]
     },
     "execution_count": 378,
     "metadata": {},
     "output_type": "execute_result"
    }
   ],
   "source": [
    "trnx_dff.dtypes"
   ]
  },
  {
   "cell_type": "code",
   "execution_count": 379,
   "metadata": {
    "scrolled": true
   },
   "outputs": [
    {
     "data": {
      "text/html": [
       "<div>\n",
       "<style scoped>\n",
       "    .dataframe tbody tr th:only-of-type {\n",
       "        vertical-align: middle;\n",
       "    }\n",
       "\n",
       "    .dataframe tbody tr th {\n",
       "        vertical-align: top;\n",
       "    }\n",
       "\n",
       "    .dataframe thead th {\n",
       "        text-align: right;\n",
       "    }\n",
       "</style>\n",
       "<table border=\"1\" class=\"dataframe\">\n",
       "  <thead>\n",
       "    <tr style=\"text-align: right;\">\n",
       "      <th></th>\n",
       "      <th>subcategorycode</th>\n",
       "      <th>engname</th>\n",
       "      <th>Class</th>\n",
       "    </tr>\n",
       "  </thead>\n",
       "  <tbody>\n",
       "    <tr>\n",
       "      <th>0</th>\n",
       "      <td>10101</td>\n",
       "      <td>Office Business lunch</td>\n",
       "      <td>FOOD</td>\n",
       "    </tr>\n",
       "    <tr>\n",
       "      <th>1</th>\n",
       "      <td>10102</td>\n",
       "      <td>Store Business lunch</td>\n",
       "      <td>FOOD</td>\n",
       "    </tr>\n",
       "    <tr>\n",
       "      <th>2</th>\n",
       "      <td>20101</td>\n",
       "      <td>Juices (Cafeteria)</td>\n",
       "      <td>FOOD</td>\n",
       "    </tr>\n",
       "    <tr>\n",
       "      <th>3</th>\n",
       "      <td>20102</td>\n",
       "      <td>Water (Cafeteria)</td>\n",
       "      <td>FOOD</td>\n",
       "    </tr>\n",
       "    <tr>\n",
       "      <th>4</th>\n",
       "      <td>20103</td>\n",
       "      <td>Lemonade (Cafeteria)</td>\n",
       "      <td>FOOD</td>\n",
       "    </tr>\n",
       "  </tbody>\n",
       "</table>\n",
       "</div>"
      ],
      "text/plain": [
       "   subcategorycode                engname Class\n",
       "0            10101  Office Business lunch  FOOD\n",
       "1            10102   Store Business lunch  FOOD\n",
       "2            20101     Juices (Cafeteria)  FOOD\n",
       "3            20102      Water (Cafeteria)  FOOD\n",
       "4            20103   Lemonade (Cafeteria)  FOOD"
      ]
     },
     "execution_count": 379,
     "metadata": {},
     "output_type": "execute_result"
    }
   ],
   "source": [
    "weight_4.head()"
   ]
  },
  {
   "cell_type": "code",
   "execution_count": 303,
   "metadata": {},
   "outputs": [
    {
     "data": {
      "text/html": [
       "<div>\n",
       "<style scoped>\n",
       "    .dataframe tbody tr th:only-of-type {\n",
       "        vertical-align: middle;\n",
       "    }\n",
       "\n",
       "    .dataframe tbody tr th {\n",
       "        vertical-align: top;\n",
       "    }\n",
       "\n",
       "    .dataframe thead th {\n",
       "        text-align: right;\n",
       "    }\n",
       "</style>\n",
       "<table border=\"1\" class=\"dataframe\">\n",
       "  <thead>\n",
       "    <tr style=\"text-align: right;\">\n",
       "      <th></th>\n",
       "      <th>subcategorycode</th>\n",
       "      <th>engname</th>\n",
       "      <th>Class</th>\n",
       "    </tr>\n",
       "  </thead>\n",
       "  <tbody>\n",
       "    <tr>\n",
       "      <th>1664</th>\n",
       "      <td>\"\"\"</td>\n",
       "      <td>NON FOOD</td>\n",
       "      <td>None</td>\n",
       "    </tr>\n",
       "    <tr>\n",
       "      <th>1675</th>\n",
       "      <td>\"\"\"</td>\n",
       "      <td>NON FOOD</td>\n",
       "      <td>None</td>\n",
       "    </tr>\n",
       "    <tr>\n",
       "      <th>1678</th>\n",
       "      <td>\"\"\"</td>\n",
       "      <td>NON FOOD</td>\n",
       "      <td>None</td>\n",
       "    </tr>\n",
       "    <tr>\n",
       "      <th>1965</th>\n",
       "      <td>\"\"\"</td>\n",
       "      <td>NON FOOD</td>\n",
       "      <td>None</td>\n",
       "    </tr>\n",
       "  </tbody>\n",
       "</table>\n",
       "</div>"
      ],
      "text/plain": [
       "     subcategorycode   engname Class\n",
       "1664             \"\"\"  NON FOOD  None\n",
       "1675             \"\"\"  NON FOOD  None\n",
       "1678             \"\"\"  NON FOOD  None\n",
       "1965             \"\"\"  NON FOOD  None"
      ]
     },
     "execution_count": 303,
     "metadata": {},
     "output_type": "execute_result"
    }
   ],
   "source": [
    "                     ##detecting unsual values\n",
    "odd_weight = weight_4[weight_4['subcategorycode'] == '\"\"\"'] \n",
    "odd_weight"
   ]
  },
  {
   "cell_type": "code",
   "execution_count": 304,
   "metadata": {},
   "outputs": [
    {
     "data": {
      "text/plain": [
       "Int64Index([1664, 1675, 1678, 1965], dtype='int64')"
      ]
     },
     "execution_count": 304,
     "metadata": {},
     "output_type": "execute_result"
    }
   ],
   "source": [
    "odd_weight.index"
   ]
  },
  {
   "cell_type": "code",
   "execution_count": 305,
   "metadata": {},
   "outputs": [],
   "source": [
    "weight_4 = weight_4.drop(weight_4.index[[1664, 1675, 1678, 1965]])"
   ]
  },
  {
   "cell_type": "code",
   "execution_count": 306,
   "metadata": {},
   "outputs": [
    {
     "data": {
      "text/plain": [
       "subcategorycode     int64\n",
       "engname            object\n",
       "Class              object\n",
       "dtype: object"
      ]
     },
     "execution_count": 306,
     "metadata": {},
     "output_type": "execute_result"
    }
   ],
   "source": [
    "weight_4['subcategorycode'] = weight_4['subcategorycode'].astype(int)\n",
    "weight_4.dtypes"
   ]
  },
  {
   "cell_type": "code",
   "execution_count": null,
   "metadata": {},
   "outputs": [],
   "source": []
  },
  {
   "cell_type": "code",
   "execution_count": 380,
   "metadata": {},
   "outputs": [
    {
     "data": {
      "text/html": [
       "<div>\n",
       "<style scoped>\n",
       "    .dataframe tbody tr th:only-of-type {\n",
       "        vertical-align: middle;\n",
       "    }\n",
       "\n",
       "    .dataframe tbody tr th {\n",
       "        vertical-align: top;\n",
       "    }\n",
       "\n",
       "    .dataframe thead th {\n",
       "        text-align: right;\n",
       "    }\n",
       "</style>\n",
       "<table border=\"1\" class=\"dataframe\">\n",
       "  <thead>\n",
       "    <tr style=\"text-align: right;\">\n",
       "      <th></th>\n",
       "      <th>CardHolder</th>\n",
       "      <th>SalesCount</th>\n",
       "      <th>SalesSumma</th>\n",
       "      <th>Material</th>\n",
       "      <th>Subcategory</th>\n",
       "    </tr>\n",
       "  </thead>\n",
       "  <tbody>\n",
       "    <tr>\n",
       "      <th>0</th>\n",
       "      <td>10008254</td>\n",
       "      <td>3.0</td>\n",
       "      <td>20.97</td>\n",
       "      <td>109900</td>\n",
       "      <td>401201</td>\n",
       "    </tr>\n",
       "    <tr>\n",
       "      <th>1</th>\n",
       "      <td>10008254</td>\n",
       "      <td>1.0</td>\n",
       "      <td>169.99</td>\n",
       "      <td>439630</td>\n",
       "      <td>420103</td>\n",
       "    </tr>\n",
       "    <tr>\n",
       "      <th>2</th>\n",
       "      <td>10008254</td>\n",
       "      <td>1.0</td>\n",
       "      <td>198.49</td>\n",
       "      <td>429670</td>\n",
       "      <td>420205</td>\n",
       "    </tr>\n",
       "    <tr>\n",
       "      <th>3</th>\n",
       "      <td>10008254</td>\n",
       "      <td>1.0</td>\n",
       "      <td>348.99</td>\n",
       "      <td>152314</td>\n",
       "      <td>400107</td>\n",
       "    </tr>\n",
       "    <tr>\n",
       "      <th>4</th>\n",
       "      <td>10008254</td>\n",
       "      <td>1.0</td>\n",
       "      <td>79.99</td>\n",
       "      <td>81107</td>\n",
       "      <td>251602</td>\n",
       "    </tr>\n",
       "  </tbody>\n",
       "</table>\n",
       "</div>"
      ],
      "text/plain": [
       "   CardHolder  SalesCount  SalesSumma  Material  Subcategory\n",
       "0    10008254         3.0       20.97    109900       401201\n",
       "1    10008254         1.0      169.99    439630       420103\n",
       "2    10008254         1.0      198.49    429670       420205\n",
       "3    10008254         1.0      348.99    152314       400107\n",
       "4    10008254         1.0       79.99     81107       251602"
      ]
     },
     "execution_count": 380,
     "metadata": {},
     "output_type": "execute_result"
    }
   ],
   "source": [
    "            ##testing\n",
    "sample_df = trnx_dff.head()\n",
    "sample_df"
   ]
  },
  {
   "cell_type": "code",
   "execution_count": 381,
   "metadata": {},
   "outputs": [
    {
     "data": {
      "text/plain": [
       "[401201, 420103, 420205, 400107, 251602]"
      ]
     },
     "execution_count": 381,
     "metadata": {},
     "output_type": "execute_result"
    }
   ],
   "source": [
    "values =sample_df['Subcategory'].to_list()\n",
    "values"
   ]
  },
  {
   "cell_type": "code",
   "execution_count": 382,
   "metadata": {},
   "outputs": [
    {
     "data": {
      "text/html": [
       "<div>\n",
       "<style scoped>\n",
       "    .dataframe tbody tr th:only-of-type {\n",
       "        vertical-align: middle;\n",
       "    }\n",
       "\n",
       "    .dataframe tbody tr th {\n",
       "        vertical-align: top;\n",
       "    }\n",
       "\n",
       "    .dataframe thead th {\n",
       "        text-align: right;\n",
       "    }\n",
       "</style>\n",
       "<table border=\"1\" class=\"dataframe\">\n",
       "  <thead>\n",
       "    <tr style=\"text-align: right;\">\n",
       "      <th></th>\n",
       "      <th>subcategorycode</th>\n",
       "      <th>engname</th>\n",
       "      <th>Class</th>\n",
       "    </tr>\n",
       "  </thead>\n",
       "  <tbody>\n",
       "    <tr>\n",
       "      <th>1350</th>\n",
       "      <td>460102</td>\n",
       "      <td>Dry food for small breeds (PRO)</td>\n",
       "      <td>FOOD</td>\n",
       "    </tr>\n",
       "  </tbody>\n",
       "</table>\n",
       "</div>"
      ],
      "text/plain": [
       "      subcategorycode                          engname Class\n",
       "1350           460102  Dry food for small breeds (PRO)  FOOD"
      ]
     },
     "execution_count": 382,
     "metadata": {},
     "output_type": "execute_result"
    }
   ],
   "source": [
    "weight_4[weight_4['subcategorycode'] == 460102]"
   ]
  },
  {
   "cell_type": "code",
   "execution_count": 383,
   "metadata": {},
   "outputs": [
    {
     "data": {
      "text/html": [
       "<div>\n",
       "<style scoped>\n",
       "    .dataframe tbody tr th:only-of-type {\n",
       "        vertical-align: middle;\n",
       "    }\n",
       "\n",
       "    .dataframe tbody tr th {\n",
       "        vertical-align: top;\n",
       "    }\n",
       "\n",
       "    .dataframe thead th {\n",
       "        text-align: right;\n",
       "    }\n",
       "</style>\n",
       "<table border=\"1\" class=\"dataframe\">\n",
       "  <thead>\n",
       "    <tr style=\"text-align: right;\">\n",
       "      <th></th>\n",
       "      <th>subcategorycode</th>\n",
       "      <th>engname</th>\n",
       "      <th>Class</th>\n",
       "    </tr>\n",
       "  </thead>\n",
       "  <tbody>\n",
       "    <tr>\n",
       "      <th>627</th>\n",
       "      <td>251602</td>\n",
       "      <td>\"Milk shakes warm storage \"</td>\n",
       "      <td>FOOD</td>\n",
       "    </tr>\n",
       "    <tr>\n",
       "      <th>1137</th>\n",
       "      <td>400107</td>\n",
       "      <td>\"Special liquid washing detergent \"</td>\n",
       "      <td>NON FOOD</td>\n",
       "    </tr>\n",
       "    <tr>\n",
       "      <th>1178</th>\n",
       "      <td>401201</td>\n",
       "      <td>Lenta bags</td>\n",
       "      <td>NON FOOD</td>\n",
       "    </tr>\n",
       "    <tr>\n",
       "      <th>1231</th>\n",
       "      <td>420103</td>\n",
       "      <td>Dry dog food up to 800 gr</td>\n",
       "      <td>FOOD</td>\n",
       "    </tr>\n",
       "    <tr>\n",
       "      <th>1241</th>\n",
       "      <td>420205</td>\n",
       "      <td>Dry food for cats from 450 gr to 1500 gr</td>\n",
       "      <td>FOOD</td>\n",
       "    </tr>\n",
       "  </tbody>\n",
       "</table>\n",
       "</div>"
      ],
      "text/plain": [
       "      subcategorycode                                   engname     Class\n",
       "627            251602               \"Milk shakes warm storage \"      FOOD\n",
       "1137           400107       \"Special liquid washing detergent \"  NON FOOD\n",
       "1178           401201                                Lenta bags  NON FOOD\n",
       "1231           420103                 Dry dog food up to 800 gr      FOOD\n",
       "1241           420205  Dry food for cats from 450 gr to 1500 gr      FOOD"
      ]
     },
     "execution_count": 383,
     "metadata": {},
     "output_type": "execute_result"
    }
   ],
   "source": [
    "weight_4.loc[weight_4['subcategorycode'].isin(values)]"
   ]
  },
  {
   "cell_type": "code",
   "execution_count": 384,
   "metadata": {},
   "outputs": [
    {
     "name": "stdout",
     "output_type": "stream",
     "text": [
      "Number of unique subcatergories  1872\n"
     ]
    }
   ],
   "source": [
    "                        #getting unique subcatergories code from the trasaction dataset\n",
    "print(\"Number of unique subcatergories \",trnx_dff['Subcategory'].nunique())\n",
    "Subcategory_list = list(trnx_dff['Subcategory'].unique())"
   ]
  },
  {
   "cell_type": "code",
   "execution_count": 347,
   "metadata": {},
   "outputs": [
    {
     "data": {
      "text/html": [
       "<div>\n",
       "<style scoped>\n",
       "    .dataframe tbody tr th:only-of-type {\n",
       "        vertical-align: middle;\n",
       "    }\n",
       "\n",
       "    .dataframe tbody tr th {\n",
       "        vertical-align: top;\n",
       "    }\n",
       "\n",
       "    .dataframe thead th {\n",
       "        text-align: right;\n",
       "    }\n",
       "</style>\n",
       "<table border=\"1\" class=\"dataframe\">\n",
       "  <thead>\n",
       "    <tr style=\"text-align: right;\">\n",
       "      <th></th>\n",
       "      <th>subcategorycode</th>\n",
       "      <th>engname</th>\n",
       "      <th>Class</th>\n",
       "    </tr>\n",
       "  </thead>\n",
       "  <tbody>\n",
       "    <tr>\n",
       "      <th>1</th>\n",
       "      <td>10102</td>\n",
       "      <td>Store Business lunch</td>\n",
       "      <td>FOOD</td>\n",
       "    </tr>\n",
       "    <tr>\n",
       "      <th>121</th>\n",
       "      <td>110101</td>\n",
       "      <td>Beef on the bone a large piece own production,...</td>\n",
       "      <td>FOOD</td>\n",
       "    </tr>\n",
       "    <tr>\n",
       "      <th>122</th>\n",
       "      <td>110102</td>\n",
       "      <td>Boneless beef a large piece own production, se...</td>\n",
       "      <td>FOOD</td>\n",
       "    </tr>\n",
       "    <tr>\n",
       "      <th>124</th>\n",
       "      <td>110104</td>\n",
       "      <td>Boneless beef a large piece in branded package...</td>\n",
       "      <td>FOOD</td>\n",
       "    </tr>\n",
       "    <tr>\n",
       "      <th>125</th>\n",
       "      <td>110105</td>\n",
       "      <td>Semi-finished fresh beef natural own productio...</td>\n",
       "      <td>FOOD</td>\n",
       "    </tr>\n",
       "  </tbody>\n",
       "</table>\n",
       "</div>"
      ],
      "text/plain": [
       "     subcategorycode                                            engname Class\n",
       "1              10102                               Store Business lunch  FOOD\n",
       "121           110101  Beef on the bone a large piece own production,...  FOOD\n",
       "122           110102  Boneless beef a large piece own production, se...  FOOD\n",
       "124           110104  Boneless beef a large piece in branded package...  FOOD\n",
       "125           110105  Semi-finished fresh beef natural own productio...  FOOD"
      ]
     },
     "execution_count": 347,
     "metadata": {},
     "output_type": "execute_result"
    }
   ],
   "source": [
    "                       #getting the subcatergory \"engname\" and \"Class\" corresponding to the unique code above\n",
    "subcat_info = weight_4.loc[weight_4['subcategorycode'].isin(Subcategory_list)]\n",
    "subcat_info.head()"
   ]
  },
  {
   "cell_type": "code",
   "execution_count": 501,
   "metadata": {},
   "outputs": [
    {
     "data": {
      "text/plain": [
       "(1868, 3)"
      ]
     },
     "execution_count": 501,
     "metadata": {},
     "output_type": "execute_result"
    }
   ],
   "source": [
    "subcat_info.shape"
   ]
  },
  {
   "cell_type": "code",
   "execution_count": 349,
   "metadata": {},
   "outputs": [
    {
     "data": {
      "text/plain": [
       "Index(['SubCategorycode', 'engname', 'Class'], dtype='object')"
      ]
     },
     "execution_count": 349,
     "metadata": {},
     "output_type": "execute_result"
    }
   ],
   "source": [
    "                            #renaming columns for appropriate merging\n",
    "subcat_info = subcat_info.rename(columns={'subcategorycode':'SubCategorycode'})\n",
    "subcat_info.columns"
   ]
  },
  {
   "cell_type": "code",
   "execution_count": 385,
   "metadata": {},
   "outputs": [
    {
     "data": {
      "text/plain": [
       "Index(['CardHolder', 'SalesCount', 'SalesSumma', 'Material',\n",
       "       'SubCategorycode'],\n",
       "      dtype='object')"
      ]
     },
     "execution_count": 385,
     "metadata": {},
     "output_type": "execute_result"
    }
   ],
   "source": [
    "trnx_dff = trnx_dff.rename(columns={'Subcategory':'SubCategorycode'})\n",
    "trnx_dff = trnx_dff.rename(columns={'SalesSumma':'ItemPrice'})\n",
    "trnx_dff.columns"
   ]
  },
  {
   "cell_type": "code",
   "execution_count": 389,
   "metadata": {},
   "outputs": [],
   "source": [
    "# trnx_dff = trnx_dff.rename(columns={'SalesSumma':'ItemPrice'})\n",
    "# trnx_dff.columns\n",
    "# subcat_info.head()"
   ]
  },
  {
   "cell_type": "code",
   "execution_count": 390,
   "metadata": {
    "scrolled": true
   },
   "outputs": [
    {
     "data": {
      "text/html": [
       "<div>\n",
       "<style scoped>\n",
       "    .dataframe tbody tr th:only-of-type {\n",
       "        vertical-align: middle;\n",
       "    }\n",
       "\n",
       "    .dataframe tbody tr th {\n",
       "        vertical-align: top;\n",
       "    }\n",
       "\n",
       "    .dataframe thead th {\n",
       "        text-align: right;\n",
       "    }\n",
       "</style>\n",
       "<table border=\"1\" class=\"dataframe\">\n",
       "  <thead>\n",
       "    <tr style=\"text-align: right;\">\n",
       "      <th></th>\n",
       "      <th>CardHolder</th>\n",
       "      <th>SalesCount</th>\n",
       "      <th>ItemPrice</th>\n",
       "      <th>Material</th>\n",
       "      <th>SubCategorycode</th>\n",
       "      <th>engname</th>\n",
       "      <th>Class</th>\n",
       "    </tr>\n",
       "  </thead>\n",
       "  <tbody>\n",
       "    <tr>\n",
       "      <th>0</th>\n",
       "      <td>10008254</td>\n",
       "      <td>3.0</td>\n",
       "      <td>20.97</td>\n",
       "      <td>109900</td>\n",
       "      <td>401201</td>\n",
       "      <td>Lenta bags</td>\n",
       "      <td>NON FOOD</td>\n",
       "    </tr>\n",
       "    <tr>\n",
       "      <th>1</th>\n",
       "      <td>10011587</td>\n",
       "      <td>1.0</td>\n",
       "      <td>3.79</td>\n",
       "      <td>281461</td>\n",
       "      <td>401201</td>\n",
       "      <td>Lenta bags</td>\n",
       "      <td>NON FOOD</td>\n",
       "    </tr>\n",
       "    <tr>\n",
       "      <th>2</th>\n",
       "      <td>10011935</td>\n",
       "      <td>1.0</td>\n",
       "      <td>6.49</td>\n",
       "      <td>109900</td>\n",
       "      <td>401201</td>\n",
       "      <td>Lenta bags</td>\n",
       "      <td>NON FOOD</td>\n",
       "    </tr>\n",
       "    <tr>\n",
       "      <th>3</th>\n",
       "      <td>10011935</td>\n",
       "      <td>1.0</td>\n",
       "      <td>3.49</td>\n",
       "      <td>281461</td>\n",
       "      <td>401201</td>\n",
       "      <td>Lenta bags</td>\n",
       "      <td>NON FOOD</td>\n",
       "    </tr>\n",
       "    <tr>\n",
       "      <th>4</th>\n",
       "      <td>10036221</td>\n",
       "      <td>2.0</td>\n",
       "      <td>6.38</td>\n",
       "      <td>281461</td>\n",
       "      <td>401201</td>\n",
       "      <td>Lenta bags</td>\n",
       "      <td>NON FOOD</td>\n",
       "    </tr>\n",
       "    <tr>\n",
       "      <th>...</th>\n",
       "      <td>...</td>\n",
       "      <td>...</td>\n",
       "      <td>...</td>\n",
       "      <td>...</td>\n",
       "      <td>...</td>\n",
       "      <td>...</td>\n",
       "      <td>...</td>\n",
       "    </tr>\n",
       "    <tr>\n",
       "      <th>30841054</th>\n",
       "      <td>82959271</td>\n",
       "      <td>1.0</td>\n",
       "      <td>309.56</td>\n",
       "      <td>482900</td>\n",
       "      <td>460102</td>\n",
       "      <td>Dry food for small breeds (PRO)</td>\n",
       "      <td>FOOD</td>\n",
       "    </tr>\n",
       "    <tr>\n",
       "      <th>30841055</th>\n",
       "      <td>82959271</td>\n",
       "      <td>1.0</td>\n",
       "      <td>309.99</td>\n",
       "      <td>482900</td>\n",
       "      <td>460102</td>\n",
       "      <td>Dry food for small breeds (PRO)</td>\n",
       "      <td>FOOD</td>\n",
       "    </tr>\n",
       "    <tr>\n",
       "      <th>30841056</th>\n",
       "      <td>82959271</td>\n",
       "      <td>1.0</td>\n",
       "      <td>309.99</td>\n",
       "      <td>482900</td>\n",
       "      <td>460102</td>\n",
       "      <td>Dry food for small breeds (PRO)</td>\n",
       "      <td>FOOD</td>\n",
       "    </tr>\n",
       "    <tr>\n",
       "      <th>30841057</th>\n",
       "      <td>82959271</td>\n",
       "      <td>1.0</td>\n",
       "      <td>412.63</td>\n",
       "      <td>482900</td>\n",
       "      <td>460102</td>\n",
       "      <td>Dry food for small breeds (PRO)</td>\n",
       "      <td>FOOD</td>\n",
       "    </tr>\n",
       "    <tr>\n",
       "      <th>30841058</th>\n",
       "      <td>82959271</td>\n",
       "      <td>1.0</td>\n",
       "      <td>412.00</td>\n",
       "      <td>482900</td>\n",
       "      <td>460102</td>\n",
       "      <td>Dry food for small breeds (PRO)</td>\n",
       "      <td>FOOD</td>\n",
       "    </tr>\n",
       "  </tbody>\n",
       "</table>\n",
       "<p>30841059 rows × 7 columns</p>\n",
       "</div>"
      ],
      "text/plain": [
       "          CardHolder  SalesCount  ItemPrice  Material  SubCategorycode  \\\n",
       "0           10008254         3.0      20.97    109900           401201   \n",
       "1           10011587         1.0       3.79    281461           401201   \n",
       "2           10011935         1.0       6.49    109900           401201   \n",
       "3           10011935         1.0       3.49    281461           401201   \n",
       "4           10036221         2.0       6.38    281461           401201   \n",
       "...              ...         ...        ...       ...              ...   \n",
       "30841054    82959271         1.0     309.56    482900           460102   \n",
       "30841055    82959271         1.0     309.99    482900           460102   \n",
       "30841056    82959271         1.0     309.99    482900           460102   \n",
       "30841057    82959271         1.0     412.63    482900           460102   \n",
       "30841058    82959271         1.0     412.00    482900           460102   \n",
       "\n",
       "                                  engname     Class  \n",
       "0                              Lenta bags  NON FOOD  \n",
       "1                              Lenta bags  NON FOOD  \n",
       "2                              Lenta bags  NON FOOD  \n",
       "3                              Lenta bags  NON FOOD  \n",
       "4                              Lenta bags  NON FOOD  \n",
       "...                                   ...       ...  \n",
       "30841054  Dry food for small breeds (PRO)      FOOD  \n",
       "30841055  Dry food for small breeds (PRO)      FOOD  \n",
       "30841056  Dry food for small breeds (PRO)      FOOD  \n",
       "30841057  Dry food for small breeds (PRO)      FOOD  \n",
       "30841058  Dry food for small breeds (PRO)      FOOD  \n",
       "\n",
       "[30841059 rows x 7 columns]"
      ]
     },
     "execution_count": 390,
     "metadata": {},
     "output_type": "execute_result"
    }
   ],
   "source": [
    "                #merging \"transaction_df\" and \"subcatergory_df\"\n",
    "trnx_dff = pd.merge(trnx_dff, subcat_info, on='SubCategorycode')\n",
    "trnx_dff"
   ]
  },
  {
   "cell_type": "code",
   "execution_count": 399,
   "metadata": {},
   "outputs": [
    {
     "data": {
      "text/plain": [
       "array(['NON FOOD', 'FOOD', None, 'NONSALES'], dtype=object)"
      ]
     },
     "execution_count": 399,
     "metadata": {},
     "output_type": "execute_result"
    }
   ],
   "source": [
    "trnx_dff['Class'] = trnx_dff['Class'].replace(to_replace= ['\"NONSALE \"'],\n",
    "                            value =['NONSALES'])\n",
    "\n",
    "trnx_dff['Class'].unique()"
   ]
  },
  {
   "cell_type": "code",
   "execution_count": null,
   "metadata": {},
   "outputs": [],
   "source": []
  },
  {
   "cell_type": "code",
   "execution_count": null,
   "metadata": {},
   "outputs": [],
   "source": []
  },
  {
   "cell_type": "code",
   "execution_count": 425,
   "metadata": {
    "scrolled": true
   },
   "outputs": [
    {
     "data": {
      "text/plain": [
       "material       object\n",
       "net_weight    float64\n",
       "rpa_wgh1       object\n",
       "rpa_wgh2      float64\n",
       "rpa_wgh3      float64\n",
       "rpa_wgh4      float64\n",
       "unit_of_wt     object\n",
       "vendor         object\n",
       "dtype: object"
      ]
     },
     "execution_count": 425,
     "metadata": {},
     "output_type": "execute_result"
    }
   ],
   "source": [
    "            #getting important info from \"rpa_wgh\" data files into the \"material_df\"\n",
    "material_df.dtypes"
   ]
  },
  {
   "cell_type": "code",
   "execution_count": 426,
   "metadata": {
    "scrolled": true
   },
   "outputs": [],
   "source": [
    "                        #converting columns to float\n",
    "weight_2['groupcode'] = weight_2['groupcode'].astype(float)"
   ]
  },
  {
   "cell_type": "code",
   "execution_count": 460,
   "metadata": {},
   "outputs": [
    {
     "data": {
      "text/plain": [
       "Index(['material', 'net_weight', 'rpa_wgh1', 'rpa_wgh2', 'rpa_wgh3',\n",
       "       'rpa_wgh4', 'unit_of_wt', 'vendor'],\n",
       "      dtype='object')"
      ]
     },
     "execution_count": 460,
     "metadata": {},
     "output_type": "execute_result"
    }
   ],
   "source": [
    "material_df.columns"
   ]
  },
  {
   "cell_type": "code",
   "execution_count": 462,
   "metadata": {},
   "outputs": [],
   "source": [
    "#weight_2['groupcode'].unique() "
   ]
  },
  {
   "cell_type": "code",
   "execution_count": 452,
   "metadata": {
    "scrolled": true
   },
   "outputs": [],
   "source": [
    "material_df['rpa_wgh2'] = material_df['rpa_wgh2'].dropna()"
   ]
  },
  {
   "cell_type": "code",
   "execution_count": 448,
   "metadata": {},
   "outputs": [
    {
     "data": {
      "text/plain": [
       "79"
      ]
     },
     "execution_count": 448,
     "metadata": {},
     "output_type": "execute_result"
    }
   ],
   "source": [
    "                #extracting unique \"rpa_wgh2\" codes from the \"material_df\"    \n",
    "groupcode_list = list(material_df['rpa_wgh2'].unique())\n",
    "len(groupcode_list)"
   ]
  },
  {
   "cell_type": "code",
   "execution_count": 455,
   "metadata": {},
   "outputs": [
    {
     "data": {
      "text/html": [
       "<div>\n",
       "<style scoped>\n",
       "    .dataframe tbody tr th:only-of-type {\n",
       "        vertical-align: middle;\n",
       "    }\n",
       "\n",
       "    .dataframe tbody tr th {\n",
       "        vertical-align: top;\n",
       "    }\n",
       "\n",
       "    .dataframe thead th {\n",
       "        text-align: right;\n",
       "    }\n",
       "</style>\n",
       "<table border=\"1\" class=\"dataframe\">\n",
       "  <thead>\n",
       "    <tr style=\"text-align: right;\">\n",
       "      <th></th>\n",
       "      <th>groupcode</th>\n",
       "      <th>engname</th>\n",
       "    </tr>\n",
       "  </thead>\n",
       "  <tbody>\n",
       "    <tr>\n",
       "      <th>0</th>\n",
       "      <td>1.0</td>\n",
       "      <td>Canteen</td>\n",
       "    </tr>\n",
       "    <tr>\n",
       "      <th>1</th>\n",
       "      <td>2.0</td>\n",
       "      <td>Cafeteria</td>\n",
       "    </tr>\n",
       "    <tr>\n",
       "      <th>2</th>\n",
       "      <td>10.0</td>\n",
       "      <td>Raw materials</td>\n",
       "    </tr>\n",
       "    <tr>\n",
       "      <th>3</th>\n",
       "      <td>11.0</td>\n",
       "      <td>Fresh meat</td>\n",
       "    </tr>\n",
       "    <tr>\n",
       "      <th>4</th>\n",
       "      <td>12.0</td>\n",
       "      <td>Fresh poultry</td>\n",
       "    </tr>\n",
       "  </tbody>\n",
       "</table>\n",
       "</div>"
      ],
      "text/plain": [
       "   groupcode        engname\n",
       "0        1.0        Canteen\n",
       "1        2.0      Cafeteria\n",
       "2       10.0  Raw materials\n",
       "3       11.0     Fresh meat\n",
       "4       12.0  Fresh poultry"
      ]
     },
     "execution_count": 455,
     "metadata": {},
     "output_type": "execute_result"
    }
   ],
   "source": [
    "                #getting \"rpa_wgh2\" subCatergory names corresponding  the material_df \n",
    "groupcode_info = weight_2.loc[weight_2['groupcode'].isin(groupcode_list)]\n",
    "groupcode_info.head()"
   ]
  },
  {
   "cell_type": "code",
   "execution_count": 461,
   "metadata": {},
   "outputs": [
    {
     "data": {
      "text/plain": [
       "Index(['rpa_wgh2', 'rpa_wgh2_Eng_name'], dtype='object')"
      ]
     },
     "execution_count": 461,
     "metadata": {},
     "output_type": "execute_result"
    }
   ],
   "source": [
    "                         #renaming columns for appropriate merging\n",
    "groupcode_info = groupcode_info.rename(columns={'engname':'rpa_wgh2_Eng_name'})\n",
    "groupcode_info = groupcode_info.rename(columns={'groupcode':'rpa_wgh2'})\n",
    "groupcode_info.columns"
   ]
  },
  {
   "cell_type": "code",
   "execution_count": 463,
   "metadata": {},
   "outputs": [
    {
     "data": {
      "text/html": [
       "<div>\n",
       "<style scoped>\n",
       "    .dataframe tbody tr th:only-of-type {\n",
       "        vertical-align: middle;\n",
       "    }\n",
       "\n",
       "    .dataframe tbody tr th {\n",
       "        vertical-align: top;\n",
       "    }\n",
       "\n",
       "    .dataframe thead th {\n",
       "        text-align: right;\n",
       "    }\n",
       "</style>\n",
       "<table border=\"1\" class=\"dataframe\">\n",
       "  <thead>\n",
       "    <tr style=\"text-align: right;\">\n",
       "      <th></th>\n",
       "      <th>material</th>\n",
       "      <th>net_weight</th>\n",
       "      <th>rpa_wgh1</th>\n",
       "      <th>rpa_wgh2</th>\n",
       "      <th>rpa_wgh3</th>\n",
       "      <th>rpa_wgh4</th>\n",
       "      <th>unit_of_wt</th>\n",
       "      <th>vendor</th>\n",
       "      <th>rpa_wgh2_Eng_name</th>\n",
       "    </tr>\n",
       "  </thead>\n",
       "  <tbody>\n",
       "    <tr>\n",
       "      <th>0</th>\n",
       "      <td>159121</td>\n",
       "      <td>136.0</td>\n",
       "      <td>FOOD</td>\n",
       "      <td>45.0</td>\n",
       "      <td>4505.0</td>\n",
       "      <td>450503.0</td>\n",
       "      <td>G</td>\n",
       "      <td>104603</td>\n",
       "      <td>Non chocolate Confectionery</td>\n",
       "    </tr>\n",
       "    <tr>\n",
       "      <th>1</th>\n",
       "      <td>159136</td>\n",
       "      <td>122.0</td>\n",
       "      <td>FOOD</td>\n",
       "      <td>45.0</td>\n",
       "      <td>4504.0</td>\n",
       "      <td>450407.0</td>\n",
       "      <td>G</td>\n",
       "      <td>100418</td>\n",
       "      <td>Non chocolate Confectionery</td>\n",
       "    </tr>\n",
       "    <tr>\n",
       "      <th>2</th>\n",
       "      <td>159468</td>\n",
       "      <td>230.0</td>\n",
       "      <td>FOOD</td>\n",
       "      <td>45.0</td>\n",
       "      <td>4505.0</td>\n",
       "      <td>450502.0</td>\n",
       "      <td>G</td>\n",
       "      <td>102305</td>\n",
       "      <td>Non chocolate Confectionery</td>\n",
       "    </tr>\n",
       "    <tr>\n",
       "      <th>3</th>\n",
       "      <td>159469</td>\n",
       "      <td>140.0</td>\n",
       "      <td>FOOD</td>\n",
       "      <td>45.0</td>\n",
       "      <td>4505.0</td>\n",
       "      <td>450502.0</td>\n",
       "      <td>G</td>\n",
       "      <td>100396</td>\n",
       "      <td>Non chocolate Confectionery</td>\n",
       "    </tr>\n",
       "    <tr>\n",
       "      <th>4</th>\n",
       "      <td>159470</td>\n",
       "      <td>130.0</td>\n",
       "      <td>FOOD</td>\n",
       "      <td>45.0</td>\n",
       "      <td>4505.0</td>\n",
       "      <td>450503.0</td>\n",
       "      <td>G</td>\n",
       "      <td>102305</td>\n",
       "      <td>Non chocolate Confectionery</td>\n",
       "    </tr>\n",
       "    <tr>\n",
       "      <th>...</th>\n",
       "      <td>...</td>\n",
       "      <td>...</td>\n",
       "      <td>...</td>\n",
       "      <td>...</td>\n",
       "      <td>...</td>\n",
       "      <td>...</td>\n",
       "      <td>...</td>\n",
       "      <td>...</td>\n",
       "      <td>...</td>\n",
       "    </tr>\n",
       "    <tr>\n",
       "      <th>492343</th>\n",
       "      <td>193490</td>\n",
       "      <td>200.0</td>\n",
       "      <td>FOOD</td>\n",
       "      <td>1.0</td>\n",
       "      <td>101.0</td>\n",
       "      <td>10101.0</td>\n",
       "      <td>G</td>\n",
       "      <td>NaN</td>\n",
       "      <td>Canteen</td>\n",
       "    </tr>\n",
       "    <tr>\n",
       "      <th>492344</th>\n",
       "      <td>193491</td>\n",
       "      <td>500.0</td>\n",
       "      <td>FOOD</td>\n",
       "      <td>1.0</td>\n",
       "      <td>101.0</td>\n",
       "      <td>10101.0</td>\n",
       "      <td>G</td>\n",
       "      <td>NaN</td>\n",
       "      <td>Canteen</td>\n",
       "    </tr>\n",
       "    <tr>\n",
       "      <th>492345</th>\n",
       "      <td>194935</td>\n",
       "      <td>500.0</td>\n",
       "      <td>FOOD</td>\n",
       "      <td>1.0</td>\n",
       "      <td>101.0</td>\n",
       "      <td>10101.0</td>\n",
       "      <td>G</td>\n",
       "      <td>NaN</td>\n",
       "      <td>Canteen</td>\n",
       "    </tr>\n",
       "    <tr>\n",
       "      <th>492346</th>\n",
       "      <td>194937</td>\n",
       "      <td>500.0</td>\n",
       "      <td>FOOD</td>\n",
       "      <td>1.0</td>\n",
       "      <td>101.0</td>\n",
       "      <td>10101.0</td>\n",
       "      <td>G</td>\n",
       "      <td>NaN</td>\n",
       "      <td>Canteen</td>\n",
       "    </tr>\n",
       "    <tr>\n",
       "      <th>492347</th>\n",
       "      <td>194948</td>\n",
       "      <td>500.0</td>\n",
       "      <td>FOOD</td>\n",
       "      <td>1.0</td>\n",
       "      <td>101.0</td>\n",
       "      <td>10101.0</td>\n",
       "      <td>G</td>\n",
       "      <td>NaN</td>\n",
       "      <td>Canteen</td>\n",
       "    </tr>\n",
       "  </tbody>\n",
       "</table>\n",
       "<p>492348 rows × 9 columns</p>\n",
       "</div>"
      ],
      "text/plain": [
       "       material  net_weight rpa_wgh1  rpa_wgh2  rpa_wgh3  rpa_wgh4 unit_of_wt  \\\n",
       "0        159121       136.0     FOOD      45.0    4505.0  450503.0          G   \n",
       "1        159136       122.0     FOOD      45.0    4504.0  450407.0          G   \n",
       "2        159468       230.0     FOOD      45.0    4505.0  450502.0          G   \n",
       "3        159469       140.0     FOOD      45.0    4505.0  450502.0          G   \n",
       "4        159470       130.0     FOOD      45.0    4505.0  450503.0          G   \n",
       "...         ...         ...      ...       ...       ...       ...        ...   \n",
       "492343   193490       200.0     FOOD       1.0     101.0   10101.0          G   \n",
       "492344   193491       500.0     FOOD       1.0     101.0   10101.0          G   \n",
       "492345   194935       500.0     FOOD       1.0     101.0   10101.0          G   \n",
       "492346   194937       500.0     FOOD       1.0     101.0   10101.0          G   \n",
       "492347   194948       500.0     FOOD       1.0     101.0   10101.0          G   \n",
       "\n",
       "        vendor            rpa_wgh2_Eng_name  \n",
       "0       104603  Non chocolate Confectionery  \n",
       "1       100418  Non chocolate Confectionery  \n",
       "2       102305  Non chocolate Confectionery  \n",
       "3       100396  Non chocolate Confectionery  \n",
       "4       102305  Non chocolate Confectionery  \n",
       "...        ...                          ...  \n",
       "492343     NaN                      Canteen  \n",
       "492344     NaN                      Canteen  \n",
       "492345     NaN                      Canteen  \n",
       "492346     NaN                      Canteen  \n",
       "492347     NaN                      Canteen  \n",
       "\n",
       "[492348 rows x 9 columns]"
      ]
     },
     "execution_count": 463,
     "metadata": {},
     "output_type": "execute_result"
    }
   ],
   "source": [
    "                        #merging 'rpa_wgh2_Eng_name' with 'material_df'\n",
    "item_dff = pd.merge(material_df, groupcode_info, on='rpa_wgh2')\n",
    "item_dff"
   ]
  },
  {
   "cell_type": "code",
   "execution_count": null,
   "metadata": {},
   "outputs": [],
   "source": []
  },
  {
   "cell_type": "code",
   "execution_count": 473,
   "metadata": {},
   "outputs": [
    {
     "data": {
      "text/plain": [
       "categorycode    float64\n",
       "engname          object\n",
       "dtype: object"
      ]
     },
     "execution_count": 473,
     "metadata": {},
     "output_type": "execute_result"
    }
   ],
   "source": [
    "                          #converting columns to float\n",
    "weight_3['categorycode'] = weight_3['categorycode'].astype(float)\n",
    "weight_3.dtypes"
   ]
  },
  {
   "cell_type": "code",
   "execution_count": 482,
   "metadata": {
    "scrolled": true
   },
   "outputs": [],
   "source": [
    "#weight_3['categorycode'].unique()"
   ]
  },
  {
   "cell_type": "code",
   "execution_count": 483,
   "metadata": {
    "scrolled": true
   },
   "outputs": [],
   "source": [
    "#material_df['rpa_wgh3'].unique()"
   ]
  },
  {
   "cell_type": "code",
   "execution_count": 477,
   "metadata": {
    "scrolled": true
   },
   "outputs": [],
   "source": [
    "material_df['rpa_wgh3'] = material_df['rpa_wgh3'].dropna()"
   ]
  },
  {
   "cell_type": "code",
   "execution_count": 478,
   "metadata": {},
   "outputs": [
    {
     "data": {
      "text/plain": [
       "625"
      ]
     },
     "execution_count": 478,
     "metadata": {},
     "output_type": "execute_result"
    }
   ],
   "source": [
    "                     #extracting unique \"rpa_wgh3\" codes from the \"material_df\" \n",
    "categorycode_list = list(material_df['rpa_wgh3'].unique())\n",
    "len(categorycode_list)"
   ]
  },
  {
   "cell_type": "code",
   "execution_count": 485,
   "metadata": {},
   "outputs": [
    {
     "data": {
      "text/html": [
       "<div>\n",
       "<style scoped>\n",
       "    .dataframe tbody tr th:only-of-type {\n",
       "        vertical-align: middle;\n",
       "    }\n",
       "\n",
       "    .dataframe tbody tr th {\n",
       "        vertical-align: top;\n",
       "    }\n",
       "\n",
       "    .dataframe thead th {\n",
       "        text-align: right;\n",
       "    }\n",
       "</style>\n",
       "<table border=\"1\" class=\"dataframe\">\n",
       "  <thead>\n",
       "    <tr style=\"text-align: right;\">\n",
       "      <th></th>\n",
       "      <th>categorycode</th>\n",
       "      <th>engname</th>\n",
       "    </tr>\n",
       "  </thead>\n",
       "  <tbody>\n",
       "    <tr>\n",
       "      <th>0</th>\n",
       "      <td>101.0</td>\n",
       "      <td>Business lunch</td>\n",
       "    </tr>\n",
       "    <tr>\n",
       "      <th>1</th>\n",
       "      <td>201.0</td>\n",
       "      <td>Nonalcoholic beverages (Cafeteria)</td>\n",
       "    </tr>\n",
       "    <tr>\n",
       "      <th>2</th>\n",
       "      <td>202.0</td>\n",
       "      <td>Freshly squeezed juices (Cafeteria)</td>\n",
       "    </tr>\n",
       "    <tr>\n",
       "      <th>3</th>\n",
       "      <td>203.0</td>\n",
       "      <td>Hot drinks (Cafeteria)</td>\n",
       "    </tr>\n",
       "    <tr>\n",
       "      <th>4</th>\n",
       "      <td>204.0</td>\n",
       "      <td>Shakes (Cafeteria)</td>\n",
       "    </tr>\n",
       "  </tbody>\n",
       "</table>\n",
       "</div>"
      ],
      "text/plain": [
       "   categorycode                              engname\n",
       "0         101.0                       Business lunch\n",
       "1         201.0   Nonalcoholic beverages (Cafeteria)\n",
       "2         202.0  Freshly squeezed juices (Cafeteria)\n",
       "3         203.0               Hot drinks (Cafeteria)\n",
       "4         204.0                   Shakes (Cafeteria)"
      ]
     },
     "execution_count": 485,
     "metadata": {},
     "output_type": "execute_result"
    }
   ],
   "source": [
    "                   #getting \"rpa_wgh3\" subCatergory names corresponding  the material_df\n",
    "categorycode_info = weight_3.loc[weight_3['categorycode'].isin(categorycode_list)]\n",
    "categorycode_info.head()"
   ]
  },
  {
   "cell_type": "code",
   "execution_count": 486,
   "metadata": {},
   "outputs": [
    {
     "data": {
      "text/plain": [
       "Index(['rpa_wgh3', 'rpa_wgh3_Eng_name'], dtype='object')"
      ]
     },
     "execution_count": 486,
     "metadata": {},
     "output_type": "execute_result"
    }
   ],
   "source": [
    "categorycode_info = categorycode_info.rename(columns={'engname':'rpa_wgh3_Eng_name'})\n",
    "categorycode_info = categorycode_info.rename(columns={'categorycode':'rpa_wgh3'})\n",
    "categorycode_info.columns"
   ]
  },
  {
   "cell_type": "code",
   "execution_count": 487,
   "metadata": {},
   "outputs": [
    {
     "data": {
      "text/html": [
       "<div>\n",
       "<style scoped>\n",
       "    .dataframe tbody tr th:only-of-type {\n",
       "        vertical-align: middle;\n",
       "    }\n",
       "\n",
       "    .dataframe tbody tr th {\n",
       "        vertical-align: top;\n",
       "    }\n",
       "\n",
       "    .dataframe thead th {\n",
       "        text-align: right;\n",
       "    }\n",
       "</style>\n",
       "<table border=\"1\" class=\"dataframe\">\n",
       "  <thead>\n",
       "    <tr style=\"text-align: right;\">\n",
       "      <th></th>\n",
       "      <th>material</th>\n",
       "      <th>net_weight</th>\n",
       "      <th>rpa_wgh1</th>\n",
       "      <th>rpa_wgh2</th>\n",
       "      <th>rpa_wgh3</th>\n",
       "      <th>rpa_wgh4</th>\n",
       "      <th>unit_of_wt</th>\n",
       "      <th>vendor</th>\n",
       "      <th>rpa_wgh2_Eng_name</th>\n",
       "      <th>rpa_wgh3_Eng_name</th>\n",
       "    </tr>\n",
       "  </thead>\n",
       "  <tbody>\n",
       "    <tr>\n",
       "      <th>0</th>\n",
       "      <td>159121</td>\n",
       "      <td>136.0</td>\n",
       "      <td>FOOD</td>\n",
       "      <td>45.0</td>\n",
       "      <td>4505.0</td>\n",
       "      <td>450503.0</td>\n",
       "      <td>G</td>\n",
       "      <td>104603</td>\n",
       "      <td>Non chocolate Confectionery</td>\n",
       "      <td>Cookies</td>\n",
       "    </tr>\n",
       "    <tr>\n",
       "      <th>1</th>\n",
       "      <td>159468</td>\n",
       "      <td>230.0</td>\n",
       "      <td>FOOD</td>\n",
       "      <td>45.0</td>\n",
       "      <td>4505.0</td>\n",
       "      <td>450502.0</td>\n",
       "      <td>G</td>\n",
       "      <td>102305</td>\n",
       "      <td>Non chocolate Confectionery</td>\n",
       "      <td>Cookies</td>\n",
       "    </tr>\n",
       "    <tr>\n",
       "      <th>2</th>\n",
       "      <td>159469</td>\n",
       "      <td>140.0</td>\n",
       "      <td>FOOD</td>\n",
       "      <td>45.0</td>\n",
       "      <td>4505.0</td>\n",
       "      <td>450502.0</td>\n",
       "      <td>G</td>\n",
       "      <td>100396</td>\n",
       "      <td>Non chocolate Confectionery</td>\n",
       "      <td>Cookies</td>\n",
       "    </tr>\n",
       "    <tr>\n",
       "      <th>3</th>\n",
       "      <td>159470</td>\n",
       "      <td>130.0</td>\n",
       "      <td>FOOD</td>\n",
       "      <td>45.0</td>\n",
       "      <td>4505.0</td>\n",
       "      <td>450503.0</td>\n",
       "      <td>G</td>\n",
       "      <td>102305</td>\n",
       "      <td>Non chocolate Confectionery</td>\n",
       "      <td>Cookies</td>\n",
       "    </tr>\n",
       "    <tr>\n",
       "      <th>4</th>\n",
       "      <td>159471</td>\n",
       "      <td>290.0</td>\n",
       "      <td>FOOD</td>\n",
       "      <td>45.0</td>\n",
       "      <td>4505.0</td>\n",
       "      <td>450501.0</td>\n",
       "      <td>G</td>\n",
       "      <td>100396</td>\n",
       "      <td>Non chocolate Confectionery</td>\n",
       "      <td>Cookies</td>\n",
       "    </tr>\n",
       "    <tr>\n",
       "      <th>...</th>\n",
       "      <td>...</td>\n",
       "      <td>...</td>\n",
       "      <td>...</td>\n",
       "      <td>...</td>\n",
       "      <td>...</td>\n",
       "      <td>...</td>\n",
       "      <td>...</td>\n",
       "      <td>...</td>\n",
       "      <td>...</td>\n",
       "      <td>...</td>\n",
       "    </tr>\n",
       "    <tr>\n",
       "      <th>491520</th>\n",
       "      <td>193490</td>\n",
       "      <td>200.0</td>\n",
       "      <td>FOOD</td>\n",
       "      <td>1.0</td>\n",
       "      <td>101.0</td>\n",
       "      <td>10101.0</td>\n",
       "      <td>G</td>\n",
       "      <td>NaN</td>\n",
       "      <td>Canteen</td>\n",
       "      <td>Business lunch</td>\n",
       "    </tr>\n",
       "    <tr>\n",
       "      <th>491521</th>\n",
       "      <td>193491</td>\n",
       "      <td>500.0</td>\n",
       "      <td>FOOD</td>\n",
       "      <td>1.0</td>\n",
       "      <td>101.0</td>\n",
       "      <td>10101.0</td>\n",
       "      <td>G</td>\n",
       "      <td>NaN</td>\n",
       "      <td>Canteen</td>\n",
       "      <td>Business lunch</td>\n",
       "    </tr>\n",
       "    <tr>\n",
       "      <th>491522</th>\n",
       "      <td>194935</td>\n",
       "      <td>500.0</td>\n",
       "      <td>FOOD</td>\n",
       "      <td>1.0</td>\n",
       "      <td>101.0</td>\n",
       "      <td>10101.0</td>\n",
       "      <td>G</td>\n",
       "      <td>NaN</td>\n",
       "      <td>Canteen</td>\n",
       "      <td>Business lunch</td>\n",
       "    </tr>\n",
       "    <tr>\n",
       "      <th>491523</th>\n",
       "      <td>194937</td>\n",
       "      <td>500.0</td>\n",
       "      <td>FOOD</td>\n",
       "      <td>1.0</td>\n",
       "      <td>101.0</td>\n",
       "      <td>10101.0</td>\n",
       "      <td>G</td>\n",
       "      <td>NaN</td>\n",
       "      <td>Canteen</td>\n",
       "      <td>Business lunch</td>\n",
       "    </tr>\n",
       "    <tr>\n",
       "      <th>491524</th>\n",
       "      <td>194948</td>\n",
       "      <td>500.0</td>\n",
       "      <td>FOOD</td>\n",
       "      <td>1.0</td>\n",
       "      <td>101.0</td>\n",
       "      <td>10101.0</td>\n",
       "      <td>G</td>\n",
       "      <td>NaN</td>\n",
       "      <td>Canteen</td>\n",
       "      <td>Business lunch</td>\n",
       "    </tr>\n",
       "  </tbody>\n",
       "</table>\n",
       "<p>491525 rows × 10 columns</p>\n",
       "</div>"
      ],
      "text/plain": [
       "       material  net_weight rpa_wgh1  rpa_wgh2  rpa_wgh3  rpa_wgh4 unit_of_wt  \\\n",
       "0        159121       136.0     FOOD      45.0    4505.0  450503.0          G   \n",
       "1        159468       230.0     FOOD      45.0    4505.0  450502.0          G   \n",
       "2        159469       140.0     FOOD      45.0    4505.0  450502.0          G   \n",
       "3        159470       130.0     FOOD      45.0    4505.0  450503.0          G   \n",
       "4        159471       290.0     FOOD      45.0    4505.0  450501.0          G   \n",
       "...         ...         ...      ...       ...       ...       ...        ...   \n",
       "491520   193490       200.0     FOOD       1.0     101.0   10101.0          G   \n",
       "491521   193491       500.0     FOOD       1.0     101.0   10101.0          G   \n",
       "491522   194935       500.0     FOOD       1.0     101.0   10101.0          G   \n",
       "491523   194937       500.0     FOOD       1.0     101.0   10101.0          G   \n",
       "491524   194948       500.0     FOOD       1.0     101.0   10101.0          G   \n",
       "\n",
       "        vendor            rpa_wgh2_Eng_name rpa_wgh3_Eng_name  \n",
       "0       104603  Non chocolate Confectionery           Cookies  \n",
       "1       102305  Non chocolate Confectionery           Cookies  \n",
       "2       100396  Non chocolate Confectionery           Cookies  \n",
       "3       102305  Non chocolate Confectionery           Cookies  \n",
       "4       100396  Non chocolate Confectionery           Cookies  \n",
       "...        ...                          ...               ...  \n",
       "491520     NaN                      Canteen    Business lunch  \n",
       "491521     NaN                      Canteen    Business lunch  \n",
       "491522     NaN                      Canteen    Business lunch  \n",
       "491523     NaN                      Canteen    Business lunch  \n",
       "491524     NaN                      Canteen    Business lunch  \n",
       "\n",
       "[491525 rows x 10 columns]"
      ]
     },
     "execution_count": 487,
     "metadata": {},
     "output_type": "execute_result"
    }
   ],
   "source": [
    "                #merging 'rpa_wgh3_Eng_name' with 'material_df'\n",
    "item_data = pd.merge(item_dff, categorycode_info, on='rpa_wgh3')\n",
    "item_data"
   ]
  },
  {
   "cell_type": "code",
   "execution_count": 491,
   "metadata": {},
   "outputs": [
    {
     "data": {
      "text/plain": [
       "Index(['material', 'net_weight', 'Class', 'rpa_wgh2', 'rpa_wgh3', 'rpa_wgh4',\n",
       "       'unit_of_wt', 'vendor', 'rpa_wgh2_SubClass', 'rpa_wgh3_SubClass'],\n",
       "      dtype='object')"
      ]
     },
     "execution_count": 491,
     "metadata": {},
     "output_type": "execute_result"
    }
   ],
   "source": [
    "item_data = item_data.rename(columns={'rpa_wgh1':'Class',\n",
    "                                      'rpa_wgh2_Eng_name':'rpa_wgh2_SubClass',\n",
    "                                      'rpa_wgh3_Eng_name':'rpa_wgh3_SubClass'})\n",
    "\n",
    "item_data.columns"
   ]
  },
  {
   "cell_type": "code",
   "execution_count": 506,
   "metadata": {
    "scrolled": true
   },
   "outputs": [
    {
     "data": {
      "text/html": [
       "<div>\n",
       "<style scoped>\n",
       "    .dataframe tbody tr th:only-of-type {\n",
       "        vertical-align: middle;\n",
       "    }\n",
       "\n",
       "    .dataframe tbody tr th {\n",
       "        vertical-align: top;\n",
       "    }\n",
       "\n",
       "    .dataframe thead th {\n",
       "        text-align: right;\n",
       "    }\n",
       "</style>\n",
       "<table border=\"1\" class=\"dataframe\">\n",
       "  <thead>\n",
       "    <tr style=\"text-align: right;\">\n",
       "      <th></th>\n",
       "      <th>CardHolder</th>\n",
       "      <th>SalesCount</th>\n",
       "      <th>ItemPrice</th>\n",
       "      <th>Material</th>\n",
       "      <th>SubCategorycode</th>\n",
       "      <th>engname</th>\n",
       "      <th>Class</th>\n",
       "    </tr>\n",
       "  </thead>\n",
       "  <tbody>\n",
       "    <tr>\n",
       "      <th>0</th>\n",
       "      <td>10008254</td>\n",
       "      <td>3.0</td>\n",
       "      <td>20.97</td>\n",
       "      <td>109900</td>\n",
       "      <td>401201</td>\n",
       "      <td>Lenta bags</td>\n",
       "      <td>NON FOOD</td>\n",
       "    </tr>\n",
       "    <tr>\n",
       "      <th>1</th>\n",
       "      <td>10011587</td>\n",
       "      <td>1.0</td>\n",
       "      <td>3.79</td>\n",
       "      <td>281461</td>\n",
       "      <td>401201</td>\n",
       "      <td>Lenta bags</td>\n",
       "      <td>NON FOOD</td>\n",
       "    </tr>\n",
       "    <tr>\n",
       "      <th>2</th>\n",
       "      <td>10011935</td>\n",
       "      <td>1.0</td>\n",
       "      <td>6.49</td>\n",
       "      <td>109900</td>\n",
       "      <td>401201</td>\n",
       "      <td>Lenta bags</td>\n",
       "      <td>NON FOOD</td>\n",
       "    </tr>\n",
       "    <tr>\n",
       "      <th>3</th>\n",
       "      <td>10011935</td>\n",
       "      <td>1.0</td>\n",
       "      <td>3.49</td>\n",
       "      <td>281461</td>\n",
       "      <td>401201</td>\n",
       "      <td>Lenta bags</td>\n",
       "      <td>NON FOOD</td>\n",
       "    </tr>\n",
       "    <tr>\n",
       "      <th>4</th>\n",
       "      <td>10036221</td>\n",
       "      <td>2.0</td>\n",
       "      <td>6.38</td>\n",
       "      <td>281461</td>\n",
       "      <td>401201</td>\n",
       "      <td>Lenta bags</td>\n",
       "      <td>NON FOOD</td>\n",
       "    </tr>\n",
       "  </tbody>\n",
       "</table>\n",
       "</div>"
      ],
      "text/plain": [
       "   CardHolder  SalesCount  ItemPrice  Material  SubCategorycode     engname  \\\n",
       "0    10008254         3.0      20.97    109900           401201  Lenta bags   \n",
       "1    10011587         1.0       3.79    281461           401201  Lenta bags   \n",
       "2    10011935         1.0       6.49    109900           401201  Lenta bags   \n",
       "3    10011935         1.0       3.49    281461           401201  Lenta bags   \n",
       "4    10036221         2.0       6.38    281461           401201  Lenta bags   \n",
       "\n",
       "      Class  \n",
       "0  NON FOOD  \n",
       "1  NON FOOD  \n",
       "2  NON FOOD  \n",
       "3  NON FOOD  \n",
       "4  NON FOOD  "
      ]
     },
     "execution_count": 506,
     "metadata": {},
     "output_type": "execute_result"
    }
   ],
   "source": [
    "trnx_dff.head()"
   ]
  },
  {
   "cell_type": "code",
   "execution_count": null,
   "metadata": {},
   "outputs": [],
   "source": []
  },
  {
   "cell_type": "code",
   "execution_count": 503,
   "metadata": {},
   "outputs": [
    {
     "data": {
      "text/plain": [
       "65554"
      ]
     },
     "execution_count": 503,
     "metadata": {},
     "output_type": "execute_result"
    }
   ],
   "source": [
    "                #merging the \"transaction_df\" and the \"material_df\"\n",
    "item_list = list(trnx_dff['Material'].unique())\n",
    "len(item_list)"
   ]
  },
  {
   "cell_type": "code",
   "execution_count": 508,
   "metadata": {},
   "outputs": [
    {
     "data": {
      "text/html": [
       "<div>\n",
       "<style scoped>\n",
       "    .dataframe tbody tr th:only-of-type {\n",
       "        vertical-align: middle;\n",
       "    }\n",
       "\n",
       "    .dataframe tbody tr th {\n",
       "        vertical-align: top;\n",
       "    }\n",
       "\n",
       "    .dataframe thead th {\n",
       "        text-align: right;\n",
       "    }\n",
       "</style>\n",
       "<table border=\"1\" class=\"dataframe\">\n",
       "  <thead>\n",
       "    <tr style=\"text-align: right;\">\n",
       "      <th></th>\n",
       "      <th>material</th>\n",
       "      <th>net_weight</th>\n",
       "      <th>rpa_wgh2</th>\n",
       "      <th>rpa_wgh3</th>\n",
       "      <th>vendor</th>\n",
       "      <th>rpa_wgh2_SubClass</th>\n",
       "      <th>rpa_wgh3_SubClass</th>\n",
       "    </tr>\n",
       "  </thead>\n",
       "  <tbody>\n",
       "    <tr>\n",
       "      <th>8</th>\n",
       "      <td>160748</td>\n",
       "      <td>400.0</td>\n",
       "      <td>45.0</td>\n",
       "      <td>4505.0</td>\n",
       "      <td>113012</td>\n",
       "      <td>Non chocolate Confectionery</td>\n",
       "      <td>Cookies</td>\n",
       "    </tr>\n",
       "    <tr>\n",
       "      <th>10</th>\n",
       "      <td>454820</td>\n",
       "      <td>350.0</td>\n",
       "      <td>45.0</td>\n",
       "      <td>4505.0</td>\n",
       "      <td>104823</td>\n",
       "      <td>Non chocolate Confectionery</td>\n",
       "      <td>Cookies</td>\n",
       "    </tr>\n",
       "    <tr>\n",
       "      <th>18</th>\n",
       "      <td>115880</td>\n",
       "      <td>88.0</td>\n",
       "      <td>45.0</td>\n",
       "      <td>4505.0</td>\n",
       "      <td>104617</td>\n",
       "      <td>Non chocolate Confectionery</td>\n",
       "      <td>Cookies</td>\n",
       "    </tr>\n",
       "    <tr>\n",
       "      <th>21</th>\n",
       "      <td>498592</td>\n",
       "      <td>300.0</td>\n",
       "      <td>45.0</td>\n",
       "      <td>4505.0</td>\n",
       "      <td>111729</td>\n",
       "      <td>Non chocolate Confectionery</td>\n",
       "      <td>Cookies</td>\n",
       "    </tr>\n",
       "    <tr>\n",
       "      <th>22</th>\n",
       "      <td>499133</td>\n",
       "      <td>520.0</td>\n",
       "      <td>45.0</td>\n",
       "      <td>4505.0</td>\n",
       "      <td>200824</td>\n",
       "      <td>Non chocolate Confectionery</td>\n",
       "      <td>Cookies</td>\n",
       "    </tr>\n",
       "  </tbody>\n",
       "</table>\n",
       "</div>"
      ],
      "text/plain": [
       "   material  net_weight  rpa_wgh2  rpa_wgh3  vendor  \\\n",
       "8    160748       400.0      45.0    4505.0  113012   \n",
       "10   454820       350.0      45.0    4505.0  104823   \n",
       "18   115880        88.0      45.0    4505.0  104617   \n",
       "21   498592       300.0      45.0    4505.0  111729   \n",
       "22   499133       520.0      45.0    4505.0  200824   \n",
       "\n",
       "              rpa_wgh2_SubClass rpa_wgh3_SubClass  \n",
       "8   Non chocolate Confectionery           Cookies  \n",
       "10  Non chocolate Confectionery           Cookies  \n",
       "18  Non chocolate Confectionery           Cookies  \n",
       "21  Non chocolate Confectionery           Cookies  \n",
       "22  Non chocolate Confectionery           Cookies  "
      ]
     },
     "execution_count": 508,
     "metadata": {},
     "output_type": "execute_result"
    }
   ],
   "source": [
    "#material_df[material_df['rpa_wgh2'] == None]\n",
    "item_df= item_data.loc[item_data['material'].isin(item_list)]\n",
    "item_df = item_df.drop(['Class','unit_of_wt','rpa_wgh4'],axis=1)\n",
    "item_df.head()"
   ]
  },
  {
   "cell_type": "code",
   "execution_count": null,
   "metadata": {},
   "outputs": [],
   "source": []
  },
  {
   "cell_type": "code",
   "execution_count": 509,
   "metadata": {},
   "outputs": [
    {
     "data": {
      "text/plain": [
       "Index(['Material', 'net_weight', 'rpa_wgh2', 'rpa_wgh3', 'vendor',\n",
       "       'rpa_wgh2_SubClass', 'rpa_wgh3_SubClass'],\n",
       "      dtype='object')"
      ]
     },
     "execution_count": 509,
     "metadata": {},
     "output_type": "execute_result"
    }
   ],
   "source": [
    "item_df = item_df.rename(columns={'material':'Material'})\n",
    "item_df.columns"
   ]
  },
  {
   "cell_type": "code",
   "execution_count": 510,
   "metadata": {
    "scrolled": true
   },
   "outputs": [
    {
     "data": {
      "text/html": [
       "<div>\n",
       "<style scoped>\n",
       "    .dataframe tbody tr th:only-of-type {\n",
       "        vertical-align: middle;\n",
       "    }\n",
       "\n",
       "    .dataframe tbody tr th {\n",
       "        vertical-align: top;\n",
       "    }\n",
       "\n",
       "    .dataframe thead th {\n",
       "        text-align: right;\n",
       "    }\n",
       "</style>\n",
       "<table border=\"1\" class=\"dataframe\">\n",
       "  <thead>\n",
       "    <tr style=\"text-align: right;\">\n",
       "      <th></th>\n",
       "      <th>CardHolder</th>\n",
       "      <th>SalesCount</th>\n",
       "      <th>ItemPrice</th>\n",
       "      <th>Material</th>\n",
       "      <th>SubCategorycode</th>\n",
       "      <th>engname</th>\n",
       "      <th>Class</th>\n",
       "      <th>net_weight</th>\n",
       "      <th>rpa_wgh2</th>\n",
       "      <th>rpa_wgh3</th>\n",
       "      <th>vendor</th>\n",
       "      <th>rpa_wgh2_SubClass</th>\n",
       "      <th>rpa_wgh3_SubClass</th>\n",
       "    </tr>\n",
       "  </thead>\n",
       "  <tbody>\n",
       "    <tr>\n",
       "      <th>0</th>\n",
       "      <td>10008254</td>\n",
       "      <td>3.0</td>\n",
       "      <td>20.97</td>\n",
       "      <td>109900</td>\n",
       "      <td>401201</td>\n",
       "      <td>Lenta bags</td>\n",
       "      <td>NON FOOD</td>\n",
       "      <td>23.0</td>\n",
       "      <td>40.0</td>\n",
       "      <td>4012.0</td>\n",
       "      <td>100260</td>\n",
       "      <td>\"Household cleaning products \"</td>\n",
       "      <td>Packaging and containers</td>\n",
       "    </tr>\n",
       "    <tr>\n",
       "      <th>1</th>\n",
       "      <td>10011935</td>\n",
       "      <td>1.0</td>\n",
       "      <td>6.49</td>\n",
       "      <td>109900</td>\n",
       "      <td>401201</td>\n",
       "      <td>Lenta bags</td>\n",
       "      <td>NON FOOD</td>\n",
       "      <td>23.0</td>\n",
       "      <td>40.0</td>\n",
       "      <td>4012.0</td>\n",
       "      <td>100260</td>\n",
       "      <td>\"Household cleaning products \"</td>\n",
       "      <td>Packaging and containers</td>\n",
       "    </tr>\n",
       "    <tr>\n",
       "      <th>2</th>\n",
       "      <td>10036221</td>\n",
       "      <td>3.0</td>\n",
       "      <td>19.47</td>\n",
       "      <td>109900</td>\n",
       "      <td>401201</td>\n",
       "      <td>Lenta bags</td>\n",
       "      <td>NON FOOD</td>\n",
       "      <td>23.0</td>\n",
       "      <td>40.0</td>\n",
       "      <td>4012.0</td>\n",
       "      <td>100260</td>\n",
       "      <td>\"Household cleaning products \"</td>\n",
       "      <td>Packaging and containers</td>\n",
       "    </tr>\n",
       "    <tr>\n",
       "      <th>3</th>\n",
       "      <td>10036221</td>\n",
       "      <td>2.0</td>\n",
       "      <td>12.98</td>\n",
       "      <td>109900</td>\n",
       "      <td>401201</td>\n",
       "      <td>Lenta bags</td>\n",
       "      <td>NON FOOD</td>\n",
       "      <td>23.0</td>\n",
       "      <td>40.0</td>\n",
       "      <td>4012.0</td>\n",
       "      <td>100260</td>\n",
       "      <td>\"Household cleaning products \"</td>\n",
       "      <td>Packaging and containers</td>\n",
       "    </tr>\n",
       "    <tr>\n",
       "      <th>4</th>\n",
       "      <td>10036221</td>\n",
       "      <td>4.0</td>\n",
       "      <td>25.96</td>\n",
       "      <td>109900</td>\n",
       "      <td>401201</td>\n",
       "      <td>Lenta bags</td>\n",
       "      <td>NON FOOD</td>\n",
       "      <td>23.0</td>\n",
       "      <td>40.0</td>\n",
       "      <td>4012.0</td>\n",
       "      <td>100260</td>\n",
       "      <td>\"Household cleaning products \"</td>\n",
       "      <td>Packaging and containers</td>\n",
       "    </tr>\n",
       "    <tr>\n",
       "      <th>...</th>\n",
       "      <td>...</td>\n",
       "      <td>...</td>\n",
       "      <td>...</td>\n",
       "      <td>...</td>\n",
       "      <td>...</td>\n",
       "      <td>...</td>\n",
       "      <td>...</td>\n",
       "      <td>...</td>\n",
       "      <td>...</td>\n",
       "      <td>...</td>\n",
       "      <td>...</td>\n",
       "      <td>...</td>\n",
       "      <td>...</td>\n",
       "    </tr>\n",
       "    <tr>\n",
       "      <th>27007480</th>\n",
       "      <td>82959271</td>\n",
       "      <td>1.0</td>\n",
       "      <td>309.56</td>\n",
       "      <td>482900</td>\n",
       "      <td>460102</td>\n",
       "      <td>Dry food for small breeds (PRO)</td>\n",
       "      <td>FOOD</td>\n",
       "      <td>1000.0</td>\n",
       "      <td>42.0</td>\n",
       "      <td>4201.0</td>\n",
       "      <td>0000111831</td>\n",
       "      <td>Pet goods</td>\n",
       "      <td>Goods for dogs</td>\n",
       "    </tr>\n",
       "    <tr>\n",
       "      <th>27007481</th>\n",
       "      <td>82959271</td>\n",
       "      <td>1.0</td>\n",
       "      <td>309.99</td>\n",
       "      <td>482900</td>\n",
       "      <td>460102</td>\n",
       "      <td>Dry food for small breeds (PRO)</td>\n",
       "      <td>FOOD</td>\n",
       "      <td>1000.0</td>\n",
       "      <td>42.0</td>\n",
       "      <td>4201.0</td>\n",
       "      <td>0000111831</td>\n",
       "      <td>Pet goods</td>\n",
       "      <td>Goods for dogs</td>\n",
       "    </tr>\n",
       "    <tr>\n",
       "      <th>27007482</th>\n",
       "      <td>82959271</td>\n",
       "      <td>1.0</td>\n",
       "      <td>309.99</td>\n",
       "      <td>482900</td>\n",
       "      <td>460102</td>\n",
       "      <td>Dry food for small breeds (PRO)</td>\n",
       "      <td>FOOD</td>\n",
       "      <td>1000.0</td>\n",
       "      <td>42.0</td>\n",
       "      <td>4201.0</td>\n",
       "      <td>0000111831</td>\n",
       "      <td>Pet goods</td>\n",
       "      <td>Goods for dogs</td>\n",
       "    </tr>\n",
       "    <tr>\n",
       "      <th>27007483</th>\n",
       "      <td>82959271</td>\n",
       "      <td>1.0</td>\n",
       "      <td>412.63</td>\n",
       "      <td>482900</td>\n",
       "      <td>460102</td>\n",
       "      <td>Dry food for small breeds (PRO)</td>\n",
       "      <td>FOOD</td>\n",
       "      <td>1000.0</td>\n",
       "      <td>42.0</td>\n",
       "      <td>4201.0</td>\n",
       "      <td>0000111831</td>\n",
       "      <td>Pet goods</td>\n",
       "      <td>Goods for dogs</td>\n",
       "    </tr>\n",
       "    <tr>\n",
       "      <th>27007484</th>\n",
       "      <td>82959271</td>\n",
       "      <td>1.0</td>\n",
       "      <td>412.00</td>\n",
       "      <td>482900</td>\n",
       "      <td>460102</td>\n",
       "      <td>Dry food for small breeds (PRO)</td>\n",
       "      <td>FOOD</td>\n",
       "      <td>1000.0</td>\n",
       "      <td>42.0</td>\n",
       "      <td>4201.0</td>\n",
       "      <td>0000111831</td>\n",
       "      <td>Pet goods</td>\n",
       "      <td>Goods for dogs</td>\n",
       "    </tr>\n",
       "  </tbody>\n",
       "</table>\n",
       "<p>27007485 rows × 13 columns</p>\n",
       "</div>"
      ],
      "text/plain": [
       "          CardHolder  SalesCount  ItemPrice Material  SubCategorycode  \\\n",
       "0           10008254         3.0      20.97   109900           401201   \n",
       "1           10011935         1.0       6.49   109900           401201   \n",
       "2           10036221         3.0      19.47   109900           401201   \n",
       "3           10036221         2.0      12.98   109900           401201   \n",
       "4           10036221         4.0      25.96   109900           401201   \n",
       "...              ...         ...        ...      ...              ...   \n",
       "27007480    82959271         1.0     309.56   482900           460102   \n",
       "27007481    82959271         1.0     309.99   482900           460102   \n",
       "27007482    82959271         1.0     309.99   482900           460102   \n",
       "27007483    82959271         1.0     412.63   482900           460102   \n",
       "27007484    82959271         1.0     412.00   482900           460102   \n",
       "\n",
       "                                  engname     Class  net_weight  rpa_wgh2  \\\n",
       "0                              Lenta bags  NON FOOD        23.0      40.0   \n",
       "1                              Lenta bags  NON FOOD        23.0      40.0   \n",
       "2                              Lenta bags  NON FOOD        23.0      40.0   \n",
       "3                              Lenta bags  NON FOOD        23.0      40.0   \n",
       "4                              Lenta bags  NON FOOD        23.0      40.0   \n",
       "...                                   ...       ...         ...       ...   \n",
       "27007480  Dry food for small breeds (PRO)      FOOD      1000.0      42.0   \n",
       "27007481  Dry food for small breeds (PRO)      FOOD      1000.0      42.0   \n",
       "27007482  Dry food for small breeds (PRO)      FOOD      1000.0      42.0   \n",
       "27007483  Dry food for small breeds (PRO)      FOOD      1000.0      42.0   \n",
       "27007484  Dry food for small breeds (PRO)      FOOD      1000.0      42.0   \n",
       "\n",
       "          rpa_wgh3      vendor               rpa_wgh2_SubClass  \\\n",
       "0           4012.0      100260  \"Household cleaning products \"   \n",
       "1           4012.0      100260  \"Household cleaning products \"   \n",
       "2           4012.0      100260  \"Household cleaning products \"   \n",
       "3           4012.0      100260  \"Household cleaning products \"   \n",
       "4           4012.0      100260  \"Household cleaning products \"   \n",
       "...            ...         ...                             ...   \n",
       "27007480    4201.0  0000111831                       Pet goods   \n",
       "27007481    4201.0  0000111831                       Pet goods   \n",
       "27007482    4201.0  0000111831                       Pet goods   \n",
       "27007483    4201.0  0000111831                       Pet goods   \n",
       "27007484    4201.0  0000111831                       Pet goods   \n",
       "\n",
       "                 rpa_wgh3_SubClass  \n",
       "0         Packaging and containers  \n",
       "1         Packaging and containers  \n",
       "2         Packaging and containers  \n",
       "3         Packaging and containers  \n",
       "4         Packaging and containers  \n",
       "...                            ...  \n",
       "27007480            Goods for dogs  \n",
       "27007481            Goods for dogs  \n",
       "27007482            Goods for dogs  \n",
       "27007483            Goods for dogs  \n",
       "27007484            Goods for dogs  \n",
       "\n",
       "[27007485 rows x 13 columns]"
      ]
     },
     "execution_count": 510,
     "metadata": {},
     "output_type": "execute_result"
    }
   ],
   "source": [
    "updated_data = pd.merge(trnx_dff, item_df, on='Material')\n",
    "updated_data.head()"
   ]
  },
  {
   "cell_type": "code",
   "execution_count": 720,
   "metadata": {},
   "outputs": [
    {
     "data": {
      "text/plain": [
       "Index(['CardHolder', 'Material', 'SalesCount', 'ItemPrice', 'net_weight',\n",
       "       'SubCategorycode', 'engname', 'Class', 'rpa_wgh2', 'rpa_wgh2_SubClass',\n",
       "       'rpa_wgh3', 'rpa_wgh3_SubClass', 'vendor'],\n",
       "      dtype='object')"
      ]
     },
     "execution_count": 720,
     "metadata": {},
     "output_type": "execute_result"
    }
   ],
   "source": [
    "updated_data.columns"
   ]
  },
  {
   "cell_type": "code",
   "execution_count": 514,
   "metadata": {},
   "outputs": [
    {
     "data": {
      "text/html": [
       "<div>\n",
       "<style scoped>\n",
       "    .dataframe tbody tr th:only-of-type {\n",
       "        vertical-align: middle;\n",
       "    }\n",
       "\n",
       "    .dataframe tbody tr th {\n",
       "        vertical-align: top;\n",
       "    }\n",
       "\n",
       "    .dataframe thead th {\n",
       "        text-align: right;\n",
       "    }\n",
       "</style>\n",
       "<table border=\"1\" class=\"dataframe\">\n",
       "  <thead>\n",
       "    <tr style=\"text-align: right;\">\n",
       "      <th></th>\n",
       "      <th>CardHolder</th>\n",
       "      <th>Material</th>\n",
       "      <th>SalesCount</th>\n",
       "      <th>ItemPrice</th>\n",
       "      <th>net_weight</th>\n",
       "      <th>SubCategorycode</th>\n",
       "      <th>engname</th>\n",
       "      <th>Class</th>\n",
       "      <th>rpa_wgh2</th>\n",
       "      <th>rpa_wgh2_SubClass</th>\n",
       "      <th>rpa_wgh3</th>\n",
       "      <th>rpa_wgh3_SubClass</th>\n",
       "      <th>vendor</th>\n",
       "    </tr>\n",
       "  </thead>\n",
       "  <tbody>\n",
       "    <tr>\n",
       "      <th>0</th>\n",
       "      <td>10008254</td>\n",
       "      <td>109900</td>\n",
       "      <td>3.0</td>\n",
       "      <td>20.97</td>\n",
       "      <td>23.0</td>\n",
       "      <td>401201</td>\n",
       "      <td>Lenta bags</td>\n",
       "      <td>NON FOOD</td>\n",
       "      <td>40.0</td>\n",
       "      <td>\"Household cleaning products \"</td>\n",
       "      <td>4012.0</td>\n",
       "      <td>Packaging and containers</td>\n",
       "      <td>100260</td>\n",
       "    </tr>\n",
       "    <tr>\n",
       "      <th>1</th>\n",
       "      <td>10011935</td>\n",
       "      <td>109900</td>\n",
       "      <td>1.0</td>\n",
       "      <td>6.49</td>\n",
       "      <td>23.0</td>\n",
       "      <td>401201</td>\n",
       "      <td>Lenta bags</td>\n",
       "      <td>NON FOOD</td>\n",
       "      <td>40.0</td>\n",
       "      <td>\"Household cleaning products \"</td>\n",
       "      <td>4012.0</td>\n",
       "      <td>Packaging and containers</td>\n",
       "      <td>100260</td>\n",
       "    </tr>\n",
       "    <tr>\n",
       "      <th>2</th>\n",
       "      <td>10036221</td>\n",
       "      <td>109900</td>\n",
       "      <td>3.0</td>\n",
       "      <td>19.47</td>\n",
       "      <td>23.0</td>\n",
       "      <td>401201</td>\n",
       "      <td>Lenta bags</td>\n",
       "      <td>NON FOOD</td>\n",
       "      <td>40.0</td>\n",
       "      <td>\"Household cleaning products \"</td>\n",
       "      <td>4012.0</td>\n",
       "      <td>Packaging and containers</td>\n",
       "      <td>100260</td>\n",
       "    </tr>\n",
       "    <tr>\n",
       "      <th>3</th>\n",
       "      <td>10036221</td>\n",
       "      <td>109900</td>\n",
       "      <td>2.0</td>\n",
       "      <td>12.98</td>\n",
       "      <td>23.0</td>\n",
       "      <td>401201</td>\n",
       "      <td>Lenta bags</td>\n",
       "      <td>NON FOOD</td>\n",
       "      <td>40.0</td>\n",
       "      <td>\"Household cleaning products \"</td>\n",
       "      <td>4012.0</td>\n",
       "      <td>Packaging and containers</td>\n",
       "      <td>100260</td>\n",
       "    </tr>\n",
       "    <tr>\n",
       "      <th>4</th>\n",
       "      <td>10036221</td>\n",
       "      <td>109900</td>\n",
       "      <td>4.0</td>\n",
       "      <td>25.96</td>\n",
       "      <td>23.0</td>\n",
       "      <td>401201</td>\n",
       "      <td>Lenta bags</td>\n",
       "      <td>NON FOOD</td>\n",
       "      <td>40.0</td>\n",
       "      <td>\"Household cleaning products \"</td>\n",
       "      <td>4012.0</td>\n",
       "      <td>Packaging and containers</td>\n",
       "      <td>100260</td>\n",
       "    </tr>\n",
       "  </tbody>\n",
       "</table>\n",
       "</div>"
      ],
      "text/plain": [
       "   CardHolder Material  SalesCount  ItemPrice  net_weight  SubCategorycode  \\\n",
       "0    10008254   109900         3.0      20.97        23.0           401201   \n",
       "1    10011935   109900         1.0       6.49        23.0           401201   \n",
       "2    10036221   109900         3.0      19.47        23.0           401201   \n",
       "3    10036221   109900         2.0      12.98        23.0           401201   \n",
       "4    10036221   109900         4.0      25.96        23.0           401201   \n",
       "\n",
       "      engname     Class  rpa_wgh2               rpa_wgh2_SubClass  rpa_wgh3  \\\n",
       "0  Lenta bags  NON FOOD      40.0  \"Household cleaning products \"    4012.0   \n",
       "1  Lenta bags  NON FOOD      40.0  \"Household cleaning products \"    4012.0   \n",
       "2  Lenta bags  NON FOOD      40.0  \"Household cleaning products \"    4012.0   \n",
       "3  Lenta bags  NON FOOD      40.0  \"Household cleaning products \"    4012.0   \n",
       "4  Lenta bags  NON FOOD      40.0  \"Household cleaning products \"    4012.0   \n",
       "\n",
       "          rpa_wgh3_SubClass  vendor  \n",
       "0  Packaging and containers  100260  \n",
       "1  Packaging and containers  100260  \n",
       "2  Packaging and containers  100260  \n",
       "3  Packaging and containers  100260  \n",
       "4  Packaging and containers  100260  "
      ]
     },
     "execution_count": 514,
     "metadata": {},
     "output_type": "execute_result"
    }
   ],
   "source": [
    "updated_data = updated_data[['CardHolder','Material','SalesCount', 'ItemPrice','net_weight', \n",
    "                              'SubCategorycode','engname', 'Class', 'rpa_wgh2','rpa_wgh2_SubClass',\n",
    "                              'rpa_wgh3','rpa_wgh3_SubClass','vendor' ]]\n",
    "                            \n",
    "updated_data.head()"
   ]
  },
  {
   "cell_type": "code",
   "execution_count": 721,
   "metadata": {},
   "outputs": [
    {
     "name": "stdout",
     "output_type": "stream",
     "text": [
      "The Table below shows the Data Information of each column \n"
     ]
    },
    {
     "data": {
      "text/html": [
       "<div>\n",
       "<style scoped>\n",
       "    .dataframe tbody tr th:only-of-type {\n",
       "        vertical-align: middle;\n",
       "    }\n",
       "\n",
       "    .dataframe tbody tr th {\n",
       "        vertical-align: top;\n",
       "    }\n",
       "\n",
       "    .dataframe thead th {\n",
       "        text-align: right;\n",
       "    }\n",
       "</style>\n",
       "<table border=\"1\" class=\"dataframe\">\n",
       "  <thead>\n",
       "    <tr style=\"text-align: right;\">\n",
       "      <th></th>\n",
       "      <th>Datatype</th>\n",
       "      <th>Missing Val</th>\n",
       "      <th>% Missing val</th>\n",
       "      <th>Num of Zeros</th>\n",
       "      <th>% Num of Zeros</th>\n",
       "      <th>nUnique Values</th>\n",
       "    </tr>\n",
       "  </thead>\n",
       "  <tbody>\n",
       "    <tr>\n",
       "      <th>CardHolder</th>\n",
       "      <td>int64</td>\n",
       "      <td>0</td>\n",
       "      <td>0.00</td>\n",
       "      <td>0</td>\n",
       "      <td>0.0</td>\n",
       "      <td>86520</td>\n",
       "    </tr>\n",
       "    <tr>\n",
       "      <th>Material</th>\n",
       "      <td>object</td>\n",
       "      <td>0</td>\n",
       "      <td>0.00</td>\n",
       "      <td>0</td>\n",
       "      <td>0.0</td>\n",
       "      <td>58326</td>\n",
       "    </tr>\n",
       "    <tr>\n",
       "      <th>SalesCount</th>\n",
       "      <td>float64</td>\n",
       "      <td>0</td>\n",
       "      <td>0.00</td>\n",
       "      <td>0</td>\n",
       "      <td>0.0</td>\n",
       "      <td>7371</td>\n",
       "    </tr>\n",
       "    <tr>\n",
       "      <th>ItemPrice</th>\n",
       "      <td>float64</td>\n",
       "      <td>0</td>\n",
       "      <td>0.00</td>\n",
       "      <td>0</td>\n",
       "      <td>0.0</td>\n",
       "      <td>162996</td>\n",
       "    </tr>\n",
       "    <tr>\n",
       "      <th>net_weight</th>\n",
       "      <td>float64</td>\n",
       "      <td>0</td>\n",
       "      <td>0.00</td>\n",
       "      <td>351299</td>\n",
       "      <td>1.3</td>\n",
       "      <td>3631</td>\n",
       "    </tr>\n",
       "    <tr>\n",
       "      <th>SubCategorycode</th>\n",
       "      <td>int64</td>\n",
       "      <td>0</td>\n",
       "      <td>0.00</td>\n",
       "      <td>0</td>\n",
       "      <td>0.0</td>\n",
       "      <td>1860</td>\n",
       "    </tr>\n",
       "    <tr>\n",
       "      <th>engname</th>\n",
       "      <td>object</td>\n",
       "      <td>0</td>\n",
       "      <td>0.00</td>\n",
       "      <td>0</td>\n",
       "      <td>0.0</td>\n",
       "      <td>1850</td>\n",
       "    </tr>\n",
       "    <tr>\n",
       "      <th>Class</th>\n",
       "      <td>object</td>\n",
       "      <td>2990</td>\n",
       "      <td>0.01</td>\n",
       "      <td>0</td>\n",
       "      <td>0.0</td>\n",
       "      <td>3</td>\n",
       "    </tr>\n",
       "    <tr>\n",
       "      <th>rpa_wgh2</th>\n",
       "      <td>float64</td>\n",
       "      <td>0</td>\n",
       "      <td>0.00</td>\n",
       "      <td>0</td>\n",
       "      <td>0.0</td>\n",
       "      <td>62</td>\n",
       "    </tr>\n",
       "    <tr>\n",
       "      <th>rpa_wgh2_SubClass</th>\n",
       "      <td>object</td>\n",
       "      <td>0</td>\n",
       "      <td>0.00</td>\n",
       "      <td>0</td>\n",
       "      <td>0.0</td>\n",
       "      <td>62</td>\n",
       "    </tr>\n",
       "    <tr>\n",
       "      <th>rpa_wgh3</th>\n",
       "      <td>float64</td>\n",
       "      <td>0</td>\n",
       "      <td>0.00</td>\n",
       "      <td>0</td>\n",
       "      <td>0.0</td>\n",
       "      <td>385</td>\n",
       "    </tr>\n",
       "    <tr>\n",
       "      <th>rpa_wgh3_SubClass</th>\n",
       "      <td>object</td>\n",
       "      <td>0</td>\n",
       "      <td>0.00</td>\n",
       "      <td>0</td>\n",
       "      <td>0.0</td>\n",
       "      <td>385</td>\n",
       "    </tr>\n",
       "    <tr>\n",
       "      <th>vendor</th>\n",
       "      <td>object</td>\n",
       "      <td>1971256</td>\n",
       "      <td>7.30</td>\n",
       "      <td>0</td>\n",
       "      <td>0.0</td>\n",
       "      <td>3723</td>\n",
       "    </tr>\n",
       "  </tbody>\n",
       "</table>\n",
       "</div>"
      ],
      "text/plain": [
       "                  Datatype  Missing Val  % Missing val  Num of Zeros  \\\n",
       "CardHolder           int64            0           0.00             0   \n",
       "Material            object            0           0.00             0   \n",
       "SalesCount         float64            0           0.00             0   \n",
       "ItemPrice          float64            0           0.00             0   \n",
       "net_weight         float64            0           0.00        351299   \n",
       "SubCategorycode      int64            0           0.00             0   \n",
       "engname             object            0           0.00             0   \n",
       "Class               object         2990           0.01             0   \n",
       "rpa_wgh2           float64            0           0.00             0   \n",
       "rpa_wgh2_SubClass   object            0           0.00             0   \n",
       "rpa_wgh3           float64            0           0.00             0   \n",
       "rpa_wgh3_SubClass   object            0           0.00             0   \n",
       "vendor              object      1971256           7.30             0   \n",
       "\n",
       "                   % Num of Zeros  nUnique Values  \n",
       "CardHolder                    0.0           86520  \n",
       "Material                      0.0           58326  \n",
       "SalesCount                    0.0            7371  \n",
       "ItemPrice                     0.0          162996  \n",
       "net_weight                    1.3            3631  \n",
       "SubCategorycode               0.0            1860  \n",
       "engname                       0.0            1850  \n",
       "Class                         0.0               3  \n",
       "rpa_wgh2                      0.0              62  \n",
       "rpa_wgh2_SubClass             0.0              62  \n",
       "rpa_wgh3                      0.0             385  \n",
       "rpa_wgh3_SubClass             0.0             385  \n",
       "vendor                        0.0            3723  "
      ]
     },
     "execution_count": 721,
     "metadata": {},
     "output_type": "execute_result"
    }
   ],
   "source": [
    "                                                        #Dataset Information Table for each colum\n",
    "df_Dict=pd.DataFrame(updated_data.dtypes)                   #datatype of each column\n",
    "df_Dict['Missing Val'] = updated_data.isnull().sum()        #num of missing values, add to table\n",
    "df_Dict['% Missing val'] = round((df_Dict['Missing Val'].astype(int)/updated_data.shape[0] * 100),2)\n",
    "df_Dict['Num of Zeros'] = (updated_data == 0).sum(0)\n",
    "df_Dict['% Num of Zeros'] = round((df_Dict['Num of Zeros'].astype(int)/updated_data.shape[0] * 100),2)\n",
    "df_Dict['nUnique Values']=updated_data.nunique()                   #num of unique entries, add to table\n",
    "df_Dict=df_Dict.rename(columns={0:'Datatype'})\n",
    "print('The Table below shows the Data Information of each column ')\n",
    "df_Dict"
   ]
  },
  {
   "cell_type": "code",
   "execution_count": 529,
   "metadata": {},
   "outputs": [],
   "source": [
    "updated_data.to_csv('final_data_update.csv', index=False)"
   ]
  },
  {
   "cell_type": "code",
   "execution_count": null,
   "metadata": {},
   "outputs": [],
   "source": []
  },
  {
   "cell_type": "code",
   "execution_count": null,
   "metadata": {},
   "outputs": [],
   "source": []
  },
  {
   "cell_type": "markdown",
   "metadata": {},
   "source": [
    "### Expository Data Analysis "
   ]
  },
  {
   "cell_type": "markdown",
   "metadata": {},
   "source": [
    "    - Bar chart of the most popular items by quantity bought..\n",
    "\n",
    "    - Distribution of the item class..\n",
    "\n",
    "    - Histogram of the item price range\n",
    "\n",
    "    -LineChart of the variation of the items' purchase by month"
   ]
  },
  {
   "cell_type": "code",
   "execution_count": 5,
   "metadata": {},
   "outputs": [
    {
     "data": {
      "text/html": [
       "<div>\n",
       "<style scoped>\n",
       "    .dataframe tbody tr th:only-of-type {\n",
       "        vertical-align: middle;\n",
       "    }\n",
       "\n",
       "    .dataframe tbody tr th {\n",
       "        vertical-align: top;\n",
       "    }\n",
       "\n",
       "    .dataframe thead th {\n",
       "        text-align: right;\n",
       "    }\n",
       "</style>\n",
       "<table border=\"1\" class=\"dataframe\">\n",
       "  <thead>\n",
       "    <tr style=\"text-align: right;\">\n",
       "      <th></th>\n",
       "      <th>CardHolder</th>\n",
       "      <th>Material</th>\n",
       "      <th>SalesCount</th>\n",
       "      <th>ItemPrice</th>\n",
       "      <th>net_weight</th>\n",
       "      <th>SubCategorycode</th>\n",
       "      <th>engname</th>\n",
       "      <th>Class</th>\n",
       "      <th>rpa_wgh2</th>\n",
       "      <th>rpa_wgh2_SubClass</th>\n",
       "      <th>rpa_wgh3</th>\n",
       "      <th>rpa_wgh3_SubClass</th>\n",
       "      <th>vendor</th>\n",
       "    </tr>\n",
       "  </thead>\n",
       "  <tbody>\n",
       "    <tr>\n",
       "      <th>0</th>\n",
       "      <td>10008254</td>\n",
       "      <td>109900</td>\n",
       "      <td>3.0</td>\n",
       "      <td>20.97</td>\n",
       "      <td>23.0</td>\n",
       "      <td>401201</td>\n",
       "      <td>Lenta bags</td>\n",
       "      <td>NON FOOD</td>\n",
       "      <td>40.0</td>\n",
       "      <td>\"Household cleaning products \"</td>\n",
       "      <td>4012.0</td>\n",
       "      <td>Packaging and containers</td>\n",
       "      <td>100260.0</td>\n",
       "    </tr>\n",
       "    <tr>\n",
       "      <th>1</th>\n",
       "      <td>10011935</td>\n",
       "      <td>109900</td>\n",
       "      <td>1.0</td>\n",
       "      <td>6.49</td>\n",
       "      <td>23.0</td>\n",
       "      <td>401201</td>\n",
       "      <td>Lenta bags</td>\n",
       "      <td>NON FOOD</td>\n",
       "      <td>40.0</td>\n",
       "      <td>\"Household cleaning products \"</td>\n",
       "      <td>4012.0</td>\n",
       "      <td>Packaging and containers</td>\n",
       "      <td>100260.0</td>\n",
       "    </tr>\n",
       "    <tr>\n",
       "      <th>2</th>\n",
       "      <td>10036221</td>\n",
       "      <td>109900</td>\n",
       "      <td>3.0</td>\n",
       "      <td>19.47</td>\n",
       "      <td>23.0</td>\n",
       "      <td>401201</td>\n",
       "      <td>Lenta bags</td>\n",
       "      <td>NON FOOD</td>\n",
       "      <td>40.0</td>\n",
       "      <td>\"Household cleaning products \"</td>\n",
       "      <td>4012.0</td>\n",
       "      <td>Packaging and containers</td>\n",
       "      <td>100260.0</td>\n",
       "    </tr>\n",
       "    <tr>\n",
       "      <th>3</th>\n",
       "      <td>10036221</td>\n",
       "      <td>109900</td>\n",
       "      <td>2.0</td>\n",
       "      <td>12.98</td>\n",
       "      <td>23.0</td>\n",
       "      <td>401201</td>\n",
       "      <td>Lenta bags</td>\n",
       "      <td>NON FOOD</td>\n",
       "      <td>40.0</td>\n",
       "      <td>\"Household cleaning products \"</td>\n",
       "      <td>4012.0</td>\n",
       "      <td>Packaging and containers</td>\n",
       "      <td>100260.0</td>\n",
       "    </tr>\n",
       "    <tr>\n",
       "      <th>4</th>\n",
       "      <td>10036221</td>\n",
       "      <td>109900</td>\n",
       "      <td>4.0</td>\n",
       "      <td>25.96</td>\n",
       "      <td>23.0</td>\n",
       "      <td>401201</td>\n",
       "      <td>Lenta bags</td>\n",
       "      <td>NON FOOD</td>\n",
       "      <td>40.0</td>\n",
       "      <td>\"Household cleaning products \"</td>\n",
       "      <td>4012.0</td>\n",
       "      <td>Packaging and containers</td>\n",
       "      <td>100260.0</td>\n",
       "    </tr>\n",
       "  </tbody>\n",
       "</table>\n",
       "</div>"
      ],
      "text/plain": [
       "   CardHolder  Material  SalesCount  ItemPrice  net_weight  SubCategorycode  \\\n",
       "0    10008254    109900         3.0      20.97        23.0           401201   \n",
       "1    10011935    109900         1.0       6.49        23.0           401201   \n",
       "2    10036221    109900         3.0      19.47        23.0           401201   \n",
       "3    10036221    109900         2.0      12.98        23.0           401201   \n",
       "4    10036221    109900         4.0      25.96        23.0           401201   \n",
       "\n",
       "      engname     Class  rpa_wgh2               rpa_wgh2_SubClass  rpa_wgh3  \\\n",
       "0  Lenta bags  NON FOOD      40.0  \"Household cleaning products \"    4012.0   \n",
       "1  Lenta bags  NON FOOD      40.0  \"Household cleaning products \"    4012.0   \n",
       "2  Lenta bags  NON FOOD      40.0  \"Household cleaning products \"    4012.0   \n",
       "3  Lenta bags  NON FOOD      40.0  \"Household cleaning products \"    4012.0   \n",
       "4  Lenta bags  NON FOOD      40.0  \"Household cleaning products \"    4012.0   \n",
       "\n",
       "          rpa_wgh3_SubClass    vendor  \n",
       "0  Packaging and containers  100260.0  \n",
       "1  Packaging and containers  100260.0  \n",
       "2  Packaging and containers  100260.0  \n",
       "3  Packaging and containers  100260.0  \n",
       "4  Packaging and containers  100260.0  "
      ]
     },
     "execution_count": 5,
     "metadata": {},
     "output_type": "execute_result"
    }
   ],
   "source": [
    "df = pd.read_csv('final_data_update.csv')\n",
    "df.head()"
   ]
  },
  {
   "cell_type": "code",
   "execution_count": 6,
   "metadata": {},
   "outputs": [
    {
     "name": "stdout",
     "output_type": "stream",
     "text": [
      "Shape of data:  (27007485, 13)\n"
     ]
    }
   ],
   "source": [
    "df = df.rename(columns={'engname':'ItemDescription'})\n",
    "print(\"Shape of data: \", df.shape)\n",
    "#df.dtypes"
   ]
  },
  {
   "cell_type": "code",
   "execution_count": 7,
   "metadata": {},
   "outputs": [],
   "source": [
    "df['ItemDescription'] = df['ItemDescription'].replace(\n",
    "    to_replace= ['Bread rye, rye-wheat with additives in slicing (grain, bran, grass, etc.)'],\n",
    "    value =['Bread rye, rye-wheat with additives in slicing'])"
   ]
  },
  {
   "cell_type": "code",
   "execution_count": null,
   "metadata": {},
   "outputs": [],
   "source": []
  },
  {
   "cell_type": "code",
   "execution_count": 8,
   "metadata": {
    "scrolled": true
   },
   "outputs": [
    {
     "data": {
      "text/plain": [
       "(13439, 13)"
      ]
     },
     "execution_count": 8,
     "metadata": {},
     "output_type": "execute_result"
    }
   ],
   "source": [
    "            ##get items with negative values for prices and values\n",
    "neg_prices = df[df['ItemPrice'] < 0]\n",
    "neg_prices.shape"
   ]
  },
  {
   "cell_type": "code",
   "execution_count": 9,
   "metadata": {},
   "outputs": [
    {
     "data": {
      "text/plain": [
       "8214"
      ]
     },
     "execution_count": 9,
     "metadata": {},
     "output_type": "execute_result"
    }
   ],
   "source": [
    "                     #extracting unique negative price list\n",
    "neg_price_list = list(neg_prices['ItemPrice'].unique())\n",
    "len(neg_price_list)"
   ]
  },
  {
   "cell_type": "code",
   "execution_count": 10,
   "metadata": {},
   "outputs": [],
   "source": [
    "                #dropping observatiosn corresponding to negative prices\n",
    "pos_price_df = df[~df['ItemPrice'].isin(neg_price_list)]"
   ]
  },
  {
   "cell_type": "code",
   "execution_count": 11,
   "metadata": {
    "scrolled": true
   },
   "outputs": [
    {
     "data": {
      "text/plain": [
       "count    2.699405e+07\n",
       "mean     1.245177e+02\n",
       "std      2.043187e+02\n",
       "min      1.000000e-02\n",
       "25%      3.999000e+01\n",
       "50%      7.499000e+01\n",
       "75%      1.425500e+02\n",
       "max      2.365946e+05\n",
       "Name: ItemPrice, dtype: float64"
      ]
     },
     "execution_count": 11,
     "metadata": {},
     "output_type": "execute_result"
    }
   ],
   "source": [
    "pos_price_df['ItemPrice'].describe()"
   ]
  },
  {
   "cell_type": "code",
   "execution_count": 12,
   "metadata": {},
   "outputs": [],
   "source": [
    "pos_price_df.to_csv('RecSys_df.csv', index=False)"
   ]
  },
  {
   "cell_type": "code",
   "execution_count": null,
   "metadata": {},
   "outputs": [],
   "source": []
  },
  {
   "cell_type": "code",
   "execution_count": 729,
   "metadata": {},
   "outputs": [
    {
     "data": {
      "text/plain": [
       "array(['Lenta bags', 'Individual portion food (pouch)',\n",
       "       'Spoonable yoghurts cold storage', 'A loaf of wheat in sliced.',\n",
       "       'Bananas', 'Cow pasteurized milk  <1 l', '\"Milk chocolate bars \"',\n",
       "       'Curd rolls, snacks cold storage',\n",
       "       'Cow sterilized milk (UHT) <1 l', '\"Chocolate sticks \"',\n",
       "       '\"Bulk apples \"', 'Baguette, own production', 'Chips',\n",
       "       'Sweets sold by weight', 'Drinkable yoghurts cold storage',\n",
       "       'Chicken eggs,  9-15  eggs', 'Cola-based lemonade',\n",
       "       'Curd desserts', '\"Edam, Gouda, Tilsiter cheese sold by weight \"',\n",
       "       'Bulk traditional tomatoes', '\"Sweet pepper \"', 'Bulb onion',\n",
       "       'Paper towels', '\"Cooked sausages in branded package \"',\n",
       "       'Frankfurters in branded package',\n",
       "       '\"Table and drinking still water \"', 'Wheat bread, own production',\n",
       "       'Toothpaste', \"Women's shampoos, conditioners\",\n",
       "       'Licensed beer in can', 'Other bread, own production', 'Pellets',\n",
       "       '\"Flavoured cookies \"', '\"Italian pasta recipes \"',\n",
       "       'Fresh cut chicken in branded package',\n",
       "       'Butter packing 125 gr - 300 gr', 'Packaged cucumbers',\n",
       "       '\"Dark chocolate bars \"', 'Carrot', 'Natural kefir',\n",
       "       'Fruit baby food in jars', 'Boxed chocolate',\n",
       "       'Bread traditional rye, rye-wheat in slicing (podovy, molded)',\n",
       "       '\"Marmelade \"', 'Bread rye, rye-wheat with additives in slicing',\n",
       "       'Fresh smoked sausages', 'Napkins sanitary hygienic',\n",
       "       'Chicken eggs, more than 15  eggs', 'Licensed beer in bottle',\n",
       "       'Puff pastry treats'], dtype=object)"
      ]
     },
     "execution_count": 729,
     "metadata": {},
     "output_type": "execute_result"
    }
   ],
   "source": [
    "                 ##getting most popular items by item quantities...                               \n",
    "top_items_qqt = pos_price_df.groupby(['ItemDescription'])['SalesCount'].count().sort_values(ascending=False)[:50]   \n",
    "top_items_qqt.index.values"
   ]
  },
  {
   "cell_type": "code",
   "execution_count": 730,
   "metadata": {},
   "outputs": [
    {
     "data": {
      "text/plain": [
       "<matplotlib.axes._subplots.AxesSubplot at 0x7f0204f6afd0>"
      ]
     },
     "execution_count": 730,
     "metadata": {},
     "output_type": "execute_result"
    },
    {
     "data": {
      "image/png": "[encoded data removed]",
      "text/plain": [
       "<Figure size 720x864 with 1 Axes>"
      ]
     },
     "metadata": {},
     "output_type": "display_data"
    }
   ],
   "source": [
    "plt.figure(figsize=(10,12))\n",
    "plt.title('Bar Chart of the top-50 most purchased items')\n",
    "top_items_qqt.plot.barh()"
   ]
  },
  {
   "cell_type": "markdown",
   "metadata": {},
   "source": [
    "     -  'Lenta bags' is the most purchased item\n",
    " \n",
    " \n",
    "      - Followed by :\n",
    "  \n",
    "              'Individual portion food (pouch)',\n",
    "              'Spoonable yoghurts cold storage', \n",
    "              'A loaf of wheat in sliced.',\n",
    "              'Bananas'..."
   ]
  },
  {
   "cell_type": "code",
   "execution_count": 724,
   "metadata": {},
   "outputs": [],
   "source": [
    "# b = df[['vendor','SalesCount']]\n",
    "# b['vendor'] = b['vendor'].dropna()\n",
    "# b['vendor'] =  b['vendor'].astype(str)"
   ]
  },
  {
   "cell_type": "code",
   "execution_count": 725,
   "metadata": {},
   "outputs": [],
   "source": [
    "#b['vendor'].dtype"
   ]
  },
  {
   "cell_type": "code",
   "execution_count": 723,
   "metadata": {},
   "outputs": [],
   "source": [
    "#                  ##getting most popular vendors by item quantities...                               \n",
    "# vendor_items_qqt = b.groupby(['vendor'])['SalesCount'].count().sort_values(ascending=False)[:50]   \n",
    "# vendor_items_qqt.index.values"
   ]
  },
  {
   "cell_type": "code",
   "execution_count": 677,
   "metadata": {
    "scrolled": true
   },
   "outputs": [
    {
     "data": {
      "text/plain": [
       "162996"
      ]
     },
     "execution_count": 677,
     "metadata": {},
     "output_type": "execute_result"
    }
   ],
   "source": [
    "df['ItemPrice'].nunique()"
   ]
  },
  {
   "cell_type": "code",
   "execution_count": 670,
   "metadata": {},
   "outputs": [
    {
     "name": "stdout",
     "output_type": "stream",
     "text": [
      "% of items below 800Rubles:  98.87524826771059\n"
     ]
    }
   ],
   "source": [
    "percent_below_800Rubles = 100*(len(pos_price_df[pos_price_df['ItemPrice'] < 800])/len(pos_price_df['ItemPrice']))\n",
    "print('% of items below 800Rubles: ', percent_below_800Rubles)"
   ]
  },
  {
   "cell_type": "code",
   "execution_count": 662,
   "metadata": {},
   "outputs": [
    {
     "data": {
      "image/png": "[encoded data removed]",
      "text/plain": [
       "<Figure size 720x576 with 1 Axes>"
      ]
     },
     "metadata": {},
     "output_type": "display_data"
    }
   ],
   "source": [
    "#..........\n",
    "plt.figure(figsize=(10,8))\n",
    "pos_price_df['ItemPrice'].plot.hist(alpha=0.5,color='g',bins=20,range = (1,800))\n",
    "plt.legend(['ItemPrice'])\n",
    "plt.title('Histogram of ItemPrice across board')\n",
    "plt.ylabel('Number of Items', fontsize=12)\n",
    "plt.xlabel('Item Price (Rubles)', fontsize=12)\n",
    "plt.show()"
   ]
  },
  {
   "cell_type": "markdown",
   "metadata": {},
   "source": [
    "        - More than 98% of the items have their price range below 800rubles\n",
    "        \n",
    "        - Majority of the items are between 0-100rubles"
   ]
  },
  {
   "cell_type": "code",
   "execution_count": null,
   "metadata": {},
   "outputs": [],
   "source": []
  },
  {
   "cell_type": "code",
   "execution_count": 731,
   "metadata": {},
   "outputs": [
    {
     "data": {
      "text/plain": [
       "FOOD        77.227541\n",
       "NON FOOD    22.618608\n",
       "NONSALES     0.153851\n",
       "Name: Class, dtype: float64"
      ]
     },
     "execution_count": 731,
     "metadata": {},
     "output_type": "execute_result"
    }
   ],
   "source": [
    "        #Distribution of the item classes\n",
    "pos_price_df['Class'].value_counts(normalize= True)*100"
   ]
  },
  {
   "cell_type": "code",
   "execution_count": 732,
   "metadata": {},
   "outputs": [
    {
     "data": {
      "image/png": "[encoded data removed]",
      "text/plain": [
       "<Figure size 504x432 with 1 Axes>"
      ]
     },
     "metadata": {},
     "output_type": "display_data"
    }
   ],
   "source": [
    "plt.figure(figsize=(7,6))\n",
    "sizes_=[77.220233, 22.625904,0.153863]\n",
    "plt.pie(sizes_,\n",
    "        labels=['FOOD','NON FOOD','NONSALES'],\n",
    "        startangle=90,\n",
    "        shadow=True,\n",
    "        autopct='%1.1f%%')\n",
    "plt.axis('equal')\n",
    "plt.title('Distribution of item classes')\n",
    "plt.show()"
   ]
  },
  {
   "cell_type": "code",
   "execution_count": null,
   "metadata": {},
   "outputs": [],
   "source": []
  },
  {
   "cell_type": "code",
   "execution_count": 807,
   "metadata": {},
   "outputs": [],
   "source": [
    "#trx_df.head()"
   ]
  },
  {
   "cell_type": "code",
   "execution_count": 13,
   "metadata": {},
   "outputs": [
    {
     "data": {
      "text/html": [
       "<div>\n",
       "<style scoped>\n",
       "    .dataframe tbody tr th:only-of-type {\n",
       "        vertical-align: middle;\n",
       "    }\n",
       "\n",
       "    .dataframe tbody tr th {\n",
       "        vertical-align: top;\n",
       "    }\n",
       "\n",
       "    .dataframe thead th {\n",
       "        text-align: right;\n",
       "    }\n",
       "</style>\n",
       "<table border=\"1\" class=\"dataframe\">\n",
       "  <thead>\n",
       "    <tr style=\"text-align: right;\">\n",
       "      <th></th>\n",
       "      <th>CardHolder</th>\n",
       "      <th>Material</th>\n",
       "      <th>SalesCount</th>\n",
       "      <th>ItemPrice</th>\n",
       "      <th>net_weight</th>\n",
       "      <th>SubCategorycode</th>\n",
       "      <th>ItemDescription</th>\n",
       "      <th>Class</th>\n",
       "      <th>rpa_wgh2</th>\n",
       "      <th>rpa_wgh2_SubClass</th>\n",
       "      <th>rpa_wgh3</th>\n",
       "      <th>rpa_wgh3_SubClass</th>\n",
       "      <th>vendor</th>\n",
       "    </tr>\n",
       "  </thead>\n",
       "  <tbody>\n",
       "    <tr>\n",
       "      <th>0</th>\n",
       "      <td>10008254</td>\n",
       "      <td>109900</td>\n",
       "      <td>3.0</td>\n",
       "      <td>20.97</td>\n",
       "      <td>23.0</td>\n",
       "      <td>401201</td>\n",
       "      <td>Lenta bags</td>\n",
       "      <td>NON FOOD</td>\n",
       "      <td>40.0</td>\n",
       "      <td>\"Household cleaning products \"</td>\n",
       "      <td>4012.0</td>\n",
       "      <td>Packaging and containers</td>\n",
       "      <td>100260.0</td>\n",
       "    </tr>\n",
       "    <tr>\n",
       "      <th>1</th>\n",
       "      <td>10011935</td>\n",
       "      <td>109900</td>\n",
       "      <td>1.0</td>\n",
       "      <td>6.49</td>\n",
       "      <td>23.0</td>\n",
       "      <td>401201</td>\n",
       "      <td>Lenta bags</td>\n",
       "      <td>NON FOOD</td>\n",
       "      <td>40.0</td>\n",
       "      <td>\"Household cleaning products \"</td>\n",
       "      <td>4012.0</td>\n",
       "      <td>Packaging and containers</td>\n",
       "      <td>100260.0</td>\n",
       "    </tr>\n",
       "    <tr>\n",
       "      <th>2</th>\n",
       "      <td>10036221</td>\n",
       "      <td>109900</td>\n",
       "      <td>3.0</td>\n",
       "      <td>19.47</td>\n",
       "      <td>23.0</td>\n",
       "      <td>401201</td>\n",
       "      <td>Lenta bags</td>\n",
       "      <td>NON FOOD</td>\n",
       "      <td>40.0</td>\n",
       "      <td>\"Household cleaning products \"</td>\n",
       "      <td>4012.0</td>\n",
       "      <td>Packaging and containers</td>\n",
       "      <td>100260.0</td>\n",
       "    </tr>\n",
       "    <tr>\n",
       "      <th>3</th>\n",
       "      <td>10036221</td>\n",
       "      <td>109900</td>\n",
       "      <td>2.0</td>\n",
       "      <td>12.98</td>\n",
       "      <td>23.0</td>\n",
       "      <td>401201</td>\n",
       "      <td>Lenta bags</td>\n",
       "      <td>NON FOOD</td>\n",
       "      <td>40.0</td>\n",
       "      <td>\"Household cleaning products \"</td>\n",
       "      <td>4012.0</td>\n",
       "      <td>Packaging and containers</td>\n",
       "      <td>100260.0</td>\n",
       "    </tr>\n",
       "    <tr>\n",
       "      <th>4</th>\n",
       "      <td>10036221</td>\n",
       "      <td>109900</td>\n",
       "      <td>4.0</td>\n",
       "      <td>25.96</td>\n",
       "      <td>23.0</td>\n",
       "      <td>401201</td>\n",
       "      <td>Lenta bags</td>\n",
       "      <td>NON FOOD</td>\n",
       "      <td>40.0</td>\n",
       "      <td>\"Household cleaning products \"</td>\n",
       "      <td>4012.0</td>\n",
       "      <td>Packaging and containers</td>\n",
       "      <td>100260.0</td>\n",
       "    </tr>\n",
       "  </tbody>\n",
       "</table>\n",
       "</div>"
      ],
      "text/plain": [
       "   CardHolder  Material  SalesCount  ItemPrice  net_weight  SubCategorycode  \\\n",
       "0    10008254    109900         3.0      20.97        23.0           401201   \n",
       "1    10011935    109900         1.0       6.49        23.0           401201   \n",
       "2    10036221    109900         3.0      19.47        23.0           401201   \n",
       "3    10036221    109900         2.0      12.98        23.0           401201   \n",
       "4    10036221    109900         4.0      25.96        23.0           401201   \n",
       "\n",
       "  ItemDescription     Class  rpa_wgh2               rpa_wgh2_SubClass  \\\n",
       "0      Lenta bags  NON FOOD      40.0  \"Household cleaning products \"   \n",
       "1      Lenta bags  NON FOOD      40.0  \"Household cleaning products \"   \n",
       "2      Lenta bags  NON FOOD      40.0  \"Household cleaning products \"   \n",
       "3      Lenta bags  NON FOOD      40.0  \"Household cleaning products \"   \n",
       "4      Lenta bags  NON FOOD      40.0  \"Household cleaning products \"   \n",
       "\n",
       "   rpa_wgh3         rpa_wgh3_SubClass    vendor  \n",
       "0    4012.0  Packaging and containers  100260.0  \n",
       "1    4012.0  Packaging and containers  100260.0  \n",
       "2    4012.0  Packaging and containers  100260.0  \n",
       "3    4012.0  Packaging and containers  100260.0  \n",
       "4    4012.0  Packaging and containers  100260.0  "
      ]
     },
     "execution_count": 13,
     "metadata": {},
     "output_type": "execute_result"
    }
   ],
   "source": [
    "pos_price_df.head()"
   ]
  },
  {
   "cell_type": "code",
   "execution_count": 738,
   "metadata": {},
   "outputs": [
    {
     "data": {
      "text/plain": [
       "58326"
      ]
     },
     "execution_count": 738,
     "metadata": {},
     "output_type": "execute_result"
    }
   ],
   "source": [
    "                        #extracting unique negative price list\n",
    "unique_item_list = list(pos_price_df['Material'].unique())\n",
    "len(unique_item_list)"
   ]
  },
  {
   "cell_type": "code",
   "execution_count": 743,
   "metadata": {},
   "outputs": [
    {
     "data": {
      "text/plain": [
       "dtype('int64')"
      ]
     },
     "execution_count": 743,
     "metadata": {},
     "output_type": "execute_result"
    }
   ],
   "source": [
    "trx_df['Material'] = trx_df['Material'].astype(int)\n",
    "trx_df['Material'].dtype"
   ]
  },
  {
   "cell_type": "code",
   "execution_count": 745,
   "metadata": {},
   "outputs": [
    {
     "data": {
      "text/html": [
       "<div>\n",
       "<style scoped>\n",
       "    .dataframe tbody tr th:only-of-type {\n",
       "        vertical-align: middle;\n",
       "    }\n",
       "\n",
       "    .dataframe tbody tr th {\n",
       "        vertical-align: top;\n",
       "    }\n",
       "\n",
       "    .dataframe thead th {\n",
       "        text-align: right;\n",
       "    }\n",
       "</style>\n",
       "<table border=\"1\" class=\"dataframe\">\n",
       "  <thead>\n",
       "    <tr style=\"text-align: right;\">\n",
       "      <th></th>\n",
       "      <th>CardHolder</th>\n",
       "      <th>CALDAY</th>\n",
       "      <th>SalesCount</th>\n",
       "      <th>SalesSumma</th>\n",
       "      <th>Material</th>\n",
       "    </tr>\n",
       "  </thead>\n",
       "  <tbody>\n",
       "    <tr>\n",
       "      <th>0</th>\n",
       "      <td>10008254</td>\n",
       "      <td>20200130</td>\n",
       "      <td>3.000</td>\n",
       "      <td>20.97</td>\n",
       "      <td>109900</td>\n",
       "    </tr>\n",
       "    <tr>\n",
       "      <th>1</th>\n",
       "      <td>10008254</td>\n",
       "      <td>20200130</td>\n",
       "      <td>1.000</td>\n",
       "      <td>169.99</td>\n",
       "      <td>439630</td>\n",
       "    </tr>\n",
       "    <tr>\n",
       "      <th>2</th>\n",
       "      <td>10008254</td>\n",
       "      <td>20200130</td>\n",
       "      <td>1.000</td>\n",
       "      <td>198.49</td>\n",
       "      <td>429670</td>\n",
       "    </tr>\n",
       "    <tr>\n",
       "      <th>3</th>\n",
       "      <td>10008254</td>\n",
       "      <td>20200130</td>\n",
       "      <td>1.000</td>\n",
       "      <td>348.99</td>\n",
       "      <td>152314</td>\n",
       "    </tr>\n",
       "    <tr>\n",
       "      <th>4</th>\n",
       "      <td>10008254</td>\n",
       "      <td>20200130</td>\n",
       "      <td>1.000</td>\n",
       "      <td>79.99</td>\n",
       "      <td>81107</td>\n",
       "    </tr>\n",
       "  </tbody>\n",
       "</table>\n",
       "</div>"
      ],
      "text/plain": [
       "  CardHolder    CALDAY SalesCount SalesSumma  Material\n",
       "0   10008254  20200130      3.000      20.97    109900\n",
       "1   10008254  20200130      1.000     169.99    439630\n",
       "2   10008254  20200130      1.000     198.49    429670\n",
       "3   10008254  20200130      1.000     348.99    152314\n",
       "4   10008254  20200130      1.000      79.99     81107"
      ]
     },
     "execution_count": 745,
     "metadata": {},
     "output_type": "execute_result"
    }
   ],
   "source": [
    "callday_df = trx_df.loc[trx_df['Material'].isin(unique_item_list)]\n",
    "callday_df = callday_df.drop(['ChequeId','Discount','Subcategory'],axis=1)\n",
    "callday_df.head()"
   ]
  },
  {
   "cell_type": "code",
   "execution_count": 758,
   "metadata": {},
   "outputs": [
    {
     "data": {
      "text/html": [
       "<div>\n",
       "<style scoped>\n",
       "    .dataframe tbody tr th:only-of-type {\n",
       "        vertical-align: middle;\n",
       "    }\n",
       "\n",
       "    .dataframe tbody tr th {\n",
       "        vertical-align: top;\n",
       "    }\n",
       "\n",
       "    .dataframe thead th {\n",
       "        text-align: right;\n",
       "    }\n",
       "</style>\n",
       "<table border=\"1\" class=\"dataframe\">\n",
       "  <thead>\n",
       "    <tr style=\"text-align: right;\">\n",
       "      <th></th>\n",
       "      <th>CardHolder</th>\n",
       "      <th>CALDAY</th>\n",
       "      <th>SalesCount</th>\n",
       "      <th>SalesSumma</th>\n",
       "      <th>Material</th>\n",
       "      <th>PurchaseMonthYear</th>\n",
       "    </tr>\n",
       "  </thead>\n",
       "  <tbody>\n",
       "    <tr>\n",
       "      <th>0</th>\n",
       "      <td>10008254</td>\n",
       "      <td>2020-01-30</td>\n",
       "      <td>3.000</td>\n",
       "      <td>20.97</td>\n",
       "      <td>109900</td>\n",
       "      <td>2020-01</td>\n",
       "    </tr>\n",
       "    <tr>\n",
       "      <th>1</th>\n",
       "      <td>10008254</td>\n",
       "      <td>2020-01-30</td>\n",
       "      <td>1.000</td>\n",
       "      <td>169.99</td>\n",
       "      <td>439630</td>\n",
       "      <td>2020-01</td>\n",
       "    </tr>\n",
       "    <tr>\n",
       "      <th>2</th>\n",
       "      <td>10008254</td>\n",
       "      <td>2020-01-30</td>\n",
       "      <td>1.000</td>\n",
       "      <td>198.49</td>\n",
       "      <td>429670</td>\n",
       "      <td>2020-01</td>\n",
       "    </tr>\n",
       "  </tbody>\n",
       "</table>\n",
       "</div>"
      ],
      "text/plain": [
       "  CardHolder     CALDAY SalesCount SalesSumma  Material PurchaseMonthYear\n",
       "0   10008254 2020-01-30      3.000      20.97    109900           2020-01\n",
       "1   10008254 2020-01-30      1.000     169.99    439630           2020-01\n",
       "2   10008254 2020-01-30      1.000     198.49    429670           2020-01"
      ]
     },
     "execution_count": 758,
     "metadata": {},
     "output_type": "execute_result"
    }
   ],
   "source": [
    "callday_df['CALDAY'] = pd.to_datetime(callday_df['CALDAY'])\n",
    "#callday_df['PurchaseMonth'] = callday_df['CALDAY'].dt.month\n",
    "#callday_df = callday_df.drop(['PurchaseMonth'],axis=1)\n",
    "callday_df['PurchaseMonthYear'] = pd.to_datetime(callday_df['CALDAY']).dt.to_period('M')\n",
    "callday_df.head(3)"
   ]
  },
  {
   "cell_type": "code",
   "execution_count": null,
   "metadata": {},
   "outputs": [],
   "source": []
  },
  {
   "cell_type": "code",
   "execution_count": 759,
   "metadata": {},
   "outputs": [],
   "source": [
    "used_dt = callday_df[(callday_df['CALDAY'] >= '2019-01-01')]"
   ]
  },
  {
   "cell_type": "code",
   "execution_count": 774,
   "metadata": {},
   "outputs": [],
   "source": [
    "sample = used_dt.tail(20)"
   ]
  },
  {
   "cell_type": "code",
   "execution_count": 809,
   "metadata": {},
   "outputs": [],
   "source": [
    "#sample['SalesCount'] = sample['SalesCount'].astype(float)\n",
    "#sample.groupby([\"PurchaseMonthYear\"]).agg({'SalesCount':'sum'}).reset_index()\n",
    "#sample.groupby(['PurchaseMonthYear']).sum()"
   ]
  },
  {
   "cell_type": "code",
   "execution_count": 795,
   "metadata": {},
   "outputs": [
    {
     "data": {
      "text/html": [
       "<div>\n",
       "<style scoped>\n",
       "    .dataframe tbody tr th:only-of-type {\n",
       "        vertical-align: middle;\n",
       "    }\n",
       "\n",
       "    .dataframe tbody tr th {\n",
       "        vertical-align: top;\n",
       "    }\n",
       "\n",
       "    .dataframe thead th {\n",
       "        text-align: right;\n",
       "    }\n",
       "</style>\n",
       "<table border=\"1\" class=\"dataframe\">\n",
       "  <thead>\n",
       "    <tr style=\"text-align: right;\">\n",
       "      <th></th>\n",
       "      <th>PurchaseMonthYear</th>\n",
       "      <th>SalesCount</th>\n",
       "    </tr>\n",
       "  </thead>\n",
       "  <tbody>\n",
       "    <tr>\n",
       "      <th>0</th>\n",
       "      <td>2019-01</td>\n",
       "      <td>1361433.977</td>\n",
       "    </tr>\n",
       "    <tr>\n",
       "      <th>1</th>\n",
       "      <td>2019-02</td>\n",
       "      <td>1376454.219</td>\n",
       "    </tr>\n",
       "    <tr>\n",
       "      <th>2</th>\n",
       "      <td>2019-03</td>\n",
       "      <td>1599027.421</td>\n",
       "    </tr>\n",
       "    <tr>\n",
       "      <th>3</th>\n",
       "      <td>2019-04</td>\n",
       "      <td>1402169.223</td>\n",
       "    </tr>\n",
       "    <tr>\n",
       "      <th>4</th>\n",
       "      <td>2019-05</td>\n",
       "      <td>1285540.772</td>\n",
       "    </tr>\n",
       "    <tr>\n",
       "      <th>5</th>\n",
       "      <td>2019-06</td>\n",
       "      <td>1159831.056</td>\n",
       "    </tr>\n",
       "    <tr>\n",
       "      <th>6</th>\n",
       "      <td>2019-07</td>\n",
       "      <td>1042722.142</td>\n",
       "    </tr>\n",
       "    <tr>\n",
       "      <th>7</th>\n",
       "      <td>2019-08</td>\n",
       "      <td>1161181.043</td>\n",
       "    </tr>\n",
       "    <tr>\n",
       "      <th>8</th>\n",
       "      <td>2019-09</td>\n",
       "      <td>1311989.013</td>\n",
       "    </tr>\n",
       "    <tr>\n",
       "      <th>9</th>\n",
       "      <td>2019-10</td>\n",
       "      <td>1203245.534</td>\n",
       "    </tr>\n",
       "    <tr>\n",
       "      <th>10</th>\n",
       "      <td>2019-11</td>\n",
       "      <td>1429673.592</td>\n",
       "    </tr>\n",
       "    <tr>\n",
       "      <th>11</th>\n",
       "      <td>2019-12</td>\n",
       "      <td>1910541.786</td>\n",
       "    </tr>\n",
       "    <tr>\n",
       "      <th>12</th>\n",
       "      <td>2020-01</td>\n",
       "      <td>1439109.197</td>\n",
       "    </tr>\n",
       "    <tr>\n",
       "      <th>13</th>\n",
       "      <td>2020-02</td>\n",
       "      <td>1570045.518</td>\n",
       "    </tr>\n",
       "    <tr>\n",
       "      <th>14</th>\n",
       "      <td>2020-03</td>\n",
       "      <td>62967.857</td>\n",
       "    </tr>\n",
       "  </tbody>\n",
       "</table>\n",
       "</div>"
      ],
      "text/plain": [
       "   PurchaseMonthYear   SalesCount\n",
       "0            2019-01  1361433.977\n",
       "1            2019-02  1376454.219\n",
       "2            2019-03  1599027.421\n",
       "3            2019-04  1402169.223\n",
       "4            2019-05  1285540.772\n",
       "5            2019-06  1159831.056\n",
       "6            2019-07  1042722.142\n",
       "7            2019-08  1161181.043\n",
       "8            2019-09  1311989.013\n",
       "9            2019-10  1203245.534\n",
       "10           2019-11  1429673.592\n",
       "11           2019-12  1910541.786\n",
       "12           2020-01  1439109.197\n",
       "13           2020-02  1570045.518\n",
       "14           2020-03    62967.857"
      ]
     },
     "execution_count": 795,
     "metadata": {},
     "output_type": "execute_result"
    }
   ],
   "source": [
    "used_dt['SalesCount'] = used_dt['SalesCount'].astype(float)\n",
    "dt_item_sum = used_dt.groupby([\"PurchaseMonthYear\"]).agg({'SalesCount':'sum'}).reset_index()\n",
    "dt_item_sum"
   ]
  },
  {
   "cell_type": "code",
   "execution_count": null,
   "metadata": {
    "scrolled": true
   },
   "outputs": [],
   "source": []
  },
  {
   "cell_type": "code",
   "execution_count": 810,
   "metadata": {},
   "outputs": [
    {
     "data": {
      "image/png": "[encoded data removed]",
      "text/plain": [
       "<Figure size 864x576 with 1 Axes>"
      ]
     },
     "metadata": {},
     "output_type": "display_data"
    }
   ],
   "source": [
    "plt.figure(figsize=(12,8))\n",
    "x =  ['Jan19','Feb19','Mar19','April19','May19','Jun19',\n",
    "      'Jul19','Aug19','Sept19','Oct19','Nov19','Dec19',\n",
    "     'Jan20','Feb20','Mar20']\n",
    "y =  dt_item_sum['SalesCount']\n",
    "plt.plot(x, y, linewidth=5, markersize=12)\n",
    "plt.title(\"Line Plot of variation of Items' purchase from 'Jan_2019' \", fontsize=15)\n",
    "plt.ylabel('Number of Items')\n",
    "plt.xlabel('Purchase Month_Year ')\n",
    "plt.show()"
   ]
  },
  {
   "cell_type": "code",
   "execution_count": null,
   "metadata": {},
   "outputs": [],
   "source": []
  },
  {
   "cell_type": "code",
   "execution_count": null,
   "metadata": {},
   "outputs": [],
   "source": []
  }
 ],
 "metadata": {
  "kernelspec": {
   "display_name": "Python 3",
   "language": "python",
   "name": "python3"
  },
  "language_info": {
   "codemirror_mode": {
    "name": "ipython",
    "version": 3
   },
   "file_extension": ".py",
   "mimetype": "text/x-python",
   "name": "python",
   "nbconvert_exporter": "python",
   "pygments_lexer": "ipython3",
   "version": "3.7.4"
  }
 },
 "nbformat": 4,
 "nbformat_minor": 2
}
